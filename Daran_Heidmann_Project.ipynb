{
  "nbformat": 4,
  "nbformat_minor": 0,
  "metadata": {
    "colab": {
      "name": "Daran_Heidmann_Project.ipynb",
      "provenance": [],
      "collapsed_sections": [
        "U47tUIZhe188"
      ]
    },
    "kernelspec": {
      "name": "python3",
      "display_name": "Python 3"
    },
    "accelerator": "GPU",
    "widgets": {
      "application/vnd.jupyter.widget-state+json": {
        "222e87c6a4a646398eb03aeb4a0cc5c0": {
          "model_module": "@jupyter-widgets/controls",
          "model_name": "HBoxModel",
          "state": {
            "_view_name": "HBoxView",
            "_dom_classes": [],
            "_model_name": "HBoxModel",
            "_view_module": "@jupyter-widgets/controls",
            "_model_module_version": "1.5.0",
            "_view_count": null,
            "_view_module_version": "1.5.0",
            "box_style": "",
            "layout": "IPY_MODEL_a3b686e0d17a47eeac8f91950a36bfc2",
            "_model_module": "@jupyter-widgets/controls",
            "children": [
              "IPY_MODEL_f138eda4ef8b48c2beccdf053b9a4be4",
              "IPY_MODEL_40762ffdb0f7437497bfe9b058532608"
            ]
          }
        },
        "a3b686e0d17a47eeac8f91950a36bfc2": {
          "model_module": "@jupyter-widgets/base",
          "model_name": "LayoutModel",
          "state": {
            "_view_name": "LayoutView",
            "grid_template_rows": null,
            "right": null,
            "justify_content": null,
            "_view_module": "@jupyter-widgets/base",
            "overflow": null,
            "_model_module_version": "1.2.0",
            "_view_count": null,
            "flex_flow": null,
            "width": null,
            "min_width": null,
            "border": null,
            "align_items": null,
            "bottom": null,
            "_model_module": "@jupyter-widgets/base",
            "top": null,
            "grid_column": null,
            "overflow_y": null,
            "overflow_x": null,
            "grid_auto_flow": null,
            "grid_area": null,
            "grid_template_columns": null,
            "flex": null,
            "_model_name": "LayoutModel",
            "justify_items": null,
            "grid_row": null,
            "max_height": null,
            "align_content": null,
            "visibility": null,
            "align_self": null,
            "height": null,
            "min_height": null,
            "padding": null,
            "grid_auto_rows": null,
            "grid_gap": null,
            "max_width": null,
            "order": null,
            "_view_module_version": "1.2.0",
            "grid_template_areas": null,
            "object_position": null,
            "object_fit": null,
            "grid_auto_columns": null,
            "margin": null,
            "display": null,
            "left": null
          }
        },
        "f138eda4ef8b48c2beccdf053b9a4be4": {
          "model_module": "@jupyter-widgets/controls",
          "model_name": "IntProgressModel",
          "state": {
            "_view_name": "ProgressView",
            "style": "IPY_MODEL_141b804c444e4224a1f9c217309bfaf2",
            "_dom_classes": [],
            "description": "100%",
            "_model_name": "IntProgressModel",
            "bar_style": "success",
            "max": 10466,
            "_view_module": "@jupyter-widgets/controls",
            "_model_module_version": "1.5.0",
            "value": 10466,
            "_view_count": null,
            "_view_module_version": "1.5.0",
            "orientation": "horizontal",
            "min": 0,
            "description_tooltip": null,
            "_model_module": "@jupyter-widgets/controls",
            "layout": "IPY_MODEL_f9cef49aaad5474e9590f82fb4f15aa1"
          }
        },
        "40762ffdb0f7437497bfe9b058532608": {
          "model_module": "@jupyter-widgets/controls",
          "model_name": "HTMLModel",
          "state": {
            "_view_name": "HTMLView",
            "style": "IPY_MODEL_2e5309f7034e4408831b730cede934ed",
            "_dom_classes": [],
            "description": "",
            "_model_name": "HTMLModel",
            "placeholder": "​",
            "_view_module": "@jupyter-widgets/controls",
            "_model_module_version": "1.5.0",
            "value": " 10466/10466 [30:31&lt;00:00,  5.71it/s]",
            "_view_count": null,
            "_view_module_version": "1.5.0",
            "description_tooltip": null,
            "_model_module": "@jupyter-widgets/controls",
            "layout": "IPY_MODEL_949d0b5ef91c496ebc49ac0597f634ce"
          }
        },
        "141b804c444e4224a1f9c217309bfaf2": {
          "model_module": "@jupyter-widgets/controls",
          "model_name": "ProgressStyleModel",
          "state": {
            "_view_name": "StyleView",
            "_model_name": "ProgressStyleModel",
            "description_width": "initial",
            "_view_module": "@jupyter-widgets/base",
            "_model_module_version": "1.5.0",
            "_view_count": null,
            "_view_module_version": "1.2.0",
            "bar_color": null,
            "_model_module": "@jupyter-widgets/controls"
          }
        },
        "f9cef49aaad5474e9590f82fb4f15aa1": {
          "model_module": "@jupyter-widgets/base",
          "model_name": "LayoutModel",
          "state": {
            "_view_name": "LayoutView",
            "grid_template_rows": null,
            "right": null,
            "justify_content": null,
            "_view_module": "@jupyter-widgets/base",
            "overflow": null,
            "_model_module_version": "1.2.0",
            "_view_count": null,
            "flex_flow": null,
            "width": null,
            "min_width": null,
            "border": null,
            "align_items": null,
            "bottom": null,
            "_model_module": "@jupyter-widgets/base",
            "top": null,
            "grid_column": null,
            "overflow_y": null,
            "overflow_x": null,
            "grid_auto_flow": null,
            "grid_area": null,
            "grid_template_columns": null,
            "flex": null,
            "_model_name": "LayoutModel",
            "justify_items": null,
            "grid_row": null,
            "max_height": null,
            "align_content": null,
            "visibility": null,
            "align_self": null,
            "height": null,
            "min_height": null,
            "padding": null,
            "grid_auto_rows": null,
            "grid_gap": null,
            "max_width": null,
            "order": null,
            "_view_module_version": "1.2.0",
            "grid_template_areas": null,
            "object_position": null,
            "object_fit": null,
            "grid_auto_columns": null,
            "margin": null,
            "display": null,
            "left": null
          }
        },
        "2e5309f7034e4408831b730cede934ed": {
          "model_module": "@jupyter-widgets/controls",
          "model_name": "DescriptionStyleModel",
          "state": {
            "_view_name": "StyleView",
            "_model_name": "DescriptionStyleModel",
            "description_width": "",
            "_view_module": "@jupyter-widgets/base",
            "_model_module_version": "1.5.0",
            "_view_count": null,
            "_view_module_version": "1.2.0",
            "_model_module": "@jupyter-widgets/controls"
          }
        },
        "949d0b5ef91c496ebc49ac0597f634ce": {
          "model_module": "@jupyter-widgets/base",
          "model_name": "LayoutModel",
          "state": {
            "_view_name": "LayoutView",
            "grid_template_rows": null,
            "right": null,
            "justify_content": null,
            "_view_module": "@jupyter-widgets/base",
            "overflow": null,
            "_model_module_version": "1.2.0",
            "_view_count": null,
            "flex_flow": null,
            "width": null,
            "min_width": null,
            "border": null,
            "align_items": null,
            "bottom": null,
            "_model_module": "@jupyter-widgets/base",
            "top": null,
            "grid_column": null,
            "overflow_y": null,
            "overflow_x": null,
            "grid_auto_flow": null,
            "grid_area": null,
            "grid_template_columns": null,
            "flex": null,
            "_model_name": "LayoutModel",
            "justify_items": null,
            "grid_row": null,
            "max_height": null,
            "align_content": null,
            "visibility": null,
            "align_self": null,
            "height": null,
            "min_height": null,
            "padding": null,
            "grid_auto_rows": null,
            "grid_gap": null,
            "max_width": null,
            "order": null,
            "_view_module_version": "1.2.0",
            "grid_template_areas": null,
            "object_position": null,
            "object_fit": null,
            "grid_auto_columns": null,
            "margin": null,
            "display": null,
            "left": null
          }
        },
        "4f769825f0684e5e9d91b966d679d34d": {
          "model_module": "@jupyter-widgets/controls",
          "model_name": "HBoxModel",
          "state": {
            "_view_name": "HBoxView",
            "_dom_classes": [],
            "_model_name": "HBoxModel",
            "_view_module": "@jupyter-widgets/controls",
            "_model_module_version": "1.5.0",
            "_view_count": null,
            "_view_module_version": "1.5.0",
            "box_style": "",
            "layout": "IPY_MODEL_24a5a234124c4c77906c53873f8bc47d",
            "_model_module": "@jupyter-widgets/controls",
            "children": [
              "IPY_MODEL_24412d7eabdf406fbac39a72a5486b67",
              "IPY_MODEL_c81c4c87063a4d51906e4d531af83e42"
            ]
          }
        },
        "24a5a234124c4c77906c53873f8bc47d": {
          "model_module": "@jupyter-widgets/base",
          "model_name": "LayoutModel",
          "state": {
            "_view_name": "LayoutView",
            "grid_template_rows": null,
            "right": null,
            "justify_content": null,
            "_view_module": "@jupyter-widgets/base",
            "overflow": null,
            "_model_module_version": "1.2.0",
            "_view_count": null,
            "flex_flow": null,
            "width": null,
            "min_width": null,
            "border": null,
            "align_items": null,
            "bottom": null,
            "_model_module": "@jupyter-widgets/base",
            "top": null,
            "grid_column": null,
            "overflow_y": null,
            "overflow_x": null,
            "grid_auto_flow": null,
            "grid_area": null,
            "grid_template_columns": null,
            "flex": null,
            "_model_name": "LayoutModel",
            "justify_items": null,
            "grid_row": null,
            "max_height": null,
            "align_content": null,
            "visibility": null,
            "align_self": null,
            "height": null,
            "min_height": null,
            "padding": null,
            "grid_auto_rows": null,
            "grid_gap": null,
            "max_width": null,
            "order": null,
            "_view_module_version": "1.2.0",
            "grid_template_areas": null,
            "object_position": null,
            "object_fit": null,
            "grid_auto_columns": null,
            "margin": null,
            "display": null,
            "left": null
          }
        },
        "24412d7eabdf406fbac39a72a5486b67": {
          "model_module": "@jupyter-widgets/controls",
          "model_name": "IntProgressModel",
          "state": {
            "_view_name": "ProgressView",
            "style": "IPY_MODEL_fdd6ffe8e2bc4198a6d2bbc9e8f2c73e",
            "_dom_classes": [],
            "description": "100%",
            "_model_name": "IntProgressModel",
            "bar_style": "success",
            "max": 10466,
            "_view_module": "@jupyter-widgets/controls",
            "_model_module_version": "1.5.0",
            "value": 10466,
            "_view_count": null,
            "_view_module_version": "1.5.0",
            "orientation": "horizontal",
            "min": 0,
            "description_tooltip": null,
            "_model_module": "@jupyter-widgets/controls",
            "layout": "IPY_MODEL_c9127f1a2f3a48b5ae1078ddcf65a4b0"
          }
        },
        "c81c4c87063a4d51906e4d531af83e42": {
          "model_module": "@jupyter-widgets/controls",
          "model_name": "HTMLModel",
          "state": {
            "_view_name": "HTMLView",
            "style": "IPY_MODEL_83ae22b89ce6474e8d25a5bacdba8fcf",
            "_dom_classes": [],
            "description": "",
            "_model_name": "HTMLModel",
            "placeholder": "​",
            "_view_module": "@jupyter-widgets/controls",
            "_model_module_version": "1.5.0",
            "value": " 10466/10466 [31:24&lt;00:00,  5.55it/s]",
            "_view_count": null,
            "_view_module_version": "1.5.0",
            "description_tooltip": null,
            "_model_module": "@jupyter-widgets/controls",
            "layout": "IPY_MODEL_f12a98f6b625430cb10861fd765c222c"
          }
        },
        "fdd6ffe8e2bc4198a6d2bbc9e8f2c73e": {
          "model_module": "@jupyter-widgets/controls",
          "model_name": "ProgressStyleModel",
          "state": {
            "_view_name": "StyleView",
            "_model_name": "ProgressStyleModel",
            "description_width": "initial",
            "_view_module": "@jupyter-widgets/base",
            "_model_module_version": "1.5.0",
            "_view_count": null,
            "_view_module_version": "1.2.0",
            "bar_color": null,
            "_model_module": "@jupyter-widgets/controls"
          }
        },
        "c9127f1a2f3a48b5ae1078ddcf65a4b0": {
          "model_module": "@jupyter-widgets/base",
          "model_name": "LayoutModel",
          "state": {
            "_view_name": "LayoutView",
            "grid_template_rows": null,
            "right": null,
            "justify_content": null,
            "_view_module": "@jupyter-widgets/base",
            "overflow": null,
            "_model_module_version": "1.2.0",
            "_view_count": null,
            "flex_flow": null,
            "width": null,
            "min_width": null,
            "border": null,
            "align_items": null,
            "bottom": null,
            "_model_module": "@jupyter-widgets/base",
            "top": null,
            "grid_column": null,
            "overflow_y": null,
            "overflow_x": null,
            "grid_auto_flow": null,
            "grid_area": null,
            "grid_template_columns": null,
            "flex": null,
            "_model_name": "LayoutModel",
            "justify_items": null,
            "grid_row": null,
            "max_height": null,
            "align_content": null,
            "visibility": null,
            "align_self": null,
            "height": null,
            "min_height": null,
            "padding": null,
            "grid_auto_rows": null,
            "grid_gap": null,
            "max_width": null,
            "order": null,
            "_view_module_version": "1.2.0",
            "grid_template_areas": null,
            "object_position": null,
            "object_fit": null,
            "grid_auto_columns": null,
            "margin": null,
            "display": null,
            "left": null
          }
        },
        "83ae22b89ce6474e8d25a5bacdba8fcf": {
          "model_module": "@jupyter-widgets/controls",
          "model_name": "DescriptionStyleModel",
          "state": {
            "_view_name": "StyleView",
            "_model_name": "DescriptionStyleModel",
            "description_width": "",
            "_view_module": "@jupyter-widgets/base",
            "_model_module_version": "1.5.0",
            "_view_count": null,
            "_view_module_version": "1.2.0",
            "_model_module": "@jupyter-widgets/controls"
          }
        },
        "f12a98f6b625430cb10861fd765c222c": {
          "model_module": "@jupyter-widgets/base",
          "model_name": "LayoutModel",
          "state": {
            "_view_name": "LayoutView",
            "grid_template_rows": null,
            "right": null,
            "justify_content": null,
            "_view_module": "@jupyter-widgets/base",
            "overflow": null,
            "_model_module_version": "1.2.0",
            "_view_count": null,
            "flex_flow": null,
            "width": null,
            "min_width": null,
            "border": null,
            "align_items": null,
            "bottom": null,
            "_model_module": "@jupyter-widgets/base",
            "top": null,
            "grid_column": null,
            "overflow_y": null,
            "overflow_x": null,
            "grid_auto_flow": null,
            "grid_area": null,
            "grid_template_columns": null,
            "flex": null,
            "_model_name": "LayoutModel",
            "justify_items": null,
            "grid_row": null,
            "max_height": null,
            "align_content": null,
            "visibility": null,
            "align_self": null,
            "height": null,
            "min_height": null,
            "padding": null,
            "grid_auto_rows": null,
            "grid_gap": null,
            "max_width": null,
            "order": null,
            "_view_module_version": "1.2.0",
            "grid_template_areas": null,
            "object_position": null,
            "object_fit": null,
            "grid_auto_columns": null,
            "margin": null,
            "display": null,
            "left": null
          }
        },
        "4c5944752ce443eab2330abac0cdb2e2": {
          "model_module": "@jupyter-widgets/controls",
          "model_name": "HBoxModel",
          "state": {
            "_view_name": "HBoxView",
            "_dom_classes": [],
            "_model_name": "HBoxModel",
            "_view_module": "@jupyter-widgets/controls",
            "_model_module_version": "1.5.0",
            "_view_count": null,
            "_view_module_version": "1.5.0",
            "box_style": "",
            "layout": "IPY_MODEL_11501162abc349f6b0aa74e3407e60bb",
            "_model_module": "@jupyter-widgets/controls",
            "children": [
              "IPY_MODEL_016dcea0376b4c0b9de47a177e7ba9b3",
              "IPY_MODEL_d40585f875e94b0f8f225055623fb09e"
            ]
          }
        },
        "11501162abc349f6b0aa74e3407e60bb": {
          "model_module": "@jupyter-widgets/base",
          "model_name": "LayoutModel",
          "state": {
            "_view_name": "LayoutView",
            "grid_template_rows": null,
            "right": null,
            "justify_content": null,
            "_view_module": "@jupyter-widgets/base",
            "overflow": null,
            "_model_module_version": "1.2.0",
            "_view_count": null,
            "flex_flow": null,
            "width": null,
            "min_width": null,
            "border": null,
            "align_items": null,
            "bottom": null,
            "_model_module": "@jupyter-widgets/base",
            "top": null,
            "grid_column": null,
            "overflow_y": null,
            "overflow_x": null,
            "grid_auto_flow": null,
            "grid_area": null,
            "grid_template_columns": null,
            "flex": null,
            "_model_name": "LayoutModel",
            "justify_items": null,
            "grid_row": null,
            "max_height": null,
            "align_content": null,
            "visibility": null,
            "align_self": null,
            "height": null,
            "min_height": null,
            "padding": null,
            "grid_auto_rows": null,
            "grid_gap": null,
            "max_width": null,
            "order": null,
            "_view_module_version": "1.2.0",
            "grid_template_areas": null,
            "object_position": null,
            "object_fit": null,
            "grid_auto_columns": null,
            "margin": null,
            "display": null,
            "left": null
          }
        },
        "016dcea0376b4c0b9de47a177e7ba9b3": {
          "model_module": "@jupyter-widgets/controls",
          "model_name": "IntProgressModel",
          "state": {
            "_view_name": "ProgressView",
            "style": "IPY_MODEL_ee29c227a5ef4fe6b864e440f9d79706",
            "_dom_classes": [],
            "description": "100%",
            "_model_name": "IntProgressModel",
            "bar_style": "success",
            "max": 40000,
            "_view_module": "@jupyter-widgets/controls",
            "_model_module_version": "1.5.0",
            "value": 40000,
            "_view_count": null,
            "_view_module_version": "1.5.0",
            "orientation": "horizontal",
            "min": 0,
            "description_tooltip": null,
            "_model_module": "@jupyter-widgets/controls",
            "layout": "IPY_MODEL_c5c2ddf1164e4135935df31a7c36962d"
          }
        },
        "d40585f875e94b0f8f225055623fb09e": {
          "model_module": "@jupyter-widgets/controls",
          "model_name": "HTMLModel",
          "state": {
            "_view_name": "HTMLView",
            "style": "IPY_MODEL_12f00072118f4aa7802e54a8432cc1be",
            "_dom_classes": [],
            "description": "",
            "_model_name": "HTMLModel",
            "placeholder": "​",
            "_view_module": "@jupyter-widgets/controls",
            "_model_module_version": "1.5.0",
            "value": " 40000/40000 [01:59&lt;00:00, 333.62it/s]",
            "_view_count": null,
            "_view_module_version": "1.5.0",
            "description_tooltip": null,
            "_model_module": "@jupyter-widgets/controls",
            "layout": "IPY_MODEL_06a7e8246cdc4a0bba8da7d8ca75fc8f"
          }
        },
        "ee29c227a5ef4fe6b864e440f9d79706": {
          "model_module": "@jupyter-widgets/controls",
          "model_name": "ProgressStyleModel",
          "state": {
            "_view_name": "StyleView",
            "_model_name": "ProgressStyleModel",
            "description_width": "initial",
            "_view_module": "@jupyter-widgets/base",
            "_model_module_version": "1.5.0",
            "_view_count": null,
            "_view_module_version": "1.2.0",
            "bar_color": null,
            "_model_module": "@jupyter-widgets/controls"
          }
        },
        "c5c2ddf1164e4135935df31a7c36962d": {
          "model_module": "@jupyter-widgets/base",
          "model_name": "LayoutModel",
          "state": {
            "_view_name": "LayoutView",
            "grid_template_rows": null,
            "right": null,
            "justify_content": null,
            "_view_module": "@jupyter-widgets/base",
            "overflow": null,
            "_model_module_version": "1.2.0",
            "_view_count": null,
            "flex_flow": null,
            "width": null,
            "min_width": null,
            "border": null,
            "align_items": null,
            "bottom": null,
            "_model_module": "@jupyter-widgets/base",
            "top": null,
            "grid_column": null,
            "overflow_y": null,
            "overflow_x": null,
            "grid_auto_flow": null,
            "grid_area": null,
            "grid_template_columns": null,
            "flex": null,
            "_model_name": "LayoutModel",
            "justify_items": null,
            "grid_row": null,
            "max_height": null,
            "align_content": null,
            "visibility": null,
            "align_self": null,
            "height": null,
            "min_height": null,
            "padding": null,
            "grid_auto_rows": null,
            "grid_gap": null,
            "max_width": null,
            "order": null,
            "_view_module_version": "1.2.0",
            "grid_template_areas": null,
            "object_position": null,
            "object_fit": null,
            "grid_auto_columns": null,
            "margin": null,
            "display": null,
            "left": null
          }
        },
        "12f00072118f4aa7802e54a8432cc1be": {
          "model_module": "@jupyter-widgets/controls",
          "model_name": "DescriptionStyleModel",
          "state": {
            "_view_name": "StyleView",
            "_model_name": "DescriptionStyleModel",
            "description_width": "",
            "_view_module": "@jupyter-widgets/base",
            "_model_module_version": "1.5.0",
            "_view_count": null,
            "_view_module_version": "1.2.0",
            "_model_module": "@jupyter-widgets/controls"
          }
        },
        "06a7e8246cdc4a0bba8da7d8ca75fc8f": {
          "model_module": "@jupyter-widgets/base",
          "model_name": "LayoutModel",
          "state": {
            "_view_name": "LayoutView",
            "grid_template_rows": null,
            "right": null,
            "justify_content": null,
            "_view_module": "@jupyter-widgets/base",
            "overflow": null,
            "_model_module_version": "1.2.0",
            "_view_count": null,
            "flex_flow": null,
            "width": null,
            "min_width": null,
            "border": null,
            "align_items": null,
            "bottom": null,
            "_model_module": "@jupyter-widgets/base",
            "top": null,
            "grid_column": null,
            "overflow_y": null,
            "overflow_x": null,
            "grid_auto_flow": null,
            "grid_area": null,
            "grid_template_columns": null,
            "flex": null,
            "_model_name": "LayoutModel",
            "justify_items": null,
            "grid_row": null,
            "max_height": null,
            "align_content": null,
            "visibility": null,
            "align_self": null,
            "height": null,
            "min_height": null,
            "padding": null,
            "grid_auto_rows": null,
            "grid_gap": null,
            "max_width": null,
            "order": null,
            "_view_module_version": "1.2.0",
            "grid_template_areas": null,
            "object_position": null,
            "object_fit": null,
            "grid_auto_columns": null,
            "margin": null,
            "display": null,
            "left": null
          }
        },
        "d496c44fc5874d539d07a4092dbee42a": {
          "model_module": "@jupyter-widgets/controls",
          "model_name": "HBoxModel",
          "state": {
            "_view_name": "HBoxView",
            "_dom_classes": [],
            "_model_name": "HBoxModel",
            "_view_module": "@jupyter-widgets/controls",
            "_model_module_version": "1.5.0",
            "_view_count": null,
            "_view_module_version": "1.5.0",
            "box_style": "",
            "layout": "IPY_MODEL_02d8a735434a436c842707b9f4652fb7",
            "_model_module": "@jupyter-widgets/controls",
            "children": [
              "IPY_MODEL_f573a87de7bf406d91c15bf39bfae9be",
              "IPY_MODEL_7f3594248dca4b4f8d1b209b023650db"
            ]
          }
        },
        "02d8a735434a436c842707b9f4652fb7": {
          "model_module": "@jupyter-widgets/base",
          "model_name": "LayoutModel",
          "state": {
            "_view_name": "LayoutView",
            "grid_template_rows": null,
            "right": null,
            "justify_content": null,
            "_view_module": "@jupyter-widgets/base",
            "overflow": null,
            "_model_module_version": "1.2.0",
            "_view_count": null,
            "flex_flow": null,
            "width": null,
            "min_width": null,
            "border": null,
            "align_items": null,
            "bottom": null,
            "_model_module": "@jupyter-widgets/base",
            "top": null,
            "grid_column": null,
            "overflow_y": null,
            "overflow_x": null,
            "grid_auto_flow": null,
            "grid_area": null,
            "grid_template_columns": null,
            "flex": null,
            "_model_name": "LayoutModel",
            "justify_items": null,
            "grid_row": null,
            "max_height": null,
            "align_content": null,
            "visibility": null,
            "align_self": null,
            "height": null,
            "min_height": null,
            "padding": null,
            "grid_auto_rows": null,
            "grid_gap": null,
            "max_width": null,
            "order": null,
            "_view_module_version": "1.2.0",
            "grid_template_areas": null,
            "object_position": null,
            "object_fit": null,
            "grid_auto_columns": null,
            "margin": null,
            "display": null,
            "left": null
          }
        },
        "f573a87de7bf406d91c15bf39bfae9be": {
          "model_module": "@jupyter-widgets/controls",
          "model_name": "IntProgressModel",
          "state": {
            "_view_name": "ProgressView",
            "style": "IPY_MODEL_c2c6d4352dd547faa2af689899c3197d",
            "_dom_classes": [],
            "description": "100%",
            "_model_name": "IntProgressModel",
            "bar_style": "success",
            "max": 40000,
            "_view_module": "@jupyter-widgets/controls",
            "_model_module_version": "1.5.0",
            "value": 40000,
            "_view_count": null,
            "_view_module_version": "1.5.0",
            "orientation": "horizontal",
            "min": 0,
            "description_tooltip": null,
            "_model_module": "@jupyter-widgets/controls",
            "layout": "IPY_MODEL_96f34a87c06e4f3bab36c2554e627f39"
          }
        },
        "7f3594248dca4b4f8d1b209b023650db": {
          "model_module": "@jupyter-widgets/controls",
          "model_name": "HTMLModel",
          "state": {
            "_view_name": "HTMLView",
            "style": "IPY_MODEL_26a5ee2cf28c4e5b973a92ec07996140",
            "_dom_classes": [],
            "description": "",
            "_model_name": "HTMLModel",
            "placeholder": "​",
            "_view_module": "@jupyter-widgets/controls",
            "_model_module_version": "1.5.0",
            "value": " 40000/40000 [04:37&lt;00:00, 144.30it/s]",
            "_view_count": null,
            "_view_module_version": "1.5.0",
            "description_tooltip": null,
            "_model_module": "@jupyter-widgets/controls",
            "layout": "IPY_MODEL_7c3e1e970f50464f87737e845448fc29"
          }
        },
        "c2c6d4352dd547faa2af689899c3197d": {
          "model_module": "@jupyter-widgets/controls",
          "model_name": "ProgressStyleModel",
          "state": {
            "_view_name": "StyleView",
            "_model_name": "ProgressStyleModel",
            "description_width": "initial",
            "_view_module": "@jupyter-widgets/base",
            "_model_module_version": "1.5.0",
            "_view_count": null,
            "_view_module_version": "1.2.0",
            "bar_color": null,
            "_model_module": "@jupyter-widgets/controls"
          }
        },
        "96f34a87c06e4f3bab36c2554e627f39": {
          "model_module": "@jupyter-widgets/base",
          "model_name": "LayoutModel",
          "state": {
            "_view_name": "LayoutView",
            "grid_template_rows": null,
            "right": null,
            "justify_content": null,
            "_view_module": "@jupyter-widgets/base",
            "overflow": null,
            "_model_module_version": "1.2.0",
            "_view_count": null,
            "flex_flow": null,
            "width": null,
            "min_width": null,
            "border": null,
            "align_items": null,
            "bottom": null,
            "_model_module": "@jupyter-widgets/base",
            "top": null,
            "grid_column": null,
            "overflow_y": null,
            "overflow_x": null,
            "grid_auto_flow": null,
            "grid_area": null,
            "grid_template_columns": null,
            "flex": null,
            "_model_name": "LayoutModel",
            "justify_items": null,
            "grid_row": null,
            "max_height": null,
            "align_content": null,
            "visibility": null,
            "align_self": null,
            "height": null,
            "min_height": null,
            "padding": null,
            "grid_auto_rows": null,
            "grid_gap": null,
            "max_width": null,
            "order": null,
            "_view_module_version": "1.2.0",
            "grid_template_areas": null,
            "object_position": null,
            "object_fit": null,
            "grid_auto_columns": null,
            "margin": null,
            "display": null,
            "left": null
          }
        },
        "26a5ee2cf28c4e5b973a92ec07996140": {
          "model_module": "@jupyter-widgets/controls",
          "model_name": "DescriptionStyleModel",
          "state": {
            "_view_name": "StyleView",
            "_model_name": "DescriptionStyleModel",
            "description_width": "",
            "_view_module": "@jupyter-widgets/base",
            "_model_module_version": "1.5.0",
            "_view_count": null,
            "_view_module_version": "1.2.0",
            "_model_module": "@jupyter-widgets/controls"
          }
        },
        "7c3e1e970f50464f87737e845448fc29": {
          "model_module": "@jupyter-widgets/base",
          "model_name": "LayoutModel",
          "state": {
            "_view_name": "LayoutView",
            "grid_template_rows": null,
            "right": null,
            "justify_content": null,
            "_view_module": "@jupyter-widgets/base",
            "overflow": null,
            "_model_module_version": "1.2.0",
            "_view_count": null,
            "flex_flow": null,
            "width": null,
            "min_width": null,
            "border": null,
            "align_items": null,
            "bottom": null,
            "_model_module": "@jupyter-widgets/base",
            "top": null,
            "grid_column": null,
            "overflow_y": null,
            "overflow_x": null,
            "grid_auto_flow": null,
            "grid_area": null,
            "grid_template_columns": null,
            "flex": null,
            "_model_name": "LayoutModel",
            "justify_items": null,
            "grid_row": null,
            "max_height": null,
            "align_content": null,
            "visibility": null,
            "align_self": null,
            "height": null,
            "min_height": null,
            "padding": null,
            "grid_auto_rows": null,
            "grid_gap": null,
            "max_width": null,
            "order": null,
            "_view_module_version": "1.2.0",
            "grid_template_areas": null,
            "object_position": null,
            "object_fit": null,
            "grid_auto_columns": null,
            "margin": null,
            "display": null,
            "left": null
          }
        },
        "cb8e6c9c54e742dbb9a8b4921281901f": {
          "model_module": "@jupyter-widgets/controls",
          "model_name": "HBoxModel",
          "state": {
            "_view_name": "HBoxView",
            "_dom_classes": [],
            "_model_name": "HBoxModel",
            "_view_module": "@jupyter-widgets/controls",
            "_model_module_version": "1.5.0",
            "_view_count": null,
            "_view_module_version": "1.5.0",
            "box_style": "",
            "layout": "IPY_MODEL_45a9f7ff5bd14fa7af06f7f413bf60df",
            "_model_module": "@jupyter-widgets/controls",
            "children": [
              "IPY_MODEL_a00870a8d5024bb6955d806aa5b71f84",
              "IPY_MODEL_4cdb7fb1607d4f2087217174e478322a"
            ]
          }
        },
        "45a9f7ff5bd14fa7af06f7f413bf60df": {
          "model_module": "@jupyter-widgets/base",
          "model_name": "LayoutModel",
          "state": {
            "_view_name": "LayoutView",
            "grid_template_rows": null,
            "right": null,
            "justify_content": null,
            "_view_module": "@jupyter-widgets/base",
            "overflow": null,
            "_model_module_version": "1.2.0",
            "_view_count": null,
            "flex_flow": null,
            "width": null,
            "min_width": null,
            "border": null,
            "align_items": null,
            "bottom": null,
            "_model_module": "@jupyter-widgets/base",
            "top": null,
            "grid_column": null,
            "overflow_y": null,
            "overflow_x": null,
            "grid_auto_flow": null,
            "grid_area": null,
            "grid_template_columns": null,
            "flex": null,
            "_model_name": "LayoutModel",
            "justify_items": null,
            "grid_row": null,
            "max_height": null,
            "align_content": null,
            "visibility": null,
            "align_self": null,
            "height": null,
            "min_height": null,
            "padding": null,
            "grid_auto_rows": null,
            "grid_gap": null,
            "max_width": null,
            "order": null,
            "_view_module_version": "1.2.0",
            "grid_template_areas": null,
            "object_position": null,
            "object_fit": null,
            "grid_auto_columns": null,
            "margin": null,
            "display": null,
            "left": null
          }
        },
        "a00870a8d5024bb6955d806aa5b71f84": {
          "model_module": "@jupyter-widgets/controls",
          "model_name": "IntProgressModel",
          "state": {
            "_view_name": "ProgressView",
            "style": "IPY_MODEL_fca3c640a19446a9a263b6d30c2fb278",
            "_dom_classes": [],
            "description": "100%",
            "_model_name": "IntProgressModel",
            "bar_style": "success",
            "max": 160,
            "_view_module": "@jupyter-widgets/controls",
            "_model_module_version": "1.5.0",
            "value": 160,
            "_view_count": null,
            "_view_module_version": "1.5.0",
            "orientation": "horizontal",
            "min": 0,
            "description_tooltip": null,
            "_model_module": "@jupyter-widgets/controls",
            "layout": "IPY_MODEL_29f065be62054ef682d2df4c376fb370"
          }
        },
        "4cdb7fb1607d4f2087217174e478322a": {
          "model_module": "@jupyter-widgets/controls",
          "model_name": "HTMLModel",
          "state": {
            "_view_name": "HTMLView",
            "style": "IPY_MODEL_1773a990d87845f38e2f35b945f89dc0",
            "_dom_classes": [],
            "description": "",
            "_model_name": "HTMLModel",
            "placeholder": "​",
            "_view_module": "@jupyter-widgets/controls",
            "_model_module_version": "1.5.0",
            "value": " 160/160 [00:22&lt;00:00,  7.16it/s]",
            "_view_count": null,
            "_view_module_version": "1.5.0",
            "description_tooltip": null,
            "_model_module": "@jupyter-widgets/controls",
            "layout": "IPY_MODEL_86fbd3e9944a40ca81396c11b7ed06eb"
          }
        },
        "fca3c640a19446a9a263b6d30c2fb278": {
          "model_module": "@jupyter-widgets/controls",
          "model_name": "ProgressStyleModel",
          "state": {
            "_view_name": "StyleView",
            "_model_name": "ProgressStyleModel",
            "description_width": "initial",
            "_view_module": "@jupyter-widgets/base",
            "_model_module_version": "1.5.0",
            "_view_count": null,
            "_view_module_version": "1.2.0",
            "bar_color": null,
            "_model_module": "@jupyter-widgets/controls"
          }
        },
        "29f065be62054ef682d2df4c376fb370": {
          "model_module": "@jupyter-widgets/base",
          "model_name": "LayoutModel",
          "state": {
            "_view_name": "LayoutView",
            "grid_template_rows": null,
            "right": null,
            "justify_content": null,
            "_view_module": "@jupyter-widgets/base",
            "overflow": null,
            "_model_module_version": "1.2.0",
            "_view_count": null,
            "flex_flow": null,
            "width": null,
            "min_width": null,
            "border": null,
            "align_items": null,
            "bottom": null,
            "_model_module": "@jupyter-widgets/base",
            "top": null,
            "grid_column": null,
            "overflow_y": null,
            "overflow_x": null,
            "grid_auto_flow": null,
            "grid_area": null,
            "grid_template_columns": null,
            "flex": null,
            "_model_name": "LayoutModel",
            "justify_items": null,
            "grid_row": null,
            "max_height": null,
            "align_content": null,
            "visibility": null,
            "align_self": null,
            "height": null,
            "min_height": null,
            "padding": null,
            "grid_auto_rows": null,
            "grid_gap": null,
            "max_width": null,
            "order": null,
            "_view_module_version": "1.2.0",
            "grid_template_areas": null,
            "object_position": null,
            "object_fit": null,
            "grid_auto_columns": null,
            "margin": null,
            "display": null,
            "left": null
          }
        },
        "1773a990d87845f38e2f35b945f89dc0": {
          "model_module": "@jupyter-widgets/controls",
          "model_name": "DescriptionStyleModel",
          "state": {
            "_view_name": "StyleView",
            "_model_name": "DescriptionStyleModel",
            "description_width": "",
            "_view_module": "@jupyter-widgets/base",
            "_model_module_version": "1.5.0",
            "_view_count": null,
            "_view_module_version": "1.2.0",
            "_model_module": "@jupyter-widgets/controls"
          }
        },
        "86fbd3e9944a40ca81396c11b7ed06eb": {
          "model_module": "@jupyter-widgets/base",
          "model_name": "LayoutModel",
          "state": {
            "_view_name": "LayoutView",
            "grid_template_rows": null,
            "right": null,
            "justify_content": null,
            "_view_module": "@jupyter-widgets/base",
            "overflow": null,
            "_model_module_version": "1.2.0",
            "_view_count": null,
            "flex_flow": null,
            "width": null,
            "min_width": null,
            "border": null,
            "align_items": null,
            "bottom": null,
            "_model_module": "@jupyter-widgets/base",
            "top": null,
            "grid_column": null,
            "overflow_y": null,
            "overflow_x": null,
            "grid_auto_flow": null,
            "grid_area": null,
            "grid_template_columns": null,
            "flex": null,
            "_model_name": "LayoutModel",
            "justify_items": null,
            "grid_row": null,
            "max_height": null,
            "align_content": null,
            "visibility": null,
            "align_self": null,
            "height": null,
            "min_height": null,
            "padding": null,
            "grid_auto_rows": null,
            "grid_gap": null,
            "max_width": null,
            "order": null,
            "_view_module_version": "1.2.0",
            "grid_template_areas": null,
            "object_position": null,
            "object_fit": null,
            "grid_auto_columns": null,
            "margin": null,
            "display": null,
            "left": null
          }
        },
        "487048b670e44d719243b081aa798d87": {
          "model_module": "@jupyter-widgets/controls",
          "model_name": "HBoxModel",
          "state": {
            "_view_name": "HBoxView",
            "_dom_classes": [],
            "_model_name": "HBoxModel",
            "_view_module": "@jupyter-widgets/controls",
            "_model_module_version": "1.5.0",
            "_view_count": null,
            "_view_module_version": "1.5.0",
            "box_style": "",
            "layout": "IPY_MODEL_c4e4be419f4a4ade82bc2e8cb8327317",
            "_model_module": "@jupyter-widgets/controls",
            "children": [
              "IPY_MODEL_9db862c88ca94759a1691d3970ce4521",
              "IPY_MODEL_0ef6d2b7f0bb401daa80d7831f18b79e"
            ]
          }
        },
        "c4e4be419f4a4ade82bc2e8cb8327317": {
          "model_module": "@jupyter-widgets/base",
          "model_name": "LayoutModel",
          "state": {
            "_view_name": "LayoutView",
            "grid_template_rows": null,
            "right": null,
            "justify_content": null,
            "_view_module": "@jupyter-widgets/base",
            "overflow": null,
            "_model_module_version": "1.2.0",
            "_view_count": null,
            "flex_flow": null,
            "width": null,
            "min_width": null,
            "border": null,
            "align_items": null,
            "bottom": null,
            "_model_module": "@jupyter-widgets/base",
            "top": null,
            "grid_column": null,
            "overflow_y": null,
            "overflow_x": null,
            "grid_auto_flow": null,
            "grid_area": null,
            "grid_template_columns": null,
            "flex": null,
            "_model_name": "LayoutModel",
            "justify_items": null,
            "grid_row": null,
            "max_height": null,
            "align_content": null,
            "visibility": null,
            "align_self": null,
            "height": null,
            "min_height": null,
            "padding": null,
            "grid_auto_rows": null,
            "grid_gap": null,
            "max_width": null,
            "order": null,
            "_view_module_version": "1.2.0",
            "grid_template_areas": null,
            "object_position": null,
            "object_fit": null,
            "grid_auto_columns": null,
            "margin": null,
            "display": null,
            "left": null
          }
        },
        "9db862c88ca94759a1691d3970ce4521": {
          "model_module": "@jupyter-widgets/controls",
          "model_name": "IntProgressModel",
          "state": {
            "_view_name": "ProgressView",
            "style": "IPY_MODEL_572d891967ec44dfbbf1ce1018f9bd3e",
            "_dom_classes": [],
            "description": "100%",
            "_model_name": "IntProgressModel",
            "bar_style": "success",
            "max": 40000,
            "_view_module": "@jupyter-widgets/controls",
            "_model_module_version": "1.5.0",
            "value": 40000,
            "_view_count": null,
            "_view_module_version": "1.5.0",
            "orientation": "horizontal",
            "min": 0,
            "description_tooltip": null,
            "_model_module": "@jupyter-widgets/controls",
            "layout": "IPY_MODEL_15d460b0469d4e679699a694e89a6495"
          }
        },
        "0ef6d2b7f0bb401daa80d7831f18b79e": {
          "model_module": "@jupyter-widgets/controls",
          "model_name": "HTMLModel",
          "state": {
            "_view_name": "HTMLView",
            "style": "IPY_MODEL_86d765fcc28149599f4758c422c405e6",
            "_dom_classes": [],
            "description": "",
            "_model_name": "HTMLModel",
            "placeholder": "​",
            "_view_module": "@jupyter-widgets/controls",
            "_model_module_version": "1.5.0",
            "value": " 40000/40000 [42:26&lt;00:00, 15.71it/s]",
            "_view_count": null,
            "_view_module_version": "1.5.0",
            "description_tooltip": null,
            "_model_module": "@jupyter-widgets/controls",
            "layout": "IPY_MODEL_c400327360f94556bc43bd1cc9b46a2f"
          }
        },
        "572d891967ec44dfbbf1ce1018f9bd3e": {
          "model_module": "@jupyter-widgets/controls",
          "model_name": "ProgressStyleModel",
          "state": {
            "_view_name": "StyleView",
            "_model_name": "ProgressStyleModel",
            "description_width": "initial",
            "_view_module": "@jupyter-widgets/base",
            "_model_module_version": "1.5.0",
            "_view_count": null,
            "_view_module_version": "1.2.0",
            "bar_color": null,
            "_model_module": "@jupyter-widgets/controls"
          }
        },
        "15d460b0469d4e679699a694e89a6495": {
          "model_module": "@jupyter-widgets/base",
          "model_name": "LayoutModel",
          "state": {
            "_view_name": "LayoutView",
            "grid_template_rows": null,
            "right": null,
            "justify_content": null,
            "_view_module": "@jupyter-widgets/base",
            "overflow": null,
            "_model_module_version": "1.2.0",
            "_view_count": null,
            "flex_flow": null,
            "width": null,
            "min_width": null,
            "border": null,
            "align_items": null,
            "bottom": null,
            "_model_module": "@jupyter-widgets/base",
            "top": null,
            "grid_column": null,
            "overflow_y": null,
            "overflow_x": null,
            "grid_auto_flow": null,
            "grid_area": null,
            "grid_template_columns": null,
            "flex": null,
            "_model_name": "LayoutModel",
            "justify_items": null,
            "grid_row": null,
            "max_height": null,
            "align_content": null,
            "visibility": null,
            "align_self": null,
            "height": null,
            "min_height": null,
            "padding": null,
            "grid_auto_rows": null,
            "grid_gap": null,
            "max_width": null,
            "order": null,
            "_view_module_version": "1.2.0",
            "grid_template_areas": null,
            "object_position": null,
            "object_fit": null,
            "grid_auto_columns": null,
            "margin": null,
            "display": null,
            "left": null
          }
        },
        "86d765fcc28149599f4758c422c405e6": {
          "model_module": "@jupyter-widgets/controls",
          "model_name": "DescriptionStyleModel",
          "state": {
            "_view_name": "StyleView",
            "_model_name": "DescriptionStyleModel",
            "description_width": "",
            "_view_module": "@jupyter-widgets/base",
            "_model_module_version": "1.5.0",
            "_view_count": null,
            "_view_module_version": "1.2.0",
            "_model_module": "@jupyter-widgets/controls"
          }
        },
        "c400327360f94556bc43bd1cc9b46a2f": {
          "model_module": "@jupyter-widgets/base",
          "model_name": "LayoutModel",
          "state": {
            "_view_name": "LayoutView",
            "grid_template_rows": null,
            "right": null,
            "justify_content": null,
            "_view_module": "@jupyter-widgets/base",
            "overflow": null,
            "_model_module_version": "1.2.0",
            "_view_count": null,
            "flex_flow": null,
            "width": null,
            "min_width": null,
            "border": null,
            "align_items": null,
            "bottom": null,
            "_model_module": "@jupyter-widgets/base",
            "top": null,
            "grid_column": null,
            "overflow_y": null,
            "overflow_x": null,
            "grid_auto_flow": null,
            "grid_area": null,
            "grid_template_columns": null,
            "flex": null,
            "_model_name": "LayoutModel",
            "justify_items": null,
            "grid_row": null,
            "max_height": null,
            "align_content": null,
            "visibility": null,
            "align_self": null,
            "height": null,
            "min_height": null,
            "padding": null,
            "grid_auto_rows": null,
            "grid_gap": null,
            "max_width": null,
            "order": null,
            "_view_module_version": "1.2.0",
            "grid_template_areas": null,
            "object_position": null,
            "object_fit": null,
            "grid_auto_columns": null,
            "margin": null,
            "display": null,
            "left": null
          }
        },
        "2d5a0c3ec363435ca06dd19c207174ae": {
          "model_module": "@jupyter-widgets/controls",
          "model_name": "HBoxModel",
          "state": {
            "_view_name": "HBoxView",
            "_dom_classes": [],
            "_model_name": "HBoxModel",
            "_view_module": "@jupyter-widgets/controls",
            "_model_module_version": "1.5.0",
            "_view_count": null,
            "_view_module_version": "1.5.0",
            "box_style": "",
            "layout": "IPY_MODEL_26ebacc69c834312b289eb95b2205d7f",
            "_model_module": "@jupyter-widgets/controls",
            "children": [
              "IPY_MODEL_909f809516da4cf3831279d290623f13",
              "IPY_MODEL_8a03c4f997b2409daeba36a50f9a1fe4"
            ]
          }
        },
        "26ebacc69c834312b289eb95b2205d7f": {
          "model_module": "@jupyter-widgets/base",
          "model_name": "LayoutModel",
          "state": {
            "_view_name": "LayoutView",
            "grid_template_rows": null,
            "right": null,
            "justify_content": null,
            "_view_module": "@jupyter-widgets/base",
            "overflow": null,
            "_model_module_version": "1.2.0",
            "_view_count": null,
            "flex_flow": null,
            "width": null,
            "min_width": null,
            "border": null,
            "align_items": null,
            "bottom": null,
            "_model_module": "@jupyter-widgets/base",
            "top": null,
            "grid_column": null,
            "overflow_y": null,
            "overflow_x": null,
            "grid_auto_flow": null,
            "grid_area": null,
            "grid_template_columns": null,
            "flex": null,
            "_model_name": "LayoutModel",
            "justify_items": null,
            "grid_row": null,
            "max_height": null,
            "align_content": null,
            "visibility": null,
            "align_self": null,
            "height": null,
            "min_height": null,
            "padding": null,
            "grid_auto_rows": null,
            "grid_gap": null,
            "max_width": null,
            "order": null,
            "_view_module_version": "1.2.0",
            "grid_template_areas": null,
            "object_position": null,
            "object_fit": null,
            "grid_auto_columns": null,
            "margin": null,
            "display": null,
            "left": null
          }
        },
        "909f809516da4cf3831279d290623f13": {
          "model_module": "@jupyter-widgets/controls",
          "model_name": "IntProgressModel",
          "state": {
            "_view_name": "ProgressView",
            "style": "IPY_MODEL_3023c6c2c0474e3d8ddcf286a7bbc29f",
            "_dom_classes": [],
            "description": "100%",
            "_model_name": "IntProgressModel",
            "bar_style": "success",
            "max": 6279,
            "_view_module": "@jupyter-widgets/controls",
            "_model_module_version": "1.5.0",
            "value": 6279,
            "_view_count": null,
            "_view_module_version": "1.5.0",
            "orientation": "horizontal",
            "min": 0,
            "description_tooltip": null,
            "_model_module": "@jupyter-widgets/controls",
            "layout": "IPY_MODEL_875e2046a4d8440e87b4e6d0209d3741"
          }
        },
        "8a03c4f997b2409daeba36a50f9a1fe4": {
          "model_module": "@jupyter-widgets/controls",
          "model_name": "HTMLModel",
          "state": {
            "_view_name": "HTMLView",
            "style": "IPY_MODEL_fa54887c4f5545cb9f4bd5980f5d482f",
            "_dom_classes": [],
            "description": "",
            "_model_name": "HTMLModel",
            "placeholder": "​",
            "_view_module": "@jupyter-widgets/controls",
            "_model_module_version": "1.5.0",
            "value": " 6279/6279 [00:00&lt;00:00, 9962.55it/s]",
            "_view_count": null,
            "_view_module_version": "1.5.0",
            "description_tooltip": null,
            "_model_module": "@jupyter-widgets/controls",
            "layout": "IPY_MODEL_7f8227559b0940728779ced61a69d17a"
          }
        },
        "3023c6c2c0474e3d8ddcf286a7bbc29f": {
          "model_module": "@jupyter-widgets/controls",
          "model_name": "ProgressStyleModel",
          "state": {
            "_view_name": "StyleView",
            "_model_name": "ProgressStyleModel",
            "description_width": "initial",
            "_view_module": "@jupyter-widgets/base",
            "_model_module_version": "1.5.0",
            "_view_count": null,
            "_view_module_version": "1.2.0",
            "bar_color": null,
            "_model_module": "@jupyter-widgets/controls"
          }
        },
        "875e2046a4d8440e87b4e6d0209d3741": {
          "model_module": "@jupyter-widgets/base",
          "model_name": "LayoutModel",
          "state": {
            "_view_name": "LayoutView",
            "grid_template_rows": null,
            "right": null,
            "justify_content": null,
            "_view_module": "@jupyter-widgets/base",
            "overflow": null,
            "_model_module_version": "1.2.0",
            "_view_count": null,
            "flex_flow": null,
            "width": null,
            "min_width": null,
            "border": null,
            "align_items": null,
            "bottom": null,
            "_model_module": "@jupyter-widgets/base",
            "top": null,
            "grid_column": null,
            "overflow_y": null,
            "overflow_x": null,
            "grid_auto_flow": null,
            "grid_area": null,
            "grid_template_columns": null,
            "flex": null,
            "_model_name": "LayoutModel",
            "justify_items": null,
            "grid_row": null,
            "max_height": null,
            "align_content": null,
            "visibility": null,
            "align_self": null,
            "height": null,
            "min_height": null,
            "padding": null,
            "grid_auto_rows": null,
            "grid_gap": null,
            "max_width": null,
            "order": null,
            "_view_module_version": "1.2.0",
            "grid_template_areas": null,
            "object_position": null,
            "object_fit": null,
            "grid_auto_columns": null,
            "margin": null,
            "display": null,
            "left": null
          }
        },
        "fa54887c4f5545cb9f4bd5980f5d482f": {
          "model_module": "@jupyter-widgets/controls",
          "model_name": "DescriptionStyleModel",
          "state": {
            "_view_name": "StyleView",
            "_model_name": "DescriptionStyleModel",
            "description_width": "",
            "_view_module": "@jupyter-widgets/base",
            "_model_module_version": "1.5.0",
            "_view_count": null,
            "_view_module_version": "1.2.0",
            "_model_module": "@jupyter-widgets/controls"
          }
        },
        "7f8227559b0940728779ced61a69d17a": {
          "model_module": "@jupyter-widgets/base",
          "model_name": "LayoutModel",
          "state": {
            "_view_name": "LayoutView",
            "grid_template_rows": null,
            "right": null,
            "justify_content": null,
            "_view_module": "@jupyter-widgets/base",
            "overflow": null,
            "_model_module_version": "1.2.0",
            "_view_count": null,
            "flex_flow": null,
            "width": null,
            "min_width": null,
            "border": null,
            "align_items": null,
            "bottom": null,
            "_model_module": "@jupyter-widgets/base",
            "top": null,
            "grid_column": null,
            "overflow_y": null,
            "overflow_x": null,
            "grid_auto_flow": null,
            "grid_area": null,
            "grid_template_columns": null,
            "flex": null,
            "_model_name": "LayoutModel",
            "justify_items": null,
            "grid_row": null,
            "max_height": null,
            "align_content": null,
            "visibility": null,
            "align_self": null,
            "height": null,
            "min_height": null,
            "padding": null,
            "grid_auto_rows": null,
            "grid_gap": null,
            "max_width": null,
            "order": null,
            "_view_module_version": "1.2.0",
            "grid_template_areas": null,
            "object_position": null,
            "object_fit": null,
            "grid_auto_columns": null,
            "margin": null,
            "display": null,
            "left": null
          }
        },
        "80cd2042bb8848509eb5bfa684157c42": {
          "model_module": "@jupyter-widgets/controls",
          "model_name": "HBoxModel",
          "state": {
            "_view_name": "HBoxView",
            "_dom_classes": [],
            "_model_name": "HBoxModel",
            "_view_module": "@jupyter-widgets/controls",
            "_model_module_version": "1.5.0",
            "_view_count": null,
            "_view_module_version": "1.5.0",
            "box_style": "",
            "layout": "IPY_MODEL_7390ead16828479bb02f4dc867d6da4c",
            "_model_module": "@jupyter-widgets/controls",
            "children": [
              "IPY_MODEL_ed69c8c33e914820b35f198f669c4ecf",
              "IPY_MODEL_4366b14917a44432b86e8aeb1e4110c7"
            ]
          }
        },
        "7390ead16828479bb02f4dc867d6da4c": {
          "model_module": "@jupyter-widgets/base",
          "model_name": "LayoutModel",
          "state": {
            "_view_name": "LayoutView",
            "grid_template_rows": null,
            "right": null,
            "justify_content": null,
            "_view_module": "@jupyter-widgets/base",
            "overflow": null,
            "_model_module_version": "1.2.0",
            "_view_count": null,
            "flex_flow": null,
            "width": null,
            "min_width": null,
            "border": null,
            "align_items": null,
            "bottom": null,
            "_model_module": "@jupyter-widgets/base",
            "top": null,
            "grid_column": null,
            "overflow_y": null,
            "overflow_x": null,
            "grid_auto_flow": null,
            "grid_area": null,
            "grid_template_columns": null,
            "flex": null,
            "_model_name": "LayoutModel",
            "justify_items": null,
            "grid_row": null,
            "max_height": null,
            "align_content": null,
            "visibility": null,
            "align_self": null,
            "height": null,
            "min_height": null,
            "padding": null,
            "grid_auto_rows": null,
            "grid_gap": null,
            "max_width": null,
            "order": null,
            "_view_module_version": "1.2.0",
            "grid_template_areas": null,
            "object_position": null,
            "object_fit": null,
            "grid_auto_columns": null,
            "margin": null,
            "display": null,
            "left": null
          }
        },
        "ed69c8c33e914820b35f198f669c4ecf": {
          "model_module": "@jupyter-widgets/controls",
          "model_name": "IntProgressModel",
          "state": {
            "_view_name": "ProgressView",
            "style": "IPY_MODEL_3d9a0e31424140f6b6694cd18025ef50",
            "_dom_classes": [],
            "description": "100%",
            "_model_name": "IntProgressModel",
            "bar_style": "success",
            "max": 2094,
            "_view_module": "@jupyter-widgets/controls",
            "_model_module_version": "1.5.0",
            "value": 2094,
            "_view_count": null,
            "_view_module_version": "1.5.0",
            "orientation": "horizontal",
            "min": 0,
            "description_tooltip": null,
            "_model_module": "@jupyter-widgets/controls",
            "layout": "IPY_MODEL_2ce7521dd3ec4af3b0772ab4f472f7f8"
          }
        },
        "4366b14917a44432b86e8aeb1e4110c7": {
          "model_module": "@jupyter-widgets/controls",
          "model_name": "HTMLModel",
          "state": {
            "_view_name": "HTMLView",
            "style": "IPY_MODEL_29d07e88a6be4d93961399f35a657c44",
            "_dom_classes": [],
            "description": "",
            "_model_name": "HTMLModel",
            "placeholder": "​",
            "_view_module": "@jupyter-widgets/controls",
            "_model_module_version": "1.5.0",
            "value": " 2094/2094 [38:34&lt;00:00,  1.11s/it]",
            "_view_count": null,
            "_view_module_version": "1.5.0",
            "description_tooltip": null,
            "_model_module": "@jupyter-widgets/controls",
            "layout": "IPY_MODEL_c58c694609e14c11978ae26a082388fa"
          }
        },
        "3d9a0e31424140f6b6694cd18025ef50": {
          "model_module": "@jupyter-widgets/controls",
          "model_name": "ProgressStyleModel",
          "state": {
            "_view_name": "StyleView",
            "_model_name": "ProgressStyleModel",
            "description_width": "initial",
            "_view_module": "@jupyter-widgets/base",
            "_model_module_version": "1.5.0",
            "_view_count": null,
            "_view_module_version": "1.2.0",
            "bar_color": null,
            "_model_module": "@jupyter-widgets/controls"
          }
        },
        "2ce7521dd3ec4af3b0772ab4f472f7f8": {
          "model_module": "@jupyter-widgets/base",
          "model_name": "LayoutModel",
          "state": {
            "_view_name": "LayoutView",
            "grid_template_rows": null,
            "right": null,
            "justify_content": null,
            "_view_module": "@jupyter-widgets/base",
            "overflow": null,
            "_model_module_version": "1.2.0",
            "_view_count": null,
            "flex_flow": null,
            "width": null,
            "min_width": null,
            "border": null,
            "align_items": null,
            "bottom": null,
            "_model_module": "@jupyter-widgets/base",
            "top": null,
            "grid_column": null,
            "overflow_y": null,
            "overflow_x": null,
            "grid_auto_flow": null,
            "grid_area": null,
            "grid_template_columns": null,
            "flex": null,
            "_model_name": "LayoutModel",
            "justify_items": null,
            "grid_row": null,
            "max_height": null,
            "align_content": null,
            "visibility": null,
            "align_self": null,
            "height": null,
            "min_height": null,
            "padding": null,
            "grid_auto_rows": null,
            "grid_gap": null,
            "max_width": null,
            "order": null,
            "_view_module_version": "1.2.0",
            "grid_template_areas": null,
            "object_position": null,
            "object_fit": null,
            "grid_auto_columns": null,
            "margin": null,
            "display": null,
            "left": null
          }
        },
        "29d07e88a6be4d93961399f35a657c44": {
          "model_module": "@jupyter-widgets/controls",
          "model_name": "DescriptionStyleModel",
          "state": {
            "_view_name": "StyleView",
            "_model_name": "DescriptionStyleModel",
            "description_width": "",
            "_view_module": "@jupyter-widgets/base",
            "_model_module_version": "1.5.0",
            "_view_count": null,
            "_view_module_version": "1.2.0",
            "_model_module": "@jupyter-widgets/controls"
          }
        },
        "c58c694609e14c11978ae26a082388fa": {
          "model_module": "@jupyter-widgets/base",
          "model_name": "LayoutModel",
          "state": {
            "_view_name": "LayoutView",
            "grid_template_rows": null,
            "right": null,
            "justify_content": null,
            "_view_module": "@jupyter-widgets/base",
            "overflow": null,
            "_model_module_version": "1.2.0",
            "_view_count": null,
            "flex_flow": null,
            "width": null,
            "min_width": null,
            "border": null,
            "align_items": null,
            "bottom": null,
            "_model_module": "@jupyter-widgets/base",
            "top": null,
            "grid_column": null,
            "overflow_y": null,
            "overflow_x": null,
            "grid_auto_flow": null,
            "grid_area": null,
            "grid_template_columns": null,
            "flex": null,
            "_model_name": "LayoutModel",
            "justify_items": null,
            "grid_row": null,
            "max_height": null,
            "align_content": null,
            "visibility": null,
            "align_self": null,
            "height": null,
            "min_height": null,
            "padding": null,
            "grid_auto_rows": null,
            "grid_gap": null,
            "max_width": null,
            "order": null,
            "_view_module_version": "1.2.0",
            "grid_template_areas": null,
            "object_position": null,
            "object_fit": null,
            "grid_auto_columns": null,
            "margin": null,
            "display": null,
            "left": null
          }
        },
        "12dde9772c5a400c8a46c9808b06e378": {
          "model_module": "@jupyter-widgets/controls",
          "model_name": "HBoxModel",
          "state": {
            "_view_name": "HBoxView",
            "_dom_classes": [],
            "_model_name": "HBoxModel",
            "_view_module": "@jupyter-widgets/controls",
            "_model_module_version": "1.5.0",
            "_view_count": null,
            "_view_module_version": "1.5.0",
            "box_style": "",
            "layout": "IPY_MODEL_04fa57cfd9a54a5591b67bc4be9c581c",
            "_model_module": "@jupyter-widgets/controls",
            "children": [
              "IPY_MODEL_3fe6769f910445ff84cc33315541cd8a",
              "IPY_MODEL_6ccd8a6bc0684b7a82a6a9ded7d6239b"
            ]
          }
        },
        "04fa57cfd9a54a5591b67bc4be9c581c": {
          "model_module": "@jupyter-widgets/base",
          "model_name": "LayoutModel",
          "state": {
            "_view_name": "LayoutView",
            "grid_template_rows": null,
            "right": null,
            "justify_content": null,
            "_view_module": "@jupyter-widgets/base",
            "overflow": null,
            "_model_module_version": "1.2.0",
            "_view_count": null,
            "flex_flow": null,
            "width": null,
            "min_width": null,
            "border": null,
            "align_items": null,
            "bottom": null,
            "_model_module": "@jupyter-widgets/base",
            "top": null,
            "grid_column": null,
            "overflow_y": null,
            "overflow_x": null,
            "grid_auto_flow": null,
            "grid_area": null,
            "grid_template_columns": null,
            "flex": null,
            "_model_name": "LayoutModel",
            "justify_items": null,
            "grid_row": null,
            "max_height": null,
            "align_content": null,
            "visibility": null,
            "align_self": null,
            "height": null,
            "min_height": null,
            "padding": null,
            "grid_auto_rows": null,
            "grid_gap": null,
            "max_width": null,
            "order": null,
            "_view_module_version": "1.2.0",
            "grid_template_areas": null,
            "object_position": null,
            "object_fit": null,
            "grid_auto_columns": null,
            "margin": null,
            "display": null,
            "left": null
          }
        },
        "3fe6769f910445ff84cc33315541cd8a": {
          "model_module": "@jupyter-widgets/controls",
          "model_name": "IntProgressModel",
          "state": {
            "_view_name": "ProgressView",
            "style": "IPY_MODEL_f8c65be7da7c49d59e6760c276a0f39b",
            "_dom_classes": [],
            "description": "100%",
            "_model_name": "IntProgressModel",
            "bar_style": "success",
            "max": 2093,
            "_view_module": "@jupyter-widgets/controls",
            "_model_module_version": "1.5.0",
            "value": 2093,
            "_view_count": null,
            "_view_module_version": "1.5.0",
            "orientation": "horizontal",
            "min": 0,
            "description_tooltip": null,
            "_model_module": "@jupyter-widgets/controls",
            "layout": "IPY_MODEL_846399821a0c426ab108707451d95925"
          }
        },
        "6ccd8a6bc0684b7a82a6a9ded7d6239b": {
          "model_module": "@jupyter-widgets/controls",
          "model_name": "HTMLModel",
          "state": {
            "_view_name": "HTMLView",
            "style": "IPY_MODEL_e2b20da9d3e14b279e02908ebf309703",
            "_dom_classes": [],
            "description": "",
            "_model_name": "HTMLModel",
            "placeholder": "​",
            "_view_module": "@jupyter-widgets/controls",
            "_model_module_version": "1.5.0",
            "value": " 2093/2093 [00:00&lt;00:00, 6324.24it/s]",
            "_view_count": null,
            "_view_module_version": "1.5.0",
            "description_tooltip": null,
            "_model_module": "@jupyter-widgets/controls",
            "layout": "IPY_MODEL_cf4aa8f61d1a4930a06d8762394f7064"
          }
        },
        "f8c65be7da7c49d59e6760c276a0f39b": {
          "model_module": "@jupyter-widgets/controls",
          "model_name": "ProgressStyleModel",
          "state": {
            "_view_name": "StyleView",
            "_model_name": "ProgressStyleModel",
            "description_width": "initial",
            "_view_module": "@jupyter-widgets/base",
            "_model_module_version": "1.5.0",
            "_view_count": null,
            "_view_module_version": "1.2.0",
            "bar_color": null,
            "_model_module": "@jupyter-widgets/controls"
          }
        },
        "846399821a0c426ab108707451d95925": {
          "model_module": "@jupyter-widgets/base",
          "model_name": "LayoutModel",
          "state": {
            "_view_name": "LayoutView",
            "grid_template_rows": null,
            "right": null,
            "justify_content": null,
            "_view_module": "@jupyter-widgets/base",
            "overflow": null,
            "_model_module_version": "1.2.0",
            "_view_count": null,
            "flex_flow": null,
            "width": null,
            "min_width": null,
            "border": null,
            "align_items": null,
            "bottom": null,
            "_model_module": "@jupyter-widgets/base",
            "top": null,
            "grid_column": null,
            "overflow_y": null,
            "overflow_x": null,
            "grid_auto_flow": null,
            "grid_area": null,
            "grid_template_columns": null,
            "flex": null,
            "_model_name": "LayoutModel",
            "justify_items": null,
            "grid_row": null,
            "max_height": null,
            "align_content": null,
            "visibility": null,
            "align_self": null,
            "height": null,
            "min_height": null,
            "padding": null,
            "grid_auto_rows": null,
            "grid_gap": null,
            "max_width": null,
            "order": null,
            "_view_module_version": "1.2.0",
            "grid_template_areas": null,
            "object_position": null,
            "object_fit": null,
            "grid_auto_columns": null,
            "margin": null,
            "display": null,
            "left": null
          }
        },
        "e2b20da9d3e14b279e02908ebf309703": {
          "model_module": "@jupyter-widgets/controls",
          "model_name": "DescriptionStyleModel",
          "state": {
            "_view_name": "StyleView",
            "_model_name": "DescriptionStyleModel",
            "description_width": "",
            "_view_module": "@jupyter-widgets/base",
            "_model_module_version": "1.5.0",
            "_view_count": null,
            "_view_module_version": "1.2.0",
            "_model_module": "@jupyter-widgets/controls"
          }
        },
        "cf4aa8f61d1a4930a06d8762394f7064": {
          "model_module": "@jupyter-widgets/base",
          "model_name": "LayoutModel",
          "state": {
            "_view_name": "LayoutView",
            "grid_template_rows": null,
            "right": null,
            "justify_content": null,
            "_view_module": "@jupyter-widgets/base",
            "overflow": null,
            "_model_module_version": "1.2.0",
            "_view_count": null,
            "flex_flow": null,
            "width": null,
            "min_width": null,
            "border": null,
            "align_items": null,
            "bottom": null,
            "_model_module": "@jupyter-widgets/base",
            "top": null,
            "grid_column": null,
            "overflow_y": null,
            "overflow_x": null,
            "grid_auto_flow": null,
            "grid_area": null,
            "grid_template_columns": null,
            "flex": null,
            "_model_name": "LayoutModel",
            "justify_items": null,
            "grid_row": null,
            "max_height": null,
            "align_content": null,
            "visibility": null,
            "align_self": null,
            "height": null,
            "min_height": null,
            "padding": null,
            "grid_auto_rows": null,
            "grid_gap": null,
            "max_width": null,
            "order": null,
            "_view_module_version": "1.2.0",
            "grid_template_areas": null,
            "object_position": null,
            "object_fit": null,
            "grid_auto_columns": null,
            "margin": null,
            "display": null,
            "left": null
          }
        },
        "d11a0e422d5b4cf8a0141748fb4e5a6b": {
          "model_module": "@jupyter-widgets/controls",
          "model_name": "HBoxModel",
          "state": {
            "_view_name": "HBoxView",
            "_dom_classes": [],
            "_model_name": "HBoxModel",
            "_view_module": "@jupyter-widgets/controls",
            "_model_module_version": "1.5.0",
            "_view_count": null,
            "_view_module_version": "1.5.0",
            "box_style": "",
            "layout": "IPY_MODEL_dfb5e5eecf164ef4b7f82703df0af4af",
            "_model_module": "@jupyter-widgets/controls",
            "children": [
              "IPY_MODEL_637131507ddf42ed8b38b6d5f094d75b",
              "IPY_MODEL_b0aa58e12b94482cad109fff2fc77e26"
            ]
          }
        },
        "dfb5e5eecf164ef4b7f82703df0af4af": {
          "model_module": "@jupyter-widgets/base",
          "model_name": "LayoutModel",
          "state": {
            "_view_name": "LayoutView",
            "grid_template_rows": null,
            "right": null,
            "justify_content": null,
            "_view_module": "@jupyter-widgets/base",
            "overflow": null,
            "_model_module_version": "1.2.0",
            "_view_count": null,
            "flex_flow": null,
            "width": null,
            "min_width": null,
            "border": null,
            "align_items": null,
            "bottom": null,
            "_model_module": "@jupyter-widgets/base",
            "top": null,
            "grid_column": null,
            "overflow_y": null,
            "overflow_x": null,
            "grid_auto_flow": null,
            "grid_area": null,
            "grid_template_columns": null,
            "flex": null,
            "_model_name": "LayoutModel",
            "justify_items": null,
            "grid_row": null,
            "max_height": null,
            "align_content": null,
            "visibility": null,
            "align_self": null,
            "height": null,
            "min_height": null,
            "padding": null,
            "grid_auto_rows": null,
            "grid_gap": null,
            "max_width": null,
            "order": null,
            "_view_module_version": "1.2.0",
            "grid_template_areas": null,
            "object_position": null,
            "object_fit": null,
            "grid_auto_columns": null,
            "margin": null,
            "display": null,
            "left": null
          }
        },
        "637131507ddf42ed8b38b6d5f094d75b": {
          "model_module": "@jupyter-widgets/controls",
          "model_name": "IntProgressModel",
          "state": {
            "_view_name": "ProgressView",
            "style": "IPY_MODEL_99e4410cfd8447c884d906b2e9db473a",
            "_dom_classes": [],
            "description": "100%",
            "_model_name": "IntProgressModel",
            "bar_style": "success",
            "max": 105904,
            "_view_module": "@jupyter-widgets/controls",
            "_model_module_version": "1.5.0",
            "value": 105904,
            "_view_count": null,
            "_view_module_version": "1.5.0",
            "orientation": "horizontal",
            "min": 0,
            "description_tooltip": null,
            "_model_module": "@jupyter-widgets/controls",
            "layout": "IPY_MODEL_e93ef96a8faf4f35a7e7d4e0ffa8031b"
          }
        },
        "b0aa58e12b94482cad109fff2fc77e26": {
          "model_module": "@jupyter-widgets/controls",
          "model_name": "HTMLModel",
          "state": {
            "_view_name": "HTMLView",
            "style": "IPY_MODEL_841fb9b3253d4ddd96edebf69af5fa75",
            "_dom_classes": [],
            "description": "",
            "_model_name": "HTMLModel",
            "placeholder": "​",
            "_view_module": "@jupyter-widgets/controls",
            "_model_module_version": "1.5.0",
            "value": " 105904/105904 [14:58&lt;00:00, 117.81it/s]",
            "_view_count": null,
            "_view_module_version": "1.5.0",
            "description_tooltip": null,
            "_model_module": "@jupyter-widgets/controls",
            "layout": "IPY_MODEL_03319ec08f954deca1e84726dbd1cde2"
          }
        },
        "99e4410cfd8447c884d906b2e9db473a": {
          "model_module": "@jupyter-widgets/controls",
          "model_name": "ProgressStyleModel",
          "state": {
            "_view_name": "StyleView",
            "_model_name": "ProgressStyleModel",
            "description_width": "initial",
            "_view_module": "@jupyter-widgets/base",
            "_model_module_version": "1.5.0",
            "_view_count": null,
            "_view_module_version": "1.2.0",
            "bar_color": null,
            "_model_module": "@jupyter-widgets/controls"
          }
        },
        "e93ef96a8faf4f35a7e7d4e0ffa8031b": {
          "model_module": "@jupyter-widgets/base",
          "model_name": "LayoutModel",
          "state": {
            "_view_name": "LayoutView",
            "grid_template_rows": null,
            "right": null,
            "justify_content": null,
            "_view_module": "@jupyter-widgets/base",
            "overflow": null,
            "_model_module_version": "1.2.0",
            "_view_count": null,
            "flex_flow": null,
            "width": null,
            "min_width": null,
            "border": null,
            "align_items": null,
            "bottom": null,
            "_model_module": "@jupyter-widgets/base",
            "top": null,
            "grid_column": null,
            "overflow_y": null,
            "overflow_x": null,
            "grid_auto_flow": null,
            "grid_area": null,
            "grid_template_columns": null,
            "flex": null,
            "_model_name": "LayoutModel",
            "justify_items": null,
            "grid_row": null,
            "max_height": null,
            "align_content": null,
            "visibility": null,
            "align_self": null,
            "height": null,
            "min_height": null,
            "padding": null,
            "grid_auto_rows": null,
            "grid_gap": null,
            "max_width": null,
            "order": null,
            "_view_module_version": "1.2.0",
            "grid_template_areas": null,
            "object_position": null,
            "object_fit": null,
            "grid_auto_columns": null,
            "margin": null,
            "display": null,
            "left": null
          }
        },
        "841fb9b3253d4ddd96edebf69af5fa75": {
          "model_module": "@jupyter-widgets/controls",
          "model_name": "DescriptionStyleModel",
          "state": {
            "_view_name": "StyleView",
            "_model_name": "DescriptionStyleModel",
            "description_width": "",
            "_view_module": "@jupyter-widgets/base",
            "_model_module_version": "1.5.0",
            "_view_count": null,
            "_view_module_version": "1.2.0",
            "_model_module": "@jupyter-widgets/controls"
          }
        },
        "03319ec08f954deca1e84726dbd1cde2": {
          "model_module": "@jupyter-widgets/base",
          "model_name": "LayoutModel",
          "state": {
            "_view_name": "LayoutView",
            "grid_template_rows": null,
            "right": null,
            "justify_content": null,
            "_view_module": "@jupyter-widgets/base",
            "overflow": null,
            "_model_module_version": "1.2.0",
            "_view_count": null,
            "flex_flow": null,
            "width": null,
            "min_width": null,
            "border": null,
            "align_items": null,
            "bottom": null,
            "_model_module": "@jupyter-widgets/base",
            "top": null,
            "grid_column": null,
            "overflow_y": null,
            "overflow_x": null,
            "grid_auto_flow": null,
            "grid_area": null,
            "grid_template_columns": null,
            "flex": null,
            "_model_name": "LayoutModel",
            "justify_items": null,
            "grid_row": null,
            "max_height": null,
            "align_content": null,
            "visibility": null,
            "align_self": null,
            "height": null,
            "min_height": null,
            "padding": null,
            "grid_auto_rows": null,
            "grid_gap": null,
            "max_width": null,
            "order": null,
            "_view_module_version": "1.2.0",
            "grid_template_areas": null,
            "object_position": null,
            "object_fit": null,
            "grid_auto_columns": null,
            "margin": null,
            "display": null,
            "left": null
          }
        },
        "3ee0fe311f4a4b3b82649d498e4a10bb": {
          "model_module": "@jupyter-widgets/controls",
          "model_name": "HBoxModel",
          "state": {
            "_view_name": "HBoxView",
            "_dom_classes": [],
            "_model_name": "HBoxModel",
            "_view_module": "@jupyter-widgets/controls",
            "_model_module_version": "1.5.0",
            "_view_count": null,
            "_view_module_version": "1.5.0",
            "box_style": "",
            "layout": "IPY_MODEL_04b421aaa4184ff694db58e4e2ba7957",
            "_model_module": "@jupyter-widgets/controls",
            "children": [
              "IPY_MODEL_abf92d13333a41048cf56c46a2b5789d",
              "IPY_MODEL_d5cd3d90a8bf4b419b3e95eb83b57160"
            ]
          }
        },
        "04b421aaa4184ff694db58e4e2ba7957": {
          "model_module": "@jupyter-widgets/base",
          "model_name": "LayoutModel",
          "state": {
            "_view_name": "LayoutView",
            "grid_template_rows": null,
            "right": null,
            "justify_content": null,
            "_view_module": "@jupyter-widgets/base",
            "overflow": null,
            "_model_module_version": "1.2.0",
            "_view_count": null,
            "flex_flow": null,
            "width": null,
            "min_width": null,
            "border": null,
            "align_items": null,
            "bottom": null,
            "_model_module": "@jupyter-widgets/base",
            "top": null,
            "grid_column": null,
            "overflow_y": null,
            "overflow_x": null,
            "grid_auto_flow": null,
            "grid_area": null,
            "grid_template_columns": null,
            "flex": null,
            "_model_name": "LayoutModel",
            "justify_items": null,
            "grid_row": null,
            "max_height": null,
            "align_content": null,
            "visibility": null,
            "align_self": null,
            "height": null,
            "min_height": null,
            "padding": null,
            "grid_auto_rows": null,
            "grid_gap": null,
            "max_width": null,
            "order": null,
            "_view_module_version": "1.2.0",
            "grid_template_areas": null,
            "object_position": null,
            "object_fit": null,
            "grid_auto_columns": null,
            "margin": null,
            "display": null,
            "left": null
          }
        },
        "abf92d13333a41048cf56c46a2b5789d": {
          "model_module": "@jupyter-widgets/controls",
          "model_name": "IntProgressModel",
          "state": {
            "_view_name": "ProgressView",
            "style": "IPY_MODEL_ed35ee1da2884aac96d48b1758865d97",
            "_dom_classes": [],
            "description": "100%",
            "_model_name": "IntProgressModel",
            "bar_style": "success",
            "max": 12000,
            "_view_module": "@jupyter-widgets/controls",
            "_model_module_version": "1.5.0",
            "value": 12000,
            "_view_count": null,
            "_view_module_version": "1.5.0",
            "orientation": "horizontal",
            "min": 0,
            "description_tooltip": null,
            "_model_module": "@jupyter-widgets/controls",
            "layout": "IPY_MODEL_6499b03b6b8c4b6cb20c1fc5b41e05f8"
          }
        },
        "d5cd3d90a8bf4b419b3e95eb83b57160": {
          "model_module": "@jupyter-widgets/controls",
          "model_name": "HTMLModel",
          "state": {
            "_view_name": "HTMLView",
            "style": "IPY_MODEL_94423f0192574b099e720589f4456459",
            "_dom_classes": [],
            "description": "",
            "_model_name": "HTMLModel",
            "placeholder": "​",
            "_view_module": "@jupyter-widgets/controls",
            "_model_module_version": "1.5.0",
            "value": " 12000/12000 [11:50&lt;00:00, 16.88it/s]",
            "_view_count": null,
            "_view_module_version": "1.5.0",
            "description_tooltip": null,
            "_model_module": "@jupyter-widgets/controls",
            "layout": "IPY_MODEL_4acba11ab0cb43ebad101f9ea89d3231"
          }
        },
        "ed35ee1da2884aac96d48b1758865d97": {
          "model_module": "@jupyter-widgets/controls",
          "model_name": "ProgressStyleModel",
          "state": {
            "_view_name": "StyleView",
            "_model_name": "ProgressStyleModel",
            "description_width": "initial",
            "_view_module": "@jupyter-widgets/base",
            "_model_module_version": "1.5.0",
            "_view_count": null,
            "_view_module_version": "1.2.0",
            "bar_color": null,
            "_model_module": "@jupyter-widgets/controls"
          }
        },
        "6499b03b6b8c4b6cb20c1fc5b41e05f8": {
          "model_module": "@jupyter-widgets/base",
          "model_name": "LayoutModel",
          "state": {
            "_view_name": "LayoutView",
            "grid_template_rows": null,
            "right": null,
            "justify_content": null,
            "_view_module": "@jupyter-widgets/base",
            "overflow": null,
            "_model_module_version": "1.2.0",
            "_view_count": null,
            "flex_flow": null,
            "width": null,
            "min_width": null,
            "border": null,
            "align_items": null,
            "bottom": null,
            "_model_module": "@jupyter-widgets/base",
            "top": null,
            "grid_column": null,
            "overflow_y": null,
            "overflow_x": null,
            "grid_auto_flow": null,
            "grid_area": null,
            "grid_template_columns": null,
            "flex": null,
            "_model_name": "LayoutModel",
            "justify_items": null,
            "grid_row": null,
            "max_height": null,
            "align_content": null,
            "visibility": null,
            "align_self": null,
            "height": null,
            "min_height": null,
            "padding": null,
            "grid_auto_rows": null,
            "grid_gap": null,
            "max_width": null,
            "order": null,
            "_view_module_version": "1.2.0",
            "grid_template_areas": null,
            "object_position": null,
            "object_fit": null,
            "grid_auto_columns": null,
            "margin": null,
            "display": null,
            "left": null
          }
        },
        "94423f0192574b099e720589f4456459": {
          "model_module": "@jupyter-widgets/controls",
          "model_name": "DescriptionStyleModel",
          "state": {
            "_view_name": "StyleView",
            "_model_name": "DescriptionStyleModel",
            "description_width": "",
            "_view_module": "@jupyter-widgets/base",
            "_model_module_version": "1.5.0",
            "_view_count": null,
            "_view_module_version": "1.2.0",
            "_model_module": "@jupyter-widgets/controls"
          }
        },
        "4acba11ab0cb43ebad101f9ea89d3231": {
          "model_module": "@jupyter-widgets/base",
          "model_name": "LayoutModel",
          "state": {
            "_view_name": "LayoutView",
            "grid_template_rows": null,
            "right": null,
            "justify_content": null,
            "_view_module": "@jupyter-widgets/base",
            "overflow": null,
            "_model_module_version": "1.2.0",
            "_view_count": null,
            "flex_flow": null,
            "width": null,
            "min_width": null,
            "border": null,
            "align_items": null,
            "bottom": null,
            "_model_module": "@jupyter-widgets/base",
            "top": null,
            "grid_column": null,
            "overflow_y": null,
            "overflow_x": null,
            "grid_auto_flow": null,
            "grid_area": null,
            "grid_template_columns": null,
            "flex": null,
            "_model_name": "LayoutModel",
            "justify_items": null,
            "grid_row": null,
            "max_height": null,
            "align_content": null,
            "visibility": null,
            "align_self": null,
            "height": null,
            "min_height": null,
            "padding": null,
            "grid_auto_rows": null,
            "grid_gap": null,
            "max_width": null,
            "order": null,
            "_view_module_version": "1.2.0",
            "grid_template_areas": null,
            "object_position": null,
            "object_fit": null,
            "grid_auto_columns": null,
            "margin": null,
            "display": null,
            "left": null
          }
        },
        "865c5deeadff40619e88dddb98a9bd54": {
          "model_module": "@jupyter-widgets/controls",
          "model_name": "HBoxModel",
          "state": {
            "_view_name": "HBoxView",
            "_dom_classes": [],
            "_model_name": "HBoxModel",
            "_view_module": "@jupyter-widgets/controls",
            "_model_module_version": "1.5.0",
            "_view_count": null,
            "_view_module_version": "1.5.0",
            "box_style": "",
            "layout": "IPY_MODEL_828b475b555648a2aa98558828c564b9",
            "_model_module": "@jupyter-widgets/controls",
            "children": [
              "IPY_MODEL_cfa10fb62ab34f1e9f6edb5ebcfdcfdb",
              "IPY_MODEL_282c6f20115e4c1ea9c48c2618b9b07f"
            ]
          }
        },
        "828b475b555648a2aa98558828c564b9": {
          "model_module": "@jupyter-widgets/base",
          "model_name": "LayoutModel",
          "state": {
            "_view_name": "LayoutView",
            "grid_template_rows": null,
            "right": null,
            "justify_content": null,
            "_view_module": "@jupyter-widgets/base",
            "overflow": null,
            "_model_module_version": "1.2.0",
            "_view_count": null,
            "flex_flow": null,
            "width": null,
            "min_width": null,
            "border": null,
            "align_items": null,
            "bottom": null,
            "_model_module": "@jupyter-widgets/base",
            "top": null,
            "grid_column": null,
            "overflow_y": null,
            "overflow_x": null,
            "grid_auto_flow": null,
            "grid_area": null,
            "grid_template_columns": null,
            "flex": null,
            "_model_name": "LayoutModel",
            "justify_items": null,
            "grid_row": null,
            "max_height": null,
            "align_content": null,
            "visibility": null,
            "align_self": null,
            "height": null,
            "min_height": null,
            "padding": null,
            "grid_auto_rows": null,
            "grid_gap": null,
            "max_width": null,
            "order": null,
            "_view_module_version": "1.2.0",
            "grid_template_areas": null,
            "object_position": null,
            "object_fit": null,
            "grid_auto_columns": null,
            "margin": null,
            "display": null,
            "left": null
          }
        },
        "cfa10fb62ab34f1e9f6edb5ebcfdcfdb": {
          "model_module": "@jupyter-widgets/controls",
          "model_name": "IntProgressModel",
          "state": {
            "_view_name": "ProgressView",
            "style": "IPY_MODEL_f6346a9ecbf54b9c8f2c775e5bcaa533",
            "_dom_classes": [],
            "description": "100%",
            "_model_name": "IntProgressModel",
            "bar_style": "success",
            "max": 4000,
            "_view_module": "@jupyter-widgets/controls",
            "_model_module_version": "1.5.0",
            "value": 4000,
            "_view_count": null,
            "_view_module_version": "1.5.0",
            "orientation": "horizontal",
            "min": 0,
            "description_tooltip": null,
            "_model_module": "@jupyter-widgets/controls",
            "layout": "IPY_MODEL_875ef7554d4e429197cbd4f43deb1b27"
          }
        },
        "282c6f20115e4c1ea9c48c2618b9b07f": {
          "model_module": "@jupyter-widgets/controls",
          "model_name": "HTMLModel",
          "state": {
            "_view_name": "HTMLView",
            "style": "IPY_MODEL_8d4ee4cfbbdf4f78ab46156b1ab13dc4",
            "_dom_classes": [],
            "description": "",
            "_model_name": "HTMLModel",
            "placeholder": "​",
            "_view_module": "@jupyter-widgets/controls",
            "_model_module_version": "1.5.0",
            "value": " 4000/4000 [00:00&lt;00:00, 9186.27it/s]",
            "_view_count": null,
            "_view_module_version": "1.5.0",
            "description_tooltip": null,
            "_model_module": "@jupyter-widgets/controls",
            "layout": "IPY_MODEL_323d368ea9464f82a41c3983e71a4fc1"
          }
        },
        "f6346a9ecbf54b9c8f2c775e5bcaa533": {
          "model_module": "@jupyter-widgets/controls",
          "model_name": "ProgressStyleModel",
          "state": {
            "_view_name": "StyleView",
            "_model_name": "ProgressStyleModel",
            "description_width": "initial",
            "_view_module": "@jupyter-widgets/base",
            "_model_module_version": "1.5.0",
            "_view_count": null,
            "_view_module_version": "1.2.0",
            "bar_color": null,
            "_model_module": "@jupyter-widgets/controls"
          }
        },
        "875ef7554d4e429197cbd4f43deb1b27": {
          "model_module": "@jupyter-widgets/base",
          "model_name": "LayoutModel",
          "state": {
            "_view_name": "LayoutView",
            "grid_template_rows": null,
            "right": null,
            "justify_content": null,
            "_view_module": "@jupyter-widgets/base",
            "overflow": null,
            "_model_module_version": "1.2.0",
            "_view_count": null,
            "flex_flow": null,
            "width": null,
            "min_width": null,
            "border": null,
            "align_items": null,
            "bottom": null,
            "_model_module": "@jupyter-widgets/base",
            "top": null,
            "grid_column": null,
            "overflow_y": null,
            "overflow_x": null,
            "grid_auto_flow": null,
            "grid_area": null,
            "grid_template_columns": null,
            "flex": null,
            "_model_name": "LayoutModel",
            "justify_items": null,
            "grid_row": null,
            "max_height": null,
            "align_content": null,
            "visibility": null,
            "align_self": null,
            "height": null,
            "min_height": null,
            "padding": null,
            "grid_auto_rows": null,
            "grid_gap": null,
            "max_width": null,
            "order": null,
            "_view_module_version": "1.2.0",
            "grid_template_areas": null,
            "object_position": null,
            "object_fit": null,
            "grid_auto_columns": null,
            "margin": null,
            "display": null,
            "left": null
          }
        },
        "8d4ee4cfbbdf4f78ab46156b1ab13dc4": {
          "model_module": "@jupyter-widgets/controls",
          "model_name": "DescriptionStyleModel",
          "state": {
            "_view_name": "StyleView",
            "_model_name": "DescriptionStyleModel",
            "description_width": "",
            "_view_module": "@jupyter-widgets/base",
            "_model_module_version": "1.5.0",
            "_view_count": null,
            "_view_module_version": "1.2.0",
            "_model_module": "@jupyter-widgets/controls"
          }
        },
        "323d368ea9464f82a41c3983e71a4fc1": {
          "model_module": "@jupyter-widgets/base",
          "model_name": "LayoutModel",
          "state": {
            "_view_name": "LayoutView",
            "grid_template_rows": null,
            "right": null,
            "justify_content": null,
            "_view_module": "@jupyter-widgets/base",
            "overflow": null,
            "_model_module_version": "1.2.0",
            "_view_count": null,
            "flex_flow": null,
            "width": null,
            "min_width": null,
            "border": null,
            "align_items": null,
            "bottom": null,
            "_model_module": "@jupyter-widgets/base",
            "top": null,
            "grid_column": null,
            "overflow_y": null,
            "overflow_x": null,
            "grid_auto_flow": null,
            "grid_area": null,
            "grid_template_columns": null,
            "flex": null,
            "_model_name": "LayoutModel",
            "justify_items": null,
            "grid_row": null,
            "max_height": null,
            "align_content": null,
            "visibility": null,
            "align_self": null,
            "height": null,
            "min_height": null,
            "padding": null,
            "grid_auto_rows": null,
            "grid_gap": null,
            "max_width": null,
            "order": null,
            "_view_module_version": "1.2.0",
            "grid_template_areas": null,
            "object_position": null,
            "object_fit": null,
            "grid_auto_columns": null,
            "margin": null,
            "display": null,
            "left": null
          }
        },
        "460d873bb2264e909ccd88aa4e3cdfd1": {
          "model_module": "@jupyter-widgets/controls",
          "model_name": "HBoxModel",
          "state": {
            "_view_name": "HBoxView",
            "_dom_classes": [],
            "_model_name": "HBoxModel",
            "_view_module": "@jupyter-widgets/controls",
            "_model_module_version": "1.5.0",
            "_view_count": null,
            "_view_module_version": "1.5.0",
            "box_style": "",
            "layout": "IPY_MODEL_557b09aa77fa4fea8185806b214c6373",
            "_model_module": "@jupyter-widgets/controls",
            "children": [
              "IPY_MODEL_2ffb0c9f0b4a442fb1e7ce0fdbf085c6",
              "IPY_MODEL_c6aff73f46c04edda49a2c8f8977bc43"
            ]
          }
        },
        "557b09aa77fa4fea8185806b214c6373": {
          "model_module": "@jupyter-widgets/base",
          "model_name": "LayoutModel",
          "state": {
            "_view_name": "LayoutView",
            "grid_template_rows": null,
            "right": null,
            "justify_content": null,
            "_view_module": "@jupyter-widgets/base",
            "overflow": null,
            "_model_module_version": "1.2.0",
            "_view_count": null,
            "flex_flow": null,
            "width": null,
            "min_width": null,
            "border": null,
            "align_items": null,
            "bottom": null,
            "_model_module": "@jupyter-widgets/base",
            "top": null,
            "grid_column": null,
            "overflow_y": null,
            "overflow_x": null,
            "grid_auto_flow": null,
            "grid_area": null,
            "grid_template_columns": null,
            "flex": null,
            "_model_name": "LayoutModel",
            "justify_items": null,
            "grid_row": null,
            "max_height": null,
            "align_content": null,
            "visibility": null,
            "align_self": null,
            "height": null,
            "min_height": null,
            "padding": null,
            "grid_auto_rows": null,
            "grid_gap": null,
            "max_width": null,
            "order": null,
            "_view_module_version": "1.2.0",
            "grid_template_areas": null,
            "object_position": null,
            "object_fit": null,
            "grid_auto_columns": null,
            "margin": null,
            "display": null,
            "left": null
          }
        },
        "2ffb0c9f0b4a442fb1e7ce0fdbf085c6": {
          "model_module": "@jupyter-widgets/controls",
          "model_name": "IntProgressModel",
          "state": {
            "_view_name": "ProgressView",
            "style": "IPY_MODEL_ab6f14d085744ea9b078c32d54ceef4d",
            "_dom_classes": [],
            "description": "100%",
            "_model_name": "IntProgressModel",
            "bar_style": "success",
            "max": 4000,
            "_view_module": "@jupyter-widgets/controls",
            "_model_module_version": "1.5.0",
            "value": 4000,
            "_view_count": null,
            "_view_module_version": "1.5.0",
            "orientation": "horizontal",
            "min": 0,
            "description_tooltip": null,
            "_model_module": "@jupyter-widgets/controls",
            "layout": "IPY_MODEL_7014394b08fa4b289693bfbbb25df15a"
          }
        },
        "c6aff73f46c04edda49a2c8f8977bc43": {
          "model_module": "@jupyter-widgets/controls",
          "model_name": "HTMLModel",
          "state": {
            "_view_name": "HTMLView",
            "style": "IPY_MODEL_d6fddfdd5411497eb4140d708d5847d9",
            "_dom_classes": [],
            "description": "",
            "_model_name": "HTMLModel",
            "placeholder": "​",
            "_view_module": "@jupyter-widgets/controls",
            "_model_module_version": "1.5.0",
            "value": " 4000/4000 [11:49&lt;00:00,  5.64it/s]",
            "_view_count": null,
            "_view_module_version": "1.5.0",
            "description_tooltip": null,
            "_model_module": "@jupyter-widgets/controls",
            "layout": "IPY_MODEL_6d8eef1db4534a8ea6200c02f9c2b05c"
          }
        },
        "ab6f14d085744ea9b078c32d54ceef4d": {
          "model_module": "@jupyter-widgets/controls",
          "model_name": "ProgressStyleModel",
          "state": {
            "_view_name": "StyleView",
            "_model_name": "ProgressStyleModel",
            "description_width": "initial",
            "_view_module": "@jupyter-widgets/base",
            "_model_module_version": "1.5.0",
            "_view_count": null,
            "_view_module_version": "1.2.0",
            "bar_color": null,
            "_model_module": "@jupyter-widgets/controls"
          }
        },
        "7014394b08fa4b289693bfbbb25df15a": {
          "model_module": "@jupyter-widgets/base",
          "model_name": "LayoutModel",
          "state": {
            "_view_name": "LayoutView",
            "grid_template_rows": null,
            "right": null,
            "justify_content": null,
            "_view_module": "@jupyter-widgets/base",
            "overflow": null,
            "_model_module_version": "1.2.0",
            "_view_count": null,
            "flex_flow": null,
            "width": null,
            "min_width": null,
            "border": null,
            "align_items": null,
            "bottom": null,
            "_model_module": "@jupyter-widgets/base",
            "top": null,
            "grid_column": null,
            "overflow_y": null,
            "overflow_x": null,
            "grid_auto_flow": null,
            "grid_area": null,
            "grid_template_columns": null,
            "flex": null,
            "_model_name": "LayoutModel",
            "justify_items": null,
            "grid_row": null,
            "max_height": null,
            "align_content": null,
            "visibility": null,
            "align_self": null,
            "height": null,
            "min_height": null,
            "padding": null,
            "grid_auto_rows": null,
            "grid_gap": null,
            "max_width": null,
            "order": null,
            "_view_module_version": "1.2.0",
            "grid_template_areas": null,
            "object_position": null,
            "object_fit": null,
            "grid_auto_columns": null,
            "margin": null,
            "display": null,
            "left": null
          }
        },
        "d6fddfdd5411497eb4140d708d5847d9": {
          "model_module": "@jupyter-widgets/controls",
          "model_name": "DescriptionStyleModel",
          "state": {
            "_view_name": "StyleView",
            "_model_name": "DescriptionStyleModel",
            "description_width": "",
            "_view_module": "@jupyter-widgets/base",
            "_model_module_version": "1.5.0",
            "_view_count": null,
            "_view_module_version": "1.2.0",
            "_model_module": "@jupyter-widgets/controls"
          }
        },
        "6d8eef1db4534a8ea6200c02f9c2b05c": {
          "model_module": "@jupyter-widgets/base",
          "model_name": "LayoutModel",
          "state": {
            "_view_name": "LayoutView",
            "grid_template_rows": null,
            "right": null,
            "justify_content": null,
            "_view_module": "@jupyter-widgets/base",
            "overflow": null,
            "_model_module_version": "1.2.0",
            "_view_count": null,
            "flex_flow": null,
            "width": null,
            "min_width": null,
            "border": null,
            "align_items": null,
            "bottom": null,
            "_model_module": "@jupyter-widgets/base",
            "top": null,
            "grid_column": null,
            "overflow_y": null,
            "overflow_x": null,
            "grid_auto_flow": null,
            "grid_area": null,
            "grid_template_columns": null,
            "flex": null,
            "_model_name": "LayoutModel",
            "justify_items": null,
            "grid_row": null,
            "max_height": null,
            "align_content": null,
            "visibility": null,
            "align_self": null,
            "height": null,
            "min_height": null,
            "padding": null,
            "grid_auto_rows": null,
            "grid_gap": null,
            "max_width": null,
            "order": null,
            "_view_module_version": "1.2.0",
            "grid_template_areas": null,
            "object_position": null,
            "object_fit": null,
            "grid_auto_columns": null,
            "margin": null,
            "display": null,
            "left": null
          }
        }
      }
    }
  },
  "cells": [
    {
      "cell_type": "code",
      "metadata": {
        "id": "_3b7kvX5zLp-",
        "colab_type": "code",
        "colab": {}
      },
      "source": [
        "import pandas as pd\n",
        "import numpy as np\n",
        "import matplotlib.pyplot as plt"
      ],
      "execution_count": 0,
      "outputs": []
    },
    {
      "cell_type": "code",
      "metadata": {
        "id": "cSog7lNhLEBc",
        "colab_type": "code",
        "colab": {}
      },
      "source": [
        "# Colab library to upload files to notebook\n",
        "from google.colab import files"
      ],
      "execution_count": 0,
      "outputs": []
    },
    {
      "cell_type": "code",
      "metadata": {
        "id": "XytsGJA21fv_",
        "colab_type": "code",
        "outputId": "53abb917-728e-4975-b380-5d416d78b378",
        "colab": {
          "resources": {
            "http://localhost:8080/nbextensions/google.colab/files.js": {
              "data": "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",
              "ok": true,
              "headers": [
                [
                  "content-type",
                  "application/javascript"
                ]
              ],
              "status": 200,
              "status_text": ""
            }
          },
          "base_uri": "https://localhost:8080/",
          "height": 75
        }
      },
      "source": [
        "#1. Login to your Kaggle account and under “My Account” and navigate to “Create New API Token”.\n",
        "#2. Click the button to download your API token as a json file.\n",
        "#3. Choose here to upload kaggle API key file named kaggle.json.\n",
        "uploaded = files.upload()"
      ],
      "execution_count": 0,
      "outputs": [
        {
          "output_type": "display_data",
          "data": {
            "text/html": [
              "\n",
              "     <input type=\"file\" id=\"files-710aaf5c-edac-4172-a08d-a64638b8d0cc\" name=\"files[]\" multiple disabled />\n",
              "     <output id=\"result-710aaf5c-edac-4172-a08d-a64638b8d0cc\">\n",
              "      Upload widget is only available when the cell has been executed in the\n",
              "      current browser session. Please rerun this cell to enable.\n",
              "      </output>\n",
              "      <script src=\"/nbextensions/google.colab/files.js\"></script> "
            ],
            "text/plain": [
              "<IPython.core.display.HTML object>"
            ]
          },
          "metadata": {
            "tags": []
          }
        },
        {
          "output_type": "stream",
          "text": [
            "Saving kaggle.json to kaggle.json\n"
          ],
          "name": "stdout"
        }
      ]
    },
    {
      "cell_type": "code",
      "metadata": {
        "id": "k1_Mul_Qq2MD",
        "colab_type": "code",
        "outputId": "f7d57d6e-892d-4f97-d48a-6d8e58a63ce6",
        "colab": {
          "base_uri": "https://localhost:8080/",
          "height": 34
        }
      },
      "source": [
        "# Install Kaggle library\n",
        "!pip install -q kaggle\n",
        "!mkdir -p ~/.kaggle\n",
        "!cp kaggle.json ~/.kaggle/\n",
        "!ls ~/.kaggle\n",
        "!chmod 600 /root/.kaggle/kaggle.json "
      ],
      "execution_count": 0,
      "outputs": [
        {
          "output_type": "stream",
          "text": [
            "kaggle.json\n"
          ],
          "name": "stdout"
        }
      ]
    },
    {
      "cell_type": "code",
      "metadata": {
        "id": "l-l12k4tsJkn",
        "colab_type": "code",
        "outputId": "13672f6b-9f3d-4cfe-bba4-747aba7f3832",
        "colab": {
          "base_uri": "https://localhost:8080/",
          "height": 70
        }
      },
      "source": [
        "# Download the NYT comments from kaggle\n",
        "!kaggle datasets download -d aashita/nyt-comments"
      ],
      "execution_count": 0,
      "outputs": [
        {
          "output_type": "stream",
          "text": [
            "Downloading nyt-comments.zip to /content\n",
            " 98% 471M/480M [00:07<00:00, 76.0MB/s]\n",
            "100% 480M/480M [00:07<00:00, 64.3MB/s]\n"
          ],
          "name": "stdout"
        }
      ]
    },
    {
      "cell_type": "code",
      "metadata": {
        "id": "fyRl2vULw4ei",
        "colab_type": "code",
        "colab": {}
      },
      "source": [
        "# Unzip\n",
        "!unzip -q nyt-comments.zip -d nyt-comments/"
      ],
      "execution_count": 0,
      "outputs": []
    },
    {
      "cell_type": "code",
      "metadata": {
        "id": "RBnLyLPuyXPo",
        "colab_type": "code",
        "colab": {}
      },
      "source": [
        "# Keeping our dataset of interest\n",
        "!mv nyt-comments/CommentsApril2017.csv Comments.csv"
      ],
      "execution_count": 0,
      "outputs": []
    },
    {
      "cell_type": "code",
      "metadata": {
        "id": "U9ifx5FY37iv",
        "colab_type": "code",
        "colab": {}
      },
      "source": [
        "# Deleting nyt-comments and nyt-comments.zip \n",
        "!rm -rf nyt-comments\n",
        "!rm nyt-comments.zip\n",
        "!rm kaggle.json"
      ],
      "execution_count": 0,
      "outputs": []
    },
    {
      "cell_type": "markdown",
      "metadata": {
        "id": "otwNeqfx-QcG",
        "colab_type": "text"
      },
      "source": [
        "# 0. USEFUL FUNCTIONS"
      ]
    },
    {
      "cell_type": "markdown",
      "metadata": {
        "id": "4YiCWOTDvJ5N",
        "colab_type": "text"
      },
      "source": [
        "## 0.1 Prepocessing the data"
      ]
    },
    {
      "cell_type": "markdown",
      "metadata": {
        "id": "QXyocLj_0r9N",
        "colab_type": "text"
      },
      "source": [
        "### 0.1.1 Tokenization"
      ]
    },
    {
      "cell_type": "code",
      "metadata": {
        "id": "oVNkNN8KwoYz",
        "colab_type": "code",
        "outputId": "9babeccc-41ee-4b23-82a6-6483c8e60a51",
        "colab": {
          "base_uri": "https://localhost:8080/",
          "height": 52
        }
      },
      "source": [
        "import nltk\n",
        "from gensim.models.phrases import Phrases, Phraser\n",
        "from nltk.tokenize import TreebankWordTokenizer, TweetTokenizer\n",
        "from tqdm import tqdm\n",
        "nltk.download('punkt')\n",
        "sent_detector = nltk.data.load('tokenizers/punkt/english.pickle')\n",
        "\n",
        "def remove_hashtags(tokens):\n",
        "  tokens = map(lambda x: x.replace('#', ''), tokens)\n",
        "  return list(tokens)\n",
        "\n",
        "def remove_url(tokens):\n",
        "  tokens = filter(lambda x: \"http\" not in x, tokens)\n",
        "  return list(tokens)\n",
        "\n",
        "def remove_arroba(tokens):\n",
        "  tokens = filter(lambda x: \"@\" not in x, tokens)\n",
        "  return list(tokens)\n",
        "\n",
        "def remove_html(tokens):\n",
        "  tokens = filter(lambda x: x[0]+x[-1] != '<>', tokens)\n",
        "  return list(tokens)\n",
        "\n",
        "# function to tokenize the full comment\n",
        "def tokenize_fullcomment(corpus):\n",
        "  # we use TweetTokenizer\n",
        "  tokenizer = TweetTokenizer()\n",
        "  tokenized_comments = []\n",
        "  for comment in tqdm(corpus):\n",
        "    tokens = tokenizer.tokenize(comment)\n",
        "    tokens = remove_url(tokens)\n",
        "    tokens = remove_html(tokens)\n",
        "    tokens = remove_arroba(tokens)\n",
        "    tokens = remove_hashtags(tokens)\n",
        "    tokens = list(map(lambda x: x.lower(), tokens))\n",
        "    tokenized_comments.append(tokens)\n",
        "  return tokenized_comments\n",
        "\n",
        "# function to tokenize and keep only the first sentence of each comment\n",
        "def tokenize_firstsentence(corpus):\n",
        "  tokenizer = TreebankWordTokenizer()  \n",
        "  tokenized_sentences = []\n",
        "  for sample in tqdm(corpus):\n",
        "    # keeping only the first sentence of each comment\n",
        "    sentence = sent_detector.tokenize(sample)[0]\n",
        "    tokens = tokenizer.tokenize(sentence)\n",
        "    tokens = remove_url(tokens)\n",
        "    tokens = remove_html(tokens)\n",
        "    tokens = remove_hashtags(tokens)\n",
        "    tokens = remove_arroba(tokens)\n",
        "    tokens = list(map(lambda x: x.lower(), tokens))\n",
        "    tokenized_sentences.append(tokens)\n",
        "  return tokenized_sentences"
      ],
      "execution_count": 0,
      "outputs": [
        {
          "output_type": "stream",
          "text": [
            "[nltk_data] Downloading package punkt to /root/nltk_data...\n",
            "[nltk_data]   Unzipping tokenizers/punkt.zip.\n"
          ],
          "name": "stdout"
        }
      ]
    },
    {
      "cell_type": "markdown",
      "metadata": {
        "id": "pytT0uqK0y2A",
        "colab_type": "text"
      },
      "source": [
        "### 0.1.2. Splitting the datasets"
      ]
    },
    {
      "cell_type": "code",
      "metadata": {
        "id": "iW89i8-L02kz",
        "colab_type": "code",
        "colab": {}
      },
      "source": [
        "from sklearn.model_selection import train_test_split\n",
        "\n",
        "def split_data(X,y):\n",
        "  # creating training set 60% \n",
        "  X_train, X_devtest, y_train, y_devtest = train_test_split(X, y, test_size=0.4, random_state=42)\n",
        "  # creating dev 20% test 20% (hence 50% from the 40%)\n",
        "  X_dev, X_test, y_dev, y_test = train_test_split(X_devtest, y_devtest, test_size=0.5, random_state=42)\n",
        "  return(X_train, X_dev, X_test, y_train, y_dev, y_test)"
      ],
      "execution_count": 0,
      "outputs": []
    },
    {
      "cell_type": "markdown",
      "metadata": {
        "id": "Fbuh0a2-107e",
        "colab_type": "text"
      },
      "source": [
        "### 0.1.3 Vectorizing text and labels"
      ]
    },
    {
      "cell_type": "code",
      "metadata": {
        "id": "S49tpB9a17jK",
        "colab_type": "code",
        "colab": {}
      },
      "source": [
        "from sklearn.feature_extraction.text import CountVectorizer\n",
        "from sklearn import preprocessing\n",
        "\n",
        "def vectorize_text(X_train, X_dev, X_test):\n",
        "  cv_trained = CountVectorizer()\n",
        "  X_train_cv = cv_trained.fit_transform(X_train)\n",
        "  X_dev_cv = cv_trained.transform(X_dev)\n",
        "  X_test_cv = cv_trained.transform(X_test)\n",
        "  return(X_train_cv, X_dev_cv, X_test_cv, cv_trained)\n",
        "\n",
        "def vectorize_label(y_train, y_dev, y_test):\n",
        "  lb = preprocessing.LabelBinarizer()\n",
        "  lb_trained = lb.fit(y_train)\n",
        "  y_train_lb = lb_trained.transform(y_train)\n",
        "  y_dev_lb = lb_trained.transform(y_dev)\n",
        "  y_test_lb = lb_trained.transform(y_test)\n",
        "  return(y_train_lb, y_dev_lb, y_test_lb, lb_trained)"
      ],
      "execution_count": 0,
      "outputs": []
    },
    {
      "cell_type": "markdown",
      "metadata": {
        "id": "xzB8GrMZI3tU",
        "colab_type": "text"
      },
      "source": [
        "### 0.1.4 Complete functions to preprocess the data"
      ]
    },
    {
      "cell_type": "code",
      "metadata": {
        "id": "x1W5G8R5_IWG",
        "colab_type": "code",
        "colab": {}
      },
      "source": [
        "# function to completely preprocess the data\n",
        "def preprocess_data(X,y):\n",
        "  # tokenizing\n",
        "  X = tokenize_fullcomment(X.array)\n",
        "  X = [' '.join(x) for x in X]\n",
        "\n",
        "  # splitting\n",
        "  X_train, X_dev, X_test, y_train, y_dev, y_test = split_data(X,y)\n",
        "\n",
        "  # vectorizing\n",
        "  X_train_cv, X_dev_cv, X_test_cv, cv_trained = vectorize_text(X_train, X_dev, X_test)\n",
        "  y_train_lb, y_dev_lb, y_test_lb, lb_trained = vectorize_label(y_train, y_dev, y_test)\n",
        "\n",
        "  return(X_train_cv, X_dev_cv, X_test_cv, y_train_lb, y_dev_lb, y_test_lb, cv_trained, lb_trained)"
      ],
      "execution_count": 0,
      "outputs": []
    },
    {
      "cell_type": "code",
      "metadata": {
        "id": "WpdCCkRGI81o",
        "colab_type": "code",
        "colab": {}
      },
      "source": [
        "# function to completely preprocess already splitted datasets\n",
        "def preprocess_splitteddata(X_train,X_dev,X_test,y_train,y_dev,y_test):\n",
        "  # tokenizing\n",
        "  X_train = tokenize_fullcomment(X_train.array)\n",
        "  X_test = tokenize_fullcomment(X_test.array)\n",
        "  X_dev = tokenize_fullcomment(X_dev.array)\n",
        "  X_train = [' '.join(x) for x in X_train]\n",
        "  X_test = [' '.join(x) for x in X_test]\n",
        "  X_dev = [' '.join(x) for x in X_dev]\n",
        "\n",
        "  # vectorizing\n",
        "  X_train_cv, X_dev_cv, X_test_cv, cv_trained = vectorize_text(X_train, X_dev, X_test)\n",
        "  y_train_lb, y_dev_lb, y_test_lb, lb_trained = vectorize_label(y_train, y_dev, y_test)\n",
        "\n",
        "  return(X_train_cv, X_dev_cv, X_test_cv, y_train_lb, y_dev_lb, y_test_lb, cv_trained, lb_trained)"
      ],
      "execution_count": 0,
      "outputs": []
    },
    {
      "cell_type": "markdown",
      "metadata": {
        "id": "Ig54i9CbvZN_",
        "colab_type": "text"
      },
      "source": [
        "## 0.2 Predicting sentiments"
      ]
    },
    {
      "cell_type": "markdown",
      "metadata": {
        "id": "sDrD4_Oy68tI",
        "colab_type": "text"
      },
      "source": [
        "### 0.2.1 Predicting with SVM"
      ]
    },
    {
      "cell_type": "code",
      "metadata": {
        "id": "dSS90-q-62gX",
        "colab_type": "code",
        "colab": {}
      },
      "source": [
        "from sklearn.multiclass import OneVsRestClassifier\n",
        "from sklearn.svm import LinearSVC\n",
        "\n",
        "def predict_svm(X_train_cv, y_train_lb, X_dev_cv):\n",
        "  svm = LinearSVC(verbose=1, random_state=42)\n",
        "  clf_svm = OneVsRestClassifier(svm, n_jobs=1 ).fit(X_train_cv.toarray(), y_train_lb)\n",
        "  y_pred_svm = clf_svm.predict(X_dev_cv)\n",
        "  return(y_pred_svm)"
      ],
      "execution_count": 0,
      "outputs": []
    },
    {
      "cell_type": "markdown",
      "metadata": {
        "id": "kxwQ41Ea7XUm",
        "colab_type": "text"
      },
      "source": [
        "### 0.2.2 Predicting with Random Forest"
      ]
    },
    {
      "cell_type": "code",
      "metadata": {
        "id": "eFk5UYQt7c8H",
        "colab_type": "code",
        "colab": {}
      },
      "source": [
        "from sklearn.ensemble import RandomForestClassifier\n",
        "\n",
        "def predict_randomforest(X_train_cv, y_train_lb, X_dev_cv):\n",
        "  rfc = RandomForestClassifier(n_estimators=300, max_depth=None, random_state=42, n_jobs=-1, verbose=1)\n",
        "  rfc.fit(X_train_cv, y_train_lb)\n",
        "  y_pred_rfc = rfc.predict(X_dev_cv)\n",
        "  return(y_pred_rfc)"
      ],
      "execution_count": 0,
      "outputs": []
    },
    {
      "cell_type": "markdown",
      "metadata": {
        "id": "rdiFyI6o76CO",
        "colab_type": "text"
      },
      "source": [
        "### 0.2.3 Evaluating predictions"
      ]
    },
    {
      "cell_type": "code",
      "metadata": {
        "id": "p7NmzPhD75gU",
        "colab_type": "code",
        "outputId": "cd4dd2b9-93b0-417a-e4e5-dfa7ff6558a3",
        "colab": {
          "base_uri": "https://localhost:8080/",
          "height": 72
        }
      },
      "source": [
        "from sklearn.metrics import classification_report, confusion_matrix, roc_curve, auc\n",
        "import matplotlib.pyplot as plt\n",
        "import seaborn as sn\n",
        "\n",
        "def show_eval(y_true, y_pred, lb_trained, labels):\n",
        "  \n",
        "  y_true_names = lb_trained.inverse_transform(y_true)\n",
        "  y_pred_names = lb_trained.inverse_transform(y_pred)\n",
        "  print(\"/n\")\n",
        "  print( classification_report(y_true_names, y_pred_names) )\n",
        "\n",
        "  cm = confusion_matrix(y_true_names, y_pred_names) \n",
        "  df_cm = pd.DataFrame(cm, index=labels, columns=labels)\n",
        "\n",
        "  # config plot sizes\n",
        "  sn.set(font_scale=1.2)\n",
        "  sn.heatmap(df_cm, annot=True, annot_kws={\"size\": 18}, cmap='coolwarm', linewidth=0.5, fmt=\"\")\n",
        "  plt.show()"
      ],
      "execution_count": 0,
      "outputs": [
        {
          "output_type": "stream",
          "text": [
            "/usr/local/lib/python3.6/dist-packages/statsmodels/tools/_testing.py:19: FutureWarning: pandas.util.testing is deprecated. Use the functions in the public API at pandas.testing instead.\n",
            "  import pandas.util.testing as tm\n"
          ],
          "name": "stderr"
        }
      ]
    },
    {
      "cell_type": "markdown",
      "metadata": {
        "id": "U47tUIZhe188",
        "colab_type": "text"
      },
      "source": [
        "# 1. COMMENTS LABELLISATION WITH A DICTIONARY OF SENTIMENTS"
      ]
    },
    {
      "cell_type": "markdown",
      "metadata": {
        "id": "-rYIKC73C27q",
        "colab_type": "text"
      },
      "source": [
        "## 1.1 Positive and negative labelling with opinion_lexicon"
      ]
    },
    {
      "cell_type": "markdown",
      "metadata": {
        "id": "bKecqPlFDLGS",
        "colab_type": "text"
      },
      "source": [
        "*   Downloading comments' dataframe\n",
        "\n",
        "\n"
      ]
    },
    {
      "cell_type": "code",
      "metadata": {
        "colab_type": "code",
        "id": "MLGtaWcI6rM-",
        "outputId": "492867ed-c9b7-4a26-d631-a808c0765e9c",
        "colab": {
          "base_uri": "https://localhost:8080/",
          "height": 72
        }
      },
      "source": [
        "comments = pd.read_csv('Comments.csv')"
      ],
      "execution_count": 0,
      "outputs": [
        {
          "output_type": "stream",
          "text": [
            "/usr/local/lib/python3.6/dist-packages/IPython/core/interactiveshell.py:2718: DtypeWarning: Columns (25,26) have mixed types.Specify dtype option on import or set low_memory=False.\n",
            "  interactivity=interactivity, compiler=compiler, result=result)\n"
          ],
          "name": "stderr"
        }
      ]
    },
    {
      "cell_type": "markdown",
      "metadata": {
        "id": "TG6ga64DDwXk",
        "colab_type": "text"
      },
      "source": [
        "*   Data cleaning\n",
        "\n",
        "We remove all the comments with cell in the column 'sectionName' equals to 'Unknown'.\n",
        "\n"
      ]
    },
    {
      "cell_type": "code",
      "metadata": {
        "colab_type": "code",
        "id": "8JSC_D8F6rND",
        "colab": {}
      },
      "source": [
        "lines = []\n",
        "for i in range(len(comments.sectionName)):\n",
        "  if comments.sectionName[i] == 'Unknown':\n",
        "      lines.append(i)\n",
        "comments.drop(lines, inplace=True)"
      ],
      "execution_count": 0,
      "outputs": []
    },
    {
      "cell_type": "markdown",
      "metadata": {
        "id": "2_8jEF8wEhok",
        "colab_type": "text"
      },
      "source": [
        "*   Creating comments_one\n",
        "\n",
        "We create a new database selecting only the first sentence of the comment."
      ]
    },
    {
      "cell_type": "code",
      "metadata": {
        "id": "flIbr_NK5ox6",
        "colab_type": "code",
        "outputId": "023687d3-67db-411d-ef63-26a1a25b2330",
        "colab": {
          "base_uri": "https://localhost:8080/",
          "height": 140
        }
      },
      "source": [
        "import nltk\n",
        "nltk.download('punkt')\n",
        "sent_detector = nltk.data.load('tokenizers/punkt/english.pickle')\n",
        "sent_detector._params.abbrev_types.add('hon')\n",
        "\n",
        "comments_one = comments.copy()\n",
        "corpus = []\n",
        "for k in comments.index:\n",
        "  corpus = sent_detector.tokenize(comments.commentBody[k])\n",
        "  comments_one.commentBody[k] = corpus[0]"
      ],
      "execution_count": 0,
      "outputs": [
        {
          "output_type": "stream",
          "text": [
            "[nltk_data] Downloading package punkt to /root/nltk_data...\n",
            "[nltk_data]   Package punkt is already up-to-date!\n"
          ],
          "name": "stdout"
        },
        {
          "output_type": "stream",
          "text": [
            "/usr/local/lib/python3.6/dist-packages/ipykernel_launcher.py:10: SettingWithCopyWarning: \n",
            "A value is trying to be set on a copy of a slice from a DataFrame\n",
            "\n",
            "See the caveats in the documentation: https://pandas.pydata.org/pandas-docs/stable/user_guide/indexing.html#returning-a-view-versus-a-copy\n",
            "  # Remove the CWD from sys.path while we load stuff.\n"
          ],
          "name": "stderr"
        }
      ]
    },
    {
      "cell_type": "markdown",
      "metadata": {
        "id": "PMS4Aq5fFM9B",
        "colab_type": "text"
      },
      "source": [
        "*    Importing tokenization packages and dictionaries"
      ]
    },
    {
      "cell_type": "code",
      "metadata": {
        "colab_type": "code",
        "outputId": "12f51f9e-53af-452c-e104-fb0959b900dc",
        "id": "k5uePTVL6rNG",
        "colab": {
          "base_uri": "https://localhost:8080/",
          "height": 52
        }
      },
      "source": [
        "import nltk\n",
        "nltk.download('opinion_lexicon')\n",
        "from nltk.tokenize import treebank\n",
        "from nltk.corpus import opinion_lexicon\n",
        "tokenizer = treebank.TreebankWordTokenizer()\n",
        "\n",
        "pos_dictionary = set(opinion_lexicon.positive())\n",
        "neg_dictionary = set(opinion_lexicon.negative())"
      ],
      "execution_count": 0,
      "outputs": [
        {
          "output_type": "stream",
          "text": [
            "[nltk_data] Downloading package opinion_lexicon to /root/nltk_data...\n",
            "[nltk_data]   Unzipping corpora/opinion_lexicon.zip.\n"
          ],
          "name": "stdout"
        }
      ]
    },
    {
      "cell_type": "markdown",
      "metadata": {
        "id": "zICRJYAyFpjN",
        "colab_type": "text"
      },
      "source": [
        "*   Labelling function\n",
        "\n",
        "The '<', 'br/', '>', '@' are deleted during tokenization.\n",
        "\n",
        "The labels column is called 'sentiment'."
      ]
    },
    {
      "cell_type": "code",
      "metadata": {
        "colab_type": "code",
        "id": "9MreOAZe6rNI",
        "colab": {}
      },
      "source": [
        "def sentiment_count(sentence):\n",
        "  count = 0\n",
        "  words = [word.lower() for word in tokenizer.tokenize(sentence)]\n",
        "  words = [x for x in words if x != ('<' or 'br/' or '<' or '@')]\n",
        "  for k in words:\n",
        "    if k in pos_dictionary:\n",
        "      count += 1\n",
        "    elif k in neg_dictionary:\n",
        "      count -= 1\n",
        "  return count"
      ],
      "execution_count": 0,
      "outputs": []
    },
    {
      "cell_type": "code",
      "metadata": {
        "colab_type": "code",
        "id": "cNSsG3Kf6rNK",
        "colab": {}
      },
      "source": [
        "comments['sentiment'] = comments['commentBody'].apply(sentiment_count)\n",
        "comments_one['sentiment'] = comments_one['commentBody'].apply(sentiment_count)"
      ],
      "execution_count": 0,
      "outputs": []
    },
    {
      "cell_type": "markdown",
      "metadata": {
        "id": "bj4c8rAmGDC-",
        "colab_type": "text"
      },
      "source": [
        "A positive comment is labelled 1 and a negative comment is labelled 0."
      ]
    },
    {
      "cell_type": "code",
      "metadata": {
        "colab_type": "code",
        "outputId": "6b9f6031-7a66-407e-a213-9b01d83f42f1",
        "id": "cT1NvmKC6rNM",
        "colab": {
          "base_uri": "https://localhost:8080/",
          "height": 193
        }
      },
      "source": [
        "for k in comments.index:\n",
        "  if comments['sentiment'][k] > 0:\n",
        "    comments['sentiment'][k] = '1'\n",
        "  else:\n",
        "    comments['sentiment'][k] = '0'"
      ],
      "execution_count": 0,
      "outputs": [
        {
          "output_type": "stream",
          "text": [
            "/usr/local/lib/python3.6/dist-packages/ipykernel_launcher.py:5: SettingWithCopyWarning: \n",
            "A value is trying to be set on a copy of a slice from a DataFrame\n",
            "\n",
            "See the caveats in the documentation: https://pandas.pydata.org/pandas-docs/stable/user_guide/indexing.html#returning-a-view-versus-a-copy\n",
            "  \"\"\"\n",
            "/usr/local/lib/python3.6/dist-packages/ipykernel_launcher.py:3: SettingWithCopyWarning: \n",
            "A value is trying to be set on a copy of a slice from a DataFrame\n",
            "\n",
            "See the caveats in the documentation: https://pandas.pydata.org/pandas-docs/stable/user_guide/indexing.html#returning-a-view-versus-a-copy\n",
            "  This is separate from the ipykernel package so we can avoid doing imports until\n"
          ],
          "name": "stderr"
        }
      ]
    },
    {
      "cell_type": "code",
      "metadata": {
        "id": "4FAn2DapMb7c",
        "colab_type": "code",
        "outputId": "f4f926f6-1fae-4caf-83f6-3de17c09b399",
        "colab": {
          "base_uri": "https://localhost:8080/",
          "height": 193
        }
      },
      "source": [
        "for k in comments_one.index:\n",
        "  if comments_one['sentiment'][k] > 0:\n",
        "    comments_one['sentiment'][k] = '1'\n",
        "  else:\n",
        "    comments_one['sentiment'][k] = '0'"
      ],
      "execution_count": 0,
      "outputs": [
        {
          "output_type": "stream",
          "text": [
            "/usr/local/lib/python3.6/dist-packages/ipykernel_launcher.py:3: SettingWithCopyWarning: \n",
            "A value is trying to be set on a copy of a slice from a DataFrame\n",
            "\n",
            "See the caveats in the documentation: https://pandas.pydata.org/pandas-docs/stable/user_guide/indexing.html#returning-a-view-versus-a-copy\n",
            "  This is separate from the ipykernel package so we can avoid doing imports until\n",
            "/usr/local/lib/python3.6/dist-packages/ipykernel_launcher.py:5: SettingWithCopyWarning: \n",
            "A value is trying to be set on a copy of a slice from a DataFrame\n",
            "\n",
            "See the caveats in the documentation: https://pandas.pydata.org/pandas-docs/stable/user_guide/indexing.html#returning-a-view-versus-a-copy\n",
            "  \"\"\"\n"
          ],
          "name": "stderr"
        }
      ]
    },
    {
      "cell_type": "markdown",
      "metadata": {
        "id": "TZcRqq5WG4Vp",
        "colab_type": "text"
      },
      "source": [
        "*   Selection of comment and label columns\n",
        "\n",
        "The '<', 'br/', '<', '@' are deleted.\n",
        "\n",
        "Characters are lowercase."
      ]
    },
    {
      "cell_type": "code",
      "metadata": {
        "id": "GYmJ-BTt-G-i",
        "colab_type": "code",
        "outputId": "d5d9aad9-9b45-4831-8c24-483ad0cc4e0a",
        "colab": {
          "base_uri": "https://localhost:8080/",
          "height": 492
        }
      },
      "source": [
        "X = comments[[\"commentBody\", \"sentiment\"]]\n",
        "X['commentBody'] = X['commentBody'].str.replace('<br/>', ' ').str.replace('@', '')\n",
        "X['commentBody'] = X['commentBody'].str.lower()\n",
        "X\n",
        "\n",
        "print(X)\n",
        "print(X.shape)"
      ],
      "execution_count": 0,
      "outputs": [
        {
          "output_type": "stream",
          "text": [
            "                                              commentBody  sentiment\n",
            "900     it's not clear that athletic administrators at...          0\n",
            "901     i recognize a hit piece full of carefully word...          0\n",
            "902     the timing of this article is repulsive.  fina...          0\n",
            "903     who cares? it is the strange ncaa structure an...          1\n",
            "904     how are these guys even in the tournament? dis...          0\n",
            "...                                                   ...        ...\n",
            "243772  yes, i had to freeze frame to catch that one, ...          0\n",
            "243773  the best version of that song is by utah phill...          1\n",
            "243774  according to redditor thedrudo it is damon lin...          1\n",
            "243775  is kevin happy? his answer strikes me as sound...          1\n",
            "243776  his explanation seemed like a complete lie to ...          1\n",
            "\n",
            "[105904 rows x 2 columns]\n",
            "(105904, 2)\n"
          ],
          "name": "stdout"
        },
        {
          "output_type": "stream",
          "text": [
            "/usr/local/lib/python3.6/dist-packages/ipykernel_launcher.py:2: SettingWithCopyWarning: \n",
            "A value is trying to be set on a copy of a slice from a DataFrame.\n",
            "Try using .loc[row_indexer,col_indexer] = value instead\n",
            "\n",
            "See the caveats in the documentation: https://pandas.pydata.org/pandas-docs/stable/user_guide/indexing.html#returning-a-view-versus-a-copy\n",
            "  \n",
            "/usr/local/lib/python3.6/dist-packages/ipykernel_launcher.py:3: SettingWithCopyWarning: \n",
            "A value is trying to be set on a copy of a slice from a DataFrame.\n",
            "Try using .loc[row_indexer,col_indexer] = value instead\n",
            "\n",
            "See the caveats in the documentation: https://pandas.pydata.org/pandas-docs/stable/user_guide/indexing.html#returning-a-view-versus-a-copy\n",
            "  This is separate from the ipykernel package so we can avoid doing imports until\n"
          ],
          "name": "stderr"
        }
      ]
    },
    {
      "cell_type": "code",
      "metadata": {
        "id": "ELOfwzVBHn-b",
        "colab_type": "code",
        "outputId": "ec41ab1a-8380-4f58-9608-4761506e566e",
        "colab": {
          "base_uri": "https://localhost:8080/",
          "height": 492
        }
      },
      "source": [
        "X_one = comments_one[[\"commentBody\", \"sentiment\"]]\n",
        "X_one['commentBody'] = X_one['commentBody'].str.replace('<br/>', ' ').str.replace('@', '')\n",
        "X_one['commentBody'] = X_one['commentBody'].str.lower()\n",
        "X_one\n",
        "\n",
        "print(X_one)\n",
        "print(X_one.shape)"
      ],
      "execution_count": 0,
      "outputs": [
        {
          "output_type": "stream",
          "text": [
            "                                              commentBody  sentiment\n",
            "900     it's not clear that athletic administrators at...          1\n",
            "901     i recognize a hit piece full of carefully word...          0\n",
            "902              the timing of this article is repulsive.          0\n",
            "903                                            who cares?          0\n",
            "904     how are these guys even in the tournament? dis...          0\n",
            "...                                                   ...        ...\n",
            "243772  yes, i had to freeze frame to catch that one, ...          0\n",
            "243773  the best version of that song is by utah phill...          1\n",
            "243774  according to redditor thedrudo it is damon lin...          0\n",
            "243775                                    is kevin happy?          1\n",
            "243776  his explanation seemed like a complete lie to me.          0\n",
            "\n",
            "[105904 rows x 2 columns]\n",
            "(105904, 2)\n"
          ],
          "name": "stdout"
        },
        {
          "output_type": "stream",
          "text": [
            "/usr/local/lib/python3.6/dist-packages/ipykernel_launcher.py:2: SettingWithCopyWarning: \n",
            "A value is trying to be set on a copy of a slice from a DataFrame.\n",
            "Try using .loc[row_indexer,col_indexer] = value instead\n",
            "\n",
            "See the caveats in the documentation: https://pandas.pydata.org/pandas-docs/stable/user_guide/indexing.html#returning-a-view-versus-a-copy\n",
            "  \n",
            "/usr/local/lib/python3.6/dist-packages/ipykernel_launcher.py:3: SettingWithCopyWarning: \n",
            "A value is trying to be set on a copy of a slice from a DataFrame.\n",
            "Try using .loc[row_indexer,col_indexer] = value instead\n",
            "\n",
            "See the caveats in the documentation: https://pandas.pydata.org/pandas-docs/stable/user_guide/indexing.html#returning-a-view-versus-a-copy\n",
            "  This is separate from the ipykernel package so we can avoid doing imports until\n"
          ],
          "name": "stderr"
        }
      ]
    },
    {
      "cell_type": "markdown",
      "metadata": {
        "id": "23r-_N04H6aK",
        "colab_type": "text"
      },
      "source": [
        "*    Creating trainset, testset and devtest splitting the dataframes"
      ]
    },
    {
      "cell_type": "code",
      "metadata": {
        "id": "RyD6F01u-r_z",
        "colab_type": "code",
        "colab": {}
      },
      "source": [
        "from sklearn.model_selection import train_test_split\n",
        "\n",
        "train, devtest = train_test_split(X, test_size=0.4, random_state=42)\n",
        "dev, test = train_test_split(devtest, test_size=0.5, random_state=42)\n",
        "\n",
        "train_one, devtest_one = train_test_split(X_one, test_size=0.4, random_state=42)\n",
        "dev_one, test_one = train_test_split(devtest_one, test_size=0.5, random_state=42)"
      ],
      "execution_count": 0,
      "outputs": []
    },
    {
      "cell_type": "markdown",
      "metadata": {
        "id": "UpernkpUIPZI",
        "colab_type": "text"
      },
      "source": [
        "*   Export of the different dataset in .csv format"
      ]
    },
    {
      "cell_type": "code",
      "metadata": {
        "id": "kQX1Kxb7_egb",
        "colab_type": "code",
        "colab": {}
      },
      "source": [
        "from google.colab import files\n",
        "\n",
        "train.to_csv('train.csv', sep='\\t', index=False)\n",
        "dev.to_csv('dev.csv', sep='\\t', index=False)\n",
        "test.to_csv('test.csv', sep='\\t', index=False)\n",
        "\n",
        "train_one.to_csv('train_one.csv', sep='\\t', index=False)\n",
        "dev_one.to_csv('dev_one.csv', sep='\\t', index=False)\n",
        "test_one.to_csv('test_one.csv', sep='\\t', index=False)"
      ],
      "execution_count": 0,
      "outputs": []
    },
    {
      "cell_type": "markdown",
      "metadata": {
        "id": "XDHGMGzFIn2M",
        "colab_type": "text"
      },
      "source": [
        "## 1.2. Sentiment labelling with NRC-emotion-lexicon"
      ]
    },
    {
      "cell_type": "markdown",
      "metadata": {
        "id": "wWGI_dCL7wBw",
        "colab_type": "text"
      },
      "source": [
        "The study is restricted to 20,000 comments, because the labeling with sentiments is rather long. To be changed according to the user's wishes."
      ]
    },
    {
      "cell_type": "code",
      "metadata": {
        "id": "B3QQYMb9-D2y",
        "colab_type": "code",
        "outputId": "8528299d-4f9c-45c7-f452-28d7105e5456",
        "colab": {
          "base_uri": "https://localhost:8080/",
          "height": 72
        }
      },
      "source": [
        "comments = pd.read_csv('Comments.csv')\n",
        "comments = comments[:20000]"
      ],
      "execution_count": 0,
      "outputs": [
        {
          "output_type": "stream",
          "text": [
            "/usr/local/lib/python3.6/dist-packages/IPython/core/interactiveshell.py:2718: DtypeWarning: Columns (25,26) have mixed types.Specify dtype option on import or set low_memory=False.\n",
            "  interactivity=interactivity, compiler=compiler, result=result)\n"
          ],
          "name": "stderr"
        }
      ]
    },
    {
      "cell_type": "markdown",
      "metadata": {
        "colab_type": "text",
        "id": "2A7-EEwx-SQj"
      },
      "source": [
        "*   Data cleaning\n",
        "\n",
        "We remove all the comments with cell in the column 'sectionName' equals to 'Unknown'.\n",
        "\n"
      ]
    },
    {
      "cell_type": "code",
      "metadata": {
        "colab_type": "code",
        "id": "JkqEdZPZ-SQr",
        "colab": {}
      },
      "source": [
        "lines = []\n",
        "for i in range(len(comments.sectionName)):\n",
        "  if comments.sectionName[i] == 'Unknown':\n",
        "      lines.append(i)\n",
        "comments.drop(lines, inplace=True)"
      ],
      "execution_count": 0,
      "outputs": []
    },
    {
      "cell_type": "markdown",
      "metadata": {
        "colab_type": "text",
        "id": "dnlaedpr-SQy"
      },
      "source": [
        "*   Creating comments_one\n",
        "\n",
        "We create a new database selecting only the first sentence of the comment."
      ]
    },
    {
      "cell_type": "code",
      "metadata": {
        "colab_type": "code",
        "outputId": "50a192ad-e785-4b4f-ed1b-c15bdd2fb6c0",
        "id": "Jl5lqu5y-SQz",
        "colab": {
          "base_uri": "https://localhost:8080/",
          "height": 140
        }
      },
      "source": [
        "import nltk\n",
        "nltk.download('punkt')\n",
        "sent_detector = nltk.data.load('tokenizers/punkt/english.pickle')\n",
        "sent_detector._params.abbrev_types.add('hon')\n",
        "\n",
        "comments_one = comments.copy()\n",
        "corpus = []\n",
        "for k in comments.index:\n",
        "  corpus = sent_detector.tokenize(comments.commentBody[k])\n",
        "  comments_one.commentBody[k] = corpus[0]"
      ],
      "execution_count": 0,
      "outputs": [
        {
          "output_type": "stream",
          "text": [
            "[nltk_data] Downloading package punkt to /root/nltk_data...\n",
            "[nltk_data]   Package punkt is already up-to-date!\n"
          ],
          "name": "stdout"
        },
        {
          "output_type": "stream",
          "text": [
            "/usr/local/lib/python3.6/dist-packages/ipykernel_launcher.py:10: SettingWithCopyWarning: \n",
            "A value is trying to be set on a copy of a slice from a DataFrame\n",
            "\n",
            "See the caveats in the documentation: https://pandas.pydata.org/pandas-docs/stable/user_guide/indexing.html#returning-a-view-versus-a-copy\n",
            "  # Remove the CWD from sys.path while we load stuff.\n"
          ],
          "name": "stderr"
        }
      ]
    },
    {
      "cell_type": "markdown",
      "metadata": {
        "colab_type": "text",
        "id": "QOQwnwF4Jayg"
      },
      "source": [
        "*    Importing tokenization packages\n"
      ]
    },
    {
      "cell_type": "code",
      "metadata": {
        "id": "VQx49VbpZarX",
        "colab_type": "code",
        "outputId": "a95d7020-7b39-463a-ac7c-b5f63bcd8a38",
        "colab": {
          "base_uri": "https://localhost:8080/",
          "height": 52
        }
      },
      "source": [
        "import nltk\n",
        "nltk.download('punkt')\n",
        "from tqdm import tqdm_notebook as tqdm\n",
        "from tqdm import trange\n",
        "from nltk import word_tokenize\n",
        "from nltk.stem.snowball import SnowballStemmer"
      ],
      "execution_count": 0,
      "outputs": [
        {
          "output_type": "stream",
          "text": [
            "[nltk_data] Downloading package punkt to /root/nltk_data...\n",
            "[nltk_data]   Package punkt is already up-to-date!\n"
          ],
          "name": "stdout"
        }
      ]
    },
    {
      "cell_type": "markdown",
      "metadata": {
        "id": "ZG7nzR7Kdtgy",
        "colab_type": "text"
      },
      "source": [
        "*   Downloading NRC emotion lexicon"
      ]
    },
    {
      "cell_type": "code",
      "metadata": {
        "id": "sBcDWxJ5dlpq",
        "colab_type": "code",
        "outputId": "09835d95-642b-4de3-90e8-967e0fcf3d4d",
        "colab": {
          "base_uri": "https://localhost:8080/",
          "height": 230
        }
      },
      "source": [
        "!wget 'https://raw.githubusercontent.com/sebastianruder/emotion_proposition_store/master/NRC-Emotion-Lexicon-v0.92/NRC-emotion-lexicon-wordlevel-alphabetized-v0.92.txt'"
      ],
      "execution_count": 0,
      "outputs": [
        {
          "output_type": "stream",
          "text": [
            "--2020-04-12 10:35:09--  https://raw.githubusercontent.com/sebastianruder/emotion_proposition_store/master/NRC-Emotion-Lexicon-v0.92/NRC-emotion-lexicon-wordlevel-alphabetized-v0.92.txt\n",
            "Resolving raw.githubusercontent.com (raw.githubusercontent.com)... 151.101.0.133, 151.101.64.133, 151.101.128.133, ...\n",
            "Connecting to raw.githubusercontent.com (raw.githubusercontent.com)|151.101.0.133|:443... connected.\n",
            "HTTP request sent, awaiting response... 200 OK\n",
            "Length: 2580190 (2.5M) [text/plain]\n",
            "Saving to: ‘NRC-emotion-lexicon-wordlevel-alphabetized-v0.92.txt’\n",
            "\n",
            "\r          NRC-emoti   0%[                    ]       0  --.-KB/s               \rNRC-emotion-lexicon 100%[===================>]   2.46M  --.-KB/s    in 0.03s   \n",
            "\n",
            "2020-04-12 10:35:10 (73.8 MB/s) - ‘NRC-emotion-lexicon-wordlevel-alphabetized-v0.92.txt’ saved [2580190/2580190]\n",
            "\n"
          ],
          "name": "stdout"
        }
      ]
    },
    {
      "cell_type": "markdown",
      "metadata": {
        "id": "B7AuxZz-JiZf",
        "colab_type": "text"
      },
      "source": [
        "*   Labelling function\n",
        "\n",
        "Adds 10 columns to the dataframe for each of the 10 emotions in the NRC Emotion Lexicon ('anger', 'anticipation', 'disgust', 'fear', 'negative', 'positive', 'surprise', 'sadness', 'joy', 'trust'), with each column containing the value of the text in that emotions.\n",
        "\n",
        "The execution of this function can be rather long."
      ]
    },
    {
      "cell_type": "code",
      "metadata": {
        "id": "XE19diR_Jfs4",
        "colab_type": "code",
        "colab": {}
      },
      "source": [
        "def text_emotion(df, column):\n",
        "    new_df = df.copy()\n",
        "    emolex_df = pd.read_csv('NRC-emotion-lexicon-wordlevel-alphabetized-v0.92.txt',\n",
        "                            names=[\"word\", \"emotion\", \"association\"],\n",
        "                            sep='\\t')\n",
        "    emolex_words = emolex_df.pivot_table(index='word', columns='emotion',\n",
        "                                   values='association')\n",
        "    emolex_words = emolex_words.reset_index()\n",
        "    emotions = emolex_words.columns.drop('word')\n",
        "    emo_df = pd.DataFrame(0, index=df.index, columns=emotions)\n",
        "\n",
        "    stemmer = SnowballStemmer(\"english\")\n",
        "\n",
        "\n",
        "    with tqdm(total=len(list(new_df.iterrows()))) as pbar:\n",
        "        for i, row in new_df.iterrows():\n",
        "            pbar.update(1)\n",
        "            document = word_tokenize(new_df.loc[i][column])\n",
        "            for w in document:\n",
        "                w = stemmer.stem(w.lower())\n",
        "                emo_top = emolex_words.head()\n",
        "                emo_score = emolex_words[emolex_words.word == w]\n",
        "                if not emo_score.empty:\n",
        "                    for emotion in list(emotions):\n",
        "                        emo_df.at[i, emotion] += emo_score[emotion]\n",
        "\n",
        "    new_df = pd.concat([new_df, emo_df], axis=1)\n",
        "\n",
        "    return new_df"
      ],
      "execution_count": 0,
      "outputs": []
    },
    {
      "cell_type": "code",
      "metadata": {
        "id": "_SnHrUj1aD2D",
        "colab_type": "code",
        "outputId": "6c9cdd09-8e07-42a6-86e8-426848e22deb",
        "colab": {
          "base_uri": "https://localhost:8080/",
          "height": 169,
          "referenced_widgets": [
            "222e87c6a4a646398eb03aeb4a0cc5c0",
            "a3b686e0d17a47eeac8f91950a36bfc2",
            "f138eda4ef8b48c2beccdf053b9a4be4",
            "40762ffdb0f7437497bfe9b058532608",
            "141b804c444e4224a1f9c217309bfaf2",
            "f9cef49aaad5474e9590f82fb4f15aa1",
            "2e5309f7034e4408831b730cede934ed",
            "949d0b5ef91c496ebc49ac0597f634ce",
            "4f769825f0684e5e9d91b966d679d34d",
            "24a5a234124c4c77906c53873f8bc47d",
            "24412d7eabdf406fbac39a72a5486b67",
            "c81c4c87063a4d51906e4d531af83e42",
            "fdd6ffe8e2bc4198a6d2bbc9e8f2c73e",
            "c9127f1a2f3a48b5ae1078ddcf65a4b0",
            "83ae22b89ce6474e8d25a5bacdba8fcf",
            "f12a98f6b625430cb10861fd765c222c"
          ]
        }
      },
      "source": [
        "comments = text_emotion(comments, 'commentBody')\n",
        "comments_one = text_emotion(comments_one, 'commentBody')"
      ],
      "execution_count": 0,
      "outputs": [
        {
          "output_type": "stream",
          "text": [
            "/usr/local/lib/python3.6/dist-packages/ipykernel_launcher.py:15: TqdmDeprecationWarning: This function will be removed in tqdm==5.0.0\n",
            "Please use `tqdm.notebook.tqdm` instead of `tqdm.tqdm_notebook`\n",
            "  from ipykernel import kernelapp as app\n"
          ],
          "name": "stderr"
        },
        {
          "output_type": "display_data",
          "data": {
            "application/vnd.jupyter.widget-view+json": {
              "model_id": "222e87c6a4a646398eb03aeb4a0cc5c0",
              "version_minor": 0,
              "version_major": 2
            },
            "text/plain": [
              "HBox(children=(IntProgress(value=0, max=10466), HTML(value='')))"
            ]
          },
          "metadata": {
            "tags": []
          }
        },
        {
          "output_type": "stream",
          "text": [
            "\n"
          ],
          "name": "stdout"
        },
        {
          "output_type": "display_data",
          "data": {
            "application/vnd.jupyter.widget-view+json": {
              "model_id": "4f769825f0684e5e9d91b966d679d34d",
              "version_minor": 0,
              "version_major": 2
            },
            "text/plain": [
              "HBox(children=(IntProgress(value=0, max=10466), HTML(value='')))"
            ]
          },
          "metadata": {
            "tags": []
          }
        },
        {
          "output_type": "stream",
          "text": [
            "\n"
          ],
          "name": "stdout"
        }
      ]
    },
    {
      "cell_type": "markdown",
      "metadata": {
        "id": "VfD8uOVSKR5I",
        "colab_type": "text"
      },
      "source": [
        "*   Keeping only four emotions\n",
        "\n",
        "For each comment, a corresponding emotion is selected by selecting the emotion with the highest score.\n"
      ]
    },
    {
      "cell_type": "code",
      "metadata": {
        "id": "LBNkbqfBrEzP",
        "colab_type": "code",
        "colab": {}
      },
      "source": [
        "comments['sentiment'] = comments[['anger', 'anticipation', 'disgust', 'fear', 'negative', 'positive', 'surprise', 'sadness', 'joy', 'trust']].idxmax(axis=1)\n",
        "comments_one['sentiment'] = comments_one[['anger', 'anticipation', 'disgust', 'fear', 'negative', 'positive', 'surprise', 'sadness', 'joy', 'trust']].idxmax(axis=1)"
      ],
      "execution_count": 0,
      "outputs": []
    },
    {
      "cell_type": "markdown",
      "metadata": {
        "id": "JDm7aKJeKlzj",
        "colab_type": "text"
      },
      "source": [
        "For greater clarity and relevance, we group the emotions according to the following diagram:\n",
        "- 'positive' is absorbed by 'joy' ;\n",
        "- 'disgust' and 'surprise' are absorbed by 'anger' ;\n",
        "- 'negative' and 'fear' are absorbed by 'sadness' ;\n",
        "- 'anticipation' is absorbed by 'trust'.\n"
      ]
    },
    {
      "cell_type": "code",
      "metadata": {
        "id": "Tj83y_srtX8E",
        "colab_type": "code",
        "colab": {}
      },
      "source": [
        "comments = comments.replace([\"positive\"],\"joy\")\n",
        "comments = comments.replace([\"disgust\", \"surprise\"],\"anger\")\n",
        "comments = comments.replace([\"negative\", \"fear\"],\"sadness\")\n",
        "comments = comments.replace([\"anticipation\"],\"trust\")\n",
        "\n",
        "comments_one = comments_one.replace([\"positive\"],\"joy\")\n",
        "comments_one = comments_one.replace([\"disgust\", \"surprise\"],\"anger\")\n",
        "comments_one = comments_one.replace([\"negative\", \"fear\"],\"sadness\")\n",
        "comments_one = comments_one.replace([\"anticipation\"],\"trust\")"
      ],
      "execution_count": 0,
      "outputs": []
    },
    {
      "cell_type": "code",
      "metadata": {
        "id": "mnOlF8392ZAk",
        "colab_type": "code",
        "outputId": "ba9a0db4-57b6-4e2c-f9a3-efe92912a997",
        "colab": {
          "base_uri": "https://localhost:8080/",
          "height": 105
        }
      },
      "source": [
        "comments_one.sentiment.value_counts()"
      ],
      "execution_count": 0,
      "outputs": [
        {
          "output_type": "execute_result",
          "data": {
            "text/plain": [
              "anger      4337\n",
              "joy        2231\n",
              "trust      2018\n",
              "sadness    1880\n",
              "Name: sentiment, dtype: int64"
            ]
          },
          "metadata": {
            "tags": []
          },
          "execution_count": 44
        }
      ]
    },
    {
      "cell_type": "code",
      "metadata": {
        "id": "wjCa0bA6nbLa",
        "colab_type": "code",
        "outputId": "c148db79-36e1-4584-9cb0-0870ef09166b",
        "colab": {
          "base_uri": "https://localhost:8080/",
          "height": 105
        }
      },
      "source": [
        "comments.sentiment.value_counts()"
      ],
      "execution_count": 0,
      "outputs": [
        {
          "output_type": "execute_result",
          "data": {
            "text/plain": [
              "joy        3489\n",
              "sadness    2816\n",
              "trust      2199\n",
              "anger      1962\n",
              "Name: sentiment, dtype: int64"
            ]
          },
          "metadata": {
            "tags": []
          },
          "execution_count": 45
        }
      ]
    },
    {
      "cell_type": "markdown",
      "metadata": {
        "colab_type": "text",
        "id": "jk2DZ_WgxWk2"
      },
      "source": [
        "A positive comment is labelled 1 and a negative comment is labelled 0."
      ]
    },
    {
      "cell_type": "code",
      "metadata": {
        "colab_type": "code",
        "outputId": "8ad03fa8-387f-4838-9a01-ae5cb0d58f67",
        "id": "eQ_aeTd6xWk3",
        "colab": {
          "base_uri": "https://localhost:8080/",
          "height": 703
        }
      },
      "source": [
        "for k in comments.index:\n",
        "  if comments['sentiment'][k] == 'anger':\n",
        "    comments['anger'][k] = 1\n",
        "  else:\n",
        "    comments['anger'][k] = 0\n",
        "  if comments['sentiment'][k] == 'sadness':\n",
        "    comments['sadness'][k] = 1\n",
        "  else:\n",
        "    comments['sadness'][k] = 0\n",
        "  if comments['sentiment'][k] == 'trust':\n",
        "    comments['trust'][k] = 1\n",
        "  else:\n",
        "    comments['trust'][k] = 0\n",
        "  if comments['sentiment'][k] == 'joy':\n",
        "    comments['joy'][k] = 1\n",
        "  else:\n",
        "    comments['joy'][k] = 0"
      ],
      "execution_count": 0,
      "outputs": [
        {
          "output_type": "stream",
          "text": [
            "/usr/local/lib/python3.6/dist-packages/ipykernel_launcher.py:5: SettingWithCopyWarning: \n",
            "A value is trying to be set on a copy of a slice from a DataFrame\n",
            "\n",
            "See the caveats in the documentation: https://pandas.pydata.org/pandas-docs/stable/user_guide/indexing.html#returning-a-view-versus-a-copy\n",
            "  \"\"\"\n",
            "/usr/local/lib/python3.6/dist-packages/ipykernel_launcher.py:7: SettingWithCopyWarning: \n",
            "A value is trying to be set on a copy of a slice from a DataFrame\n",
            "\n",
            "See the caveats in the documentation: https://pandas.pydata.org/pandas-docs/stable/user_guide/indexing.html#returning-a-view-versus-a-copy\n",
            "  import sys\n",
            "/usr/local/lib/python3.6/dist-packages/ipykernel_launcher.py:13: SettingWithCopyWarning: \n",
            "A value is trying to be set on a copy of a slice from a DataFrame\n",
            "\n",
            "See the caveats in the documentation: https://pandas.pydata.org/pandas-docs/stable/user_guide/indexing.html#returning-a-view-versus-a-copy\n",
            "  del sys.path[0]\n",
            "/usr/local/lib/python3.6/dist-packages/ipykernel_launcher.py:17: SettingWithCopyWarning: \n",
            "A value is trying to be set on a copy of a slice from a DataFrame\n",
            "\n",
            "See the caveats in the documentation: https://pandas.pydata.org/pandas-docs/stable/user_guide/indexing.html#returning-a-view-versus-a-copy\n",
            "/usr/local/lib/python3.6/dist-packages/ipykernel_launcher.py:9: SettingWithCopyWarning: \n",
            "A value is trying to be set on a copy of a slice from a DataFrame\n",
            "\n",
            "See the caveats in the documentation: https://pandas.pydata.org/pandas-docs/stable/user_guide/indexing.html#returning-a-view-versus-a-copy\n",
            "  if __name__ == '__main__':\n",
            "/usr/local/lib/python3.6/dist-packages/ipykernel_launcher.py:15: SettingWithCopyWarning: \n",
            "A value is trying to be set on a copy of a slice from a DataFrame\n",
            "\n",
            "See the caveats in the documentation: https://pandas.pydata.org/pandas-docs/stable/user_guide/indexing.html#returning-a-view-versus-a-copy\n",
            "  from ipykernel import kernelapp as app\n",
            "/usr/local/lib/python3.6/dist-packages/ipykernel_launcher.py:11: SettingWithCopyWarning: \n",
            "A value is trying to be set on a copy of a slice from a DataFrame\n",
            "\n",
            "See the caveats in the documentation: https://pandas.pydata.org/pandas-docs/stable/user_guide/indexing.html#returning-a-view-versus-a-copy\n",
            "  # This is added back by InteractiveShellApp.init_path()\n",
            "/usr/local/lib/python3.6/dist-packages/ipykernel_launcher.py:3: SettingWithCopyWarning: \n",
            "A value is trying to be set on a copy of a slice from a DataFrame\n",
            "\n",
            "See the caveats in the documentation: https://pandas.pydata.org/pandas-docs/stable/user_guide/indexing.html#returning-a-view-versus-a-copy\n",
            "  This is separate from the ipykernel package so we can avoid doing imports until\n"
          ],
          "name": "stderr"
        }
      ]
    },
    {
      "cell_type": "code",
      "metadata": {
        "id": "OOX0U3_yyNnK",
        "colab_type": "code",
        "outputId": "61d0ee4a-954a-4e03-e0f1-3c5da6d087e0",
        "colab": {
          "base_uri": "https://localhost:8080/",
          "height": 703
        }
      },
      "source": [
        "for k in comments_one.index:\n",
        "  if comments_one['sentiment'][k] == 'anger':\n",
        "    comments_one['anger'][k] = 1\n",
        "  else:\n",
        "    comments_one['anger'][k] = 0\n",
        "  if comments_one['sentiment'][k] == 'sadness':\n",
        "    comments_one['sadness'][k] = 1\n",
        "  else:\n",
        "    comments_one['sadness'][k] = 0\n",
        "  if comments_one['sentiment'][k] == 'trust':\n",
        "    comments_one['trust'][k] = 1\n",
        "  else:\n",
        "    comments_one['trust'][k] = 0\n",
        "  if comments_one['sentiment'][k] == 'joy':\n",
        "    comments_one['joy'][k] = 1\n",
        "  else:\n",
        "    comments_one['joy'][k] = 0"
      ],
      "execution_count": 0,
      "outputs": [
        {
          "output_type": "stream",
          "text": [
            "/usr/local/lib/python3.6/dist-packages/ipykernel_launcher.py:5: SettingWithCopyWarning: \n",
            "A value is trying to be set on a copy of a slice from a DataFrame\n",
            "\n",
            "See the caveats in the documentation: https://pandas.pydata.org/pandas-docs/stable/user_guide/indexing.html#returning-a-view-versus-a-copy\n",
            "  \"\"\"\n",
            "/usr/local/lib/python3.6/dist-packages/ipykernel_launcher.py:7: SettingWithCopyWarning: \n",
            "A value is trying to be set on a copy of a slice from a DataFrame\n",
            "\n",
            "See the caveats in the documentation: https://pandas.pydata.org/pandas-docs/stable/user_guide/indexing.html#returning-a-view-versus-a-copy\n",
            "  import sys\n",
            "/usr/local/lib/python3.6/dist-packages/ipykernel_launcher.py:13: SettingWithCopyWarning: \n",
            "A value is trying to be set on a copy of a slice from a DataFrame\n",
            "\n",
            "See the caveats in the documentation: https://pandas.pydata.org/pandas-docs/stable/user_guide/indexing.html#returning-a-view-versus-a-copy\n",
            "  del sys.path[0]\n",
            "/usr/local/lib/python3.6/dist-packages/ipykernel_launcher.py:17: SettingWithCopyWarning: \n",
            "A value is trying to be set on a copy of a slice from a DataFrame\n",
            "\n",
            "See the caveats in the documentation: https://pandas.pydata.org/pandas-docs/stable/user_guide/indexing.html#returning-a-view-versus-a-copy\n",
            "/usr/local/lib/python3.6/dist-packages/ipykernel_launcher.py:9: SettingWithCopyWarning: \n",
            "A value is trying to be set on a copy of a slice from a DataFrame\n",
            "\n",
            "See the caveats in the documentation: https://pandas.pydata.org/pandas-docs/stable/user_guide/indexing.html#returning-a-view-versus-a-copy\n",
            "  if __name__ == '__main__':\n",
            "/usr/local/lib/python3.6/dist-packages/ipykernel_launcher.py:15: SettingWithCopyWarning: \n",
            "A value is trying to be set on a copy of a slice from a DataFrame\n",
            "\n",
            "See the caveats in the documentation: https://pandas.pydata.org/pandas-docs/stable/user_guide/indexing.html#returning-a-view-versus-a-copy\n",
            "  from ipykernel import kernelapp as app\n",
            "/usr/local/lib/python3.6/dist-packages/ipykernel_launcher.py:11: SettingWithCopyWarning: \n",
            "A value is trying to be set on a copy of a slice from a DataFrame\n",
            "\n",
            "See the caveats in the documentation: https://pandas.pydata.org/pandas-docs/stable/user_guide/indexing.html#returning-a-view-versus-a-copy\n",
            "  # This is added back by InteractiveShellApp.init_path()\n",
            "/usr/local/lib/python3.6/dist-packages/ipykernel_launcher.py:3: SettingWithCopyWarning: \n",
            "A value is trying to be set on a copy of a slice from a DataFrame\n",
            "\n",
            "See the caveats in the documentation: https://pandas.pydata.org/pandas-docs/stable/user_guide/indexing.html#returning-a-view-versus-a-copy\n",
            "  This is separate from the ipykernel package so we can avoid doing imports until\n"
          ],
          "name": "stderr"
        }
      ]
    },
    {
      "cell_type": "markdown",
      "metadata": {
        "colab_type": "text",
        "id": "ynpNoLwOL3tt"
      },
      "source": [
        "*   Selection of comment and label columns\n",
        "\n",
        "The '<', 'br/', '<', '@' are deleted.\n",
        "\n",
        "Characters are lowercase."
      ]
    },
    {
      "cell_type": "code",
      "metadata": {
        "colab_type": "code",
        "outputId": "c12ec2e2-6feb-462a-b97f-4ec3bf4fe7d6",
        "id": "WI8nP3IYL3t1",
        "colab": {
          "base_uri": "https://localhost:8080/",
          "height": 492
        }
      },
      "source": [
        "X = comments[[\"commentBody\", \"anger\", \"sadness\", \"trust\", \"joy\"]]\n",
        "X['commentBody'] = X['commentBody'].str.replace('<br/>', ' ').str.replace('@', '')\n",
        "X['commentBody'] = X['commentBody'].str.lower()\n",
        "X\n",
        "\n",
        "print(X)\n",
        "print(X.shape)"
      ],
      "execution_count": 0,
      "outputs": [
        {
          "output_type": "stream",
          "text": [
            "                                             commentBody  anger  ...  trust  joy\n",
            "900    it's not clear that athletic administrators at...      0  ...      0    0\n",
            "901    i recognize a hit piece full of carefully word...      0  ...      0    1\n",
            "902    the timing of this article is repulsive.  fina...      0  ...      1    0\n",
            "903    who cares? it is the strange ncaa structure an...      0  ...      1    0\n",
            "904    how are these guys even in the tournament? dis...      1  ...      0    0\n",
            "...                                                  ...    ...  ...    ...  ...\n",
            "17442  it is the school  that cheated and should be p...      0  ...      0    0\n",
            "17443  michael, you undermine your credibility by ove...      1  ...      0    0\n",
            "17444  what about the players, do the get anything ou...      0  ...      0    0\n",
            "17445  worth the wait. but not the academic cheating ...      0  ...      0    0\n",
            "17446  i agree.  i love carolina.  both of my daughte...      0  ...      1    0\n",
            "\n",
            "[10466 rows x 5 columns]\n",
            "(10466, 5)\n"
          ],
          "name": "stdout"
        },
        {
          "output_type": "stream",
          "text": [
            "/usr/local/lib/python3.6/dist-packages/ipykernel_launcher.py:2: SettingWithCopyWarning: \n",
            "A value is trying to be set on a copy of a slice from a DataFrame.\n",
            "Try using .loc[row_indexer,col_indexer] = value instead\n",
            "\n",
            "See the caveats in the documentation: https://pandas.pydata.org/pandas-docs/stable/user_guide/indexing.html#returning-a-view-versus-a-copy\n",
            "  \n",
            "/usr/local/lib/python3.6/dist-packages/ipykernel_launcher.py:3: SettingWithCopyWarning: \n",
            "A value is trying to be set on a copy of a slice from a DataFrame.\n",
            "Try using .loc[row_indexer,col_indexer] = value instead\n",
            "\n",
            "See the caveats in the documentation: https://pandas.pydata.org/pandas-docs/stable/user_guide/indexing.html#returning-a-view-versus-a-copy\n",
            "  This is separate from the ipykernel package so we can avoid doing imports until\n"
          ],
          "name": "stderr"
        }
      ]
    },
    {
      "cell_type": "code",
      "metadata": {
        "colab_type": "code",
        "id": "a1ighJloL3t9",
        "outputId": "850c188f-3901-4d72-f0e6-6c3200987243",
        "colab": {
          "base_uri": "https://localhost:8080/",
          "height": 492
        }
      },
      "source": [
        "X_one = comments_one[[\"commentBody\", \"anger\", \"sadness\", \"trust\", \"joy\"]]\n",
        "X_one['commentBody'] = X_one['commentBody'].str.replace('<br/>', ' ').str.replace('@', '')\n",
        "X_one['commentBody'] = X_one['commentBody'].str.lower()\n",
        "X_one\n",
        "\n",
        "print(X_one)\n",
        "print(X_one.shape)"
      ],
      "execution_count": 0,
      "outputs": [
        {
          "output_type": "stream",
          "text": [
            "                                             commentBody  anger  ...  trust  joy\n",
            "900    it's not clear that athletic administrators at...      0  ...      0    0\n",
            "901    i recognize a hit piece full of carefully word...      0  ...      0    1\n",
            "902             the timing of this article is repulsive.      0  ...      1    0\n",
            "903                                           who cares?      1  ...      0    0\n",
            "904    how are these guys even in the tournament? dis...      1  ...      0    0\n",
            "...                                                  ...    ...  ...    ...  ...\n",
            "17442  it is the school  that cheated and should be p...      0  ...      0    0\n",
            "17443  michael, you undermine your credibility by ove...      1  ...      0    0\n",
            "17444  what about the players, do the get anything ou...      0  ...      0    0\n",
            "17445                                    worth the wait.      0  ...      1    0\n",
            "17446                                           i agree.      1  ...      0    0\n",
            "\n",
            "[10466 rows x 5 columns]\n",
            "(10466, 5)\n"
          ],
          "name": "stdout"
        },
        {
          "output_type": "stream",
          "text": [
            "/usr/local/lib/python3.6/dist-packages/ipykernel_launcher.py:2: SettingWithCopyWarning: \n",
            "A value is trying to be set on a copy of a slice from a DataFrame.\n",
            "Try using .loc[row_indexer,col_indexer] = value instead\n",
            "\n",
            "See the caveats in the documentation: https://pandas.pydata.org/pandas-docs/stable/user_guide/indexing.html#returning-a-view-versus-a-copy\n",
            "  \n",
            "/usr/local/lib/python3.6/dist-packages/ipykernel_launcher.py:3: SettingWithCopyWarning: \n",
            "A value is trying to be set on a copy of a slice from a DataFrame.\n",
            "Try using .loc[row_indexer,col_indexer] = value instead\n",
            "\n",
            "See the caveats in the documentation: https://pandas.pydata.org/pandas-docs/stable/user_guide/indexing.html#returning-a-view-versus-a-copy\n",
            "  This is separate from the ipykernel package so we can avoid doing imports until\n"
          ],
          "name": "stderr"
        }
      ]
    },
    {
      "cell_type": "markdown",
      "metadata": {
        "colab_type": "text",
        "id": "38NNZNnyL3uB"
      },
      "source": [
        "*    Creating trainset, testset and devtest splitting the dataframes"
      ]
    },
    {
      "cell_type": "code",
      "metadata": {
        "colab_type": "code",
        "id": "NFG7G6xJL3uC",
        "colab": {}
      },
      "source": [
        "from sklearn.model_selection import train_test_split\n",
        "\n",
        "train, devtest = train_test_split(X, test_size=0.4, random_state=42)\n",
        "dev, test = train_test_split(devtest, test_size=0.5, random_state=42)\n",
        "\n",
        "train_one, devtest_one = train_test_split(X_one, test_size=0.4, random_state=42)\n",
        "dev_one, test_one = train_test_split(devtest_one, test_size=0.5, random_state=42)"
      ],
      "execution_count": 0,
      "outputs": []
    },
    {
      "cell_type": "markdown",
      "metadata": {
        "colab_type": "text",
        "id": "-wdb4aCfL3uF"
      },
      "source": [
        "*   Export of the different dataset in .csv format"
      ]
    },
    {
      "cell_type": "code",
      "metadata": {
        "colab_type": "code",
        "id": "VPEurzMfL3uG",
        "colab": {}
      },
      "source": [
        "from google.colab import files\n",
        "\n",
        "train.to_csv('train_sentiment.csv', sep='\\t', index=False)\n",
        "dev.to_csv('dev_sentiment.csv', sep='\\t', index=False)\n",
        "test.to_csv('test_sentiment.csv', sep='\\t', index=False)\n",
        "\n",
        "train_one.to_csv('train_one_sentiment.csv', sep='\\t', index=False)\n",
        "dev_one.to_csv('dev_one_sentiment.csv', sep='\\t', index=False)\n",
        "test_one.to_csv('test_one_sentiment.csv', sep='\\t', index=False)"
      ],
      "execution_count": 0,
      "outputs": []
    },
    {
      "cell_type": "markdown",
      "metadata": {
        "id": "uxSudNOs9_U9",
        "colab_type": "text"
      },
      "source": [
        "# 2. TEXT CLASSIFICATION WITH A DATASET OF LABELLED TWEETS"
      ]
    },
    {
      "cell_type": "markdown",
      "metadata": {
        "id": "FQ66oEprwH_n",
        "colab_type": "text"
      },
      "source": [
        "We need a dataset with labelled comments in order to train our algorithms. We tried different methods to get these labels: the first method was to assign a label to comments thanks to dictionaries, the second one is to use a dataset with labels available online.\n",
        "We chose the following dataset by CrowdFlower of tweets categorised in 13 different emotions."
      ]
    },
    {
      "cell_type": "code",
      "metadata": {
        "id": "VjmkHXQUwKkG",
        "colab_type": "code",
        "colab": {
          "base_uri": "https://localhost:8080/",
          "height": 298
        },
        "outputId": "21ea744c-6740-4854-f806-ed1f74739c5f"
      },
      "source": [
        "!wget http://www.crowdflower.com/wp-content/uploads/2016/07/text_emotion.csv"
      ],
      "execution_count": 54,
      "outputs": [
        {
          "output_type": "stream",
          "text": [
            "--2020-04-12 11:36:13--  http://www.crowdflower.com/wp-content/uploads/2016/07/text_emotion.csv\n",
            "Resolving www.crowdflower.com (www.crowdflower.com)... 50.19.52.239, 34.238.175.195, 54.164.251.168\n",
            "Connecting to www.crowdflower.com (www.crowdflower.com)|50.19.52.239|:80... connected.\n",
            "HTTP request sent, awaiting response... 301 Moved Permanently\n",
            "Location: https://www.figure-eight.com/wp-content/uploads/2016/07/text_emotion.csv [following]\n",
            "--2020-04-12 11:36:13--  https://www.figure-eight.com/wp-content/uploads/2016/07/text_emotion.csv\n",
            "Resolving www.figure-eight.com (www.figure-eight.com)... 54.84.239.168, 54.86.123.68\n",
            "Connecting to www.figure-eight.com (www.figure-eight.com)|54.84.239.168|:443... connected.\n",
            "HTTP request sent, awaiting response... 200 OK\n",
            "Length: 4394791 (4.2M) [application/octet-stream]\n",
            "Saving to: ‘text_emotion.csv’\n",
            "\n",
            "\rtext_emotion.csv      0%[                    ]       0  --.-KB/s               \rtext_emotion.csv      4%[                    ] 210.17K   833KB/s               \rtext_emotion.csv     39%[======>             ]   1.64M  3.62MB/s               \rtext_emotion.csv    100%[===================>]   4.19M  6.82MB/s    in 0.6s    \n",
            "\n",
            "2020-04-12 11:36:14 (6.82 MB/s) - ‘text_emotion.csv’ saved [4394791/4394791]\n",
            "\n"
          ],
          "name": "stdout"
        }
      ]
    },
    {
      "cell_type": "code",
      "metadata": {
        "id": "BYsLnMpJ998S",
        "colab_type": "code",
        "outputId": "f02d9ef4-e5fe-4392-f48f-ca71bdc0b9c8",
        "colab": {
          "base_uri": "https://localhost:8080/",
          "height": 263
        }
      },
      "source": [
        "dfTweets = pd.read_csv('text_emotion.csv')\n",
        "X = dfTweets.content\n",
        "y = dfTweets.sentiment\n",
        "y.value_counts()"
      ],
      "execution_count": 55,
      "outputs": [
        {
          "output_type": "execute_result",
          "data": {
            "text/plain": [
              "neutral       8638\n",
              "worry         8459\n",
              "happiness     5209\n",
              "sadness       5165\n",
              "love          3842\n",
              "surprise      2187\n",
              "fun           1776\n",
              "relief        1526\n",
              "hate          1323\n",
              "empty          827\n",
              "enthusiasm     759\n",
              "boredom        179\n",
              "anger          110\n",
              "Name: sentiment, dtype: int64"
            ]
          },
          "metadata": {
            "tags": []
          },
          "execution_count": 55
        }
      ]
    },
    {
      "cell_type": "code",
      "metadata": {
        "id": "ccKNNK_n-dQ3",
        "colab_type": "code",
        "outputId": "4c9c3359-4763-4f81-ce4f-fe9b0d8094c2",
        "colab": {
          "base_uri": "https://localhost:8080/",
          "height": 102,
          "referenced_widgets": [
            "4c5944752ce443eab2330abac0cdb2e2",
            "11501162abc349f6b0aa74e3407e60bb",
            "016dcea0376b4c0b9de47a177e7ba9b3",
            "d40585f875e94b0f8f225055623fb09e",
            "ee29c227a5ef4fe6b864e440f9d79706",
            "c5c2ddf1164e4135935df31a7c36962d",
            "12f00072118f4aa7802e54a8432cc1be",
            "06a7e8246cdc4a0bba8da7d8ca75fc8f"
          ]
        }
      },
      "source": [
        "# preprocessing the data\n",
        "X_train_cv, X_dev_cv, X_test_cv, y_train_lb, y_dev_lb, y_test_lb, cv_trained, lb_trained = preprocess_data(X,y)"
      ],
      "execution_count": 56,
      "outputs": [
        {
          "output_type": "stream",
          "text": [
            "/usr/local/lib/python3.6/dist-packages/ipykernel_launcher.py:29: TqdmDeprecationWarning: This function will be removed in tqdm==5.0.0\n",
            "Please use `tqdm.notebook.tqdm` instead of `tqdm.tqdm_notebook`\n"
          ],
          "name": "stderr"
        },
        {
          "output_type": "display_data",
          "data": {
            "application/vnd.jupyter.widget-view+json": {
              "model_id": "4c5944752ce443eab2330abac0cdb2e2",
              "version_minor": 0,
              "version_major": 2
            },
            "text/plain": [
              "HBox(children=(IntProgress(value=0, max=40000), HTML(value='')))"
            ]
          },
          "metadata": {
            "tags": []
          }
        },
        {
          "output_type": "stream",
          "text": [
            "\n"
          ],
          "name": "stdout"
        }
      ]
    },
    {
      "cell_type": "code",
      "metadata": {
        "id": "UGHSEA4y_5ms",
        "colab_type": "code",
        "outputId": "83cbe454-b95b-4462-c032-f0f72dbf7726",
        "colab": {
          "base_uri": "https://localhost:8080/",
          "height": 937
        }
      },
      "source": [
        "# predicting the labels and evaluating the predictions\n",
        "y_pred_svm = predict_svm(X_train_cv, y_train_lb, X_dev_cv)\n",
        "labels = ['anger', 'boredom', 'empty','enthusiasm','fun','happiness','hate','love','neutral','relief','sadness','surprise','worry']\n",
        "show_eval(y_dev_lb, y_pred_svm, lb_trained, labels)"
      ],
      "execution_count": 57,
      "outputs": [
        {
          "output_type": "stream",
          "text": [
            "[LibLinear][LibLinear][LibLinear][LibLinear][LibLinear][LibLinear]"
          ],
          "name": "stdout"
        },
        {
          "output_type": "stream",
          "text": [
            "/usr/local/lib/python3.6/dist-packages/sklearn/svm/_base.py:947: ConvergenceWarning: Liblinear failed to converge, increase the number of iterations.\n",
            "  \"the number of iterations.\", ConvergenceWarning)\n"
          ],
          "name": "stderr"
        },
        {
          "output_type": "stream",
          "text": [
            "[LibLinear][LibLinear]"
          ],
          "name": "stdout"
        },
        {
          "output_type": "stream",
          "text": [
            "/usr/local/lib/python3.6/dist-packages/sklearn/svm/_base.py:947: ConvergenceWarning: Liblinear failed to converge, increase the number of iterations.\n",
            "  \"the number of iterations.\", ConvergenceWarning)\n"
          ],
          "name": "stderr"
        },
        {
          "output_type": "stream",
          "text": [
            "[LibLinear]"
          ],
          "name": "stdout"
        },
        {
          "output_type": "stream",
          "text": [
            "/usr/local/lib/python3.6/dist-packages/sklearn/svm/_base.py:947: ConvergenceWarning: Liblinear failed to converge, increase the number of iterations.\n",
            "  \"the number of iterations.\", ConvergenceWarning)\n"
          ],
          "name": "stderr"
        },
        {
          "output_type": "stream",
          "text": [
            "[LibLinear]"
          ],
          "name": "stdout"
        },
        {
          "output_type": "stream",
          "text": [
            "/usr/local/lib/python3.6/dist-packages/sklearn/svm/_base.py:947: ConvergenceWarning: Liblinear failed to converge, increase the number of iterations.\n",
            "  \"the number of iterations.\", ConvergenceWarning)\n"
          ],
          "name": "stderr"
        },
        {
          "output_type": "stream",
          "text": [
            "[LibLinear]"
          ],
          "name": "stdout"
        },
        {
          "output_type": "stream",
          "text": [
            "/usr/local/lib/python3.6/dist-packages/sklearn/svm/_base.py:947: ConvergenceWarning: Liblinear failed to converge, increase the number of iterations.\n",
            "  \"the number of iterations.\", ConvergenceWarning)\n"
          ],
          "name": "stderr"
        },
        {
          "output_type": "stream",
          "text": [
            "[LibLinear][LibLinear]"
          ],
          "name": "stdout"
        },
        {
          "output_type": "stream",
          "text": [
            "/usr/local/lib/python3.6/dist-packages/sklearn/svm/_base.py:947: ConvergenceWarning: Liblinear failed to converge, increase the number of iterations.\n",
            "  \"the number of iterations.\", ConvergenceWarning)\n"
          ],
          "name": "stderr"
        },
        {
          "output_type": "stream",
          "text": [
            "/n\n",
            "              precision    recall  f1-score   support\n",
            "\n",
            "       anger       0.00      0.38      0.01        26\n",
            "     boredom       0.00      0.00      0.00        35\n",
            "       empty       0.02      0.01      0.01       169\n",
            "  enthusiasm       0.02      0.01      0.01       161\n",
            "         fun       0.07      0.04      0.05       320\n",
            "   happiness       0.28      0.16      0.20      1014\n",
            "        hate       0.23      0.15      0.18       255\n",
            "        love       0.38      0.23      0.29       773\n",
            "     neutral       0.32      0.19      0.24      1708\n",
            "      relief       0.07      0.02      0.03       321\n",
            "     sadness       0.30      0.16      0.21      1051\n",
            "    surprise       0.16      0.05      0.07       439\n",
            "       worry       0.36      0.18      0.24      1728\n",
            "\n",
            "    accuracy                           0.16      8000\n",
            "   macro avg       0.17      0.12      0.12      8000\n",
            "weighted avg       0.28      0.16      0.20      8000\n",
            "\n"
          ],
          "name": "stdout"
        },
        {
          "output_type": "display_data",
          "data": {
            "image/png": "[encoded data removed]",
            "text/plain": [
              "<Figure size 432x288 with 2 Axes>"
            ]
          },
          "metadata": {
            "tags": []
          }
        }
      ]
    },
    {
      "cell_type": "markdown",
      "metadata": {
        "id": "aDkIuhYAG6WW",
        "colab_type": "text"
      },
      "source": [
        "We can see that these 13 categories are not relevant because it is hard to distinguish the lines between them. Therefore, we decide to limit the emotions in four categories : *anger*, *sadness*, *trust* et *joy*."
      ]
    },
    {
      "cell_type": "markdown",
      "metadata": {
        "id": "xVwv7n7yvx1C",
        "colab_type": "text"
      },
      "source": [
        "## 2.1 Sentiment analysis with 4 emotions"
      ]
    },
    {
      "cell_type": "code",
      "metadata": {
        "id": "nNga_hCOHXDx",
        "colab_type": "code",
        "outputId": "594f3d3d-7da9-435e-d9d8-f01322afab0f",
        "colab": {
          "base_uri": "https://localhost:8080/",
          "height": 105
        }
      },
      "source": [
        "# limiting sentiments to sadness, anger, trust and joy\n",
        "y = dfTweets.sentiment\n",
        "y = y.replace([\"worry\",\"surprise\"],\"sadness\")\n",
        "y = y.replace([\"boredom\",\"empty\",\"hate\",\"fun\",\"relief\",\"neutral\"],\"anger\")\n",
        "y = y.replace([\"enthusiasm\",\"love\"],\"trust\")\n",
        "y = y.replace([\"happiness\"],\"joy\")\n",
        "y.value_counts()"
      ],
      "execution_count": 58,
      "outputs": [
        {
          "output_type": "execute_result",
          "data": {
            "text/plain": [
              "sadness    15811\n",
              "anger      14379\n",
              "joy         5209\n",
              "trust       4601\n",
              "Name: sentiment, dtype: int64"
            ]
          },
          "metadata": {
            "tags": []
          },
          "execution_count": 58
        }
      ]
    },
    {
      "cell_type": "markdown",
      "metadata": {
        "id": "6QCwXtu7_n55",
        "colab_type": "text"
      },
      "source": [
        "### 2.1.1 Training algotithms with labelled tweets"
      ]
    },
    {
      "cell_type": "code",
      "metadata": {
        "id": "M0UICRTIIre9",
        "colab_type": "code",
        "outputId": "1ca4a396-d2ea-4d79-8ee0-ce8de6e8b78d",
        "colab": {
          "base_uri": "https://localhost:8080/",
          "height": 102,
          "referenced_widgets": [
            "d496c44fc5874d539d07a4092dbee42a",
            "02d8a735434a436c842707b9f4652fb7",
            "f573a87de7bf406d91c15bf39bfae9be",
            "7f3594248dca4b4f8d1b209b023650db",
            "c2c6d4352dd547faa2af689899c3197d",
            "96f34a87c06e4f3bab36c2554e627f39",
            "26a5ee2cf28c4e5b973a92ec07996140",
            "7c3e1e970f50464f87737e845448fc29"
          ]
        }
      },
      "source": [
        "# preprocessing the data\n",
        "X_train_cv, X_dev_cv, X_test_cv, y_train_lb, y_dev_lb, y_test_lb, cv_trained, lb_trained = preprocess_data(X,y)"
      ],
      "execution_count": 59,
      "outputs": [
        {
          "output_type": "stream",
          "text": [
            "/usr/local/lib/python3.6/dist-packages/ipykernel_launcher.py:29: TqdmDeprecationWarning: This function will be removed in tqdm==5.0.0\n",
            "Please use `tqdm.notebook.tqdm` instead of `tqdm.tqdm_notebook`\n"
          ],
          "name": "stderr"
        },
        {
          "output_type": "display_data",
          "data": {
            "application/vnd.jupyter.widget-view+json": {
              "model_id": "d496c44fc5874d539d07a4092dbee42a",
              "version_minor": 0,
              "version_major": 2
            },
            "text/plain": [
              "HBox(children=(IntProgress(value=0, max=40000), HTML(value='')))"
            ]
          },
          "metadata": {
            "tags": []
          }
        },
        {
          "output_type": "stream",
          "text": [
            "\n"
          ],
          "name": "stdout"
        }
      ]
    },
    {
      "cell_type": "code",
      "metadata": {
        "id": "bXu-L4mVIy_7",
        "colab_type": "code",
        "outputId": "8aa07820-8aea-454f-dc4a-13f4351c097f",
        "colab": {
          "base_uri": "https://localhost:8080/",
          "height": 588
        }
      },
      "source": [
        "# predicting the labels and evaluating the predictions\n",
        "y_pred_svm = predict_svm(X_train_cv, y_train_lb, X_dev_cv)\n",
        "labels = ['anger', 'joy', 'sadness','trust']\n",
        "show_eval(y_dev_lb, y_pred_svm, lb_trained, labels)"
      ],
      "execution_count": 60,
      "outputs": [
        {
          "output_type": "stream",
          "text": [
            "[LibLinear][LibLinear]"
          ],
          "name": "stdout"
        },
        {
          "output_type": "stream",
          "text": [
            "/usr/local/lib/python3.6/dist-packages/sklearn/svm/_base.py:947: ConvergenceWarning: Liblinear failed to converge, increase the number of iterations.\n",
            "  \"the number of iterations.\", ConvergenceWarning)\n"
          ],
          "name": "stderr"
        },
        {
          "output_type": "stream",
          "text": [
            "[LibLinear]"
          ],
          "name": "stdout"
        },
        {
          "output_type": "stream",
          "text": [
            "/usr/local/lib/python3.6/dist-packages/sklearn/svm/_base.py:947: ConvergenceWarning: Liblinear failed to converge, increase the number of iterations.\n",
            "  \"the number of iterations.\", ConvergenceWarning)\n"
          ],
          "name": "stderr"
        },
        {
          "output_type": "stream",
          "text": [
            "[LibLinear]"
          ],
          "name": "stdout"
        },
        {
          "output_type": "stream",
          "text": [
            "/usr/local/lib/python3.6/dist-packages/sklearn/svm/_base.py:947: ConvergenceWarning: Liblinear failed to converge, increase the number of iterations.\n",
            "  \"the number of iterations.\", ConvergenceWarning)\n"
          ],
          "name": "stderr"
        },
        {
          "output_type": "stream",
          "text": [
            "/n\n",
            "              precision    recall  f1-score   support\n",
            "\n",
            "       anger       0.41      0.66      0.51      2834\n",
            "         joy       0.30      0.15      0.20      1014\n",
            "     sadness       0.60      0.47      0.52      3218\n",
            "       trust       0.41      0.19      0.26       934\n",
            "\n",
            "    accuracy                           0.46      8000\n",
            "   macro avg       0.43      0.37      0.37      8000\n",
            "weighted avg       0.47      0.46      0.45      8000\n",
            "\n"
          ],
          "name": "stdout"
        },
        {
          "output_type": "display_data",
          "data": {
            "image/png": "[encoded data removed]",
            "text/plain": [
              "<Figure size 432x288 with 2 Axes>"
            ]
          },
          "metadata": {
            "tags": []
          }
        }
      ]
    },
    {
      "cell_type": "markdown",
      "metadata": {
        "id": "IiWnraI5_zPz",
        "colab_type": "text"
      },
      "source": [
        "### 2.1.1 Testing on the annoted comments"
      ]
    },
    {
      "cell_type": "markdown",
      "metadata": {
        "id": "qjT_Qjc11E05",
        "colab_type": "text"
      },
      "source": [
        "We are going to test the predictions of the model on our dataset. For that, we manually annotated 160 comments with the four emotions. We are going to see if the predictions work well on these 160 comments."
      ]
    },
    {
      "cell_type": "code",
      "metadata": {
        "id": "FtX0jEX6Iy4k",
        "colab_type": "code",
        "colab": {
          "base_uri": "https://localhost:8080/",
          "height": 70
        },
        "outputId": "6ea4d4d1-9642-4432-d2b6-3508c033fb47"
      },
      "source": [
        "comments= pd.read_csv('Comments.csv')\n",
        "comments.shape"
      ],
      "execution_count": 61,
      "outputs": [
        {
          "output_type": "stream",
          "text": [
            "/usr/local/lib/python3.6/dist-packages/IPython/core/interactiveshell.py:2718: DtypeWarning: Columns (25,26) have mixed types.Specify dtype option on import or set low_memory=False.\n",
            "  interactivity=interactivity, compiler=compiler, result=result)\n"
          ],
          "name": "stderr"
        },
        {
          "output_type": "execute_result",
          "data": {
            "text/plain": [
              "(243832, 34)"
            ]
          },
          "metadata": {
            "tags": []
          },
          "execution_count": 61
        }
      ]
    },
    {
      "cell_type": "code",
      "metadata": {
        "id": "kpAVeGB9I4fo",
        "colab_type": "code",
        "colab": {
          "base_uri": "https://localhost:8080/",
          "height": 195
        },
        "outputId": "b2dae9fa-9738-4dd4-fb92-a67e4be053b0"
      },
      "source": [
        "# keeping only comments that have the name of the article's section\n",
        "comments = comments[comments['sectionName']!=\"Unknown\"]\n",
        "comments[\"sentiment\"] = np.nan\n",
        "comments = comments[[\"commentBody\",\"sentiment\"]]\n",
        "comments.head()"
      ],
      "execution_count": 62,
      "outputs": [
        {
          "output_type": "execute_result",
          "data": {
            "text/html": [
              "<div>\n",
              "<style scoped>\n",
              "    .dataframe tbody tr th:only-of-type {\n",
              "        vertical-align: middle;\n",
              "    }\n",
              "\n",
              "    .dataframe tbody tr th {\n",
              "        vertical-align: top;\n",
              "    }\n",
              "\n",
              "    .dataframe thead th {\n",
              "        text-align: right;\n",
              "    }\n",
              "</style>\n",
              "<table border=\"1\" class=\"dataframe\">\n",
              "  <thead>\n",
              "    <tr style=\"text-align: right;\">\n",
              "      <th></th>\n",
              "      <th>commentBody</th>\n",
              "      <th>sentiment</th>\n",
              "    </tr>\n",
              "  </thead>\n",
              "  <tbody>\n",
              "    <tr>\n",
              "      <th>900</th>\n",
              "      <td>It's not clear that athletic administrators at...</td>\n",
              "      <td>NaN</td>\n",
              "    </tr>\n",
              "    <tr>\n",
              "      <th>901</th>\n",
              "      <td>I recognize a hit piece full of carefully word...</td>\n",
              "      <td>NaN</td>\n",
              "    </tr>\n",
              "    <tr>\n",
              "      <th>902</th>\n",
              "      <td>The timing of this article is repulsive.  Fina...</td>\n",
              "      <td>NaN</td>\n",
              "    </tr>\n",
              "    <tr>\n",
              "      <th>903</th>\n",
              "      <td>Who cares? It is the strange NCAA structure an...</td>\n",
              "      <td>NaN</td>\n",
              "    </tr>\n",
              "    <tr>\n",
              "      <th>904</th>\n",
              "      <td>How are these guys even in the tournament?&lt;br/...</td>\n",
              "      <td>NaN</td>\n",
              "    </tr>\n",
              "  </tbody>\n",
              "</table>\n",
              "</div>"
            ],
            "text/plain": [
              "                                           commentBody  sentiment\n",
              "900  It's not clear that athletic administrators at...        NaN\n",
              "901  I recognize a hit piece full of carefully word...        NaN\n",
              "902  The timing of this article is repulsive.  Fina...        NaN\n",
              "903  Who cares? It is the strange NCAA structure an...        NaN\n",
              "904  How are these guys even in the tournament?<br/...        NaN"
            ]
          },
          "metadata": {
            "tags": []
          },
          "execution_count": 62
        }
      ]
    },
    {
      "cell_type": "code",
      "metadata": {
        "id": "9Ae_rpxOI6t9",
        "colab_type": "code",
        "colab": {
          "base_uri": "https://localhost:8080/",
          "height": 105
        },
        "outputId": "298f8cb3-e0a9-4fa7-f12e-a3e0f8c9de73"
      },
      "source": [
        "# we code -2 sadness, -1 anger, 1 trust and 2 joy \n",
        "i = 0\n",
        "comments.sentiment.iloc[i+1] = -1\n",
        "comments.sentiment.iloc[i+2] = -1\n",
        "comments.sentiment.iloc[i+3] = -1\n",
        "comments.sentiment.iloc[i+4] = -1\n",
        "comments.sentiment.iloc[i+5] = -1\n",
        "comments.sentiment.iloc[i+6] = -1\n",
        "comments.sentiment.iloc[i+7] = -1\n",
        "comments.sentiment.iloc[i+8] = -1\n",
        "comments.sentiment.iloc[i+9] = -1\n",
        "comments.sentiment.iloc[i+10] = -1\n",
        "\n",
        "i = 10\n",
        "comments.sentiment.iloc[i+1] = -2\n",
        "comments.sentiment.iloc[i+2] = 1\n",
        "comments.sentiment.iloc[i+3] = 1\n",
        "comments.sentiment.iloc[i+4] = 1\n",
        "comments.sentiment.iloc[i+5] = -1\n",
        "comments.sentiment.iloc[i+6] = -2\n",
        "comments.sentiment.iloc[i+7] = -1\n",
        "comments.sentiment.iloc[i+8] = 1\n",
        "comments.sentiment.iloc[i+9] = -1\n",
        "comments.sentiment.iloc[i+10] = -2\n",
        "\n",
        "i = 20\n",
        "comments.sentiment.iloc[i+1] = -1\n",
        "comments.sentiment.iloc[i+2] = -1\n",
        "comments.sentiment.iloc[i+3] = 1\n",
        "comments.sentiment.iloc[i+4] = 1\n",
        "comments.sentiment.iloc[i+5] = -1\n",
        "comments.sentiment.iloc[i+6] = -1\n",
        "comments.sentiment.iloc[i+7] = -2\n",
        "comments.sentiment.iloc[i+8] = 1\n",
        "comments.sentiment.iloc[i+9] = -1\n",
        "comments.sentiment.iloc[i+10] = -1\n",
        "\n",
        "i = 30\n",
        "comments.sentiment.iloc[i+1] = 2\n",
        "comments.sentiment.iloc[i+2] = -1\n",
        "comments.sentiment.iloc[i+3] = -1\n",
        "comments.sentiment.iloc[i+4] = 1\n",
        "comments.sentiment.iloc[i+5] = -1\n",
        "comments.sentiment.iloc[i+6] = -1\n",
        "comments.sentiment.iloc[i+7] = -1\n",
        "comments.sentiment.iloc[i+8] = 2\n",
        "comments.sentiment.iloc[i+9] = -1\n",
        "comments.sentiment.iloc[i+10] = -2\n",
        "\n",
        "i = 1000\n",
        "comments.sentiment.iloc[i+1] = 1\n",
        "comments.sentiment.iloc[i+2] = -1\n",
        "comments.sentiment.iloc[i+3] = -2\n",
        "comments.sentiment.iloc[i+4] = -2\n",
        "comments.sentiment.iloc[i+5] = -1\n",
        "comments.sentiment.iloc[i+6] = 1\n",
        "comments.sentiment.iloc[i+7] = -1\n",
        "comments.sentiment.iloc[i+8] = -1\n",
        "comments.sentiment.iloc[i+9] = 1\n",
        "comments.sentiment.iloc[i+10] = -2\n",
        "\n",
        "i = 1010\n",
        "comments.sentiment.iloc[i+1] = -1\n",
        "comments.sentiment.iloc[i+2] = -2\n",
        "comments.sentiment.iloc[i+3] = -1\n",
        "comments.sentiment.iloc[i+4] = -1\n",
        "comments.sentiment.iloc[i+5] = 1\n",
        "comments.sentiment.iloc[i+6] = -1\n",
        "comments.sentiment.iloc[i+7] = -1\n",
        "comments.sentiment.iloc[i+8] = 1\n",
        "comments.sentiment.iloc[i+9] = -1\n",
        "comments.sentiment.iloc[i+10] = -1\n",
        "\n",
        "i = 1020\n",
        "comments.sentiment.iloc[i+1] = -1\n",
        "comments.sentiment.iloc[i+2] = -1\n",
        "comments.sentiment.iloc[i+3] = -2\n",
        "comments.sentiment.iloc[i+4] = -1\n",
        "comments.sentiment.iloc[i+5] = -2\n",
        "comments.sentiment.iloc[i+6] = -1\n",
        "comments.sentiment.iloc[i+7] = -1\n",
        "comments.sentiment.iloc[i+8] = -1\n",
        "comments.sentiment.iloc[i+9] = -1\n",
        "comments.sentiment.iloc[i+10] = -1\n",
        "\n",
        "i = 1030\n",
        "comments.sentiment.iloc[i+1] = -1\n",
        "comments.sentiment.iloc[i+2] = -1\n",
        "comments.sentiment.iloc[i+3] = -1\n",
        "comments.sentiment.iloc[i+4] = -1\n",
        "comments.sentiment.iloc[i+5] = -1\n",
        "comments.sentiment.iloc[i+6] = -1\n",
        "comments.sentiment.iloc[i+7] = -1\n",
        "comments.sentiment.iloc[i+8] = -1\n",
        "comments.sentiment.iloc[i+9] = -1\n",
        "comments.sentiment.iloc[i+10] = -1\n",
        "\n",
        "i = 50000\n",
        "comments.sentiment.iloc[i+1] = 1\n",
        "comments.sentiment.iloc[i+2] = 1\n",
        "comments.sentiment.iloc[i+3] = 1\n",
        "comments.sentiment.iloc[i+4] = 1\n",
        "comments.sentiment.iloc[i+5] = 1\n",
        "comments.sentiment.iloc[i+6] = 1\n",
        "comments.sentiment.iloc[i+7] = 2\n",
        "comments.sentiment.iloc[i+8] = 1\n",
        "comments.sentiment.iloc[i+9] = 1\n",
        "comments.sentiment.iloc[i+10] = 1\n",
        "\n",
        "i = 50010\n",
        "comments.sentiment.iloc[i+1] = 1\n",
        "comments.sentiment.iloc[i+2] = -2\n",
        "comments.sentiment.iloc[i+3] = -1\n",
        "comments.sentiment.iloc[i+4] = 1\n",
        "comments.sentiment.iloc[i+5] = 2\n",
        "comments.sentiment.iloc[i+6] = -1\n",
        "comments.sentiment.iloc[i+7] = 1\n",
        "comments.sentiment.iloc[i+8] = 1\n",
        "comments.sentiment.iloc[i+9] = -2\n",
        "comments.sentiment.iloc[i+10] = 2\n",
        "\n",
        "i = 55000\n",
        "comments.sentiment.iloc[i+1] = -1\n",
        "comments.sentiment.iloc[i+2] = 1\n",
        "comments.sentiment.iloc[i+3] = -1\n",
        "comments.sentiment.iloc[i+4] = -1\n",
        "comments.sentiment.iloc[i+5] = -1\n",
        "comments.sentiment.iloc[i+6] = -2\n",
        "comments.sentiment.iloc[i+7] = -1\n",
        "comments.sentiment.iloc[i+8] = -1\n",
        "comments.sentiment.iloc[i+9] = -2\n",
        "comments.sentiment.iloc[i+10] = 1\n",
        "\n",
        "i = 55010\n",
        "comments.sentiment.iloc[i+1] = -2\n",
        "comments.sentiment.iloc[i+2] = -1\n",
        "comments.sentiment.iloc[i+3] = -1\n",
        "comments.sentiment.iloc[i+4] = -1\n",
        "comments.sentiment.iloc[i+5] = 1\n",
        "comments.sentiment.iloc[i+6] = 1\n",
        "comments.sentiment.iloc[i+7] = -1\n",
        "comments.sentiment.iloc[i+8] = -1\n",
        "comments.sentiment.iloc[i+9] = -1\n",
        "comments.sentiment.iloc[i+10] = -1\n",
        "\n",
        "i = 80000\n",
        "comments.sentiment.iloc[i+1] = -1\n",
        "comments.sentiment.iloc[i+2] = -1\n",
        "comments.sentiment.iloc[i+3] = 1\n",
        "comments.sentiment.iloc[i+4] = -2\n",
        "comments.sentiment.iloc[i+5] = -1\n",
        "comments.sentiment.iloc[i+6] = 1\n",
        "comments.sentiment.iloc[i+7] = -1\n",
        "comments.sentiment.iloc[i+8] = 2\n",
        "comments.sentiment.iloc[i+9] = -1\n",
        "comments.sentiment.iloc[i+10] = 1\n",
        "\n",
        "i = 80010\n",
        "comments.sentiment.iloc[i+1] = 1\n",
        "comments.sentiment.iloc[i+2] = -1\n",
        "comments.sentiment.iloc[i+3] = -1\n",
        "comments.sentiment.iloc[i+4] = -1\n",
        "comments.sentiment.iloc[i+5] = -1\n",
        "comments.sentiment.iloc[i+6] = -2\n",
        "comments.sentiment.iloc[i+7] = 1\n",
        "comments.sentiment.iloc[i+8] = -1\n",
        "comments.sentiment.iloc[i+9] = 1\n",
        "comments.sentiment.iloc[i+10] = 2\n",
        "\n",
        "i = 100000\n",
        "comments.sentiment.iloc[i+1] = -1\n",
        "comments.sentiment.iloc[i+2] = 1\n",
        "comments.sentiment.iloc[i+3] = 1\n",
        "comments.sentiment.iloc[i+4] = -1\n",
        "comments.sentiment.iloc[i+5] = -1\n",
        "comments.sentiment.iloc[i+6] = -1\n",
        "comments.sentiment.iloc[i+7] = -2\n",
        "comments.sentiment.iloc[i+8] = -1\n",
        "comments.sentiment.iloc[i+9] = -1\n",
        "comments.sentiment.iloc[i+10] = -1\n",
        "\n",
        "i = 100010\n",
        "comments.sentiment.iloc[i+1] = -2\n",
        "comments.sentiment.iloc[i+2] = -2\n",
        "comments.sentiment.iloc[i+3] = -1\n",
        "comments.sentiment.iloc[i+4] = -1\n",
        "comments.sentiment.iloc[i+5] = -1\n",
        "comments.sentiment.iloc[i+6] = -1\n",
        "comments.sentiment.iloc[i+7] = -1\n",
        "comments.sentiment.iloc[i+8] = -1\n",
        "comments.sentiment.iloc[i+9] = -1\n",
        "comments.sentiment.iloc[i+10] = -1"
      ],
      "execution_count": 63,
      "outputs": [
        {
          "output_type": "stream",
          "text": [
            "/usr/local/lib/python3.6/dist-packages/pandas/core/indexing.py:671: SettingWithCopyWarning: \n",
            "A value is trying to be set on a copy of a slice from a DataFrame\n",
            "\n",
            "See the caveats in the documentation: https://pandas.pydata.org/pandas-docs/stable/user_guide/indexing.html#returning-a-view-versus-a-copy\n",
            "  self._setitem_with_indexer(indexer, value)\n"
          ],
          "name": "stderr"
        }
      ]
    },
    {
      "cell_type": "code",
      "metadata": {
        "id": "QzNnw3jf1OQw",
        "colab_type": "code",
        "outputId": "0073cc88-0662-487c-ad2d-64fd2e54bfe1",
        "colab": {
          "base_uri": "https://localhost:8080/",
          "height": 105
        }
      },
      "source": [
        "# keeping only annotated comments\n",
        "dfComments = comments[comments['sentiment'].notna()]\n",
        "comments = dfComments.commentBody\n",
        "sentiments = dfComments.sentiment\n",
        "sentiments = sentiments.replace([-2,-1,1,2],[\"sadness\",\"anger\",\"trust\",\"joy\"])\n",
        "print(sentiments.value_counts())"
      ],
      "execution_count": 64,
      "outputs": [
        {
          "output_type": "stream",
          "text": [
            "anger      94\n",
            "trust      38\n",
            "sadness    21\n",
            "joy         7\n",
            "Name: sentiment, dtype: int64\n"
          ],
          "name": "stdout"
        }
      ]
    },
    {
      "cell_type": "code",
      "metadata": {
        "id": "wwyX1QYw9MUe",
        "colab_type": "code",
        "outputId": "00ceadbe-4938-408a-cd15-32fcfa498c46",
        "colab": {
          "base_uri": "https://localhost:8080/",
          "height": 674,
          "referenced_widgets": [
            "cb8e6c9c54e742dbb9a8b4921281901f",
            "45a9f7ff5bd14fa7af06f7f413bf60df",
            "a00870a8d5024bb6955d806aa5b71f84",
            "4cdb7fb1607d4f2087217174e478322a",
            "fca3c640a19446a9a263b6d30c2fb278",
            "29f065be62054ef682d2df4c376fb370",
            "1773a990d87845f38e2f35b945f89dc0",
            "86fbd3e9944a40ca81396c11b7ed06eb"
          ]
        }
      },
      "source": [
        "# preprocessing the data\n",
        "# for this initial stage we work only with the first sentence of each comment\n",
        "comments = tokenize_firstsentence(comments.array)\n",
        "comments = [' '.join(x) for x in comments]\n",
        "\n",
        "# preprocessing the text\n",
        "comments_cv = cv_trained.transform(comments)\n",
        "# preprocessing the labels\n",
        "sentiments_lb = lb_trained.transform(sentiments)\n",
        "\n",
        "# predicting and evaluating the labels\n",
        "sentiments_svm = predict_svm(X_train_cv, y_train_lb, comments_cv)\n",
        "show_eval(sentiments_lb, sentiments_svm, lb_trained, labels)"
      ],
      "execution_count": 65,
      "outputs": [
        {
          "output_type": "stream",
          "text": [
            "/usr/local/lib/python3.6/dist-packages/ipykernel_launcher.py:43: TqdmDeprecationWarning: This function will be removed in tqdm==5.0.0\n",
            "Please use `tqdm.notebook.tqdm` instead of `tqdm.tqdm_notebook`\n"
          ],
          "name": "stderr"
        },
        {
          "output_type": "display_data",
          "data": {
            "application/vnd.jupyter.widget-view+json": {
              "model_id": "cb8e6c9c54e742dbb9a8b4921281901f",
              "version_minor": 0,
              "version_major": 2
            },
            "text/plain": [
              "HBox(children=(IntProgress(value=0, max=160), HTML(value='')))"
            ]
          },
          "metadata": {
            "tags": []
          }
        },
        {
          "output_type": "stream",
          "text": [
            "\n",
            "[LibLinear][LibLinear]"
          ],
          "name": "stdout"
        },
        {
          "output_type": "stream",
          "text": [
            "/usr/local/lib/python3.6/dist-packages/sklearn/svm/_base.py:947: ConvergenceWarning: Liblinear failed to converge, increase the number of iterations.\n",
            "  \"the number of iterations.\", ConvergenceWarning)\n"
          ],
          "name": "stderr"
        },
        {
          "output_type": "stream",
          "text": [
            "[LibLinear]"
          ],
          "name": "stdout"
        },
        {
          "output_type": "stream",
          "text": [
            "/usr/local/lib/python3.6/dist-packages/sklearn/svm/_base.py:947: ConvergenceWarning: Liblinear failed to converge, increase the number of iterations.\n",
            "  \"the number of iterations.\", ConvergenceWarning)\n"
          ],
          "name": "stderr"
        },
        {
          "output_type": "stream",
          "text": [
            "[LibLinear]"
          ],
          "name": "stdout"
        },
        {
          "output_type": "stream",
          "text": [
            "/usr/local/lib/python3.6/dist-packages/sklearn/svm/_base.py:947: ConvergenceWarning: Liblinear failed to converge, increase the number of iterations.\n",
            "  \"the number of iterations.\", ConvergenceWarning)\n"
          ],
          "name": "stderr"
        },
        {
          "output_type": "stream",
          "text": [
            "/n\n",
            "              precision    recall  f1-score   support\n",
            "\n",
            "       anger       0.54      0.54      0.54        94\n",
            "         joy       0.00      0.00      0.00         7\n",
            "     sadness       0.09      0.24      0.13        21\n",
            "       trust       0.50      0.03      0.05        38\n",
            "\n",
            "    accuracy                           0.36       160\n",
            "   macro avg       0.28      0.20      0.18       160\n",
            "weighted avg       0.45      0.36      0.35       160\n",
            "\n"
          ],
          "name": "stdout"
        },
        {
          "output_type": "display_data",
          "data": {
            "image/png": "[encoded data removed]",
            "text/plain": [
              "<Figure size 432x288 with 2 Axes>"
            ]
          },
          "metadata": {
            "tags": []
          }
        }
      ]
    },
    {
      "cell_type": "markdown",
      "metadata": {
        "id": "zbGwrlBaKSlD",
        "colab_type": "text"
      },
      "source": [
        "The results are not encouraging. Even with only 4 categories, the predictions are confused between them. While we were annotating comments manually, we could see that it was difficult to distinguish sadness from anger, and joy from trust. Therefore, we are going to simplify the sentiment analysis and to reduce the classification to only 2 categories : *positive* and *negative*."
      ]
    },
    {
      "cell_type": "markdown",
      "metadata": {
        "id": "6nsGhv93v7t8",
        "colab_type": "text"
      },
      "source": [
        "## 2.2 Sentiment analysis with positive and negative"
      ]
    },
    {
      "cell_type": "markdown",
      "metadata": {
        "id": "K5mYs3x_FlVs",
        "colab_type": "text"
      },
      "source": [
        "### 2.2.1 Training with labelled tweets"
      ]
    },
    {
      "cell_type": "code",
      "metadata": {
        "id": "BnQzgZTEwC6O",
        "colab_type": "code",
        "outputId": "2aa13510-6733-414b-fc9b-b4ac545a32af",
        "colab": {
          "base_uri": "https://localhost:8080/",
          "height": 70
        }
      },
      "source": [
        "# limiting sentiments to positive and negative\n",
        "y = dfTweets.sentiment\n",
        "y = y.replace([\"neutral\",\"worry\",\"sadness\",\"surprise\",\"hate\",\"empty\",\"boredom\",\"anger\"],\"negative\")\n",
        "y = y.replace([\"happiness\",\"love\",\"fun\",\"relief\",\"enthusiasm\"],\"positive\")\n",
        "y.value_counts()"
      ],
      "execution_count": 66,
      "outputs": [
        {
          "output_type": "execute_result",
          "data": {
            "text/plain": [
              "negative    26888\n",
              "positive    13112\n",
              "Name: sentiment, dtype: int64"
            ]
          },
          "metadata": {
            "tags": []
          },
          "execution_count": 66
        }
      ]
    },
    {
      "cell_type": "code",
      "metadata": {
        "id": "6DnW31OCKnrH",
        "colab_type": "code",
        "outputId": "92ac4952-590e-44cd-f7bf-b77255496b08",
        "colab": {
          "base_uri": "https://localhost:8080/",
          "height": 102,
          "referenced_widgets": [
            "487048b670e44d719243b081aa798d87",
            "c4e4be419f4a4ade82bc2e8cb8327317",
            "9db862c88ca94759a1691d3970ce4521",
            "0ef6d2b7f0bb401daa80d7831f18b79e",
            "572d891967ec44dfbbf1ce1018f9bd3e",
            "15d460b0469d4e679699a694e89a6495",
            "86d765fcc28149599f4758c422c405e6",
            "c400327360f94556bc43bd1cc9b46a2f"
          ]
        }
      },
      "source": [
        "# preprocessing the data\n",
        "X_train_cv, X_dev_cv, X_test_cv, y_train_lb, y_dev_lb, y_test_lb, cv_trained, lb_trained = preprocess_data(X,y)"
      ],
      "execution_count": 67,
      "outputs": [
        {
          "output_type": "stream",
          "text": [
            "/usr/local/lib/python3.6/dist-packages/ipykernel_launcher.py:29: TqdmDeprecationWarning: This function will be removed in tqdm==5.0.0\n",
            "Please use `tqdm.notebook.tqdm` instead of `tqdm.tqdm_notebook`\n"
          ],
          "name": "stderr"
        },
        {
          "output_type": "display_data",
          "data": {
            "application/vnd.jupyter.widget-view+json": {
              "model_id": "487048b670e44d719243b081aa798d87",
              "version_minor": 0,
              "version_major": 2
            },
            "text/plain": [
              "HBox(children=(IntProgress(value=0, max=40000), HTML(value='')))"
            ]
          },
          "metadata": {
            "tags": []
          }
        },
        {
          "output_type": "stream",
          "text": [
            "\n"
          ],
          "name": "stdout"
        }
      ]
    },
    {
      "cell_type": "code",
      "metadata": {
        "id": "-SCQLQW7KqH6",
        "colab_type": "code",
        "outputId": "10cad4bb-8733-463c-ed1c-7928e777a136",
        "colab": {
          "base_uri": "https://localhost:8080/",
          "height": 447
        }
      },
      "source": [
        "# predicting the labels and evaluating the predictions\n",
        "y_pred_svm = predict_svm(X_train_cv, y_train_lb, X_dev_cv)\n",
        "labels = ['negative', 'positive']\n",
        "show_eval(y_dev_lb, y_pred_svm, lb_trained, labels)"
      ],
      "execution_count": 68,
      "outputs": [
        {
          "output_type": "stream",
          "text": [
            "[LibLinear]/n\n",
            "              precision    recall  f1-score   support\n",
            "\n",
            "    negative       0.78      0.82      0.80      5411\n",
            "    positive       0.58      0.51      0.54      2589\n",
            "\n",
            "    accuracy                           0.72      8000\n",
            "   macro avg       0.68      0.66      0.67      8000\n",
            "weighted avg       0.71      0.72      0.71      8000\n",
            "\n"
          ],
          "name": "stdout"
        },
        {
          "output_type": "display_data",
          "data": {
            "image/png": "[encoded data removed]",
            "text/plain": [
              "<Figure size 432x288 with 2 Axes>"
            ]
          },
          "metadata": {
            "tags": []
          }
        }
      ]
    },
    {
      "cell_type": "markdown",
      "metadata": {
        "id": "fQXaaezeFzFW",
        "colab_type": "text"
      },
      "source": [
        "### 2.2.2 Testing on the annoted comments"
      ]
    },
    {
      "cell_type": "code",
      "metadata": {
        "id": "KKSrsn_PF3RX",
        "colab_type": "code",
        "outputId": "ea2362a3-1dec-42e2-b1e2-c2574c815908",
        "colab": {
          "base_uri": "https://localhost:8080/",
          "height": 70
        }
      },
      "source": [
        "# limiting to pos and neg\n",
        "sentiments = sentiments.replace([\"sadness\",\"anger\",\"trust\",\"joy\"],[\"negative\",\"negative\",\"positive\",\"positive\"])\n",
        "print(sentiments.value_counts())"
      ],
      "execution_count": 69,
      "outputs": [
        {
          "output_type": "stream",
          "text": [
            "negative    115\n",
            "positive     45\n",
            "Name: sentiment, dtype: int64\n"
          ],
          "name": "stdout"
        }
      ]
    },
    {
      "cell_type": "code",
      "metadata": {
        "id": "854K-Va_GeMd",
        "colab_type": "code",
        "outputId": "38098572-d816-43f1-be30-a3ff27c47dca",
        "colab": {
          "base_uri": "https://localhost:8080/",
          "height": 452
        }
      },
      "source": [
        "# preprocessing the labels\n",
        "sentiments_lb = lb_trained.transform(sentiments)\n",
        "\n",
        "# predicting and evaluating the labels\n",
        "sentiments_svm = predict_svm(X_train_cv, y_train_lb, comments_cv)\n",
        "show_eval(sentiments_lb, sentiments_svm, lb_trained, labels)"
      ],
      "execution_count": 70,
      "outputs": [
        {
          "output_type": "stream",
          "text": [
            "[LibLinear]/n\n",
            "              precision    recall  f1-score   support\n",
            "\n",
            "    negative       0.72      0.87      0.79       115\n",
            "    positive       0.32      0.16      0.21        45\n",
            "\n",
            "    accuracy                           0.67       160\n",
            "   macro avg       0.52      0.51      0.50       160\n",
            "weighted avg       0.61      0.67      0.63       160\n",
            "\n"
          ],
          "name": "stdout"
        },
        {
          "output_type": "display_data",
          "data": {
            "image/png": "[encoded data removed]",
            "text/plain": [
              "<Figure size 432x288 with 2 Axes>"
            ]
          },
          "metadata": {
            "tags": []
          }
        }
      ]
    },
    {
      "cell_type": "markdown",
      "metadata": {
        "id": "dp-dG5szxGRl",
        "colab_type": "text"
      },
      "source": [
        "We can see that with only 2 categories, it is still difficult to precisely identify positive emotions. The predictions on the tweets are good for detecting negative emotions, but completely confused in front of positive tweets. The results are even worse on our small dataset of annotated comments. The reason might be that we have very few comments, and the proportion of negative comments greatly outnumber the positive ones.  \n",
        "All in all, in regard to our results, we consider that the dataset of labelled tweets is not suitable to train our algorithms for our sentiment analysis."
      ]
    },
    {
      "cell_type": "markdown",
      "metadata": {
        "id": "5l2cdYB6G0Xt",
        "colab_type": "text"
      },
      "source": [
        "# 3. TEXT CLASSIFICATION WITH COMMENTS LABELLED FROM A DICTIONNARY"
      ]
    },
    {
      "cell_type": "markdown",
      "metadata": {
        "id": "sC2mES1ikoXD",
        "colab_type": "text"
      },
      "source": [
        "We are going to use labels created with a dictionary of words. We keep in this part only the first sentence for each comment because we try a simple approach with SVM and Random Forest to predict the emotions. In the next part, we will study the comments as a whole."
      ]
    },
    {
      "cell_type": "markdown",
      "metadata": {
        "id": "0WCVj0ypXe_g",
        "colab_type": "text"
      },
      "source": [
        "## 3.1 Sentiment analysis with 4 emotions"
      ]
    },
    {
      "cell_type": "code",
      "metadata": {
        "id": "Kt4TINvAXlpu",
        "colab_type": "code",
        "outputId": "10cfe3c5-dfbd-4d6f-ed22-3a15fe8f9ef9",
        "colab": {
          "base_uri": "https://localhost:8080/",
          "height": 195
        }
      },
      "source": [
        "train = pd.read_csv('train_one_sentiment.csv', sep = \"\\t\", error_bad_lines=False)\n",
        "test = pd.read_csv('test_one_sentiment.csv', sep = \"\\t\", error_bad_lines=False)\n",
        "dev = pd.read_csv('dev_one_sentiment.csv', sep = \"\\t\", error_bad_lines=False)\n",
        "train.head()"
      ],
      "execution_count": 71,
      "outputs": [
        {
          "output_type": "execute_result",
          "data": {
            "text/html": [
              "<div>\n",
              "<style scoped>\n",
              "    .dataframe tbody tr th:only-of-type {\n",
              "        vertical-align: middle;\n",
              "    }\n",
              "\n",
              "    .dataframe tbody tr th {\n",
              "        vertical-align: top;\n",
              "    }\n",
              "\n",
              "    .dataframe thead th {\n",
              "        text-align: right;\n",
              "    }\n",
              "</style>\n",
              "<table border=\"1\" class=\"dataframe\">\n",
              "  <thead>\n",
              "    <tr style=\"text-align: right;\">\n",
              "      <th></th>\n",
              "      <th>commentBody</th>\n",
              "      <th>anger</th>\n",
              "      <th>sadness</th>\n",
              "      <th>trust</th>\n",
              "      <th>joy</th>\n",
              "    </tr>\n",
              "  </thead>\n",
              "  <tbody>\n",
              "    <tr>\n",
              "      <th>0</th>\n",
              "      <td>i was an athlete in a minor sport at a big ten...</td>\n",
              "      <td>0</td>\n",
              "      <td>0</td>\n",
              "      <td>0</td>\n",
              "      <td>1</td>\n",
              "    </tr>\n",
              "    <tr>\n",
              "      <th>1</th>\n",
              "      <td>republicans do have a mandate, voters gave the...</td>\n",
              "      <td>0</td>\n",
              "      <td>0</td>\n",
              "      <td>0</td>\n",
              "      <td>1</td>\n",
              "    </tr>\n",
              "    <tr>\n",
              "      <th>2</th>\n",
              "      <td>this article has only served to reinforce that...</td>\n",
              "      <td>0</td>\n",
              "      <td>1</td>\n",
              "      <td>0</td>\n",
              "      <td>0</td>\n",
              "    </tr>\n",
              "    <tr>\n",
              "      <th>3</th>\n",
              "      <td>in other words, he followed to the letter the ...</td>\n",
              "      <td>0</td>\n",
              "      <td>0</td>\n",
              "      <td>0</td>\n",
              "      <td>1</td>\n",
              "    </tr>\n",
              "    <tr>\n",
              "      <th>4</th>\n",
              "      <td>great editorial!</td>\n",
              "      <td>1</td>\n",
              "      <td>0</td>\n",
              "      <td>0</td>\n",
              "      <td>0</td>\n",
              "    </tr>\n",
              "  </tbody>\n",
              "</table>\n",
              "</div>"
            ],
            "text/plain": [
              "                                         commentBody  anger  ...  trust  joy\n",
              "0  i was an athlete in a minor sport at a big ten...      0  ...      0    1\n",
              "1  republicans do have a mandate, voters gave the...      0  ...      0    1\n",
              "2  this article has only served to reinforce that...      0  ...      0    0\n",
              "3  in other words, he followed to the letter the ...      0  ...      0    1\n",
              "4                                   great editorial!      1  ...      0    0\n",
              "\n",
              "[5 rows x 5 columns]"
            ]
          },
          "metadata": {
            "tags": []
          },
          "execution_count": 71
        }
      ]
    },
    {
      "cell_type": "code",
      "metadata": {
        "id": "mHdXv1-kconG",
        "colab_type": "code",
        "outputId": "999935f0-be9d-4856-e099-161f5af95306",
        "colab": {
          "base_uri": "https://localhost:8080/",
          "height": 105
        }
      },
      "source": [
        "train[\"sentiment\"] = train[[\"anger\",\"sadness\",\"trust\",\"joy\"]].idxmax(axis=1)\n",
        "test[\"sentiment\"] = test[[\"anger\",\"sadness\",\"trust\",\"joy\"]].idxmax(axis=1)\n",
        "dev[\"sentiment\"] = dev[[\"anger\",\"sadness\",\"trust\",\"joy\"]].idxmax(axis=1)\n",
        "train.sentiment.value_counts()"
      ],
      "execution_count": 73,
      "outputs": [
        {
          "output_type": "execute_result",
          "data": {
            "text/plain": [
              "anger      2573\n",
              "joy        1368\n",
              "trust      1211\n",
              "sadness    1127\n",
              "Name: sentiment, dtype: int64"
            ]
          },
          "metadata": {
            "tags": []
          },
          "execution_count": 73
        }
      ]
    },
    {
      "cell_type": "code",
      "metadata": {
        "id": "c4bgSneRxMN2",
        "colab_type": "code",
        "colab": {}
      },
      "source": [
        "# preparing datasets\n",
        "X_train = train.commentBody\n",
        "X_dev = dev.commentBody\n",
        "X_test = test.commentBody\n",
        "\n",
        "y_train = train.sentiment\n",
        "y_dev = dev.sentiment\n",
        "y_test = test.sentiment"
      ],
      "execution_count": 0,
      "outputs": []
    },
    {
      "cell_type": "code",
      "metadata": {
        "id": "vPCluV5ixRiH",
        "colab_type": "code",
        "outputId": "5aa781a1-9a6a-476b-8870-657fd1e14583",
        "colab": {
          "base_uri": "https://localhost:8080/",
          "height": 201,
          "referenced_widgets": [
            "2d5a0c3ec363435ca06dd19c207174ae",
            "26ebacc69c834312b289eb95b2205d7f",
            "909f809516da4cf3831279d290623f13",
            "8a03c4f997b2409daeba36a50f9a1fe4",
            "3023c6c2c0474e3d8ddcf286a7bbc29f",
            "875e2046a4d8440e87b4e6d0209d3741",
            "fa54887c4f5545cb9f4bd5980f5d482f",
            "7f8227559b0940728779ced61a69d17a",
            "80cd2042bb8848509eb5bfa684157c42",
            "7390ead16828479bb02f4dc867d6da4c",
            "ed69c8c33e914820b35f198f669c4ecf",
            "4366b14917a44432b86e8aeb1e4110c7",
            "3d9a0e31424140f6b6694cd18025ef50",
            "2ce7521dd3ec4af3b0772ab4f472f7f8",
            "29d07e88a6be4d93961399f35a657c44",
            "c58c694609e14c11978ae26a082388fa",
            "12dde9772c5a400c8a46c9808b06e378",
            "04fa57cfd9a54a5591b67bc4be9c581c",
            "3fe6769f910445ff84cc33315541cd8a",
            "6ccd8a6bc0684b7a82a6a9ded7d6239b",
            "f8c65be7da7c49d59e6760c276a0f39b",
            "846399821a0c426ab108707451d95925",
            "e2b20da9d3e14b279e02908ebf309703",
            "cf4aa8f61d1a4930a06d8762394f7064"
          ]
        }
      },
      "source": [
        "# preprocessing\n",
        "X_train_cv, X_dev_cv, X_test_cv, y_train_lb, y_dev_lb, y_test_lb, cv_trained, lb_trained = preprocess_splitteddata(X_train,X_dev,X_test,y_train,y_dev,y_test)"
      ],
      "execution_count": 75,
      "outputs": [
        {
          "output_type": "stream",
          "text": [
            "/usr/local/lib/python3.6/dist-packages/ipykernel_launcher.py:29: TqdmDeprecationWarning: This function will be removed in tqdm==5.0.0\n",
            "Please use `tqdm.notebook.tqdm` instead of `tqdm.tqdm_notebook`\n"
          ],
          "name": "stderr"
        },
        {
          "output_type": "display_data",
          "data": {
            "application/vnd.jupyter.widget-view+json": {
              "model_id": "2d5a0c3ec363435ca06dd19c207174ae",
              "version_minor": 0,
              "version_major": 2
            },
            "text/plain": [
              "HBox(children=(IntProgress(value=0, max=6279), HTML(value='')))"
            ]
          },
          "metadata": {
            "tags": []
          }
        },
        {
          "output_type": "stream",
          "text": [
            "\n"
          ],
          "name": "stdout"
        },
        {
          "output_type": "display_data",
          "data": {
            "application/vnd.jupyter.widget-view+json": {
              "model_id": "80cd2042bb8848509eb5bfa684157c42",
              "version_minor": 0,
              "version_major": 2
            },
            "text/plain": [
              "HBox(children=(IntProgress(value=0, max=2094), HTML(value='')))"
            ]
          },
          "metadata": {
            "tags": []
          }
        },
        {
          "output_type": "stream",
          "text": [
            "\n"
          ],
          "name": "stdout"
        },
        {
          "output_type": "display_data",
          "data": {
            "application/vnd.jupyter.widget-view+json": {
              "model_id": "12dde9772c5a400c8a46c9808b06e378",
              "version_minor": 0,
              "version_major": 2
            },
            "text/plain": [
              "HBox(children=(IntProgress(value=0, max=2093), HTML(value='')))"
            ]
          },
          "metadata": {
            "tags": []
          }
        },
        {
          "output_type": "stream",
          "text": [
            "\n"
          ],
          "name": "stdout"
        }
      ]
    },
    {
      "cell_type": "markdown",
      "metadata": {
        "id": "exe8F1z2k9gk",
        "colab_type": "text"
      },
      "source": [
        "### 3.1.1 Predicting with SVM"
      ]
    },
    {
      "cell_type": "code",
      "metadata": {
        "id": "C85Dj9fcxUQe",
        "colab_type": "code",
        "outputId": "ea74d6e5-a7ec-4ece-9bd9-f27f3e074155",
        "colab": {
          "base_uri": "https://localhost:8080/",
          "height": 482
        }
      },
      "source": [
        "# predicting the labels and evaluating the predictions with SVM\n",
        "y_pred_svm = predict_svm(X_train_cv, y_train_lb, X_dev_cv)\n",
        "labels = ['anger','sadness', 'joy','trust']\n",
        "show_eval(y_dev_lb, y_pred_svm, lb_trained, labels)"
      ],
      "execution_count": 76,
      "outputs": [
        {
          "output_type": "stream",
          "text": [
            "[LibLinear][LibLinear][LibLinear][LibLinear]/n\n",
            "              precision    recall  f1-score   support\n",
            "\n",
            "       anger       0.65      0.92      0.76       852\n",
            "         joy       0.70      0.56      0.62       448\n",
            "     sadness       0.76      0.50      0.61       401\n",
            "       trust       0.69      0.47      0.56       392\n",
            "\n",
            "    accuracy                           0.68      2093\n",
            "   macro avg       0.70      0.61      0.64      2093\n",
            "weighted avg       0.69      0.68      0.67      2093\n",
            "\n"
          ],
          "name": "stdout"
        },
        {
          "output_type": "display_data",
          "data": {
            "image/png": "[encoded data removed]",
            "text/plain": [
              "<Figure size 432x288 with 2 Axes>"
            ]
          },
          "metadata": {
            "tags": []
          }
        }
      ]
    },
    {
      "cell_type": "markdown",
      "metadata": {
        "id": "2OeQg2IWlD6w",
        "colab_type": "text"
      },
      "source": [
        "The results show a good accuracy. We consider that these labels are good enough to be used in our sentiment analysis."
      ]
    },
    {
      "cell_type": "markdown",
      "metadata": {
        "id": "yGOuv-0RlOBN",
        "colab_type": "text"
      },
      "source": [
        "### 3.1.2 Predicting with Random Forest"
      ]
    },
    {
      "cell_type": "code",
      "metadata": {
        "id": "xHu2Ef-vxYEs",
        "colab_type": "code",
        "outputId": "d1767178-27db-4782-cfe0-02a9a206ff45",
        "colab": {
          "base_uri": "https://localhost:8080/",
          "height": 623
        }
      },
      "source": [
        "# predicting the labels and evaluating the predictions with Random Forest\n",
        "y_pred_rfc = predict_randomforest(X_train_cv, y_train_lb, X_dev_cv)\n",
        "labels = ['anger','sadness', 'joy','trust']\n",
        "show_eval(y_dev_lb, y_pred_rfc, lb_trained, labels)"
      ],
      "execution_count": 77,
      "outputs": [
        {
          "output_type": "stream",
          "text": [
            "[Parallel(n_jobs=-1)]: Using backend ThreadingBackend with 2 concurrent workers.\n",
            "[Parallel(n_jobs=-1)]: Done  46 tasks      | elapsed:    2.4s\n",
            "[Parallel(n_jobs=-1)]: Done 196 tasks      | elapsed:   10.0s\n",
            "[Parallel(n_jobs=-1)]: Done 300 out of 300 | elapsed:   15.2s finished\n",
            "[Parallel(n_jobs=2)]: Using backend ThreadingBackend with 2 concurrent workers.\n",
            "[Parallel(n_jobs=2)]: Done  46 tasks      | elapsed:    0.1s\n",
            "[Parallel(n_jobs=2)]: Done 196 tasks      | elapsed:    0.2s\n",
            "[Parallel(n_jobs=2)]: Done 300 out of 300 | elapsed:    0.4s finished\n"
          ],
          "name": "stderr"
        },
        {
          "output_type": "stream",
          "text": [
            "/n\n",
            "              precision    recall  f1-score   support\n",
            "\n",
            "       anger       0.43      1.00      0.60       852\n",
            "         joy       0.93      0.06      0.11       448\n",
            "     sadness       0.89      0.08      0.15       401\n",
            "       trust       0.82      0.14      0.24       392\n",
            "\n",
            "    accuracy                           0.46      2093\n",
            "   macro avg       0.77      0.32      0.28      2093\n",
            "weighted avg       0.70      0.46      0.34      2093\n",
            "\n"
          ],
          "name": "stdout"
        },
        {
          "output_type": "display_data",
          "data": {
            "image/png": "[encoded data removed]",
            "text/plain": [
              "<Figure size 432x288 with 2 Axes>"
            ]
          },
          "metadata": {
            "tags": []
          }
        }
      ]
    },
    {
      "cell_type": "code",
      "metadata": {
        "id": "YrZGnkmrlTHz",
        "colab_type": "code",
        "colab": {
          "base_uri": "https://localhost:8080/",
          "height": 1000
        },
        "outputId": "feac5195-892a-4cee-8b39-1148a192fe79"
      },
      "source": [
        "# optimizing parameters for the Random Forest\n",
        "from sklearn.model_selection import RandomizedSearchCV\n",
        "from scipy.stats import randint\n",
        "\n",
        "forest = RandomForestClassifier(n_jobs=-1, verbose=1)\n",
        "\n",
        "distributions = dict(n_estimators=randint(0, 400), \n",
        "                     max_depth=randint(10, 40),\n",
        "                     min_samples_split = randint(1, 20),\n",
        "                     min_samples_leaf = randint(1, 20))\n",
        "\n",
        "clf = RandomizedSearchCV(forest, distributions, random_state=42, n_iter = 10)\n",
        "search = clf.fit(X_train_cv, y_train_lb)\n",
        "search.best_params_"
      ],
      "execution_count": 78,
      "outputs": [
        {
          "output_type": "stream",
          "text": [
            "[Parallel(n_jobs=-1)]: Using backend LokyBackend with 2 concurrent workers.\n",
            "[Parallel(n_jobs=-1)]: Done  71 out of  71 | elapsed:    1.5s finished\n",
            "[Parallel(n_jobs=2)]: Using backend ThreadingBackend with 2 concurrent workers.\n",
            "[Parallel(n_jobs=2)]: Done  46 tasks      | elapsed:    0.0s\n",
            "[Parallel(n_jobs=2)]: Done  71 out of  71 | elapsed:    0.0s finished\n",
            "[Parallel(n_jobs=-1)]: Using backend LokyBackend with 2 concurrent workers.\n",
            "[Parallel(n_jobs=-1)]: Done  71 out of  71 | elapsed:    0.4s finished\n",
            "[Parallel(n_jobs=2)]: Using backend ThreadingBackend with 2 concurrent workers.\n",
            "[Parallel(n_jobs=2)]: Done  46 tasks      | elapsed:    0.0s\n",
            "[Parallel(n_jobs=2)]: Done  71 out of  71 | elapsed:    0.1s finished\n",
            "[Parallel(n_jobs=-1)]: Using backend LokyBackend with 2 concurrent workers.\n",
            "[Parallel(n_jobs=-1)]: Done  71 out of  71 | elapsed:    0.4s finished\n",
            "[Parallel(n_jobs=2)]: Using backend ThreadingBackend with 2 concurrent workers.\n",
            "[Parallel(n_jobs=2)]: Done  46 tasks      | elapsed:    0.0s\n",
            "[Parallel(n_jobs=2)]: Done  71 out of  71 | elapsed:    0.0s finished\n",
            "[Parallel(n_jobs=-1)]: Using backend LokyBackend with 2 concurrent workers.\n",
            "[Parallel(n_jobs=-1)]: Done  71 out of  71 | elapsed:    0.4s finished\n",
            "[Parallel(n_jobs=2)]: Using backend ThreadingBackend with 2 concurrent workers.\n",
            "[Parallel(n_jobs=2)]: Done  46 tasks      | elapsed:    0.0s\n",
            "[Parallel(n_jobs=2)]: Done  71 out of  71 | elapsed:    0.0s finished\n",
            "[Parallel(n_jobs=-1)]: Using backend LokyBackend with 2 concurrent workers.\n",
            "[Parallel(n_jobs=-1)]: Done  71 out of  71 | elapsed:    0.4s finished\n",
            "[Parallel(n_jobs=2)]: Using backend ThreadingBackend with 2 concurrent workers.\n",
            "[Parallel(n_jobs=2)]: Done  46 tasks      | elapsed:    0.0s\n",
            "[Parallel(n_jobs=2)]: Done  71 out of  71 | elapsed:    0.0s finished\n",
            "[Parallel(n_jobs=-1)]: Using backend LokyBackend with 2 concurrent workers.\n",
            "[Parallel(n_jobs=-1)]: Done 214 out of 214 | elapsed:    2.1s finished\n",
            "[Parallel(n_jobs=2)]: Using backend ThreadingBackend with 2 concurrent workers.\n",
            "[Parallel(n_jobs=2)]: Done  46 tasks      | elapsed:    0.0s\n",
            "[Parallel(n_jobs=2)]: Done 196 tasks      | elapsed:    0.1s\n",
            "[Parallel(n_jobs=2)]: Done 214 out of 214 | elapsed:    0.1s finished\n",
            "[Parallel(n_jobs=-1)]: Using backend LokyBackend with 2 concurrent workers.\n",
            "[Parallel(n_jobs=-1)]: Done 214 out of 214 | elapsed:    2.1s finished\n",
            "[Parallel(n_jobs=2)]: Using backend ThreadingBackend with 2 concurrent workers.\n",
            "[Parallel(n_jobs=2)]: Done  46 tasks      | elapsed:    0.0s\n",
            "[Parallel(n_jobs=2)]: Done 196 tasks      | elapsed:    0.1s\n",
            "[Parallel(n_jobs=2)]: Done 214 out of 214 | elapsed:    0.2s finished\n",
            "[Parallel(n_jobs=-1)]: Using backend LokyBackend with 2 concurrent workers.\n",
            "[Parallel(n_jobs=-1)]: Done 214 out of 214 | elapsed:    2.2s finished\n",
            "[Parallel(n_jobs=2)]: Using backend ThreadingBackend with 2 concurrent workers.\n",
            "[Parallel(n_jobs=2)]: Done  46 tasks      | elapsed:    0.0s\n",
            "[Parallel(n_jobs=2)]: Done 196 tasks      | elapsed:    0.1s\n",
            "[Parallel(n_jobs=2)]: Done 214 out of 214 | elapsed:    0.1s finished\n",
            "[Parallel(n_jobs=-1)]: Using backend LokyBackend with 2 concurrent workers.\n",
            "[Parallel(n_jobs=-1)]: Done 214 out of 214 | elapsed:    2.2s finished\n",
            "[Parallel(n_jobs=2)]: Using backend ThreadingBackend with 2 concurrent workers.\n",
            "[Parallel(n_jobs=2)]: Done  46 tasks      | elapsed:    0.0s\n",
            "[Parallel(n_jobs=2)]: Done 196 tasks      | elapsed:    0.1s\n",
            "[Parallel(n_jobs=2)]: Done 214 out of 214 | elapsed:    0.1s finished\n",
            "[Parallel(n_jobs=-1)]: Using backend LokyBackend with 2 concurrent workers.\n",
            "[Parallel(n_jobs=-1)]: Done 214 out of 214 | elapsed:    2.2s finished\n",
            "[Parallel(n_jobs=2)]: Using backend ThreadingBackend with 2 concurrent workers.\n",
            "[Parallel(n_jobs=2)]: Done  46 tasks      | elapsed:    0.0s\n",
            "[Parallel(n_jobs=2)]: Done 196 tasks      | elapsed:    0.1s\n",
            "[Parallel(n_jobs=2)]: Done 214 out of 214 | elapsed:    0.1s finished\n",
            "[Parallel(n_jobs=-1)]: Using backend LokyBackend with 2 concurrent workers.\n",
            "[Parallel(n_jobs=-1)]: Done 359 out of 359 | elapsed:    2.5s finished\n",
            "[Parallel(n_jobs=2)]: Using backend ThreadingBackend with 2 concurrent workers.\n",
            "[Parallel(n_jobs=2)]: Done  46 tasks      | elapsed:    0.0s\n",
            "[Parallel(n_jobs=2)]: Done 196 tasks      | elapsed:    0.1s\n",
            "[Parallel(n_jobs=2)]: Done 359 out of 359 | elapsed:    0.2s finished\n",
            "[Parallel(n_jobs=-1)]: Using backend LokyBackend with 2 concurrent workers.\n",
            "[Parallel(n_jobs=-1)]: Done 359 out of 359 | elapsed:    2.5s finished\n",
            "[Parallel(n_jobs=2)]: Using backend ThreadingBackend with 2 concurrent workers.\n",
            "[Parallel(n_jobs=2)]: Done  46 tasks      | elapsed:    0.0s\n",
            "[Parallel(n_jobs=2)]: Done 196 tasks      | elapsed:    0.1s\n",
            "[Parallel(n_jobs=2)]: Done 359 out of 359 | elapsed:    0.2s finished\n",
            "[Parallel(n_jobs=-1)]: Using backend LokyBackend with 2 concurrent workers.\n",
            "[Parallel(n_jobs=-1)]: Done 359 out of 359 | elapsed:    2.5s finished\n",
            "[Parallel(n_jobs=2)]: Using backend ThreadingBackend with 2 concurrent workers.\n",
            "[Parallel(n_jobs=2)]: Done  46 tasks      | elapsed:    0.0s\n",
            "[Parallel(n_jobs=2)]: Done 196 tasks      | elapsed:    0.1s\n",
            "[Parallel(n_jobs=2)]: Done 359 out of 359 | elapsed:    0.2s finished\n",
            "[Parallel(n_jobs=-1)]: Using backend LokyBackend with 2 concurrent workers.\n",
            "[Parallel(n_jobs=-1)]: Done 359 out of 359 | elapsed:    2.5s finished\n",
            "[Parallel(n_jobs=2)]: Using backend ThreadingBackend with 2 concurrent workers.\n",
            "[Parallel(n_jobs=2)]: Done  46 tasks      | elapsed:    0.0s\n",
            "[Parallel(n_jobs=2)]: Done 196 tasks      | elapsed:    0.1s\n",
            "[Parallel(n_jobs=2)]: Done 359 out of 359 | elapsed:    0.2s finished\n",
            "[Parallel(n_jobs=-1)]: Using backend LokyBackend with 2 concurrent workers.\n",
            "[Parallel(n_jobs=-1)]: Done 359 out of 359 | elapsed:    2.5s finished\n",
            "[Parallel(n_jobs=2)]: Using backend ThreadingBackend with 2 concurrent workers.\n",
            "[Parallel(n_jobs=2)]: Done  46 tasks      | elapsed:    0.0s\n",
            "[Parallel(n_jobs=2)]: Done 196 tasks      | elapsed:    0.1s\n",
            "[Parallel(n_jobs=2)]: Done 359 out of 359 | elapsed:    0.2s finished\n",
            "[Parallel(n_jobs=-1)]: Using backend LokyBackend with 2 concurrent workers.\n",
            "[Parallel(n_jobs=-1)]: Done 300 tasks      | elapsed:    3.7s\n",
            "[Parallel(n_jobs=-1)]: Done 343 out of 343 | elapsed:    4.2s finished\n",
            "[Parallel(n_jobs=2)]: Using backend ThreadingBackend with 2 concurrent workers.\n",
            "[Parallel(n_jobs=2)]: Done  46 tasks      | elapsed:    0.0s\n",
            "[Parallel(n_jobs=2)]: Done 196 tasks      | elapsed:    0.1s\n",
            "[Parallel(n_jobs=2)]: Done 343 out of 343 | elapsed:    0.2s finished\n",
            "[Parallel(n_jobs=-1)]: Using backend LokyBackend with 2 concurrent workers.\n",
            "[Parallel(n_jobs=-1)]: Done 300 tasks      | elapsed:    3.7s\n",
            "[Parallel(n_jobs=-1)]: Done 343 out of 343 | elapsed:    4.2s finished\n",
            "[Parallel(n_jobs=2)]: Using backend ThreadingBackend with 2 concurrent workers.\n",
            "[Parallel(n_jobs=2)]: Done  46 tasks      | elapsed:    0.0s\n",
            "[Parallel(n_jobs=2)]: Done 196 tasks      | elapsed:    0.1s\n",
            "[Parallel(n_jobs=2)]: Done 343 out of 343 | elapsed:    0.2s finished\n",
            "[Parallel(n_jobs=-1)]: Using backend LokyBackend with 2 concurrent workers.\n",
            "[Parallel(n_jobs=-1)]: Done 300 tasks      | elapsed:    3.7s\n",
            "[Parallel(n_jobs=-1)]: Done 343 out of 343 | elapsed:    4.2s finished\n",
            "[Parallel(n_jobs=2)]: Using backend ThreadingBackend with 2 concurrent workers.\n",
            "[Parallel(n_jobs=2)]: Done  46 tasks      | elapsed:    0.0s\n",
            "[Parallel(n_jobs=2)]: Done 196 tasks      | elapsed:    0.1s\n",
            "[Parallel(n_jobs=2)]: Done 343 out of 343 | elapsed:    0.2s finished\n",
            "[Parallel(n_jobs=-1)]: Using backend LokyBackend with 2 concurrent workers.\n",
            "[Parallel(n_jobs=-1)]: Done 300 tasks      | elapsed:    3.7s\n",
            "[Parallel(n_jobs=-1)]: Done 343 out of 343 | elapsed:    4.3s finished\n",
            "[Parallel(n_jobs=2)]: Using backend ThreadingBackend with 2 concurrent workers.\n",
            "[Parallel(n_jobs=2)]: Done  46 tasks      | elapsed:    0.0s\n",
            "[Parallel(n_jobs=2)]: Done 196 tasks      | elapsed:    0.1s\n",
            "[Parallel(n_jobs=2)]: Done 343 out of 343 | elapsed:    0.2s finished\n",
            "[Parallel(n_jobs=-1)]: Using backend LokyBackend with 2 concurrent workers.\n",
            "[Parallel(n_jobs=-1)]: Done 300 tasks      | elapsed:    3.7s\n",
            "[Parallel(n_jobs=-1)]: Done 343 out of 343 | elapsed:    4.2s finished\n",
            "[Parallel(n_jobs=2)]: Using backend ThreadingBackend with 2 concurrent workers.\n",
            "[Parallel(n_jobs=2)]: Done  46 tasks      | elapsed:    0.0s\n",
            "[Parallel(n_jobs=2)]: Done 196 tasks      | elapsed:    0.1s\n",
            "[Parallel(n_jobs=2)]: Done 343 out of 343 | elapsed:    0.2s finished\n",
            "[Parallel(n_jobs=-1)]: Using backend LokyBackend with 2 concurrent workers.\n",
            "[Parallel(n_jobs=-1)]: Done 191 out of 191 | elapsed:    1.6s finished\n",
            "[Parallel(n_jobs=2)]: Using backend ThreadingBackend with 2 concurrent workers.\n",
            "[Parallel(n_jobs=2)]: Done  46 tasks      | elapsed:    0.0s\n",
            "[Parallel(n_jobs=2)]: Done 191 out of 191 | elapsed:    0.1s finished\n",
            "[Parallel(n_jobs=-1)]: Using backend LokyBackend with 2 concurrent workers.\n",
            "[Parallel(n_jobs=-1)]: Done 191 out of 191 | elapsed:    1.6s finished\n",
            "[Parallel(n_jobs=2)]: Using backend ThreadingBackend with 2 concurrent workers.\n",
            "[Parallel(n_jobs=2)]: Done  46 tasks      | elapsed:    0.0s\n",
            "[Parallel(n_jobs=2)]: Done 191 out of 191 | elapsed:    0.1s finished\n",
            "[Parallel(n_jobs=-1)]: Using backend LokyBackend with 2 concurrent workers.\n",
            "[Parallel(n_jobs=-1)]: Done 191 out of 191 | elapsed:    1.6s finished\n",
            "[Parallel(n_jobs=2)]: Using backend ThreadingBackend with 2 concurrent workers.\n",
            "[Parallel(n_jobs=2)]: Done  46 tasks      | elapsed:    0.0s\n",
            "[Parallel(n_jobs=2)]: Done 191 out of 191 | elapsed:    0.1s finished\n",
            "[Parallel(n_jobs=-1)]: Using backend LokyBackend with 2 concurrent workers.\n",
            "[Parallel(n_jobs=-1)]: Done 191 out of 191 | elapsed:    1.6s finished\n",
            "[Parallel(n_jobs=2)]: Using backend ThreadingBackend with 2 concurrent workers.\n",
            "[Parallel(n_jobs=2)]: Done  46 tasks      | elapsed:    0.0s\n",
            "[Parallel(n_jobs=2)]: Done 191 out of 191 | elapsed:    0.1s finished\n",
            "[Parallel(n_jobs=-1)]: Using backend LokyBackend with 2 concurrent workers.\n",
            "[Parallel(n_jobs=-1)]: Done 191 out of 191 | elapsed:    1.6s finished\n",
            "[Parallel(n_jobs=2)]: Using backend ThreadingBackend with 2 concurrent workers.\n",
            "[Parallel(n_jobs=2)]: Done  46 tasks      | elapsed:    0.0s\n",
            "[Parallel(n_jobs=2)]: Done 191 out of 191 | elapsed:    0.1s finished\n",
            "[Parallel(n_jobs=-1)]: Using backend LokyBackend with 2 concurrent workers.\n",
            "[Parallel(n_jobs=-1)]: Done 300 tasks      | elapsed:    4.9s\n",
            "[Parallel(n_jobs=-1)]: Done 313 out of 313 | elapsed:    5.2s finished\n",
            "[Parallel(n_jobs=2)]: Using backend ThreadingBackend with 2 concurrent workers.\n",
            "[Parallel(n_jobs=2)]: Done  46 tasks      | elapsed:    0.0s\n",
            "[Parallel(n_jobs=2)]: Done 196 tasks      | elapsed:    0.1s\n",
            "[Parallel(n_jobs=2)]: Done 313 out of 313 | elapsed:    0.2s finished\n",
            "[Parallel(n_jobs=-1)]: Using backend LokyBackend with 2 concurrent workers.\n",
            "[Parallel(n_jobs=-1)]: Done 293 tasks      | elapsed:    4.9s\n",
            "[Parallel(n_jobs=-1)]: Done 313 out of 313 | elapsed:    5.1s finished\n",
            "[Parallel(n_jobs=2)]: Using backend ThreadingBackend with 2 concurrent workers.\n",
            "[Parallel(n_jobs=2)]: Done  46 tasks      | elapsed:    0.0s\n",
            "[Parallel(n_jobs=2)]: Done 196 tasks      | elapsed:    0.1s\n",
            "[Parallel(n_jobs=2)]: Done 313 out of 313 | elapsed:    0.2s finished\n",
            "[Parallel(n_jobs=-1)]: Using backend LokyBackend with 2 concurrent workers.\n",
            "[Parallel(n_jobs=-1)]: Done 300 tasks      | elapsed:    4.9s\n",
            "[Parallel(n_jobs=-1)]: Done 313 out of 313 | elapsed:    5.1s finished\n",
            "[Parallel(n_jobs=2)]: Using backend ThreadingBackend with 2 concurrent workers.\n",
            "[Parallel(n_jobs=2)]: Done  46 tasks      | elapsed:    0.0s\n",
            "[Parallel(n_jobs=2)]: Done 196 tasks      | elapsed:    0.1s\n",
            "[Parallel(n_jobs=2)]: Done 313 out of 313 | elapsed:    0.2s finished\n",
            "[Parallel(n_jobs=-1)]: Using backend LokyBackend with 2 concurrent workers.\n",
            "[Parallel(n_jobs=-1)]: Done 164 tasks      | elapsed:    2.7s\n",
            "[Parallel(n_jobs=-1)]: Done 313 out of 313 | elapsed:    5.2s finished\n",
            "[Parallel(n_jobs=2)]: Using backend ThreadingBackend with 2 concurrent workers.\n",
            "[Parallel(n_jobs=2)]: Done  46 tasks      | elapsed:    0.0s\n",
            "[Parallel(n_jobs=2)]: Done 196 tasks      | elapsed:    0.1s\n",
            "[Parallel(n_jobs=2)]: Done 313 out of 313 | elapsed:    0.2s finished\n",
            "[Parallel(n_jobs=-1)]: Using backend LokyBackend with 2 concurrent workers.\n",
            "[Parallel(n_jobs=-1)]: Done 164 tasks      | elapsed:    2.8s\n",
            "[Parallel(n_jobs=-1)]: Done 313 out of 313 | elapsed:    5.3s finished\n",
            "[Parallel(n_jobs=2)]: Using backend ThreadingBackend with 2 concurrent workers.\n",
            "[Parallel(n_jobs=2)]: Done  46 tasks      | elapsed:    0.0s\n",
            "[Parallel(n_jobs=2)]: Done 196 tasks      | elapsed:    0.1s\n",
            "[Parallel(n_jobs=2)]: Done 313 out of 313 | elapsed:    0.2s finished\n",
            "[Parallel(n_jobs=-1)]: Using backend LokyBackend with 2 concurrent workers.\n",
            "[Parallel(n_jobs=-1)]: Done  58 out of  58 | elapsed:    0.5s finished\n",
            "[Parallel(n_jobs=2)]: Using backend ThreadingBackend with 2 concurrent workers.\n",
            "[Parallel(n_jobs=2)]: Done  46 tasks      | elapsed:    0.0s\n",
            "[Parallel(n_jobs=2)]: Done  58 out of  58 | elapsed:    0.0s finished\n",
            "[Parallel(n_jobs=-1)]: Using backend LokyBackend with 2 concurrent workers.\n",
            "[Parallel(n_jobs=-1)]: Done  58 out of  58 | elapsed:    0.5s finished\n",
            "[Parallel(n_jobs=2)]: Using backend ThreadingBackend with 2 concurrent workers.\n",
            "[Parallel(n_jobs=2)]: Done  46 tasks      | elapsed:    0.0s\n",
            "[Parallel(n_jobs=2)]: Done  58 out of  58 | elapsed:    0.0s finished\n",
            "[Parallel(n_jobs=-1)]: Using backend LokyBackend with 2 concurrent workers.\n",
            "[Parallel(n_jobs=-1)]: Done  58 out of  58 | elapsed:    0.5s finished\n",
            "[Parallel(n_jobs=2)]: Using backend ThreadingBackend with 2 concurrent workers.\n",
            "[Parallel(n_jobs=2)]: Done  46 tasks      | elapsed:    0.0s\n",
            "[Parallel(n_jobs=2)]: Done  58 out of  58 | elapsed:    0.0s finished\n",
            "[Parallel(n_jobs=-1)]: Using backend LokyBackend with 2 concurrent workers.\n",
            "[Parallel(n_jobs=-1)]: Done  58 out of  58 | elapsed:    0.5s finished\n",
            "[Parallel(n_jobs=2)]: Using backend ThreadingBackend with 2 concurrent workers.\n",
            "[Parallel(n_jobs=2)]: Done  46 tasks      | elapsed:    0.0s\n",
            "[Parallel(n_jobs=2)]: Done  58 out of  58 | elapsed:    0.0s finished\n",
            "[Parallel(n_jobs=-1)]: Using backend LokyBackend with 2 concurrent workers.\n",
            "[Parallel(n_jobs=-1)]: Done  58 out of  58 | elapsed:    0.5s finished\n",
            "[Parallel(n_jobs=2)]: Using backend ThreadingBackend with 2 concurrent workers.\n",
            "[Parallel(n_jobs=2)]: Done  46 tasks      | elapsed:    0.0s\n",
            "[Parallel(n_jobs=2)]: Done  58 out of  58 | elapsed:    0.0s finished\n",
            "[Parallel(n_jobs=-1)]: Using backend LokyBackend with 2 concurrent workers.\n",
            "[Parallel(n_jobs=-1)]: Done 189 out of 189 | elapsed:    1.1s finished\n",
            "[Parallel(n_jobs=2)]: Using backend ThreadingBackend with 2 concurrent workers.\n",
            "[Parallel(n_jobs=2)]: Done  46 tasks      | elapsed:    0.0s\n",
            "[Parallel(n_jobs=2)]: Done 189 out of 189 | elapsed:    0.1s finished\n",
            "[Parallel(n_jobs=-1)]: Using backend LokyBackend with 2 concurrent workers.\n",
            "[Parallel(n_jobs=-1)]: Done 189 out of 189 | elapsed:    1.0s finished\n",
            "[Parallel(n_jobs=2)]: Using backend ThreadingBackend with 2 concurrent workers.\n",
            "[Parallel(n_jobs=2)]: Done  46 tasks      | elapsed:    0.0s\n",
            "[Parallel(n_jobs=2)]: Done 189 out of 189 | elapsed:    0.1s finished\n",
            "[Parallel(n_jobs=-1)]: Using backend LokyBackend with 2 concurrent workers.\n",
            "[Parallel(n_jobs=-1)]: Done 189 out of 189 | elapsed:    1.1s finished\n",
            "[Parallel(n_jobs=2)]: Using backend ThreadingBackend with 2 concurrent workers.\n",
            "[Parallel(n_jobs=2)]: Done  46 tasks      | elapsed:    0.0s\n",
            "[Parallel(n_jobs=2)]: Done 189 out of 189 | elapsed:    0.1s finished\n",
            "[Parallel(n_jobs=-1)]: Using backend LokyBackend with 2 concurrent workers.\n",
            "[Parallel(n_jobs=-1)]: Done 189 out of 189 | elapsed:    1.1s finished\n",
            "[Parallel(n_jobs=2)]: Using backend ThreadingBackend with 2 concurrent workers.\n",
            "[Parallel(n_jobs=2)]: Done  46 tasks      | elapsed:    0.0s\n",
            "[Parallel(n_jobs=2)]: Done 189 out of 189 | elapsed:    0.1s finished\n",
            "[Parallel(n_jobs=-1)]: Using backend LokyBackend with 2 concurrent workers.\n",
            "[Parallel(n_jobs=-1)]: Done 189 out of 189 | elapsed:    1.1s finished\n",
            "[Parallel(n_jobs=2)]: Using backend ThreadingBackend with 2 concurrent workers.\n",
            "[Parallel(n_jobs=2)]: Done  46 tasks      | elapsed:    0.0s\n",
            "[Parallel(n_jobs=2)]: Done 189 out of 189 | elapsed:    0.1s finished\n",
            "[Parallel(n_jobs=-1)]: Using backend LokyBackend with 2 concurrent workers.\n",
            "[Parallel(n_jobs=-1)]: Done 360 tasks      | elapsed:    2.1s\n",
            "[Parallel(n_jobs=-1)]: Done 363 out of 363 | elapsed:    2.2s finished\n",
            "[Parallel(n_jobs=2)]: Using backend ThreadingBackend with 2 concurrent workers.\n",
            "[Parallel(n_jobs=2)]: Done  46 tasks      | elapsed:    0.0s\n",
            "[Parallel(n_jobs=2)]: Done 196 tasks      | elapsed:    0.1s\n",
            "[Parallel(n_jobs=2)]: Done 363 out of 363 | elapsed:    0.2s finished\n",
            "[Parallel(n_jobs=-1)]: Using backend LokyBackend with 2 concurrent workers.\n",
            "[Parallel(n_jobs=-1)]: Done 360 tasks      | elapsed:    2.2s\n",
            "[Parallel(n_jobs=-1)]: Done 363 out of 363 | elapsed:    2.3s finished\n",
            "[Parallel(n_jobs=2)]: Using backend ThreadingBackend with 2 concurrent workers.\n",
            "[Parallel(n_jobs=2)]: Done  46 tasks      | elapsed:    0.0s\n",
            "[Parallel(n_jobs=2)]: Done 196 tasks      | elapsed:    0.1s\n",
            "[Parallel(n_jobs=2)]: Done 363 out of 363 | elapsed:    0.2s finished\n",
            "[Parallel(n_jobs=-1)]: Using backend LokyBackend with 2 concurrent workers.\n",
            "[Parallel(n_jobs=-1)]: Done 360 tasks      | elapsed:    2.1s\n",
            "[Parallel(n_jobs=-1)]: Done 363 out of 363 | elapsed:    2.1s finished\n",
            "[Parallel(n_jobs=2)]: Using backend ThreadingBackend with 2 concurrent workers.\n",
            "[Parallel(n_jobs=2)]: Done  46 tasks      | elapsed:    0.0s\n",
            "[Parallel(n_jobs=2)]: Done 196 tasks      | elapsed:    0.1s\n",
            "[Parallel(n_jobs=2)]: Done 363 out of 363 | elapsed:    0.2s finished\n",
            "[Parallel(n_jobs=-1)]: Using backend LokyBackend with 2 concurrent workers.\n",
            "[Parallel(n_jobs=-1)]: Done 360 tasks      | elapsed:    2.2s\n",
            "[Parallel(n_jobs=-1)]: Done 363 out of 363 | elapsed:    2.2s finished\n",
            "[Parallel(n_jobs=2)]: Using backend ThreadingBackend with 2 concurrent workers.\n",
            "[Parallel(n_jobs=2)]: Done  46 tasks      | elapsed:    0.0s\n",
            "[Parallel(n_jobs=2)]: Done 196 tasks      | elapsed:    0.1s\n",
            "[Parallel(n_jobs=2)]: Done 363 out of 363 | elapsed:    0.2s finished\n",
            "[Parallel(n_jobs=-1)]: Using backend LokyBackend with 2 concurrent workers.\n",
            "[Parallel(n_jobs=-1)]: Done 360 tasks      | elapsed:    2.2s\n",
            "[Parallel(n_jobs=-1)]: Done 363 out of 363 | elapsed:    2.2s finished\n",
            "[Parallel(n_jobs=2)]: Using backend ThreadingBackend with 2 concurrent workers.\n",
            "[Parallel(n_jobs=2)]: Done  46 tasks      | elapsed:    0.0s\n",
            "[Parallel(n_jobs=2)]: Done 196 tasks      | elapsed:    0.1s\n",
            "[Parallel(n_jobs=2)]: Done 363 out of 363 | elapsed:    0.2s finished\n",
            "[Parallel(n_jobs=-1)]: Using backend LokyBackend with 2 concurrent workers.\n",
            "[Parallel(n_jobs=-1)]: Done 293 tasks      | elapsed:    3.7s\n",
            "[Parallel(n_jobs=-1)]: Done 306 out of 306 | elapsed:    3.7s finished\n",
            "[Parallel(n_jobs=2)]: Using backend ThreadingBackend with 2 concurrent workers.\n",
            "[Parallel(n_jobs=2)]: Done  46 tasks      | elapsed:    0.0s\n",
            "[Parallel(n_jobs=2)]: Done 196 tasks      | elapsed:    0.1s\n",
            "[Parallel(n_jobs=2)]: Done 306 out of 306 | elapsed:    0.2s finished\n",
            "[Parallel(n_jobs=-1)]: Using backend LokyBackend with 2 concurrent workers.\n",
            "[Parallel(n_jobs=-1)]: Done 300 tasks      | elapsed:    3.7s\n",
            "[Parallel(n_jobs=-1)]: Done 306 out of 306 | elapsed:    3.7s finished\n",
            "[Parallel(n_jobs=2)]: Using backend ThreadingBackend with 2 concurrent workers.\n",
            "[Parallel(n_jobs=2)]: Done  46 tasks      | elapsed:    0.0s\n",
            "[Parallel(n_jobs=2)]: Done 196 tasks      | elapsed:    0.1s\n",
            "[Parallel(n_jobs=2)]: Done 306 out of 306 | elapsed:    0.2s finished\n",
            "[Parallel(n_jobs=-1)]: Using backend LokyBackend with 2 concurrent workers.\n",
            "[Parallel(n_jobs=-1)]: Done 300 tasks      | elapsed:    3.6s\n",
            "[Parallel(n_jobs=-1)]: Done 306 out of 306 | elapsed:    3.7s finished\n",
            "[Parallel(n_jobs=2)]: Using backend ThreadingBackend with 2 concurrent workers.\n",
            "[Parallel(n_jobs=2)]: Done  46 tasks      | elapsed:    0.0s\n",
            "[Parallel(n_jobs=2)]: Done 196 tasks      | elapsed:    0.1s\n",
            "[Parallel(n_jobs=2)]: Done 306 out of 306 | elapsed:    0.2s finished\n",
            "[Parallel(n_jobs=-1)]: Using backend LokyBackend with 2 concurrent workers.\n",
            "[Parallel(n_jobs=-1)]: Done 300 tasks      | elapsed:    3.6s\n",
            "[Parallel(n_jobs=-1)]: Done 306 out of 306 | elapsed:    3.7s finished\n",
            "[Parallel(n_jobs=2)]: Using backend ThreadingBackend with 2 concurrent workers.\n",
            "[Parallel(n_jobs=2)]: Done  46 tasks      | elapsed:    0.0s\n",
            "[Parallel(n_jobs=2)]: Done 196 tasks      | elapsed:    0.1s\n",
            "[Parallel(n_jobs=2)]: Done 306 out of 306 | elapsed:    0.2s finished\n",
            "[Parallel(n_jobs=-1)]: Using backend LokyBackend with 2 concurrent workers.\n",
            "[Parallel(n_jobs=-1)]: Done 300 tasks      | elapsed:    3.6s\n",
            "[Parallel(n_jobs=-1)]: Done 306 out of 306 | elapsed:    3.7s finished\n",
            "[Parallel(n_jobs=2)]: Using backend ThreadingBackend with 2 concurrent workers.\n",
            "[Parallel(n_jobs=2)]: Done  46 tasks      | elapsed:    0.0s\n",
            "[Parallel(n_jobs=2)]: Done 196 tasks      | elapsed:    0.1s\n",
            "[Parallel(n_jobs=2)]: Done 306 out of 306 | elapsed:    0.2s finished\n",
            "[Parallel(n_jobs=-1)]: Using backend ThreadingBackend with 2 concurrent workers.\n",
            "[Parallel(n_jobs=-1)]: Done  46 tasks      | elapsed:    0.4s\n",
            "[Parallel(n_jobs=-1)]: Done 196 tasks      | elapsed:    1.5s\n",
            "[Parallel(n_jobs=-1)]: Done 313 out of 313 | elapsed:    2.5s finished\n"
          ],
          "name": "stderr"
        },
        {
          "output_type": "execute_result",
          "data": {
            "text/plain": [
              "{'max_depth': 37,\n",
              " 'min_samples_leaf': 1,\n",
              " 'min_samples_split': 12,\n",
              " 'n_estimators': 313}"
            ]
          },
          "metadata": {
            "tags": []
          },
          "execution_count": 78
        }
      ]
    },
    {
      "cell_type": "code",
      "metadata": {
        "id": "M9duA6UklWVD",
        "colab_type": "code",
        "colab": {
          "base_uri": "https://localhost:8080/",
          "height": 678
        },
        "outputId": "9e5e7b64-7fb1-463d-ca15-a508c38d2870"
      },
      "source": [
        "forestOpt = RandomForestClassifier(n_jobs=-1, verbose=1, max_depth = 37, min_samples_leaf = 1,\n",
        "                                   min_samples_split = 12, n_estimators = 313, random_state = 42)\n",
        "\n",
        "forestOpt.fit(X_train_cv, y_train_lb)\n",
        "y_pred_opt = forestOpt.predict(X_test_cv)\n",
        "show_eval(y_test_lb, y_pred_opt, lb_trained, labels)"
      ],
      "execution_count": 79,
      "outputs": [
        {
          "output_type": "stream",
          "text": [
            "[Parallel(n_jobs=-1)]: Using backend ThreadingBackend with 2 concurrent workers.\n",
            "[Parallel(n_jobs=-1)]: Done  46 tasks      | elapsed:    0.4s\n",
            "[Parallel(n_jobs=-1)]: Done 196 tasks      | elapsed:    1.6s\n",
            "[Parallel(n_jobs=-1)]: Done 313 out of 313 | elapsed:    2.5s finished\n",
            "[Parallel(n_jobs=2)]: Using backend ThreadingBackend with 2 concurrent workers.\n",
            "[Parallel(n_jobs=2)]: Done  46 tasks      | elapsed:    0.0s\n",
            "[Parallel(n_jobs=2)]: Done 196 tasks      | elapsed:    0.2s\n",
            "[Parallel(n_jobs=2)]: Done 313 out of 313 | elapsed:    0.3s finished\n",
            "/usr/local/lib/python3.6/dist-packages/sklearn/metrics/_classification.py:1272: UndefinedMetricWarning: Precision and F-score are ill-defined and being set to 0.0 in labels with no predicted samples. Use `zero_division` parameter to control this behavior.\n",
            "  _warn_prf(average, modifier, msg_start, len(result))\n"
          ],
          "name": "stderr"
        },
        {
          "output_type": "stream",
          "text": [
            "/n\n",
            "              precision    recall  f1-score   support\n",
            "\n",
            "       anger       0.44      1.00      0.61       912\n",
            "         joy       0.00      0.00      0.00       415\n",
            "     sadness       1.00      0.02      0.03       352\n",
            "       trust       1.00      0.00      0.00       415\n",
            "\n",
            "    accuracy                           0.44      2094\n",
            "   macro avg       0.61      0.25      0.16      2094\n",
            "weighted avg       0.56      0.44      0.27      2094\n",
            "\n"
          ],
          "name": "stdout"
        },
        {
          "output_type": "display_data",
          "data": {
            "image/png": "[encoded data removed]",
            "text/plain": [
              "<Figure size 432x288 with 2 Axes>"
            ]
          },
          "metadata": {
            "tags": []
          }
        }
      ]
    },
    {
      "cell_type": "markdown",
      "metadata": {
        "id": "5LdPHOPOz0eP",
        "colab_type": "text"
      },
      "source": [
        "### 3.1.3 Predicting the emotion of each comments"
      ]
    },
    {
      "cell_type": "code",
      "metadata": {
        "id": "5Qay9kxGz_uM",
        "colab_type": "code",
        "outputId": "7fba8f2f-eef8-490c-aabb-f1b28e67ea82",
        "colab": {
          "base_uri": "https://localhost:8080/",
          "height": 52
        }
      },
      "source": [
        "dfComments = pd.read_csv('Comments.csv')\n",
        "# keeping only comments with a section name\n",
        "dfComments = dfComments[dfComments['sectionName']!=\"Unknown\"]\n",
        "comments = dfComments.commentBody"
      ],
      "execution_count": 80,
      "outputs": [
        {
          "output_type": "stream",
          "text": [
            "/usr/local/lib/python3.6/dist-packages/IPython/core/interactiveshell.py:2718: DtypeWarning: Columns (25,26) have mixed types.Specify dtype option on import or set low_memory=False.\n",
            "  interactivity=interactivity, compiler=compiler, result=result)\n"
          ],
          "name": "stderr"
        }
      ]
    },
    {
      "cell_type": "code",
      "metadata": {
        "id": "NdV0M0QZ0nZV",
        "colab_type": "code",
        "outputId": "99225068-f459-4b46-ed80-255f1035d171",
        "colab": {
          "base_uri": "https://localhost:8080/",
          "height": 242,
          "referenced_widgets": [
            "d11a0e422d5b4cf8a0141748fb4e5a6b",
            "dfb5e5eecf164ef4b7f82703df0af4af",
            "637131507ddf42ed8b38b6d5f094d75b",
            "b0aa58e12b94482cad109fff2fc77e26",
            "99e4410cfd8447c884d906b2e9db473a",
            "e93ef96a8faf4f35a7e7d4e0ffa8031b",
            "841fb9b3253d4ddd96edebf69af5fa75",
            "03319ec08f954deca1e84726dbd1cde2"
          ]
        }
      },
      "source": [
        "# preprocessing the text\n",
        "# keeping only the first sentence of each comment\n",
        "comments = tokenize_firstsentence(comments.array)\n",
        "comments = [' '.join(x) for x in comments]\n",
        "comments_cv = cv_trained.transform(comments)\n",
        "\n",
        "# predicting and evaluating the labels with SVM\n",
        "sentiments_svm = predict_svm(X_train_cv, y_train_lb, comments_cv)\n",
        "\n",
        "# predicting and evaluating the labels with Random Forest\n",
        "sentiments_rfc = predict_randomforest(X_train_cv, y_train_lb, comments_cv)"
      ],
      "execution_count": 81,
      "outputs": [
        {
          "output_type": "stream",
          "text": [
            "/usr/local/lib/python3.6/dist-packages/ipykernel_launcher.py:43: TqdmDeprecationWarning: This function will be removed in tqdm==5.0.0\n",
            "Please use `tqdm.notebook.tqdm` instead of `tqdm.tqdm_notebook`\n"
          ],
          "name": "stderr"
        },
        {
          "output_type": "display_data",
          "data": {
            "application/vnd.jupyter.widget-view+json": {
              "model_id": "d11a0e422d5b4cf8a0141748fb4e5a6b",
              "version_minor": 0,
              "version_major": 2
            },
            "text/plain": [
              "HBox(children=(IntProgress(value=0, max=105904), HTML(value='')))"
            ]
          },
          "metadata": {
            "tags": []
          }
        },
        {
          "output_type": "stream",
          "text": [
            "\n",
            "[LibLinear][LibLinear][LibLinear][LibLinear]"
          ],
          "name": "stdout"
        },
        {
          "output_type": "stream",
          "text": [
            "[Parallel(n_jobs=-1)]: Using backend ThreadingBackend with 2 concurrent workers.\n",
            "[Parallel(n_jobs=-1)]: Done  46 tasks      | elapsed:    2.4s\n",
            "[Parallel(n_jobs=-1)]: Done 196 tasks      | elapsed:    9.9s\n",
            "[Parallel(n_jobs=-1)]: Done 300 out of 300 | elapsed:   15.2s finished\n",
            "[Parallel(n_jobs=2)]: Using backend ThreadingBackend with 2 concurrent workers.\n",
            "[Parallel(n_jobs=2)]: Done  46 tasks      | elapsed:    2.9s\n",
            "[Parallel(n_jobs=2)]: Done 196 tasks      | elapsed:   12.2s\n",
            "[Parallel(n_jobs=2)]: Done 300 out of 300 | elapsed:   18.5s finished\n"
          ],
          "name": "stderr"
        }
      ]
    },
    {
      "cell_type": "code",
      "metadata": {
        "id": "8mIvOW7W_Sed",
        "colab_type": "code",
        "colab": {}
      },
      "source": [
        "# writing predictions with the real label name\n",
        "sentiments_svm_names = lb_trained.inverse_transform(sentiments_svm)\n",
        "sentiments_rfc_names = lb_trained.inverse_transform(sentiments_rfc)\n",
        "dfComments['sentiments_svm'] = sentiments_svm_names\n",
        "dfComments['sentiments_rfc'] = sentiments_rfc_names"
      ],
      "execution_count": 0,
      "outputs": []
    },
    {
      "cell_type": "markdown",
      "metadata": {
        "id": "YGBkxlXXH3xF",
        "colab_type": "text"
      },
      "source": [
        "## 3.2. Sentiment analysis with positive and negative"
      ]
    },
    {
      "cell_type": "code",
      "metadata": {
        "id": "HHE48HjAG6dc",
        "colab_type": "code",
        "outputId": "eca742ad-869a-46f5-cb5d-6925d83aceb6",
        "colab": {
          "base_uri": "https://localhost:8080/",
          "height": 195
        }
      },
      "source": [
        "train = pd.read_csv('train_one.csv', sep = \"\\t\", error_bad_lines=False)\n",
        "test = pd.read_csv('test_one.csv', sep = \"\\t\", error_bad_lines=False)\n",
        "dev = pd.read_csv('dev_one.csv', sep = \"\\t\", error_bad_lines=False)\n",
        "train.head()"
      ],
      "execution_count": 83,
      "outputs": [
        {
          "output_type": "execute_result",
          "data": {
            "text/html": [
              "<div>\n",
              "<style scoped>\n",
              "    .dataframe tbody tr th:only-of-type {\n",
              "        vertical-align: middle;\n",
              "    }\n",
              "\n",
              "    .dataframe tbody tr th {\n",
              "        vertical-align: top;\n",
              "    }\n",
              "\n",
              "    .dataframe thead th {\n",
              "        text-align: right;\n",
              "    }\n",
              "</style>\n",
              "<table border=\"1\" class=\"dataframe\">\n",
              "  <thead>\n",
              "    <tr style=\"text-align: right;\">\n",
              "      <th></th>\n",
              "      <th>commentBody</th>\n",
              "      <th>sentiment</th>\n",
              "    </tr>\n",
              "  </thead>\n",
              "  <tbody>\n",
              "    <tr>\n",
              "      <th>0</th>\n",
              "      <td>some in the diplomatic circles here are saying...</td>\n",
              "      <td>1</td>\n",
              "    </tr>\n",
              "    <tr>\n",
              "      <th>1</th>\n",
              "      <td>indeed, and as you can often judge someone by ...</td>\n",
              "      <td>0</td>\n",
              "    </tr>\n",
              "    <tr>\n",
              "      <th>2</th>\n",
              "      <td>who knew organizing concerts on tropical islan...</td>\n",
              "      <td>0</td>\n",
              "    </tr>\n",
              "    <tr>\n",
              "      <th>3</th>\n",
              "      <td>the war on poverty declared by the republicans...</td>\n",
              "      <td>0</td>\n",
              "    </tr>\n",
              "    <tr>\n",
              "      <th>4</th>\n",
              "      <td>i fear the new army of trump ice enforcers wil...</td>\n",
              "      <td>0</td>\n",
              "    </tr>\n",
              "  </tbody>\n",
              "</table>\n",
              "</div>"
            ],
            "text/plain": [
              "                                         commentBody  sentiment\n",
              "0  some in the diplomatic circles here are saying...          1\n",
              "1  indeed, and as you can often judge someone by ...          0\n",
              "2  who knew organizing concerts on tropical islan...          0\n",
              "3  the war on poverty declared by the republicans...          0\n",
              "4  i fear the new army of trump ice enforcers wil...          0"
            ]
          },
          "metadata": {
            "tags": []
          },
          "execution_count": 83
        }
      ]
    },
    {
      "cell_type": "code",
      "metadata": {
        "id": "VNa_lrSfmLF3",
        "colab_type": "code",
        "colab": {
          "base_uri": "https://localhost:8080/",
          "height": 34
        },
        "outputId": "75808c30-b184-4a56-9ad6-69d9f92b7ca0"
      },
      "source": [
        "# reducing the size of the datasets because it is too heavy for SVM otherwise\n",
        "train = train.iloc[:12000,]\n",
        "test = test.iloc[:4000,]\n",
        "dev = dev.iloc[:4000,]\n",
        "train.shape"
      ],
      "execution_count": 84,
      "outputs": [
        {
          "output_type": "execute_result",
          "data": {
            "text/plain": [
              "(12000, 2)"
            ]
          },
          "metadata": {
            "tags": []
          },
          "execution_count": 84
        }
      ]
    },
    {
      "cell_type": "code",
      "metadata": {
        "id": "Nc_0iURkIf2o",
        "colab_type": "code",
        "outputId": "d2c22e41-8281-4353-9fa0-f63e7116bb2a",
        "colab": {
          "base_uri": "https://localhost:8080/",
          "height": 70
        }
      },
      "source": [
        "# preparing datasets\n",
        "X_train = train.commentBody\n",
        "X_dev = dev.commentBody\n",
        "X_test = test.commentBody\n",
        "\n",
        "y_train = train.sentiment.replace([0,1],[\"negative\",\"positive\"])\n",
        "y_dev = dev.sentiment.replace([0,1],[\"negative\",\"positive\"])\n",
        "y_test = test.sentiment.replace([0,1],[\"negative\",\"positive\"])\n",
        "print(y_train.value_counts())"
      ],
      "execution_count": 85,
      "outputs": [
        {
          "output_type": "stream",
          "text": [
            "negative    8146\n",
            "positive    3854\n",
            "Name: sentiment, dtype: int64\n"
          ],
          "name": "stdout"
        }
      ]
    },
    {
      "cell_type": "code",
      "metadata": {
        "id": "2vZRtD1yKVFy",
        "colab_type": "code",
        "outputId": "4f3ce885-be59-4e39-bd33-28ee9127223f",
        "colab": {
          "base_uri": "https://localhost:8080/",
          "height": 201,
          "referenced_widgets": [
            "3ee0fe311f4a4b3b82649d498e4a10bb",
            "04b421aaa4184ff694db58e4e2ba7957",
            "abf92d13333a41048cf56c46a2b5789d",
            "d5cd3d90a8bf4b419b3e95eb83b57160",
            "ed35ee1da2884aac96d48b1758865d97",
            "6499b03b6b8c4b6cb20c1fc5b41e05f8",
            "94423f0192574b099e720589f4456459",
            "4acba11ab0cb43ebad101f9ea89d3231",
            "865c5deeadff40619e88dddb98a9bd54",
            "828b475b555648a2aa98558828c564b9",
            "cfa10fb62ab34f1e9f6edb5ebcfdcfdb",
            "282c6f20115e4c1ea9c48c2618b9b07f",
            "f6346a9ecbf54b9c8f2c775e5bcaa533",
            "875ef7554d4e429197cbd4f43deb1b27",
            "8d4ee4cfbbdf4f78ab46156b1ab13dc4",
            "323d368ea9464f82a41c3983e71a4fc1",
            "460d873bb2264e909ccd88aa4e3cdfd1",
            "557b09aa77fa4fea8185806b214c6373",
            "2ffb0c9f0b4a442fb1e7ce0fdbf085c6",
            "c6aff73f46c04edda49a2c8f8977bc43",
            "ab6f14d085744ea9b078c32d54ceef4d",
            "7014394b08fa4b289693bfbbb25df15a",
            "d6fddfdd5411497eb4140d708d5847d9",
            "6d8eef1db4534a8ea6200c02f9c2b05c"
          ]
        }
      },
      "source": [
        "# preprocessing\n",
        "X_train_cv, X_dev_cv, X_test_cv, y_train_lb, y_dev_lb, y_test_lb, cv_trained, lb_trained = preprocess_splitteddata(X_train,X_dev,X_test,y_train,y_dev,y_test)"
      ],
      "execution_count": 86,
      "outputs": [
        {
          "output_type": "stream",
          "text": [
            "/usr/local/lib/python3.6/dist-packages/ipykernel_launcher.py:29: TqdmDeprecationWarning: This function will be removed in tqdm==5.0.0\n",
            "Please use `tqdm.notebook.tqdm` instead of `tqdm.tqdm_notebook`\n"
          ],
          "name": "stderr"
        },
        {
          "output_type": "display_data",
          "data": {
            "application/vnd.jupyter.widget-view+json": {
              "model_id": "3ee0fe311f4a4b3b82649d498e4a10bb",
              "version_minor": 0,
              "version_major": 2
            },
            "text/plain": [
              "HBox(children=(IntProgress(value=0, max=12000), HTML(value='')))"
            ]
          },
          "metadata": {
            "tags": []
          }
        },
        {
          "output_type": "stream",
          "text": [
            "\n"
          ],
          "name": "stdout"
        },
        {
          "output_type": "display_data",
          "data": {
            "application/vnd.jupyter.widget-view+json": {
              "model_id": "865c5deeadff40619e88dddb98a9bd54",
              "version_minor": 0,
              "version_major": 2
            },
            "text/plain": [
              "HBox(children=(IntProgress(value=0, max=4000), HTML(value='')))"
            ]
          },
          "metadata": {
            "tags": []
          }
        },
        {
          "output_type": "stream",
          "text": [
            "\n"
          ],
          "name": "stdout"
        },
        {
          "output_type": "display_data",
          "data": {
            "application/vnd.jupyter.widget-view+json": {
              "model_id": "460d873bb2264e909ccd88aa4e3cdfd1",
              "version_minor": 0,
              "version_major": 2
            },
            "text/plain": [
              "HBox(children=(IntProgress(value=0, max=4000), HTML(value='')))"
            ]
          },
          "metadata": {
            "tags": []
          }
        },
        {
          "output_type": "stream",
          "text": [
            "\n"
          ],
          "name": "stdout"
        }
      ]
    },
    {
      "cell_type": "markdown",
      "metadata": {
        "id": "iZgTOnR5mRM7",
        "colab_type": "text"
      },
      "source": [
        "### 3.2.1 Predicting with SVM"
      ]
    },
    {
      "cell_type": "code",
      "metadata": {
        "id": "HYpFNYlAK3tQ",
        "colab_type": "code",
        "outputId": "5bd973d2-713c-4882-8266-f83d5fa11e62",
        "colab": {
          "base_uri": "https://localhost:8080/",
          "height": 447
        }
      },
      "source": [
        "# predicting the labels and evaluating the predictions with SVM\n",
        "y_pred_svm = predict_svm(X_train_cv, y_train_lb, X_dev_cv)\n",
        "labels = ['negative', 'positive']\n",
        "show_eval(y_dev_lb, y_pred_svm, lb_trained, labels)"
      ],
      "execution_count": 87,
      "outputs": [
        {
          "output_type": "stream",
          "text": [
            "[LibLinear]/n\n",
            "              precision    recall  f1-score   support\n",
            "\n",
            "    negative       0.91      0.92      0.91      2695\n",
            "    positive       0.83      0.82      0.82      1305\n",
            "\n",
            "    accuracy                           0.89      4000\n",
            "   macro avg       0.87      0.87      0.87      4000\n",
            "weighted avg       0.88      0.89      0.88      4000\n",
            "\n"
          ],
          "name": "stdout"
        },
        {
          "output_type": "display_data",
          "data": {
            "image/png": "[encoded data removed]",
            "text/plain": [
              "<Figure size 432x288 with 2 Axes>"
            ]
          },
          "metadata": {
            "tags": []
          }
        }
      ]
    },
    {
      "cell_type": "markdown",
      "metadata": {
        "id": "MxWPeXEbmnc-",
        "colab_type": "text"
      },
      "source": [
        "Once again, the results show a satisfying accuracy."
      ]
    },
    {
      "cell_type": "markdown",
      "metadata": {
        "id": "EiiA72jBmvj5",
        "colab_type": "text"
      },
      "source": [
        "### 3.2.2 Predicting with Random Forest"
      ]
    },
    {
      "cell_type": "code",
      "metadata": {
        "id": "lwKB8IlxbKn4",
        "colab_type": "code",
        "outputId": "6e85f9ba-73d7-4aab-90e7-d0913257a959",
        "colab": {
          "base_uri": "https://localhost:8080/",
          "height": 643
        }
      },
      "source": [
        "# predicting the labels and evaluating the predictions with Random Forest\n",
        "y_pred_rfc = predict_randomforest(X_train_cv, y_train_lb, X_dev_cv)\n",
        "labels = ['negative', 'positive']\n",
        "show_eval(y_dev_lb, y_pred_rfc, lb_trained, labels)"
      ],
      "execution_count": 88,
      "outputs": [
        {
          "output_type": "stream",
          "text": [
            "/usr/local/lib/python3.6/dist-packages/ipykernel_launcher.py:5: DataConversionWarning: A column-vector y was passed when a 1d array was expected. Please change the shape of y to (n_samples,), for example using ravel().\n",
            "  \"\"\"\n",
            "[Parallel(n_jobs=-1)]: Using backend ThreadingBackend with 2 concurrent workers.\n",
            "[Parallel(n_jobs=-1)]: Done  46 tasks      | elapsed:    3.9s\n",
            "[Parallel(n_jobs=-1)]: Done 196 tasks      | elapsed:   16.6s\n",
            "[Parallel(n_jobs=-1)]: Done 300 out of 300 | elapsed:   25.4s finished\n",
            "[Parallel(n_jobs=2)]: Using backend ThreadingBackend with 2 concurrent workers.\n",
            "[Parallel(n_jobs=2)]: Done  46 tasks      | elapsed:    0.1s\n",
            "[Parallel(n_jobs=2)]: Done 196 tasks      | elapsed:    0.5s\n",
            "[Parallel(n_jobs=2)]: Done 300 out of 300 | elapsed:    0.8s finished\n"
          ],
          "name": "stderr"
        },
        {
          "output_type": "stream",
          "text": [
            "/n\n",
            "              precision    recall  f1-score   support\n",
            "\n",
            "    negative       0.87      0.87      0.87      2695\n",
            "    positive       0.73      0.74      0.74      1305\n",
            "\n",
            "    accuracy                           0.83      4000\n",
            "   macro avg       0.80      0.80      0.80      4000\n",
            "weighted avg       0.83      0.83      0.83      4000\n",
            "\n"
          ],
          "name": "stdout"
        },
        {
          "output_type": "display_data",
          "data": {
            "image/png": "[encoded data removed]",
            "text/plain": [
              "<Figure size 432x288 with 2 Axes>"
            ]
          },
          "metadata": {
            "tags": []
          }
        }
      ]
    },
    {
      "cell_type": "code",
      "metadata": {
        "id": "VXKb5WnKm1RA",
        "colab_type": "code",
        "colab": {
          "base_uri": "https://localhost:8080/",
          "height": 1000
        },
        "outputId": "cf567c9a-f63b-4893-92b7-18a09fea316f"
      },
      "source": [
        "# optimizing parameters for the Random Forest\n",
        "from sklearn.model_selection import RandomizedSearchCV\n",
        "from scipy.stats import randint\n",
        "\n",
        "forest = RandomForestClassifier(n_jobs=-1, verbose=1)\n",
        "\n",
        "distributions = dict(n_estimators=randint(0, 400), \n",
        "                     max_depth=randint(10, 40),\n",
        "                     min_samples_split = randint(1, 20),\n",
        "                     min_samples_leaf = randint(1, 20))\n",
        "\n",
        "clf = RandomizedSearchCV(forest, distributions, random_state=42, n_iter = 10)\n",
        "search = clf.fit(X_train_cv, y_train_lb)\n",
        "search.best_params_"
      ],
      "execution_count": 89,
      "outputs": [
        {
          "output_type": "stream",
          "text": [
            "/usr/local/lib/python3.6/dist-packages/sklearn/model_selection/_validation.py:515: DataConversionWarning: A column-vector y was passed when a 1d array was expected. Please change the shape of y to (n_samples,), for example using ravel().\n",
            "  estimator.fit(X_train, y_train, **fit_params)\n",
            "[Parallel(n_jobs=-1)]: Using backend LokyBackend with 2 concurrent workers.\n",
            "[Parallel(n_jobs=-1)]: Done  71 out of  71 | elapsed:    1.7s finished\n",
            "[Parallel(n_jobs=2)]: Using backend ThreadingBackend with 2 concurrent workers.\n",
            "[Parallel(n_jobs=2)]: Done  46 tasks      | elapsed:    0.0s\n",
            "[Parallel(n_jobs=2)]: Done  71 out of  71 | elapsed:    0.0s finished\n",
            "/usr/local/lib/python3.6/dist-packages/sklearn/model_selection/_validation.py:515: DataConversionWarning: A column-vector y was passed when a 1d array was expected. Please change the shape of y to (n_samples,), for example using ravel().\n",
            "  estimator.fit(X_train, y_train, **fit_params)\n",
            "[Parallel(n_jobs=-1)]: Using backend LokyBackend with 2 concurrent workers.\n",
            "[Parallel(n_jobs=-1)]: Done  71 out of  71 | elapsed:    0.8s finished\n",
            "[Parallel(n_jobs=2)]: Using backend ThreadingBackend with 2 concurrent workers.\n",
            "[Parallel(n_jobs=2)]: Done  46 tasks      | elapsed:    0.0s\n",
            "[Parallel(n_jobs=2)]: Done  71 out of  71 | elapsed:    0.0s finished\n",
            "/usr/local/lib/python3.6/dist-packages/sklearn/model_selection/_validation.py:515: DataConversionWarning: A column-vector y was passed when a 1d array was expected. Please change the shape of y to (n_samples,), for example using ravel().\n",
            "  estimator.fit(X_train, y_train, **fit_params)\n",
            "[Parallel(n_jobs=-1)]: Using backend LokyBackend with 2 concurrent workers.\n",
            "[Parallel(n_jobs=-1)]: Done  71 out of  71 | elapsed:    1.0s finished\n",
            "[Parallel(n_jobs=2)]: Using backend ThreadingBackend with 2 concurrent workers.\n",
            "[Parallel(n_jobs=2)]: Done  46 tasks      | elapsed:    0.0s\n",
            "[Parallel(n_jobs=2)]: Done  71 out of  71 | elapsed:    0.0s finished\n",
            "/usr/local/lib/python3.6/dist-packages/sklearn/model_selection/_validation.py:515: DataConversionWarning: A column-vector y was passed when a 1d array was expected. Please change the shape of y to (n_samples,), for example using ravel().\n",
            "  estimator.fit(X_train, y_train, **fit_params)\n",
            "[Parallel(n_jobs=-1)]: Using backend LokyBackend with 2 concurrent workers.\n",
            "[Parallel(n_jobs=-1)]: Done  71 out of  71 | elapsed:    1.0s finished\n",
            "[Parallel(n_jobs=2)]: Using backend ThreadingBackend with 2 concurrent workers.\n",
            "[Parallel(n_jobs=2)]: Done  46 tasks      | elapsed:    0.0s\n",
            "[Parallel(n_jobs=2)]: Done  71 out of  71 | elapsed:    0.0s finished\n",
            "/usr/local/lib/python3.6/dist-packages/sklearn/model_selection/_validation.py:515: DataConversionWarning: A column-vector y was passed when a 1d array was expected. Please change the shape of y to (n_samples,), for example using ravel().\n",
            "  estimator.fit(X_train, y_train, **fit_params)\n",
            "[Parallel(n_jobs=-1)]: Using backend LokyBackend with 2 concurrent workers.\n",
            "[Parallel(n_jobs=-1)]: Done  71 out of  71 | elapsed:    0.9s finished\n",
            "[Parallel(n_jobs=2)]: Using backend ThreadingBackend with 2 concurrent workers.\n",
            "[Parallel(n_jobs=2)]: Done  46 tasks      | elapsed:    0.0s\n",
            "[Parallel(n_jobs=2)]: Done  71 out of  71 | elapsed:    0.0s finished\n",
            "/usr/local/lib/python3.6/dist-packages/sklearn/model_selection/_validation.py:515: DataConversionWarning: A column-vector y was passed when a 1d array was expected. Please change the shape of y to (n_samples,), for example using ravel().\n",
            "  estimator.fit(X_train, y_train, **fit_params)\n",
            "[Parallel(n_jobs=-1)]: Using backend LokyBackend with 2 concurrent workers.\n",
            "[Parallel(n_jobs=-1)]: Done 164 tasks      | elapsed:    4.0s\n",
            "[Parallel(n_jobs=-1)]: Done 214 out of 214 | elapsed:    5.2s finished\n",
            "[Parallel(n_jobs=2)]: Using backend ThreadingBackend with 2 concurrent workers.\n",
            "[Parallel(n_jobs=2)]: Done  46 tasks      | elapsed:    0.0s\n",
            "[Parallel(n_jobs=2)]: Done 196 tasks      | elapsed:    0.1s\n",
            "[Parallel(n_jobs=2)]: Done 214 out of 214 | elapsed:    0.1s finished\n",
            "/usr/local/lib/python3.6/dist-packages/sklearn/model_selection/_validation.py:515: DataConversionWarning: A column-vector y was passed when a 1d array was expected. Please change the shape of y to (n_samples,), for example using ravel().\n",
            "  estimator.fit(X_train, y_train, **fit_params)\n",
            "[Parallel(n_jobs=-1)]: Using backend LokyBackend with 2 concurrent workers.\n",
            "[Parallel(n_jobs=-1)]: Done 164 tasks      | elapsed:    4.1s\n",
            "[Parallel(n_jobs=-1)]: Done 214 out of 214 | elapsed:    5.3s finished\n",
            "[Parallel(n_jobs=2)]: Using backend ThreadingBackend with 2 concurrent workers.\n",
            "[Parallel(n_jobs=2)]: Done  46 tasks      | elapsed:    0.0s\n",
            "[Parallel(n_jobs=2)]: Done 196 tasks      | elapsed:    0.1s\n",
            "[Parallel(n_jobs=2)]: Done 214 out of 214 | elapsed:    0.1s finished\n",
            "/usr/local/lib/python3.6/dist-packages/sklearn/model_selection/_validation.py:515: DataConversionWarning: A column-vector y was passed when a 1d array was expected. Please change the shape of y to (n_samples,), for example using ravel().\n",
            "  estimator.fit(X_train, y_train, **fit_params)\n",
            "[Parallel(n_jobs=-1)]: Using backend LokyBackend with 2 concurrent workers.\n",
            "[Parallel(n_jobs=-1)]: Done 164 tasks      | elapsed:    4.1s\n",
            "[Parallel(n_jobs=-1)]: Done 214 out of 214 | elapsed:    5.3s finished\n",
            "[Parallel(n_jobs=2)]: Using backend ThreadingBackend with 2 concurrent workers.\n",
            "[Parallel(n_jobs=2)]: Done  46 tasks      | elapsed:    0.0s\n",
            "[Parallel(n_jobs=2)]: Done 196 tasks      | elapsed:    0.1s\n",
            "[Parallel(n_jobs=2)]: Done 214 out of 214 | elapsed:    0.1s finished\n",
            "/usr/local/lib/python3.6/dist-packages/sklearn/model_selection/_validation.py:515: DataConversionWarning: A column-vector y was passed when a 1d array was expected. Please change the shape of y to (n_samples,), for example using ravel().\n",
            "  estimator.fit(X_train, y_train, **fit_params)\n",
            "[Parallel(n_jobs=-1)]: Using backend LokyBackend with 2 concurrent workers.\n",
            "[Parallel(n_jobs=-1)]: Done 164 tasks      | elapsed:    4.0s\n",
            "[Parallel(n_jobs=-1)]: Done 214 out of 214 | elapsed:    5.2s finished\n",
            "[Parallel(n_jobs=2)]: Using backend ThreadingBackend with 2 concurrent workers.\n",
            "[Parallel(n_jobs=2)]: Done  46 tasks      | elapsed:    0.0s\n",
            "[Parallel(n_jobs=2)]: Done 196 tasks      | elapsed:    0.1s\n",
            "[Parallel(n_jobs=2)]: Done 214 out of 214 | elapsed:    0.1s finished\n",
            "/usr/local/lib/python3.6/dist-packages/sklearn/model_selection/_validation.py:515: DataConversionWarning: A column-vector y was passed when a 1d array was expected. Please change the shape of y to (n_samples,), for example using ravel().\n",
            "  estimator.fit(X_train, y_train, **fit_params)\n",
            "[Parallel(n_jobs=-1)]: Using backend LokyBackend with 2 concurrent workers.\n",
            "[Parallel(n_jobs=-1)]: Done 164 tasks      | elapsed:    4.1s\n",
            "[Parallel(n_jobs=-1)]: Done 214 out of 214 | elapsed:    5.2s finished\n",
            "[Parallel(n_jobs=2)]: Using backend ThreadingBackend with 2 concurrent workers.\n",
            "[Parallel(n_jobs=2)]: Done  46 tasks      | elapsed:    0.0s\n",
            "[Parallel(n_jobs=2)]: Done 196 tasks      | elapsed:    0.1s\n",
            "[Parallel(n_jobs=2)]: Done 214 out of 214 | elapsed:    0.1s finished\n",
            "/usr/local/lib/python3.6/dist-packages/sklearn/model_selection/_validation.py:515: DataConversionWarning: A column-vector y was passed when a 1d array was expected. Please change the shape of y to (n_samples,), for example using ravel().\n",
            "  estimator.fit(X_train, y_train, **fit_params)\n",
            "[Parallel(n_jobs=-1)]: Using backend LokyBackend with 2 concurrent workers.\n",
            "[Parallel(n_jobs=-1)]: Done 300 tasks      | elapsed:    4.2s\n",
            "[Parallel(n_jobs=-1)]: Done 359 out of 359 | elapsed:    5.0s finished\n",
            "[Parallel(n_jobs=2)]: Using backend ThreadingBackend with 2 concurrent workers.\n",
            "[Parallel(n_jobs=2)]: Done  46 tasks      | elapsed:    0.0s\n",
            "[Parallel(n_jobs=2)]: Done 196 tasks      | elapsed:    0.1s\n",
            "[Parallel(n_jobs=2)]: Done 359 out of 359 | elapsed:    0.1s finished\n",
            "/usr/local/lib/python3.6/dist-packages/sklearn/model_selection/_validation.py:515: DataConversionWarning: A column-vector y was passed when a 1d array was expected. Please change the shape of y to (n_samples,), for example using ravel().\n",
            "  estimator.fit(X_train, y_train, **fit_params)\n",
            "[Parallel(n_jobs=-1)]: Using backend LokyBackend with 2 concurrent workers.\n",
            "[Parallel(n_jobs=-1)]: Done 300 tasks      | elapsed:    4.3s\n",
            "[Parallel(n_jobs=-1)]: Done 359 out of 359 | elapsed:    5.1s finished\n",
            "[Parallel(n_jobs=2)]: Using backend ThreadingBackend with 2 concurrent workers.\n",
            "[Parallel(n_jobs=2)]: Done  46 tasks      | elapsed:    0.0s\n",
            "[Parallel(n_jobs=2)]: Done 196 tasks      | elapsed:    0.1s\n",
            "[Parallel(n_jobs=2)]: Done 359 out of 359 | elapsed:    0.1s finished\n",
            "/usr/local/lib/python3.6/dist-packages/sklearn/model_selection/_validation.py:515: DataConversionWarning: A column-vector y was passed when a 1d array was expected. Please change the shape of y to (n_samples,), for example using ravel().\n",
            "  estimator.fit(X_train, y_train, **fit_params)\n",
            "[Parallel(n_jobs=-1)]: Using backend LokyBackend with 2 concurrent workers.\n",
            "[Parallel(n_jobs=-1)]: Done 300 tasks      | elapsed:    4.2s\n",
            "[Parallel(n_jobs=-1)]: Done 359 out of 359 | elapsed:    5.1s finished\n",
            "[Parallel(n_jobs=2)]: Using backend ThreadingBackend with 2 concurrent workers.\n",
            "[Parallel(n_jobs=2)]: Done  46 tasks      | elapsed:    0.0s\n",
            "[Parallel(n_jobs=2)]: Done 196 tasks      | elapsed:    0.1s\n",
            "[Parallel(n_jobs=2)]: Done 359 out of 359 | elapsed:    0.2s finished\n",
            "/usr/local/lib/python3.6/dist-packages/sklearn/model_selection/_validation.py:515: DataConversionWarning: A column-vector y was passed when a 1d array was expected. Please change the shape of y to (n_samples,), for example using ravel().\n",
            "  estimator.fit(X_train, y_train, **fit_params)\n",
            "[Parallel(n_jobs=-1)]: Using backend LokyBackend with 2 concurrent workers.\n",
            "[Parallel(n_jobs=-1)]: Done 300 tasks      | elapsed:    4.3s\n",
            "[Parallel(n_jobs=-1)]: Done 359 out of 359 | elapsed:    5.1s finished\n",
            "[Parallel(n_jobs=2)]: Using backend ThreadingBackend with 2 concurrent workers.\n",
            "[Parallel(n_jobs=2)]: Done  46 tasks      | elapsed:    0.0s\n",
            "[Parallel(n_jobs=2)]: Done 196 tasks      | elapsed:    0.1s\n",
            "[Parallel(n_jobs=2)]: Done 359 out of 359 | elapsed:    0.1s finished\n",
            "/usr/local/lib/python3.6/dist-packages/sklearn/model_selection/_validation.py:515: DataConversionWarning: A column-vector y was passed when a 1d array was expected. Please change the shape of y to (n_samples,), for example using ravel().\n",
            "  estimator.fit(X_train, y_train, **fit_params)\n",
            "[Parallel(n_jobs=-1)]: Using backend LokyBackend with 2 concurrent workers.\n",
            "[Parallel(n_jobs=-1)]: Done 300 tasks      | elapsed:    4.3s\n",
            "[Parallel(n_jobs=-1)]: Done 359 out of 359 | elapsed:    5.1s finished\n",
            "[Parallel(n_jobs=2)]: Using backend ThreadingBackend with 2 concurrent workers.\n",
            "[Parallel(n_jobs=2)]: Done  46 tasks      | elapsed:    0.0s\n",
            "[Parallel(n_jobs=2)]: Done 196 tasks      | elapsed:    0.1s\n",
            "[Parallel(n_jobs=2)]: Done 359 out of 359 | elapsed:    0.1s finished\n",
            "/usr/local/lib/python3.6/dist-packages/sklearn/model_selection/_validation.py:515: DataConversionWarning: A column-vector y was passed when a 1d array was expected. Please change the shape of y to (n_samples,), for example using ravel().\n",
            "  estimator.fit(X_train, y_train, **fit_params)\n",
            "[Parallel(n_jobs=-1)]: Using backend LokyBackend with 2 concurrent workers.\n",
            "[Parallel(n_jobs=-1)]: Done 164 tasks      | elapsed:    3.9s\n",
            "[Parallel(n_jobs=-1)]: Done 343 out of 343 | elapsed:    8.1s finished\n",
            "[Parallel(n_jobs=2)]: Using backend ThreadingBackend with 2 concurrent workers.\n",
            "[Parallel(n_jobs=2)]: Done  46 tasks      | elapsed:    0.0s\n",
            "[Parallel(n_jobs=2)]: Done 196 tasks      | elapsed:    0.1s\n",
            "[Parallel(n_jobs=2)]: Done 343 out of 343 | elapsed:    0.2s finished\n",
            "/usr/local/lib/python3.6/dist-packages/sklearn/model_selection/_validation.py:515: DataConversionWarning: A column-vector y was passed when a 1d array was expected. Please change the shape of y to (n_samples,), for example using ravel().\n",
            "  estimator.fit(X_train, y_train, **fit_params)\n",
            "[Parallel(n_jobs=-1)]: Using backend LokyBackend with 2 concurrent workers.\n",
            "[Parallel(n_jobs=-1)]: Done 164 tasks      | elapsed:    4.0s\n",
            "[Parallel(n_jobs=-1)]: Done 343 out of 343 | elapsed:    8.1s finished\n",
            "[Parallel(n_jobs=2)]: Using backend ThreadingBackend with 2 concurrent workers.\n",
            "[Parallel(n_jobs=2)]: Done  46 tasks      | elapsed:    0.0s\n",
            "[Parallel(n_jobs=2)]: Done 196 tasks      | elapsed:    0.1s\n",
            "[Parallel(n_jobs=2)]: Done 343 out of 343 | elapsed:    0.2s finished\n",
            "/usr/local/lib/python3.6/dist-packages/sklearn/model_selection/_validation.py:515: DataConversionWarning: A column-vector y was passed when a 1d array was expected. Please change the shape of y to (n_samples,), for example using ravel().\n",
            "  estimator.fit(X_train, y_train, **fit_params)\n",
            "[Parallel(n_jobs=-1)]: Using backend LokyBackend with 2 concurrent workers.\n",
            "[Parallel(n_jobs=-1)]: Done 164 tasks      | elapsed:    3.8s\n",
            "[Parallel(n_jobs=-1)]: Done 343 out of 343 | elapsed:    8.0s finished\n",
            "[Parallel(n_jobs=2)]: Using backend ThreadingBackend with 2 concurrent workers.\n",
            "[Parallel(n_jobs=2)]: Done  46 tasks      | elapsed:    0.0s\n",
            "[Parallel(n_jobs=2)]: Done 196 tasks      | elapsed:    0.1s\n",
            "[Parallel(n_jobs=2)]: Done 343 out of 343 | elapsed:    0.2s finished\n",
            "/usr/local/lib/python3.6/dist-packages/sklearn/model_selection/_validation.py:515: DataConversionWarning: A column-vector y was passed when a 1d array was expected. Please change the shape of y to (n_samples,), for example using ravel().\n",
            "  estimator.fit(X_train, y_train, **fit_params)\n",
            "[Parallel(n_jobs=-1)]: Using backend LokyBackend with 2 concurrent workers.\n",
            "[Parallel(n_jobs=-1)]: Done 164 tasks      | elapsed:    3.9s\n",
            "[Parallel(n_jobs=-1)]: Done 343 out of 343 | elapsed:    8.1s finished\n",
            "[Parallel(n_jobs=2)]: Using backend ThreadingBackend with 2 concurrent workers.\n",
            "[Parallel(n_jobs=2)]: Done  46 tasks      | elapsed:    0.0s\n",
            "[Parallel(n_jobs=2)]: Done 196 tasks      | elapsed:    0.1s\n",
            "[Parallel(n_jobs=2)]: Done 343 out of 343 | elapsed:    0.1s finished\n",
            "/usr/local/lib/python3.6/dist-packages/sklearn/model_selection/_validation.py:515: DataConversionWarning: A column-vector y was passed when a 1d array was expected. Please change the shape of y to (n_samples,), for example using ravel().\n",
            "  estimator.fit(X_train, y_train, **fit_params)\n",
            "[Parallel(n_jobs=-1)]: Using backend LokyBackend with 2 concurrent workers.\n",
            "[Parallel(n_jobs=-1)]: Done 164 tasks      | elapsed:    3.9s\n",
            "[Parallel(n_jobs=-1)]: Done 343 out of 343 | elapsed:    8.1s finished\n",
            "[Parallel(n_jobs=2)]: Using backend ThreadingBackend with 2 concurrent workers.\n",
            "[Parallel(n_jobs=2)]: Done  46 tasks      | elapsed:    0.0s\n",
            "[Parallel(n_jobs=2)]: Done 196 tasks      | elapsed:    0.1s\n",
            "[Parallel(n_jobs=2)]: Done 343 out of 343 | elapsed:    0.2s finished\n",
            "/usr/local/lib/python3.6/dist-packages/sklearn/model_selection/_validation.py:515: DataConversionWarning: A column-vector y was passed when a 1d array was expected. Please change the shape of y to (n_samples,), for example using ravel().\n",
            "  estimator.fit(X_train, y_train, **fit_params)\n",
            "[Parallel(n_jobs=-1)]: Using backend LokyBackend with 2 concurrent workers.\n",
            "[Parallel(n_jobs=-1)]: Done 191 out of 191 | elapsed:    2.9s finished\n",
            "[Parallel(n_jobs=2)]: Using backend ThreadingBackend with 2 concurrent workers.\n",
            "[Parallel(n_jobs=2)]: Done  46 tasks      | elapsed:    0.0s\n",
            "[Parallel(n_jobs=2)]: Done 191 out of 191 | elapsed:    0.1s finished\n",
            "/usr/local/lib/python3.6/dist-packages/sklearn/model_selection/_validation.py:515: DataConversionWarning: A column-vector y was passed when a 1d array was expected. Please change the shape of y to (n_samples,), for example using ravel().\n",
            "  estimator.fit(X_train, y_train, **fit_params)\n",
            "[Parallel(n_jobs=-1)]: Using backend LokyBackend with 2 concurrent workers.\n",
            "[Parallel(n_jobs=-1)]: Done 191 out of 191 | elapsed:    2.9s finished\n",
            "[Parallel(n_jobs=2)]: Using backend ThreadingBackend with 2 concurrent workers.\n",
            "[Parallel(n_jobs=2)]: Done  46 tasks      | elapsed:    0.0s\n",
            "[Parallel(n_jobs=2)]: Done 191 out of 191 | elapsed:    0.1s finished\n",
            "/usr/local/lib/python3.6/dist-packages/sklearn/model_selection/_validation.py:515: DataConversionWarning: A column-vector y was passed when a 1d array was expected. Please change the shape of y to (n_samples,), for example using ravel().\n",
            "  estimator.fit(X_train, y_train, **fit_params)\n",
            "[Parallel(n_jobs=-1)]: Using backend LokyBackend with 2 concurrent workers.\n",
            "[Parallel(n_jobs=-1)]: Done 191 out of 191 | elapsed:    2.9s finished\n",
            "[Parallel(n_jobs=2)]: Using backend ThreadingBackend with 2 concurrent workers.\n",
            "[Parallel(n_jobs=2)]: Done  46 tasks      | elapsed:    0.0s\n",
            "[Parallel(n_jobs=2)]: Done 191 out of 191 | elapsed:    0.1s finished\n",
            "/usr/local/lib/python3.6/dist-packages/sklearn/model_selection/_validation.py:515: DataConversionWarning: A column-vector y was passed when a 1d array was expected. Please change the shape of y to (n_samples,), for example using ravel().\n",
            "  estimator.fit(X_train, y_train, **fit_params)\n",
            "[Parallel(n_jobs=-1)]: Using backend LokyBackend with 2 concurrent workers.\n",
            "[Parallel(n_jobs=-1)]: Done 164 tasks      | elapsed:    2.6s\n",
            "[Parallel(n_jobs=-1)]: Done 191 out of 191 | elapsed:    3.0s finished\n",
            "[Parallel(n_jobs=2)]: Using backend ThreadingBackend with 2 concurrent workers.\n",
            "[Parallel(n_jobs=2)]: Done  46 tasks      | elapsed:    0.0s\n",
            "[Parallel(n_jobs=2)]: Done 191 out of 191 | elapsed:    0.1s finished\n",
            "/usr/local/lib/python3.6/dist-packages/sklearn/model_selection/_validation.py:515: DataConversionWarning: A column-vector y was passed when a 1d array was expected. Please change the shape of y to (n_samples,), for example using ravel().\n",
            "  estimator.fit(X_train, y_train, **fit_params)\n",
            "[Parallel(n_jobs=-1)]: Using backend LokyBackend with 2 concurrent workers.\n",
            "[Parallel(n_jobs=-1)]: Done 191 out of 191 | elapsed:    2.9s finished\n",
            "[Parallel(n_jobs=2)]: Using backend ThreadingBackend with 2 concurrent workers.\n",
            "[Parallel(n_jobs=2)]: Done  46 tasks      | elapsed:    0.0s\n",
            "[Parallel(n_jobs=2)]: Done 191 out of 191 | elapsed:    0.1s finished\n",
            "/usr/local/lib/python3.6/dist-packages/sklearn/model_selection/_validation.py:515: DataConversionWarning: A column-vector y was passed when a 1d array was expected. Please change the shape of y to (n_samples,), for example using ravel().\n",
            "  estimator.fit(X_train, y_train, **fit_params)\n",
            "[Parallel(n_jobs=-1)]: Using backend LokyBackend with 2 concurrent workers.\n",
            "[Parallel(n_jobs=-1)]: Done 164 tasks      | elapsed:    4.8s\n",
            "[Parallel(n_jobs=-1)]: Done 313 out of 313 | elapsed:    9.0s finished\n",
            "[Parallel(n_jobs=2)]: Using backend ThreadingBackend with 2 concurrent workers.\n",
            "[Parallel(n_jobs=2)]: Done  46 tasks      | elapsed:    0.0s\n",
            "[Parallel(n_jobs=2)]: Done 196 tasks      | elapsed:    0.1s\n",
            "[Parallel(n_jobs=2)]: Done 313 out of 313 | elapsed:    0.1s finished\n",
            "/usr/local/lib/python3.6/dist-packages/sklearn/model_selection/_validation.py:515: DataConversionWarning: A column-vector y was passed when a 1d array was expected. Please change the shape of y to (n_samples,), for example using ravel().\n",
            "  estimator.fit(X_train, y_train, **fit_params)\n",
            "[Parallel(n_jobs=-1)]: Using backend LokyBackend with 2 concurrent workers.\n",
            "[Parallel(n_jobs=-1)]: Done 164 tasks      | elapsed:    4.8s\n",
            "[Parallel(n_jobs=-1)]: Done 313 out of 313 | elapsed:    9.1s finished\n",
            "[Parallel(n_jobs=2)]: Using backend ThreadingBackend with 2 concurrent workers.\n",
            "[Parallel(n_jobs=2)]: Done  46 tasks      | elapsed:    0.0s\n",
            "[Parallel(n_jobs=2)]: Done 196 tasks      | elapsed:    0.1s\n",
            "[Parallel(n_jobs=2)]: Done 313 out of 313 | elapsed:    0.1s finished\n",
            "/usr/local/lib/python3.6/dist-packages/sklearn/model_selection/_validation.py:515: DataConversionWarning: A column-vector y was passed when a 1d array was expected. Please change the shape of y to (n_samples,), for example using ravel().\n",
            "  estimator.fit(X_train, y_train, **fit_params)\n",
            "[Parallel(n_jobs=-1)]: Using backend LokyBackend with 2 concurrent workers.\n",
            "[Parallel(n_jobs=-1)]: Done 164 tasks      | elapsed:    4.8s\n",
            "[Parallel(n_jobs=-1)]: Done 313 out of 313 | elapsed:    9.0s finished\n",
            "[Parallel(n_jobs=2)]: Using backend ThreadingBackend with 2 concurrent workers.\n",
            "[Parallel(n_jobs=2)]: Done  46 tasks      | elapsed:    0.0s\n",
            "[Parallel(n_jobs=2)]: Done 196 tasks      | elapsed:    0.1s\n",
            "[Parallel(n_jobs=2)]: Done 313 out of 313 | elapsed:    0.2s finished\n",
            "/usr/local/lib/python3.6/dist-packages/sklearn/model_selection/_validation.py:515: DataConversionWarning: A column-vector y was passed when a 1d array was expected. Please change the shape of y to (n_samples,), for example using ravel().\n",
            "  estimator.fit(X_train, y_train, **fit_params)\n",
            "[Parallel(n_jobs=-1)]: Using backend LokyBackend with 2 concurrent workers.\n",
            "[Parallel(n_jobs=-1)]: Done 164 tasks      | elapsed:    4.7s\n",
            "[Parallel(n_jobs=-1)]: Done 313 out of 313 | elapsed:    9.0s finished\n",
            "[Parallel(n_jobs=2)]: Using backend ThreadingBackend with 2 concurrent workers.\n",
            "[Parallel(n_jobs=2)]: Done  46 tasks      | elapsed:    0.0s\n",
            "[Parallel(n_jobs=2)]: Done 196 tasks      | elapsed:    0.1s\n",
            "[Parallel(n_jobs=2)]: Done 313 out of 313 | elapsed:    0.1s finished\n",
            "/usr/local/lib/python3.6/dist-packages/sklearn/model_selection/_validation.py:515: DataConversionWarning: A column-vector y was passed when a 1d array was expected. Please change the shape of y to (n_samples,), for example using ravel().\n",
            "  estimator.fit(X_train, y_train, **fit_params)\n",
            "[Parallel(n_jobs=-1)]: Using backend LokyBackend with 2 concurrent workers.\n",
            "[Parallel(n_jobs=-1)]: Done 164 tasks      | elapsed:    4.7s\n",
            "[Parallel(n_jobs=-1)]: Done 313 out of 313 | elapsed:    8.9s finished\n",
            "[Parallel(n_jobs=2)]: Using backend ThreadingBackend with 2 concurrent workers.\n",
            "[Parallel(n_jobs=2)]: Done  46 tasks      | elapsed:    0.0s\n",
            "[Parallel(n_jobs=2)]: Done 196 tasks      | elapsed:    0.1s\n",
            "[Parallel(n_jobs=2)]: Done 313 out of 313 | elapsed:    0.2s finished\n",
            "/usr/local/lib/python3.6/dist-packages/sklearn/model_selection/_validation.py:515: DataConversionWarning: A column-vector y was passed when a 1d array was expected. Please change the shape of y to (n_samples,), for example using ravel().\n",
            "  estimator.fit(X_train, y_train, **fit_params)\n",
            "[Parallel(n_jobs=-1)]: Using backend LokyBackend with 2 concurrent workers.\n",
            "[Parallel(n_jobs=-1)]: Done  58 out of  58 | elapsed:    1.1s finished\n",
            "[Parallel(n_jobs=2)]: Using backend ThreadingBackend with 2 concurrent workers.\n",
            "[Parallel(n_jobs=2)]: Done  46 tasks      | elapsed:    0.0s\n",
            "[Parallel(n_jobs=2)]: Done  58 out of  58 | elapsed:    0.0s finished\n",
            "/usr/local/lib/python3.6/dist-packages/sklearn/model_selection/_validation.py:515: DataConversionWarning: A column-vector y was passed when a 1d array was expected. Please change the shape of y to (n_samples,), for example using ravel().\n",
            "  estimator.fit(X_train, y_train, **fit_params)\n",
            "[Parallel(n_jobs=-1)]: Using backend LokyBackend with 2 concurrent workers.\n",
            "[Parallel(n_jobs=-1)]: Done  58 out of  58 | elapsed:    1.2s finished\n",
            "[Parallel(n_jobs=2)]: Using backend ThreadingBackend with 2 concurrent workers.\n",
            "[Parallel(n_jobs=2)]: Done  46 tasks      | elapsed:    0.0s\n",
            "[Parallel(n_jobs=2)]: Done  58 out of  58 | elapsed:    0.0s finished\n",
            "/usr/local/lib/python3.6/dist-packages/sklearn/model_selection/_validation.py:515: DataConversionWarning: A column-vector y was passed when a 1d array was expected. Please change the shape of y to (n_samples,), for example using ravel().\n",
            "  estimator.fit(X_train, y_train, **fit_params)\n",
            "[Parallel(n_jobs=-1)]: Using backend LokyBackend with 2 concurrent workers.\n",
            "[Parallel(n_jobs=-1)]: Done  58 out of  58 | elapsed:    1.2s finished\n",
            "[Parallel(n_jobs=2)]: Using backend ThreadingBackend with 2 concurrent workers.\n",
            "[Parallel(n_jobs=2)]: Done  46 tasks      | elapsed:    0.0s\n",
            "[Parallel(n_jobs=2)]: Done  58 out of  58 | elapsed:    0.0s finished\n",
            "/usr/local/lib/python3.6/dist-packages/sklearn/model_selection/_validation.py:515: DataConversionWarning: A column-vector y was passed when a 1d array was expected. Please change the shape of y to (n_samples,), for example using ravel().\n",
            "  estimator.fit(X_train, y_train, **fit_params)\n",
            "[Parallel(n_jobs=-1)]: Using backend LokyBackend with 2 concurrent workers.\n",
            "[Parallel(n_jobs=-1)]: Done  58 out of  58 | elapsed:    1.2s finished\n",
            "[Parallel(n_jobs=2)]: Using backend ThreadingBackend with 2 concurrent workers.\n",
            "[Parallel(n_jobs=2)]: Done  46 tasks      | elapsed:    0.0s\n",
            "[Parallel(n_jobs=2)]: Done  58 out of  58 | elapsed:    0.0s finished\n",
            "/usr/local/lib/python3.6/dist-packages/sklearn/model_selection/_validation.py:515: DataConversionWarning: A column-vector y was passed when a 1d array was expected. Please change the shape of y to (n_samples,), for example using ravel().\n",
            "  estimator.fit(X_train, y_train, **fit_params)\n",
            "[Parallel(n_jobs=-1)]: Using backend LokyBackend with 2 concurrent workers.\n",
            "[Parallel(n_jobs=-1)]: Done  58 out of  58 | elapsed:    1.2s finished\n",
            "[Parallel(n_jobs=2)]: Using backend ThreadingBackend with 2 concurrent workers.\n",
            "[Parallel(n_jobs=2)]: Done  46 tasks      | elapsed:    0.0s\n",
            "[Parallel(n_jobs=2)]: Done  58 out of  58 | elapsed:    0.0s finished\n",
            "/usr/local/lib/python3.6/dist-packages/sklearn/model_selection/_validation.py:515: DataConversionWarning: A column-vector y was passed when a 1d array was expected. Please change the shape of y to (n_samples,), for example using ravel().\n",
            "  estimator.fit(X_train, y_train, **fit_params)\n",
            "[Parallel(n_jobs=-1)]: Using backend LokyBackend with 2 concurrent workers.\n",
            "[Parallel(n_jobs=-1)]: Done 189 out of 189 | elapsed:    2.3s finished\n",
            "[Parallel(n_jobs=2)]: Using backend ThreadingBackend with 2 concurrent workers.\n",
            "[Parallel(n_jobs=2)]: Done  46 tasks      | elapsed:    0.0s\n",
            "[Parallel(n_jobs=2)]: Done 189 out of 189 | elapsed:    0.1s finished\n",
            "/usr/local/lib/python3.6/dist-packages/sklearn/model_selection/_validation.py:515: DataConversionWarning: A column-vector y was passed when a 1d array was expected. Please change the shape of y to (n_samples,), for example using ravel().\n",
            "  estimator.fit(X_train, y_train, **fit_params)\n",
            "[Parallel(n_jobs=-1)]: Using backend LokyBackend with 2 concurrent workers.\n",
            "[Parallel(n_jobs=-1)]: Done 189 out of 189 | elapsed:    2.4s finished\n",
            "[Parallel(n_jobs=2)]: Using backend ThreadingBackend with 2 concurrent workers.\n",
            "[Parallel(n_jobs=2)]: Done  46 tasks      | elapsed:    0.0s\n",
            "[Parallel(n_jobs=2)]: Done 189 out of 189 | elapsed:    0.1s finished\n",
            "/usr/local/lib/python3.6/dist-packages/sklearn/model_selection/_validation.py:515: DataConversionWarning: A column-vector y was passed when a 1d array was expected. Please change the shape of y to (n_samples,), for example using ravel().\n",
            "  estimator.fit(X_train, y_train, **fit_params)\n",
            "[Parallel(n_jobs=-1)]: Using backend LokyBackend with 2 concurrent workers.\n",
            "[Parallel(n_jobs=-1)]: Done 189 out of 189 | elapsed:    2.4s finished\n",
            "[Parallel(n_jobs=2)]: Using backend ThreadingBackend with 2 concurrent workers.\n",
            "[Parallel(n_jobs=2)]: Done  46 tasks      | elapsed:    0.0s\n",
            "[Parallel(n_jobs=2)]: Done 189 out of 189 | elapsed:    0.1s finished\n",
            "/usr/local/lib/python3.6/dist-packages/sklearn/model_selection/_validation.py:515: DataConversionWarning: A column-vector y was passed when a 1d array was expected. Please change the shape of y to (n_samples,), for example using ravel().\n",
            "  estimator.fit(X_train, y_train, **fit_params)\n",
            "[Parallel(n_jobs=-1)]: Using backend LokyBackend with 2 concurrent workers.\n",
            "[Parallel(n_jobs=-1)]: Done 189 out of 189 | elapsed:    2.4s finished\n",
            "[Parallel(n_jobs=2)]: Using backend ThreadingBackend with 2 concurrent workers.\n",
            "[Parallel(n_jobs=2)]: Done  46 tasks      | elapsed:    0.0s\n",
            "[Parallel(n_jobs=2)]: Done 189 out of 189 | elapsed:    0.1s finished\n",
            "/usr/local/lib/python3.6/dist-packages/sklearn/model_selection/_validation.py:515: DataConversionWarning: A column-vector y was passed when a 1d array was expected. Please change the shape of y to (n_samples,), for example using ravel().\n",
            "  estimator.fit(X_train, y_train, **fit_params)\n",
            "[Parallel(n_jobs=-1)]: Using backend LokyBackend with 2 concurrent workers.\n",
            "[Parallel(n_jobs=-1)]: Done 189 out of 189 | elapsed:    2.3s finished\n",
            "[Parallel(n_jobs=2)]: Using backend ThreadingBackend with 2 concurrent workers.\n",
            "[Parallel(n_jobs=2)]: Done  46 tasks      | elapsed:    0.0s\n",
            "[Parallel(n_jobs=2)]: Done 189 out of 189 | elapsed:    0.1s finished\n",
            "/usr/local/lib/python3.6/dist-packages/sklearn/model_selection/_validation.py:515: DataConversionWarning: A column-vector y was passed when a 1d array was expected. Please change the shape of y to (n_samples,), for example using ravel().\n",
            "  estimator.fit(X_train, y_train, **fit_params)\n",
            "[Parallel(n_jobs=-1)]: Using backend LokyBackend with 2 concurrent workers.\n",
            "[Parallel(n_jobs=-1)]: Done 164 tasks      | elapsed:    3.0s\n",
            "[Parallel(n_jobs=-1)]: Done 363 out of 363 | elapsed:    6.4s finished\n",
            "[Parallel(n_jobs=2)]: Using backend ThreadingBackend with 2 concurrent workers.\n",
            "[Parallel(n_jobs=2)]: Done  46 tasks      | elapsed:    0.0s\n",
            "[Parallel(n_jobs=2)]: Done 196 tasks      | elapsed:    0.1s\n",
            "[Parallel(n_jobs=2)]: Done 363 out of 363 | elapsed:    0.2s finished\n",
            "/usr/local/lib/python3.6/dist-packages/sklearn/model_selection/_validation.py:515: DataConversionWarning: A column-vector y was passed when a 1d array was expected. Please change the shape of y to (n_samples,), for example using ravel().\n",
            "  estimator.fit(X_train, y_train, **fit_params)\n",
            "[Parallel(n_jobs=-1)]: Using backend LokyBackend with 2 concurrent workers.\n",
            "[Parallel(n_jobs=-1)]: Done 164 tasks      | elapsed:    3.1s\n",
            "[Parallel(n_jobs=-1)]: Done 363 out of 363 | elapsed:    6.7s finished\n",
            "[Parallel(n_jobs=2)]: Using backend ThreadingBackend with 2 concurrent workers.\n",
            "[Parallel(n_jobs=2)]: Done  46 tasks      | elapsed:    0.0s\n",
            "[Parallel(n_jobs=2)]: Done 196 tasks      | elapsed:    0.1s\n",
            "[Parallel(n_jobs=2)]: Done 363 out of 363 | elapsed:    0.1s finished\n",
            "/usr/local/lib/python3.6/dist-packages/sklearn/model_selection/_validation.py:515: DataConversionWarning: A column-vector y was passed when a 1d array was expected. Please change the shape of y to (n_samples,), for example using ravel().\n",
            "  estimator.fit(X_train, y_train, **fit_params)\n",
            "[Parallel(n_jobs=-1)]: Using backend LokyBackend with 2 concurrent workers.\n",
            "[Parallel(n_jobs=-1)]: Done 164 tasks      | elapsed:    3.2s\n",
            "[Parallel(n_jobs=-1)]: Done 363 out of 363 | elapsed:    6.9s finished\n",
            "[Parallel(n_jobs=2)]: Using backend ThreadingBackend with 2 concurrent workers.\n",
            "[Parallel(n_jobs=2)]: Done  46 tasks      | elapsed:    0.0s\n",
            "[Parallel(n_jobs=2)]: Done 196 tasks      | elapsed:    0.1s\n",
            "[Parallel(n_jobs=2)]: Done 363 out of 363 | elapsed:    0.2s finished\n",
            "/usr/local/lib/python3.6/dist-packages/sklearn/model_selection/_validation.py:515: DataConversionWarning: A column-vector y was passed when a 1d array was expected. Please change the shape of y to (n_samples,), for example using ravel().\n",
            "  estimator.fit(X_train, y_train, **fit_params)\n",
            "[Parallel(n_jobs=-1)]: Using backend LokyBackend with 2 concurrent workers.\n",
            "[Parallel(n_jobs=-1)]: Done 164 tasks      | elapsed:    3.2s\n",
            "[Parallel(n_jobs=-1)]: Done 363 out of 363 | elapsed:    6.9s finished\n",
            "[Parallel(n_jobs=2)]: Using backend ThreadingBackend with 2 concurrent workers.\n",
            "[Parallel(n_jobs=2)]: Done  46 tasks      | elapsed:    0.0s\n",
            "[Parallel(n_jobs=2)]: Done 196 tasks      | elapsed:    0.1s\n",
            "[Parallel(n_jobs=2)]: Done 363 out of 363 | elapsed:    0.2s finished\n",
            "/usr/local/lib/python3.6/dist-packages/sklearn/model_selection/_validation.py:515: DataConversionWarning: A column-vector y was passed when a 1d array was expected. Please change the shape of y to (n_samples,), for example using ravel().\n",
            "  estimator.fit(X_train, y_train, **fit_params)\n",
            "[Parallel(n_jobs=-1)]: Using backend LokyBackend with 2 concurrent workers.\n",
            "[Parallel(n_jobs=-1)]: Done 300 tasks      | elapsed:    5.5s\n",
            "[Parallel(n_jobs=-1)]: Done 363 out of 363 | elapsed:    6.6s finished\n",
            "[Parallel(n_jobs=2)]: Using backend ThreadingBackend with 2 concurrent workers.\n",
            "[Parallel(n_jobs=2)]: Done  46 tasks      | elapsed:    0.0s\n",
            "[Parallel(n_jobs=2)]: Done 196 tasks      | elapsed:    0.1s\n",
            "[Parallel(n_jobs=2)]: Done 363 out of 363 | elapsed:    0.1s finished\n",
            "/usr/local/lib/python3.6/dist-packages/sklearn/model_selection/_validation.py:515: DataConversionWarning: A column-vector y was passed when a 1d array was expected. Please change the shape of y to (n_samples,), for example using ravel().\n",
            "  estimator.fit(X_train, y_train, **fit_params)\n",
            "[Parallel(n_jobs=-1)]: Using backend LokyBackend with 2 concurrent workers.\n",
            "[Parallel(n_jobs=-1)]: Done 164 tasks      | elapsed:    3.8s\n",
            "[Parallel(n_jobs=-1)]: Done 306 out of 306 | elapsed:    7.0s finished\n",
            "[Parallel(n_jobs=2)]: Using backend ThreadingBackend with 2 concurrent workers.\n",
            "[Parallel(n_jobs=2)]: Done  46 tasks      | elapsed:    0.0s\n",
            "[Parallel(n_jobs=2)]: Done 196 tasks      | elapsed:    0.1s\n",
            "[Parallel(n_jobs=2)]: Done 306 out of 306 | elapsed:    0.1s finished\n",
            "/usr/local/lib/python3.6/dist-packages/sklearn/model_selection/_validation.py:515: DataConversionWarning: A column-vector y was passed when a 1d array was expected. Please change the shape of y to (n_samples,), for example using ravel().\n",
            "  estimator.fit(X_train, y_train, **fit_params)\n",
            "[Parallel(n_jobs=-1)]: Using backend LokyBackend with 2 concurrent workers.\n",
            "[Parallel(n_jobs=-1)]: Done 164 tasks      | elapsed:    3.8s\n",
            "[Parallel(n_jobs=-1)]: Done 306 out of 306 | elapsed:    7.1s finished\n",
            "[Parallel(n_jobs=2)]: Using backend ThreadingBackend with 2 concurrent workers.\n",
            "[Parallel(n_jobs=2)]: Done  46 tasks      | elapsed:    0.0s\n",
            "[Parallel(n_jobs=2)]: Done 196 tasks      | elapsed:    0.1s\n",
            "[Parallel(n_jobs=2)]: Done 306 out of 306 | elapsed:    0.1s finished\n",
            "/usr/local/lib/python3.6/dist-packages/sklearn/model_selection/_validation.py:515: DataConversionWarning: A column-vector y was passed when a 1d array was expected. Please change the shape of y to (n_samples,), for example using ravel().\n",
            "  estimator.fit(X_train, y_train, **fit_params)\n",
            "[Parallel(n_jobs=-1)]: Using backend LokyBackend with 2 concurrent workers.\n",
            "[Parallel(n_jobs=-1)]: Done 164 tasks      | elapsed:    3.8s\n",
            "[Parallel(n_jobs=-1)]: Done 306 out of 306 | elapsed:    7.0s finished\n",
            "[Parallel(n_jobs=2)]: Using backend ThreadingBackend with 2 concurrent workers.\n",
            "[Parallel(n_jobs=2)]: Done  46 tasks      | elapsed:    0.0s\n",
            "[Parallel(n_jobs=2)]: Done 196 tasks      | elapsed:    0.1s\n",
            "[Parallel(n_jobs=2)]: Done 306 out of 306 | elapsed:    0.1s finished\n",
            "/usr/local/lib/python3.6/dist-packages/sklearn/model_selection/_validation.py:515: DataConversionWarning: A column-vector y was passed when a 1d array was expected. Please change the shape of y to (n_samples,), for example using ravel().\n",
            "  estimator.fit(X_train, y_train, **fit_params)\n",
            "[Parallel(n_jobs=-1)]: Using backend LokyBackend with 2 concurrent workers.\n",
            "[Parallel(n_jobs=-1)]: Done 164 tasks      | elapsed:    3.8s\n",
            "[Parallel(n_jobs=-1)]: Done 306 out of 306 | elapsed:    7.0s finished\n",
            "[Parallel(n_jobs=2)]: Using backend ThreadingBackend with 2 concurrent workers.\n",
            "[Parallel(n_jobs=2)]: Done  46 tasks      | elapsed:    0.0s\n",
            "[Parallel(n_jobs=2)]: Done 196 tasks      | elapsed:    0.1s\n",
            "[Parallel(n_jobs=2)]: Done 306 out of 306 | elapsed:    0.1s finished\n",
            "/usr/local/lib/python3.6/dist-packages/sklearn/model_selection/_validation.py:515: DataConversionWarning: A column-vector y was passed when a 1d array was expected. Please change the shape of y to (n_samples,), for example using ravel().\n",
            "  estimator.fit(X_train, y_train, **fit_params)\n",
            "[Parallel(n_jobs=-1)]: Using backend LokyBackend with 2 concurrent workers.\n",
            "[Parallel(n_jobs=-1)]: Done 164 tasks      | elapsed:    3.8s\n",
            "[Parallel(n_jobs=-1)]: Done 306 out of 306 | elapsed:    7.0s finished\n",
            "[Parallel(n_jobs=2)]: Using backend ThreadingBackend with 2 concurrent workers.\n",
            "[Parallel(n_jobs=2)]: Done  46 tasks      | elapsed:    0.0s\n",
            "[Parallel(n_jobs=2)]: Done 196 tasks      | elapsed:    0.1s\n",
            "[Parallel(n_jobs=2)]: Done 306 out of 306 | elapsed:    0.1s finished\n",
            "/usr/local/lib/python3.6/dist-packages/sklearn/model_selection/_search.py:739: DataConversionWarning: A column-vector y was passed when a 1d array was expected. Please change the shape of y to (n_samples,), for example using ravel().\n",
            "  self.best_estimator_.fit(X, y, **fit_params)\n",
            "[Parallel(n_jobs=-1)]: Using backend ThreadingBackend with 2 concurrent workers.\n",
            "[Parallel(n_jobs=-1)]: Done  46 tasks      | elapsed:    0.3s\n",
            "[Parallel(n_jobs=-1)]: Done 196 tasks      | elapsed:    1.4s\n",
            "[Parallel(n_jobs=-1)]: Done 313 out of 313 | elapsed:    2.3s finished\n"
          ],
          "name": "stderr"
        },
        {
          "output_type": "execute_result",
          "data": {
            "text/plain": [
              "{'max_depth': 37,\n",
              " 'min_samples_leaf': 1,\n",
              " 'min_samples_split': 12,\n",
              " 'n_estimators': 313}"
            ]
          },
          "metadata": {
            "tags": []
          },
          "execution_count": 89
        }
      ]
    },
    {
      "cell_type": "code",
      "metadata": {
        "id": "jqmuF3NMm37g",
        "colab_type": "code",
        "colab": {
          "base_uri": "https://localhost:8080/",
          "height": 643
        },
        "outputId": "788c5eac-6fdc-4c25-964e-ce959553a3a7"
      },
      "source": [
        "forestOpt = RandomForestClassifier(n_jobs=-1, verbose=1, max_depth = 37, min_samples_leaf = 1,\n",
        "                                   min_samples_split = 12, n_estimators = 313, random_state = 42)\n",
        "\n",
        "forestOpt.fit(X_train_cv, y_train_lb)\n",
        "y_pred_opt = forestOpt.predict(X_test_cv)\n",
        "show_eval(y_test_lb, y_pred_opt, lb_trained, labels)"
      ],
      "execution_count": 90,
      "outputs": [
        {
          "output_type": "stream",
          "text": [
            "/usr/local/lib/python3.6/dist-packages/ipykernel_launcher.py:4: DataConversionWarning: A column-vector y was passed when a 1d array was expected. Please change the shape of y to (n_samples,), for example using ravel().\n",
            "  after removing the cwd from sys.path.\n",
            "[Parallel(n_jobs=-1)]: Using backend ThreadingBackend with 2 concurrent workers.\n",
            "[Parallel(n_jobs=-1)]: Done  46 tasks      | elapsed:    0.3s\n",
            "[Parallel(n_jobs=-1)]: Done 196 tasks      | elapsed:    1.5s\n",
            "[Parallel(n_jobs=-1)]: Done 313 out of 313 | elapsed:    2.3s finished\n",
            "[Parallel(n_jobs=2)]: Using backend ThreadingBackend with 2 concurrent workers.\n",
            "[Parallel(n_jobs=2)]: Done  46 tasks      | elapsed:    0.0s\n",
            "[Parallel(n_jobs=2)]: Done 196 tasks      | elapsed:    0.1s\n",
            "[Parallel(n_jobs=2)]: Done 313 out of 313 | elapsed:    0.2s finished\n"
          ],
          "name": "stderr"
        },
        {
          "output_type": "stream",
          "text": [
            "/n\n",
            "              precision    recall  f1-score   support\n",
            "\n",
            "    negative       0.69      1.00      0.82      2721\n",
            "    positive       0.88      0.06      0.12      1279\n",
            "\n",
            "    accuracy                           0.70      4000\n",
            "   macro avg       0.79      0.53      0.47      4000\n",
            "weighted avg       0.75      0.70      0.59      4000\n",
            "\n"
          ],
          "name": "stdout"
        },
        {
          "output_type": "display_data",
          "data": {
            "image/png": "[encoded data removed]",
            "text/plain": [
              "<Figure size 432x288 with 2 Axes>"
            ]
          },
          "metadata": {
            "tags": []
          }
        }
      ]
    },
    {
      "cell_type": "markdown",
      "metadata": {
        "id": "_zfpyiSWLIC0",
        "colab_type": "text"
      },
      "source": [
        "### 3.2.3 Predicting the emotions of each comments"
      ]
    },
    {
      "cell_type": "code",
      "metadata": {
        "id": "OtOWRmKscrNm",
        "colab_type": "code",
        "outputId": "eca7bcda-6fc9-47cf-d2cf-c0c353448e6f",
        "colab": {
          "base_uri": "https://localhost:8080/",
          "height": 213
        }
      },
      "source": [
        "# preprocessing the text\n",
        "comments_cv = cv_trained.transform(comments)\n",
        "\n",
        "# predicting and evaluating the labels with SVM\n",
        "sentiments_svm = predict_svm(X_train_cv, y_train_lb, comments_cv)\n",
        "\n",
        "# predicting and evaluating the labels with Random Forest\n",
        "sentiments_rfc = predict_randomforest(X_train_cv, y_train_lb, comments_cv)"
      ],
      "execution_count": 92,
      "outputs": [
        {
          "output_type": "stream",
          "text": [
            "[LibLinear]"
          ],
          "name": "stdout"
        },
        {
          "output_type": "stream",
          "text": [
            "/usr/local/lib/python3.6/dist-packages/ipykernel_launcher.py:5: DataConversionWarning: A column-vector y was passed when a 1d array was expected. Please change the shape of y to (n_samples,), for example using ravel().\n",
            "  \"\"\"\n",
            "[Parallel(n_jobs=-1)]: Using backend ThreadingBackend with 2 concurrent workers.\n",
            "[Parallel(n_jobs=-1)]: Done  46 tasks      | elapsed:    3.9s\n",
            "[Parallel(n_jobs=-1)]: Done 196 tasks      | elapsed:   16.7s\n",
            "[Parallel(n_jobs=-1)]: Done 300 out of 300 | elapsed:   25.5s finished\n",
            "[Parallel(n_jobs=2)]: Using backend ThreadingBackend with 2 concurrent workers.\n",
            "[Parallel(n_jobs=2)]: Done  46 tasks      | elapsed:    2.7s\n",
            "[Parallel(n_jobs=2)]: Done 196 tasks      | elapsed:   11.7s\n",
            "[Parallel(n_jobs=2)]: Done 300 out of 300 | elapsed:   17.7s finished\n"
          ],
          "name": "stderr"
        }
      ]
    },
    {
      "cell_type": "code",
      "metadata": {
        "id": "RQHz7KpIFUpy",
        "colab_type": "code",
        "colab": {}
      },
      "source": [
        "# writing predictions with the real label name\n",
        "sentiments_svm_names = lb_trained.inverse_transform(sentiments_svm)\n",
        "sentiments_rfc_names = lb_trained.inverse_transform(sentiments_rfc)\n",
        "dfComments['sentiments_svm_posneg'] = sentiments_svm_names\n",
        "dfComments['sentiments_rfc_posneg'] = sentiments_rfc_names"
      ],
      "execution_count": 0,
      "outputs": []
    },
    {
      "cell_type": "markdown",
      "metadata": {
        "id": "1HLdpFybfPdL",
        "colab_type": "text"
      },
      "source": [
        "# 4. TEXT CLASSIFICATION WITH BERT (NEGATIVE AND POSITIVE CLASSIFICATION)"
      ]
    },
    {
      "cell_type": "markdown",
      "metadata": {
        "id": "rzQL465LUJa7",
        "colab_type": "text"
      },
      "source": [
        "## 4.1. Pre-processing and modeling with BERT"
      ]
    },
    {
      "cell_type": "markdown",
      "metadata": {
        "id": "yCHw3VDyQjDB",
        "colab_type": "text"
      },
      "source": [
        "*   Uploading transformer"
      ]
    },
    {
      "cell_type": "code",
      "metadata": {
        "id": "g49FhBVRHq3j",
        "colab_type": "code",
        "outputId": "b870e81f-bedb-4949-d51d-f6a2f714d1d9",
        "colab": {
          "base_uri": "https://localhost:8080/",
          "height": 686
        }
      },
      "source": [
        "!pip install transformers"
      ],
      "execution_count": 94,
      "outputs": [
        {
          "output_type": "stream",
          "text": [
            "Collecting transformers\n",
            "\u001b[?25l  Downloading https://files.pythonhosted.org/packages/a3/78/92cedda05552398352ed9784908b834ee32a0bd071a9b32de287327370b7/transformers-2.8.0-py3-none-any.whl (563kB)\n",
            "\r\u001b[K     |▋                               | 10kB 26.8MB/s eta 0:00:01\r\u001b[K     |█▏                              | 20kB 6.1MB/s eta 0:00:01\r\u001b[K     |█▊                              | 30kB 8.6MB/s eta 0:00:01\r\u001b[K     |██▎                             | 40kB 5.6MB/s eta 0:00:01\r\u001b[K     |███                             | 51kB 6.9MB/s eta 0:00:01\r\u001b[K     |███▌                            | 61kB 8.1MB/s eta 0:00:01\r\u001b[K     |████                            | 71kB 9.2MB/s eta 0:00:01\r\u001b[K     |████▋                           | 81kB 7.2MB/s eta 0:00:01\r\u001b[K     |█████▎                          | 92kB 8.0MB/s eta 0:00:01\r\u001b[K     |█████▉                          | 102kB 8.8MB/s eta 0:00:01\r\u001b[K     |██████▍                         | 112kB 8.8MB/s eta 0:00:01\r\u001b[K     |███████                         | 122kB 8.8MB/s eta 0:00:01\r\u001b[K     |███████▋                        | 133kB 8.8MB/s eta 0:00:01\r\u001b[K     |████████▏                       | 143kB 8.8MB/s eta 0:00:01\r\u001b[K     |████████▊                       | 153kB 8.8MB/s eta 0:00:01\r\u001b[K     |█████████▎                      | 163kB 8.8MB/s eta 0:00:01\r\u001b[K     |█████████▉                      | 174kB 8.8MB/s eta 0:00:01\r\u001b[K     |██████████▌                     | 184kB 8.8MB/s eta 0:00:01\r\u001b[K     |███████████                     | 194kB 8.8MB/s eta 0:00:01\r\u001b[K     |███████████▋                    | 204kB 8.8MB/s eta 0:00:01\r\u001b[K     |████████████▏                   | 215kB 8.8MB/s eta 0:00:01\r\u001b[K     |████████████▉                   | 225kB 8.8MB/s eta 0:00:01\r\u001b[K     |█████████████▍                  | 235kB 8.8MB/s eta 0:00:01\r\u001b[K     |██████████████                  | 245kB 8.8MB/s eta 0:00:01\r\u001b[K     |██████████████▌                 | 256kB 8.8MB/s eta 0:00:01\r\u001b[K     |███████████████▏                | 266kB 8.8MB/s eta 0:00:01\r\u001b[K     |███████████████▊                | 276kB 8.8MB/s eta 0:00:01\r\u001b[K     |████████████████▎               | 286kB 8.8MB/s eta 0:00:01\r\u001b[K     |████████████████▉               | 296kB 8.8MB/s eta 0:00:01\r\u001b[K     |█████████████████▍              | 307kB 8.8MB/s eta 0:00:01\r\u001b[K     |██████████████████              | 317kB 8.8MB/s eta 0:00:01\r\u001b[K     |██████████████████▋             | 327kB 8.8MB/s eta 0:00:01\r\u001b[K     |███████████████████▏            | 337kB 8.8MB/s eta 0:00:01\r\u001b[K     |███████████████████▊            | 348kB 8.8MB/s eta 0:00:01\r\u001b[K     |████████████████████▍           | 358kB 8.8MB/s eta 0:00:01\r\u001b[K     |█████████████████████           | 368kB 8.8MB/s eta 0:00:01\r\u001b[K     |█████████████████████▌          | 378kB 8.8MB/s eta 0:00:01\r\u001b[K     |██████████████████████          | 389kB 8.8MB/s eta 0:00:01\r\u001b[K     |██████████████████████▊         | 399kB 8.8MB/s eta 0:00:01\r\u001b[K     |███████████████████████▎        | 409kB 8.8MB/s eta 0:00:01\r\u001b[K     |███████████████████████▉        | 419kB 8.8MB/s eta 0:00:01\r\u001b[K     |████████████████████████▍       | 430kB 8.8MB/s eta 0:00:01\r\u001b[K     |█████████████████████████       | 440kB 8.8MB/s eta 0:00:01\r\u001b[K     |█████████████████████████▋      | 450kB 8.8MB/s eta 0:00:01\r\u001b[K     |██████████████████████████▏     | 460kB 8.8MB/s eta 0:00:01\r\u001b[K     |██████████████████████████▊     | 471kB 8.8MB/s eta 0:00:01\r\u001b[K     |███████████████████████████▎    | 481kB 8.8MB/s eta 0:00:01\r\u001b[K     |████████████████████████████    | 491kB 8.8MB/s eta 0:00:01\r\u001b[K     |████████████████████████████▌   | 501kB 8.8MB/s eta 0:00:01\r\u001b[K     |█████████████████████████████   | 512kB 8.8MB/s eta 0:00:01\r\u001b[K     |█████████████████████████████▋  | 522kB 8.8MB/s eta 0:00:01\r\u001b[K     |██████████████████████████████▎ | 532kB 8.8MB/s eta 0:00:01\r\u001b[K     |██████████████████████████████▉ | 542kB 8.8MB/s eta 0:00:01\r\u001b[K     |███████████████████████████████▍| 552kB 8.8MB/s eta 0:00:01\r\u001b[K     |████████████████████████████████| 563kB 8.8MB/s eta 0:00:01\r\u001b[K     |████████████████████████████████| 573kB 8.8MB/s \n",
            "\u001b[?25hRequirement already satisfied: filelock in /usr/local/lib/python3.6/dist-packages (from transformers) (3.0.12)\n",
            "Requirement already satisfied: tqdm>=4.27 in /usr/local/lib/python3.6/dist-packages (from transformers) (4.38.0)\n",
            "Requirement already satisfied: requests in /usr/local/lib/python3.6/dist-packages (from transformers) (2.21.0)\n",
            "Collecting sentencepiece\n",
            "\u001b[?25l  Downloading https://files.pythonhosted.org/packages/74/f4/2d5214cbf13d06e7cb2c20d84115ca25b53ea76fa1f0ade0e3c9749de214/sentencepiece-0.1.85-cp36-cp36m-manylinux1_x86_64.whl (1.0MB)\n",
            "\u001b[K     |████████████████████████████████| 1.0MB 58.8MB/s \n",
            "\u001b[?25hCollecting sacremoses\n",
            "\u001b[?25l  Downloading https://files.pythonhosted.org/packages/a6/b4/7a41d630547a4afd58143597d5a49e07bfd4c42914d8335b2a5657efc14b/sacremoses-0.0.38.tar.gz (860kB)\n",
            "\u001b[K     |████████████████████████████████| 870kB 52.0MB/s \n",
            "\u001b[?25hRequirement already satisfied: boto3 in /usr/local/lib/python3.6/dist-packages (from transformers) (1.12.38)\n",
            "Requirement already satisfied: dataclasses; python_version < \"3.7\" in /usr/local/lib/python3.6/dist-packages (from transformers) (0.7)\n",
            "Collecting tokenizers==0.5.2\n",
            "\u001b[?25l  Downloading https://files.pythonhosted.org/packages/d1/3f/73c881ea4723e43c1e9acf317cf407fab3a278daab3a69c98dcac511c04f/tokenizers-0.5.2-cp36-cp36m-manylinux1_x86_64.whl (3.7MB)\n",
            "\u001b[K     |████████████████████████████████| 3.7MB 45.6MB/s \n",
            "\u001b[?25hRequirement already satisfied: numpy in /usr/local/lib/python3.6/dist-packages (from transformers) (1.18.2)\n",
            "Requirement already satisfied: regex!=2019.12.17 in /usr/local/lib/python3.6/dist-packages (from transformers) (2019.12.20)\n",
            "Requirement already satisfied: idna<2.9,>=2.5 in /usr/local/lib/python3.6/dist-packages (from requests->transformers) (2.8)\n",
            "Requirement already satisfied: chardet<3.1.0,>=3.0.2 in /usr/local/lib/python3.6/dist-packages (from requests->transformers) (3.0.4)\n",
            "Requirement already satisfied: certifi>=2017.4.17 in /usr/local/lib/python3.6/dist-packages (from requests->transformers) (2020.4.5.1)\n",
            "Requirement already satisfied: urllib3<1.25,>=1.21.1 in /usr/local/lib/python3.6/dist-packages (from requests->transformers) (1.24.3)\n",
            "Requirement already satisfied: six in /usr/local/lib/python3.6/dist-packages (from sacremoses->transformers) (1.12.0)\n",
            "Requirement already satisfied: click in /usr/local/lib/python3.6/dist-packages (from sacremoses->transformers) (7.1.1)\n",
            "Requirement already satisfied: joblib in /usr/local/lib/python3.6/dist-packages (from sacremoses->transformers) (0.14.1)\n",
            "Requirement already satisfied: jmespath<1.0.0,>=0.7.1 in /usr/local/lib/python3.6/dist-packages (from boto3->transformers) (0.9.5)\n",
            "Requirement already satisfied: s3transfer<0.4.0,>=0.3.0 in /usr/local/lib/python3.6/dist-packages (from boto3->transformers) (0.3.3)\n",
            "Requirement already satisfied: botocore<1.16.0,>=1.15.38 in /usr/local/lib/python3.6/dist-packages (from boto3->transformers) (1.15.38)\n",
            "Requirement already satisfied: python-dateutil<3.0.0,>=2.1 in /usr/local/lib/python3.6/dist-packages (from botocore<1.16.0,>=1.15.38->boto3->transformers) (2.8.1)\n",
            "Requirement already satisfied: docutils<0.16,>=0.10 in /usr/local/lib/python3.6/dist-packages (from botocore<1.16.0,>=1.15.38->boto3->transformers) (0.15.2)\n",
            "Building wheels for collected packages: sacremoses\n",
            "  Building wheel for sacremoses (setup.py) ... \u001b[?25l\u001b[?25hdone\n",
            "  Created wheel for sacremoses: filename=sacremoses-0.0.38-cp36-none-any.whl size=884628 sha256=d4b170ca317f3f852b18672df4cd6cf46b7e1cb3037702d2848548c218c1ab10\n",
            "  Stored in directory: /root/.cache/pip/wheels/6d/ec/1a/21b8912e35e02741306f35f66c785f3afe94de754a0eaf1422\n",
            "Successfully built sacremoses\n",
            "Installing collected packages: sentencepiece, sacremoses, tokenizers, transformers\n",
            "Successfully installed sacremoses-0.0.38 sentencepiece-0.1.85 tokenizers-0.5.2 transformers-2.8.0\n"
          ],
          "name": "stdout"
        }
      ]
    },
    {
      "cell_type": "markdown",
      "metadata": {
        "id": "D-urcDIsRkQ5",
        "colab_type": "text"
      },
      "source": [
        "*  Importing pytorch and BERT packages"
      ]
    },
    {
      "cell_type": "code",
      "metadata": {
        "id": "VGboBCZwHZfA",
        "colab_type": "code",
        "colab": {}
      },
      "source": [
        "import torch\n",
        "import torch.nn as nn\n",
        "from torch.utils.data import Dataset\n",
        "from transformers import BertTokenizer, AutoModel, AutoTokenizer\n",
        "from torch.utils.data import DataLoader"
      ],
      "execution_count": 0,
      "outputs": []
    },
    {
      "cell_type": "markdown",
      "metadata": {
        "id": "9sk5AHTrSK4G",
        "colab_type": "text"
      },
      "source": [
        "*  Preprocessing\n",
        "\n",
        "We introduce a few preprocessing function to help you get to the model.\n",
        "\n",
        "SSTDataset is a class that handle get, tokenization and padding of the sentences.\n"
      ]
    },
    {
      "cell_type": "code",
      "metadata": {
        "id": "oW6rPPmASNLt",
        "colab_type": "code",
        "colab": {}
      },
      "source": [
        "class SSTDataset(Dataset):\n",
        "\n",
        "    def __init__(self, filename, maxlen, model_name='bert-base-uncased'):\n",
        "\n",
        "        #Store the contents of the file in a pandas dataframe\n",
        "        self.df = pd.read_csv(filename, delimiter = '\\t',  lineterminator='\\n')\n",
        "\n",
        "        #Initialize the BERT tokenizer\n",
        "        self.tokenizer = AutoTokenizer.from_pretrained(model_name)\n",
        "\n",
        "        self.maxlen = maxlen\n",
        "\n",
        "    def __len__(self):\n",
        "        return len(self.df)\n",
        "\n",
        "    def __getitem__(self, index):\n",
        "\n",
        "        #Selecting the comments and label at the specified index in the data frame\n",
        "        sentence = self.df.loc[index, 'commentBody']\n",
        "        label = self.df.loc[index, 'sentiment']\n",
        "\n",
        "        #Preprocessing the text to be suitable for BERT\n",
        "        tokens = self.tokenizer.tokenize(sentence) #Tokenize the comment\n",
        "        if self.tokenizer.cls_token is None:\n",
        "          bos_token = self.tokenizer.bos_token\n",
        "        else:\n",
        "          bos_token = self.tokenizer.cls_token\n",
        "          \n",
        "        if self.tokenizer.sep_token is None:\n",
        "          eos_token = self.tokenizer.eos_token\n",
        "        else:\n",
        "          eos_token = self.tokenizer.sep_token\n",
        "        \n",
        "        tokens = [bos_token] + tokens + [eos_token] #Insering the CLS and SEP token in the beginning and end of the comment\n",
        "        if len(tokens) < self.maxlen:\n",
        "            tokens = tokens + [self.tokenizer.pad_token for _ in range(self.maxlen - len(tokens))] #Padding comments\n",
        "        else:\n",
        "            tokens = tokens[:self.maxlen-1] + [eos_token] #Prunning the list to be of specified max length\n",
        "\n",
        "        tokens_ids = self.tokenizer.convert_tokens_to_ids(tokens) #Obtaining the indices of the tokens in the BERT Vocabulary\n",
        "        tokens_ids_tensor = torch.tensor(tokens_ids) #Converting the list to a pytorch tensor\n",
        "        #Obtaining the attention mask i.e a tensor containing 1s for no padded tokens and 0s for padded ones\n",
        "        attn_mask = (tokens_ids_tensor != 0).long()\n",
        "\n",
        "        return tokens_ids_tensor, attn_mask, label"
      ],
      "execution_count": 0,
      "outputs": []
    },
    {
      "cell_type": "markdown",
      "metadata": {
        "id": "ruPoNtBsYo9z",
        "colab_type": "text"
      },
      "source": [
        "*   Creating instances of training and validation set\n",
        "\n"
      ]
    },
    {
      "cell_type": "code",
      "metadata": {
        "id": "1aBr0l2LHfWh",
        "colab_type": "code",
        "colab": {}
      },
      "source": [
        "train_set = SSTDataset(filename = 'train_one.csv', maxlen=50, model_name='bert-base-uncased')\n",
        "val_set = SSTDataset(filename = 'dev_one.csv', maxlen=50, model_name='bert-base-uncased')"
      ],
      "execution_count": 0,
      "outputs": []
    },
    {
      "cell_type": "markdown",
      "metadata": {
        "id": "jJbjS1rEYwfz",
        "colab_type": "text"
      },
      "source": [
        "*    Creating intsances of training and validation dataloaders"
      ]
    },
    {
      "cell_type": "code",
      "metadata": {
        "id": "E6yrHTBGYuo6",
        "colab_type": "code",
        "colab": {}
      },
      "source": [
        "train_loader = DataLoader(train_set, batch_size = 128, num_workers = 5)\n",
        "val_loader = DataLoader(val_set, batch_size = 128, num_workers = 5)"
      ],
      "execution_count": 0,
      "outputs": []
    },
    {
      "cell_type": "markdown",
      "metadata": {
        "id": "YhO6xRJfY00O",
        "colab_type": "text"
      },
      "source": [
        "*   Get the number of comments"
      ]
    },
    {
      "cell_type": "code",
      "metadata": {
        "id": "gdD6m9d1H0Yp",
        "colab_type": "code",
        "outputId": "bada46c4-5b95-4c10-9478-908cd3cc8c27",
        "colab": {
          "base_uri": "https://localhost:8080/",
          "height": 52
        }
      },
      "source": [
        "print(train_set.__len__(), \"number of comment in training set\")\n",
        "print(val_set.__len__(), \"number of comment in validation set\")"
      ],
      "execution_count": 121,
      "outputs": [
        {
          "output_type": "stream",
          "text": [
            "63542 number of comment in training set\n",
            "21181 number of comment in validation set\n"
          ],
          "name": "stdout"
        }
      ]
    },
    {
      "cell_type": "markdown",
      "metadata": {
        "id": "ChJHaBd1Y6Vr",
        "colab_type": "text"
      },
      "source": [
        "*   Define the Sentiment Analysis model using pytorch\n",
        "\n",
        "The class withto instansiate the model and forward() method to define the foward pass.\n",
        "\n",
        "We will use the pretrained Masked Language Model as one module of our sentiment analysis model."
      ]
    },
    {
      "cell_type": "code",
      "metadata": {
        "id": "LCzcv_tWrEA5",
        "colab_type": "code",
        "colab": {}
      },
      "source": [
        "class SentimentClassifier(nn.Module):\n",
        "\n",
        "    def __init__(self, pretrained_model_name='bert-base-uncased'):\n",
        "        super(SentimentClassifier, self).__init__()\n",
        "        \n",
        "        #we will use the pretrained Masked Language Model as one module of our sentiment analysis model\n",
        "        #Loading Mask Language Model \n",
        "        self.encoder = AutoModel.from_pretrained(pretrained_model_name)\n",
        "        #we append an extra layer for Classification (it will be randomly initialized)\n",
        "        self.cls_layer = nn.Linear(self.encoder.pooler.dense.out_features, 1)\n",
        "\n",
        "    def forward(self, seq, attn_masks):\n",
        "        '''\n",
        "        Inputs:\n",
        "            -seq : Tensor of shape [B, T] containing token ids of sequences\n",
        "            -attn_masks : Tensor of shape [B, T] containing attention masks to be used to avoid contibution of PAD tokens\n",
        "        '''\n",
        "\n",
        "        #Feeding the input to BERT model to obtain contextualized representations\n",
        "        cont_reps, _ = self.encoder(seq, attention_mask = attn_masks)\n",
        "\n",
        "        #Obtaining the representation of [CLS] head\n",
        "        cls_rep = cont_reps[:, 0]\n",
        "\n",
        "        #Feeding cls_rep to the classifier layer\n",
        "        logits = self.cls_layer(cls_rep)\n",
        "\n",
        "        return logits"
      ],
      "execution_count": 0,
      "outputs": []
    },
    {
      "cell_type": "code",
      "metadata": {
        "id": "eb0-o8qHrosL",
        "colab_type": "code",
        "outputId": "6e293a24-22a5-4025-e1ee-60cce0fc96e6",
        "colab": {
          "base_uri": "https://localhost:8080/",
          "height": 34
        }
      },
      "source": [
        "sentiment_model = SentimentClassifier('bert-base-uncased')\n",
        "sentiment_model = sentiment_model.to(\"cuda\")\n",
        "sentiment_model.cls_layer.weight.is_cuda"
      ],
      "execution_count": 123,
      "outputs": [
        {
          "output_type": "execute_result",
          "data": {
            "text/plain": [
              "True"
            ]
          },
          "metadata": {
            "tags": []
          },
          "execution_count": 123
        }
      ]
    },
    {
      "cell_type": "markdown",
      "metadata": {
        "id": "4LUF8KaAcZJG",
        "colab_type": "text"
      },
      "source": [
        "*   Defining training process\n",
        "\n",
        "We define a loss (BCE with logits loss because we are doing a binary classification) and an optimizer (a variant of stochastic gradient Ddscent called ADAM) with a specific learning rate.\n",
        "\n"
      ]
    },
    {
      "cell_type": "code",
      "metadata": {
        "id": "chSsn3VlKN47",
        "colab_type": "code",
        "colab": {}
      },
      "source": [
        "import torch.nn as nn\n",
        "import torch.optim as optim\n",
        "\n",
        "criterion = nn.BCEWithLogitsLoss()\n",
        "opti = optim.Adam(sentiment_model.parameters(), lr = 1e-5)"
      ],
      "execution_count": 0,
      "outputs": []
    },
    {
      "cell_type": "markdown",
      "metadata": {
        "id": "not5LMP1dFnm",
        "colab_type": "text"
      },
      "source": [
        "*   Training function"
      ]
    },
    {
      "cell_type": "code",
      "metadata": {
        "id": "vSCBgEfivHGY",
        "colab_type": "code",
        "colab": {}
      },
      "source": [
        "import pdb\n",
        "training_stats = []\n",
        "\n",
        "def train(model, criterion, opti, train_loader, val_loader, max_eps=1, gpu=False, print_every=1,validate_every=1):\n",
        "    if gpu:\n",
        "      model = model.to(\"cuda\")\n",
        "    for ep in range(max_eps):\n",
        "        total_train_loss = 0\n",
        "        total_train_accuracy = 0\n",
        "        n_batch_test = 0\n",
        "        for it, (seq, attn_masks, labels) in enumerate(train_loader):\n",
        "            #Clear gradients\n",
        "            opti.zero_grad()  \n",
        "            #Converting these to cuda tensors\n",
        "            if gpu:\n",
        "              seq, attn_masks, labels = seq.cuda(), attn_masks.cuda(), labels.cuda()\n",
        "            #Obtaining the logits from the model\n",
        "            logits = model(seq, attn_masks)\n",
        "\n",
        "            #Computing loss\n",
        "            loss = criterion(logits.squeeze(-1), labels.float())\n",
        "\n",
        "            #Backpropagating the gradients\n",
        "            loss.backward()\n",
        "\n",
        "            #Optimization step\n",
        "            opti.step()\n",
        "            if (it + 1) % print_every == 0:\n",
        "                accuracy = torch.sum((logits>0).int().squeeze(1)==labels)/float(labels.size(0))\n",
        "                print(\"Iteration {} of epoch {} complete. Loss : {}, Accuracy {} \".format(it+1, ep+1, loss.item(),accuracy))\n",
        "            if it>1000:\n",
        "              break\n",
        "        total_train_loss += loss.item()\n",
        "        total_train_accuracy += accuracy\n",
        "        n_batch_test += 1        \n",
        "        if ep % validate_every==0:\n",
        "          n_batch_validation = 0\n",
        "          loss_validation = 0\n",
        "          accuracy_validation = 0\n",
        "          for it, (seq, attn_masks, labels) in enumerate(val_loader):\n",
        "            #Clear gradients\n",
        "            \n",
        "            if gpu:\n",
        "              seq, attn_masks, labels = seq.cuda(), attn_masks.cuda(), labels.cuda()\n",
        "            #Obtaining the logits from the model\n",
        "            logits_val = model(seq, attn_masks)\n",
        "            n_batch_validation+=1\n",
        "            #Computing loss\n",
        "           \n",
        "            _loss = float(criterion(logits_val.squeeze(-1), labels.float()))\n",
        "            _accu = float(torch.sum((logits_val>0).int().squeeze(1)==labels)/float(labels.size(0)))\n",
        "           \n",
        "            loss_validation += _loss\n",
        "            accuracy_validation += _accu\n",
        "          print(\"EVALUATION Validation set : mean loss {} n mean accuracy {}\".format(loss_validation/n_batch_validation, accuracy_validation/n_batch_validation))\n",
        "        avg_train_loss = total_train_loss/n_batch_validation    \n",
        "        avg_train_accuracy = total_train_accuracy/n_batch_validation\n",
        "        training_stats.append({'epoch': ep + 1, 'Training Loss': avg_train_loss, 'Training Accuracy': avg_train_accuracy, 'Valid. Loss': loss_validation/n_batch_validation, 'Valid. Accuracy': accuracy_validation/n_batch_validation})    "
      ],
      "execution_count": 0,
      "outputs": []
    },
    {
      "cell_type": "markdown",
      "metadata": {
        "id": "8a3eCOd6dMab",
        "colab_type": "text"
      },
      "source": [
        "We can choose the number of epochs (max_eps), the display frequency (print_every) and the use of gpu (gpu)."
      ]
    },
    {
      "cell_type": "markdown",
      "metadata": {
        "id": "oIoxDL4qdtYo",
        "colab_type": "text"
      },
      "source": [
        "## 4.2. Training with comments labelled from a dictionary"
      ]
    },
    {
      "cell_type": "code",
      "metadata": {
        "id": "juL5Q6jqHwAg",
        "colab_type": "code",
        "outputId": "2d54f954-dec1-4b78-828d-39a1338cfcc8",
        "colab": {
          "base_uri": "https://localhost:8080/",
          "height": 457
        }
      },
      "source": [
        "train(sentiment_model, criterion, opti, train_loader, val_loader, max_eps=5, print_every=100, gpu=True)"
      ],
      "execution_count": 126,
      "outputs": [
        {
          "output_type": "stream",
          "text": [
            "Iteration 100 of epoch 1 complete. Loss : 0.3351566195487976, Accuracy 0.859375 \n",
            "Iteration 200 of epoch 1 complete. Loss : 0.36769890785217285, Accuracy 0.8671875 \n",
            "Iteration 300 of epoch 1 complete. Loss : 0.2561355531215668, Accuracy 0.8828125 \n",
            "Iteration 400 of epoch 1 complete. Loss : 0.2635982632637024, Accuracy 0.90625 \n",
            "EVALUATION Validation set : mean loss 0.17136344892612423 n mean accuracy 0.9335798621177673\n",
            "Iteration 100 of epoch 2 complete. Loss : 0.13482871651649475, Accuracy 0.9375 \n",
            "Iteration 200 of epoch 2 complete. Loss : 0.17636734247207642, Accuracy 0.9375 \n",
            "Iteration 300 of epoch 2 complete. Loss : 0.11972206830978394, Accuracy 0.9375 \n",
            "Iteration 400 of epoch 2 complete. Loss : 0.11146217584609985, Accuracy 0.953125 \n",
            "EVALUATION Validation set : mean loss 0.1341675687805716 n mean accuracy 0.9480282807924661\n",
            "Iteration 100 of epoch 3 complete. Loss : 0.08102641999721527, Accuracy 0.9765625 \n",
            "Iteration 200 of epoch 3 complete. Loss : 0.13906848430633545, Accuracy 0.9453125 \n",
            "Iteration 300 of epoch 3 complete. Loss : 0.07168873399496078, Accuracy 0.9609375 \n",
            "Iteration 400 of epoch 3 complete. Loss : 0.049216046929359436, Accuracy 0.9921875 \n",
            "EVALUATION Validation set : mean loss 0.1502223795347185 n mean accuracy 0.9497225579008999\n",
            "Iteration 100 of epoch 4 complete. Loss : 0.10298524796962738, Accuracy 0.96875 \n",
            "Iteration 200 of epoch 4 complete. Loss : 0.10683880001306534, Accuracy 0.96875 \n",
            "Iteration 300 of epoch 4 complete. Loss : 0.023236127570271492, Accuracy 0.9921875 \n",
            "Iteration 400 of epoch 4 complete. Loss : 0.0342346727848053, Accuracy 0.9921875 \n",
            "EVALUATION Validation set : mean loss 0.1727984578135502 n mean accuracy 0.9534876181418637\n",
            "Iteration 100 of epoch 5 complete. Loss : 0.021878335624933243, Accuracy 0.9921875 \n",
            "Iteration 200 of epoch 5 complete. Loss : 0.08119925856590271, Accuracy 0.9765625 \n",
            "Iteration 300 of epoch 5 complete. Loss : 0.007083128672093153, Accuracy 1.0 \n",
            "Iteration 400 of epoch 5 complete. Loss : 0.02860906533896923, Accuracy 0.9921875 \n",
            "EVALUATION Validation set : mean loss 0.2086085877886199 n mean accuracy 0.9508991392262011\n"
          ],
          "name": "stdout"
        }
      ]
    },
    {
      "cell_type": "markdown",
      "metadata": {
        "id": "ZgpYkRUpdcJO",
        "colab_type": "text"
      },
      "source": [
        "*   Creating a dataframe from our training statistics"
      ]
    },
    {
      "cell_type": "code",
      "metadata": {
        "id": "BkxhCNMbFqiN",
        "colab_type": "code",
        "outputId": "417d831e-e8e1-4002-e818-1e6df66849a0",
        "colab": {
          "base_uri": "https://localhost:8080/",
          "height": 225
        }
      },
      "source": [
        "df_stats = pd.DataFrame(data=training_stats)\n",
        "df_stats = df_stats.set_index('epoch')\n",
        "df_stats"
      ],
      "execution_count": 127,
      "outputs": [
        {
          "output_type": "execute_result",
          "data": {
            "text/html": [
              "<div>\n",
              "<style scoped>\n",
              "    .dataframe tbody tr th:only-of-type {\n",
              "        vertical-align: middle;\n",
              "    }\n",
              "\n",
              "    .dataframe tbody tr th {\n",
              "        vertical-align: top;\n",
              "    }\n",
              "\n",
              "    .dataframe thead th {\n",
              "        text-align: right;\n",
              "    }\n",
              "</style>\n",
              "<table border=\"1\" class=\"dataframe\">\n",
              "  <thead>\n",
              "    <tr style=\"text-align: right;\">\n",
              "      <th></th>\n",
              "      <th>Training Loss</th>\n",
              "      <th>Training Accuracy</th>\n",
              "      <th>Valid. Loss</th>\n",
              "      <th>Valid. Accuracy</th>\n",
              "    </tr>\n",
              "    <tr>\n",
              "      <th>epoch</th>\n",
              "      <th></th>\n",
              "      <th></th>\n",
              "      <th></th>\n",
              "      <th></th>\n",
              "    </tr>\n",
              "  </thead>\n",
              "  <tbody>\n",
              "    <tr>\n",
              "      <th>1</th>\n",
              "      <td>0.001860</td>\n",
              "      <td>tensor(0.0055, device='cuda:0')</td>\n",
              "      <td>0.171363</td>\n",
              "      <td>0.933580</td>\n",
              "    </tr>\n",
              "    <tr>\n",
              "      <th>2</th>\n",
              "      <td>0.000891</td>\n",
              "      <td>tensor(0.0057, device='cuda:0')</td>\n",
              "      <td>0.134168</td>\n",
              "      <td>0.948028</td>\n",
              "    </tr>\n",
              "    <tr>\n",
              "      <th>3</th>\n",
              "      <td>0.000242</td>\n",
              "      <td>tensor(0.0060, device='cuda:0')</td>\n",
              "      <td>0.150222</td>\n",
              "      <td>0.949723</td>\n",
              "    </tr>\n",
              "    <tr>\n",
              "      <th>4</th>\n",
              "      <td>0.000008</td>\n",
              "      <td>tensor(0.0060, device='cuda:0')</td>\n",
              "      <td>0.172798</td>\n",
              "      <td>0.953488</td>\n",
              "    </tr>\n",
              "    <tr>\n",
              "      <th>5</th>\n",
              "      <td>0.000027</td>\n",
              "      <td>tensor(0.0060, device='cuda:0')</td>\n",
              "      <td>0.208609</td>\n",
              "      <td>0.950899</td>\n",
              "    </tr>\n",
              "  </tbody>\n",
              "</table>\n",
              "</div>"
            ],
            "text/plain": [
              "       Training Loss  ... Valid. Accuracy\n",
              "epoch                 ...                \n",
              "1           0.001860  ...        0.933580\n",
              "2           0.000891  ...        0.948028\n",
              "3           0.000242  ...        0.949723\n",
              "4           0.000008  ...        0.953488\n",
              "5           0.000027  ...        0.950899\n",
              "\n",
              "[5 rows x 4 columns]"
            ]
          },
          "metadata": {
            "tags": []
          },
          "execution_count": 127
        }
      ]
    },
    {
      "cell_type": "markdown",
      "metadata": {
        "id": "ilC5EKUDdkyC",
        "colab_type": "text"
      },
      "source": [
        "*   Plotting training & validation loss\n"
      ]
    },
    {
      "cell_type": "code",
      "metadata": {
        "id": "X6JFKYoBMJL6",
        "colab_type": "code",
        "outputId": "dddf87b9-7abc-4847-efa9-e941cdbb1229",
        "colab": {
          "base_uri": "https://localhost:8080/",
          "height": 427
        }
      },
      "source": [
        "import seaborn as sns\n",
        "\n",
        "sns.set(style='darkgrid')\n",
        "sns.set(font_scale=1.5)\n",
        "plt.rcParams[\"figure.figsize\"] = (12,6)\n",
        "\n",
        "plt.plot(df_stats['Training Loss'], 'b-o', label=\"Training\")\n",
        "plt.plot(df_stats['Valid. Loss'], 'g-o', label=\"Validation\")\n",
        "\n",
        "plt.title(\"Training & Validation Loss\")\n",
        "plt.xlabel(\"Epoch\")\n",
        "plt.ylabel(\"Loss\")\n",
        "plt.legend()\n",
        "plt.xticks([1, 2, 3, 4])\n",
        "\n",
        "plt.show()"
      ],
      "execution_count": 128,
      "outputs": [
        {
          "output_type": "display_data",
          "data": {
            "image/png": "[encoded data removed]",
            "text/plain": [
              "<Figure size 864x432 with 1 Axes>"
            ]
          },
          "metadata": {
            "tags": []
          }
        }
      ]
    },
    {
      "cell_type": "markdown",
      "metadata": {
        "id": "sURpQwjxppW5",
        "colab_type": "text"
      },
      "source": [
        "We can see that we are overfitting the data."
      ]
    },
    {
      "cell_type": "markdown",
      "metadata": {
        "id": "jGHZD5ipUc69",
        "colab_type": "text"
      },
      "source": [
        "## 4.3. Testing on the comments labelled from a dictionary"
      ]
    },
    {
      "cell_type": "markdown",
      "metadata": {
        "id": "FQ-Gh_pNdzk5",
        "colab_type": "text"
      },
      "source": [
        "*    Creating testing set and test loader"
      ]
    },
    {
      "cell_type": "code",
      "metadata": {
        "id": "Cp65_a7wisxt",
        "colab_type": "code",
        "colab": {}
      },
      "source": [
        "test_set = SSTDataset(filename = 'test_one.csv', maxlen=30, model_name='bert-base-uncased')\n",
        "test_loader = DataLoader(test_set, batch_size = 128, num_workers = 5)"
      ],
      "execution_count": 0,
      "outputs": []
    },
    {
      "cell_type": "markdown",
      "metadata": {
        "id": "c2ucSUvDd4jp",
        "colab_type": "text"
      },
      "source": [
        "We display the number of comments in the testing set."
      ]
    },
    {
      "cell_type": "code",
      "metadata": {
        "id": "cZg84CmavSQT",
        "colab_type": "code",
        "outputId": "d497510d-213e-413c-ef19-e3c1eb7136f1",
        "colab": {
          "base_uri": "https://localhost:8080/",
          "height": 34
        }
      },
      "source": [
        "print(test_set.__len__(), \"number of comments in testing set\")"
      ],
      "execution_count": 130,
      "outputs": [
        {
          "output_type": "stream",
          "text": [
            "21181 number of comments in testing set\n"
          ],
          "name": "stdout"
        }
      ]
    },
    {
      "cell_type": "markdown",
      "metadata": {
        "id": "SHUswMd-eCWX",
        "colab_type": "text"
      },
      "source": [
        "*   Evaluation function"
      ]
    },
    {
      "cell_type": "code",
      "metadata": {
        "id": "R-22IM5Ol-3o",
        "colab_type": "code",
        "colab": {}
      },
      "source": [
        "def sigmoid(x):                                        \n",
        "    return 1 / (1 + np.exp(-x))"
      ],
      "execution_count": 0,
      "outputs": []
    },
    {
      "cell_type": "code",
      "metadata": {
        "id": "eS29IKoB261U",
        "colab_type": "code",
        "colab": {}
      },
      "source": [
        "sentiment_model.eval()\n",
        "predictions, true_labels = [], []\n",
        "device = torch.device(\"cuda\")\n",
        "\n",
        "for it, (seq, attn_masks, labels) in enumerate(test_loader):\n",
        "  # Add batch to GPU\n",
        "  seq, attn_masks, labels = seq.cuda(), attn_masks.cuda(), labels.cuda()\n",
        "  \n",
        "  # Telling the model not to compute or store gradients, saving memory and \n",
        "  # speeding up prediction\n",
        "  with torch.no_grad():\n",
        "      # Forward pass, calculate logit predictions\n",
        "      outputs = sentiment_model(seq, attn_masks)\n",
        "  # Move logits and labels to CPU\n",
        "  logits = outputs.detach().cpu().numpy()\n",
        "  label_ids = labels.to('cpu').numpy()\n",
        "\n",
        "  # Store predictions and true labels\n",
        "  predictions.append((sigmoid(logits[:, 0]) > 0.5)*1)\n",
        "  true_labels.append(label_ids)"
      ],
      "execution_count": 0,
      "outputs": []
    },
    {
      "cell_type": "code",
      "metadata": {
        "id": "f_qrRVhAsYEl",
        "colab_type": "code",
        "colab": {}
      },
      "source": [
        "predictions_mer = np.array([j for i in predictions for j in i])\n",
        "true_labels_mer = np.array([j for i in true_labels for j in i])"
      ],
      "execution_count": 0,
      "outputs": []
    },
    {
      "cell_type": "markdown",
      "metadata": {
        "id": "hDsJZZC5tBEJ",
        "colab_type": "text"
      },
      "source": [
        "*  F1 score"
      ]
    },
    {
      "cell_type": "code",
      "metadata": {
        "id": "MMmrdUjJmdgs",
        "colab_type": "code",
        "colab": {
          "base_uri": "https://localhost:8080/",
          "height": 175
        },
        "outputId": "f9446ae6-d924-4b59-9a03-abfbd10f1303"
      },
      "source": [
        "from sklearn.metrics import classification_report\n",
        "\n",
        "print(classification_report(true_labels_mer, predictions_mer))"
      ],
      "execution_count": 153,
      "outputs": [
        {
          "output_type": "stream",
          "text": [
            "              precision    recall  f1-score   support\n",
            "\n",
            "           0       0.94      0.96      0.95     14399\n",
            "           1       0.91      0.88      0.89      6782\n",
            "\n",
            "    accuracy                           0.93     21181\n",
            "   macro avg       0.93      0.92      0.92     21181\n",
            "weighted avg       0.93      0.93      0.93     21181\n",
            "\n"
          ],
          "name": "stdout"
        }
      ]
    },
    {
      "cell_type": "markdown",
      "metadata": {
        "id": "0Ze--typeIE5",
        "colab_type": "text"
      },
      "source": [
        "*   Evaluation display"
      ]
    },
    {
      "cell_type": "code",
      "metadata": {
        "id": "k3O7KVkYpJ49",
        "colab_type": "code",
        "colab": {}
      },
      "source": [
        "from sklearn.metrics import classification_report, confusion_matrix, roc_curve, auc\n",
        "import matplotlib.pyplot as plt\n",
        "import seaborn as sn\n",
        "\n",
        "def show_eval_bert(y_true, y_pred, labels):\n",
        "  cm = confusion_matrix(y_true, y_pred) \n",
        "  df_cm = pd.DataFrame(cm, index=labels, columns=labels)\n",
        "\n",
        "  # config plot sizes\n",
        "  sn.set(font_scale=1.2)\n",
        "  sn.heatmap(df_cm, annot=True, annot_kws={\"size\": 18}, cmap='coolwarm', linewidth=0.5, fmt=\"\")\n",
        "  plt.show()"
      ],
      "execution_count": 0,
      "outputs": []
    },
    {
      "cell_type": "code",
      "metadata": {
        "id": "7Ra7L53thMPn",
        "colab_type": "code",
        "outputId": "0482966f-5807-4966-9e8f-17b79d483336",
        "colab": {
          "base_uri": "https://localhost:8080/",
          "height": 415
        }
      },
      "source": [
        "show_eval_bert(true_labels_mer, predictions_mer, ['0', '1'])"
      ],
      "execution_count": 0,
      "outputs": [
        {
          "output_type": "display_data",
          "data": {
            "image/png": "[encoded data removed]",
            "text/plain": [
              "<Figure size 864x432 with 2 Axes>"
            ]
          },
          "metadata": {
            "tags": []
          }
        },
        {
          "output_type": "stream",
          "text": [
            "negative 0.7507466907120633\n",
            "positive 0.7507466907120632\n"
          ],
          "name": "stdout"
        }
      ]
    },
    {
      "cell_type": "markdown",
      "metadata": {
        "id": "x_R8EemZ2dSl",
        "colab_type": "text"
      },
      "source": [
        "## 4.4 Predicting the positive or negative emotions generated by the topic of the article"
      ]
    },
    {
      "cell_type": "markdown",
      "metadata": {
        "id": "cTtD8eqMvvO-",
        "colab_type": "text"
      },
      "source": [
        "*  Retrieving all comments"
      ]
    },
    {
      "cell_type": "code",
      "metadata": {
        "id": "88O5yoFn3D-n",
        "colab_type": "code",
        "outputId": "fcec2888-7bf5-4392-f1a0-4f99fbc30ef3",
        "colab": {
          "base_uri": "https://localhost:8080/",
          "height": 334
        }
      },
      "source": [
        "comments_final = dfComments[['commentBody']]\n",
        "comments_final['sentiment'] = np.nan\n",
        "comments_final['commentBody'] = comments_final['commentBody'].str.replace('<br/>', ' ').str.replace('@', '')\n",
        "comments_final['commentBody'] = comments_final['commentBody'].str.lower()\n",
        "comments_final.to_csv('comments_final.csv', sep='\\t', index=False)"
      ],
      "execution_count": 157,
      "outputs": [
        {
          "output_type": "stream",
          "text": [
            "/usr/local/lib/python3.6/dist-packages/ipykernel_launcher.py:2: SettingWithCopyWarning: \n",
            "A value is trying to be set on a copy of a slice from a DataFrame.\n",
            "Try using .loc[row_indexer,col_indexer] = value instead\n",
            "\n",
            "See the caveats in the documentation: https://pandas.pydata.org/pandas-docs/stable/user_guide/indexing.html#returning-a-view-versus-a-copy\n",
            "  \n",
            "/usr/local/lib/python3.6/dist-packages/ipykernel_launcher.py:3: SettingWithCopyWarning: \n",
            "A value is trying to be set on a copy of a slice from a DataFrame.\n",
            "Try using .loc[row_indexer,col_indexer] = value instead\n",
            "\n",
            "See the caveats in the documentation: https://pandas.pydata.org/pandas-docs/stable/user_guide/indexing.html#returning-a-view-versus-a-copy\n",
            "  This is separate from the ipykernel package so we can avoid doing imports until\n",
            "/usr/local/lib/python3.6/dist-packages/ipykernel_launcher.py:4: SettingWithCopyWarning: \n",
            "A value is trying to be set on a copy of a slice from a DataFrame.\n",
            "Try using .loc[row_indexer,col_indexer] = value instead\n",
            "\n",
            "See the caveats in the documentation: https://pandas.pydata.org/pandas-docs/stable/user_guide/indexing.html#returning-a-view-versus-a-copy\n",
            "  after removing the cwd from sys.path.\n"
          ],
          "name": "stderr"
        }
      ]
    },
    {
      "cell_type": "markdown",
      "metadata": {
        "colab_type": "text",
        "id": "Z65m3ODV2rrd"
      },
      "source": [
        "*    Creating comments set and comments loader"
      ]
    },
    {
      "cell_type": "code",
      "metadata": {
        "colab_type": "code",
        "id": "Om5ZK47u2rrj",
        "colab": {}
      },
      "source": [
        "comments_set = SSTDataset(filename = 'comments_final.csv', maxlen=30, model_name='bert-base-uncased')\n",
        "comments_loader = DataLoader(comments_set, batch_size = 128, num_workers = 5)"
      ],
      "execution_count": 0,
      "outputs": []
    },
    {
      "cell_type": "code",
      "metadata": {
        "id": "7hFJCDX_83WQ",
        "colab_type": "code",
        "outputId": "dd7be482-d386-4f3b-ca49-379d1c5f2958",
        "colab": {
          "base_uri": "https://localhost:8080/",
          "height": 34
        }
      },
      "source": [
        "print(comments_set.__len__(), \"number of comments in the entire set\")"
      ],
      "execution_count": 159,
      "outputs": [
        {
          "output_type": "stream",
          "text": [
            "105904 number of comments in the entire set\n"
          ],
          "name": "stdout"
        }
      ]
    },
    {
      "cell_type": "markdown",
      "metadata": {
        "colab_type": "text",
        "id": "tnJumPTH2rrv"
      },
      "source": [
        "*   Evaluation function"
      ]
    },
    {
      "cell_type": "code",
      "metadata": {
        "colab_type": "code",
        "id": "Hy44aj9T-ztk",
        "colab": {}
      },
      "source": [
        "sentiment_model.eval()\n",
        "predictions, true_labels = [], []\n",
        "device = torch.device(\"cuda\")\n",
        "\n",
        "for it, (seq, attn_masks, labels) in enumerate(comments_loader):\n",
        "  # Add batch to GPU\n",
        "  seq, attn_masks, labels = seq.cuda(), attn_masks.cuda(), labels.cuda()\n",
        "  \n",
        "  # Telling the model not to compute or store gradients, saving memory and \n",
        "  # speeding up prediction\n",
        "  with torch.no_grad():\n",
        "      # Forward pass, calculate logit predictions\n",
        "      outputs = sentiment_model(seq, attn_masks)\n",
        "  # Move logits and labels to CPU\n",
        "  logits = outputs.detach().cpu().numpy()\n",
        "\n",
        "  # Store predictions and true labels\n",
        "  predictions.append((sigmoid(logits[:, 0]) > 0.5)*1)"
      ],
      "execution_count": 0,
      "outputs": []
    },
    {
      "cell_type": "code",
      "metadata": {
        "colab_type": "code",
        "id": "witE4PfC2rrz",
        "outputId": "b0e0b7cc-a0f6-4e7e-d223-90f837d13532",
        "colab": {
          "base_uri": "https://localhost:8080/",
          "height": 122
        }
      },
      "source": [
        "predictions_mer = np.array([j for i in predictions for j in i])\n",
        "comments_final['sentiment'] = predictions_mer"
      ],
      "execution_count": 162,
      "outputs": [
        {
          "output_type": "stream",
          "text": [
            "/usr/local/lib/python3.6/dist-packages/ipykernel_launcher.py:2: SettingWithCopyWarning: \n",
            "A value is trying to be set on a copy of a slice from a DataFrame.\n",
            "Try using .loc[row_indexer,col_indexer] = value instead\n",
            "\n",
            "See the caveats in the documentation: https://pandas.pydata.org/pandas-docs/stable/user_guide/indexing.html#returning-a-view-versus-a-copy\n",
            "  \n"
          ],
          "name": "stderr"
        }
      ]
    },
    {
      "cell_type": "markdown",
      "metadata": {
        "id": "nj-J7M7DwJVF",
        "colab_type": "text"
      },
      "source": [
        "We rename labels '0' as 'negative' and labels '1' as 'positive'."
      ]
    },
    {
      "cell_type": "code",
      "metadata": {
        "id": "MNRuR0PBDPgD",
        "colab_type": "code",
        "outputId": "ee1e0fca-cd89-4eac-fafc-174ec274a678",
        "colab": {
          "base_uri": "https://localhost:8080/",
          "height": 105
        }
      },
      "source": [
        "comments_final['sentiment'].replace({0: \"negative\", 1: \"positive\"}, inplace=True)"
      ],
      "execution_count": 163,
      "outputs": [
        {
          "output_type": "stream",
          "text": [
            "/usr/local/lib/python3.6/dist-packages/pandas/core/generic.py:6746: SettingWithCopyWarning: \n",
            "A value is trying to be set on a copy of a slice from a DataFrame\n",
            "\n",
            "See the caveats in the documentation: https://pandas.pydata.org/pandas-docs/stable/user_guide/indexing.html#returning-a-view-versus-a-copy\n",
            "  self._update_inplace(new_data)\n"
          ],
          "name": "stderr"
        }
      ]
    },
    {
      "cell_type": "markdown",
      "metadata": {
        "id": "mb9MrpqEwejK",
        "colab_type": "text"
      },
      "source": [
        "*  Adding a column with BERT's predictions in the global dataframe"
      ]
    },
    {
      "cell_type": "code",
      "metadata": {
        "id": "4fVSCDeJDS5g",
        "colab_type": "code",
        "colab": {}
      },
      "source": [
        "dfComments['sentiments_BERT'] = comments_final['sentiment'] "
      ],
      "execution_count": 0,
      "outputs": []
    },
    {
      "cell_type": "markdown",
      "metadata": {
        "colab_type": "text",
        "id": "bsqcn9KM2aJ3"
      },
      "source": [
        "# 5. TEXT CLASSIFICATION WITH KERAS AND GLOVE (SENTIMENT CLASSIFICATION)\n",
        "\n",
        "---\n",
        "\n"
      ]
    },
    {
      "cell_type": "markdown",
      "metadata": {
        "id": "DJzqP1MsLFkI",
        "colab_type": "text"
      },
      "source": [
        "## 5.1. Pre-processing and modeling with Keras and GloVe"
      ]
    },
    {
      "cell_type": "markdown",
      "metadata": {
        "id": "v1JIYIIZha-H",
        "colab_type": "text"
      },
      "source": [
        "*   Uploading datasets\n",
        "\n"
      ]
    },
    {
      "cell_type": "code",
      "metadata": {
        "id": "iXBu_UhqEuVS",
        "colab_type": "code",
        "colab": {}
      },
      "source": [
        "train_sentiment = pd.read_csv('train_one_sentiment.csv', sep = \"\\t\")\n",
        "test_sentiment = pd.read_csv('test_one_sentiment.csv', sep = \"\\t\")\n",
        "dev_sentiment = pd.read_csv('dev_one_sentiment.csv', sep = \"\\t\")"
      ],
      "execution_count": 0,
      "outputs": []
    },
    {
      "cell_type": "markdown",
      "metadata": {
        "id": "HkGb4kFhh0r6",
        "colab_type": "text"
      },
      "source": [
        "*   Separating labels and comments"
      ]
    },
    {
      "cell_type": "code",
      "metadata": {
        "id": "XGOHIUn6FWhj",
        "colab_type": "code",
        "colab": {}
      },
      "source": [
        "X_train = train_sentiment[train_sentiment.columns[0]]\n",
        "y_train = train_sentiment[train_sentiment.columns[1:].tolist()]\n",
        "X_test = test_sentiment[test_sentiment.columns[0]]\n",
        "y_test = test_sentiment[test_sentiment.columns[1:].tolist()]\n",
        "labels = y_train.columns.values.tolist()"
      ],
      "execution_count": 0,
      "outputs": []
    },
    {
      "cell_type": "markdown",
      "metadata": {
        "id": "gfA5eL6LX80I",
        "colab_type": "text"
      },
      "source": [
        "*   Importing Keras packages"
      ]
    },
    {
      "cell_type": "code",
      "metadata": {
        "id": "hTlva3WZFzBi",
        "colab_type": "code",
        "outputId": "ca1489b1-9c86-4d4c-fee2-aacddb709300",
        "colab": {
          "base_uri": "https://localhost:8080/",
          "height": 34
        }
      },
      "source": [
        "from keras.preprocessing.text import Tokenizer\n",
        "from keras.preprocessing.sequence import pad_sequences"
      ],
      "execution_count": 168,
      "outputs": [
        {
          "output_type": "stream",
          "text": [
            "Using TensorFlow backend.\n"
          ],
          "name": "stderr"
        }
      ]
    },
    {
      "cell_type": "markdown",
      "metadata": {
        "id": "3I5N4TT4iJLa",
        "colab_type": "text"
      },
      "source": [
        "*   Tokenization and word embeddings with GloVe"
      ]
    },
    {
      "cell_type": "code",
      "metadata": {
        "id": "_nPxgqHFEfmM",
        "colab_type": "code",
        "colab": {}
      },
      "source": [
        "tokenizer = Tokenizer(num_words=5000)\n",
        "tokenizer.fit_on_texts(X_train)\n",
        "X_train = tokenizer.texts_to_sequences(X_train)\n",
        "X_test = tokenizer.texts_to_sequences(X_test)\n",
        "vocab_size = len(tokenizer.word_index) + 1\n",
        "maxlen = 200\n",
        "X_train = pad_sequences(X_train, padding='post', maxlen=maxlen)\n",
        "X_test = pad_sequences(X_test, padding='post', maxlen=maxlen)"
      ],
      "execution_count": 0,
      "outputs": []
    },
    {
      "cell_type": "markdown",
      "metadata": {
        "id": "LKOE4P_PlrFZ",
        "colab_type": "text"
      },
      "source": [
        "We download GloVE."
      ]
    },
    {
      "cell_type": "code",
      "metadata": {
        "id": "0946hh6Yk-Ww",
        "colab_type": "code",
        "outputId": "abff46c4-73f9-4a24-f038-455ac2123f32",
        "colab": {
          "base_uri": "https://localhost:8080/",
          "height": 369
        }
      },
      "source": [
        "!wget 'http://nlp.stanford.edu/data/glove.6B.zip'"
      ],
      "execution_count": 170,
      "outputs": [
        {
          "output_type": "stream",
          "text": [
            "--2020-04-12 14:11:06--  http://nlp.stanford.edu/data/glove.6B.zip\n",
            "Resolving nlp.stanford.edu (nlp.stanford.edu)... 171.64.67.140\n",
            "Connecting to nlp.stanford.edu (nlp.stanford.edu)|171.64.67.140|:80... connected.\n",
            "HTTP request sent, awaiting response... 302 Found\n",
            "Location: https://nlp.stanford.edu/data/glove.6B.zip [following]\n",
            "--2020-04-12 14:11:06--  https://nlp.stanford.edu/data/glove.6B.zip\n",
            "Connecting to nlp.stanford.edu (nlp.stanford.edu)|171.64.67.140|:443... connected.\n",
            "HTTP request sent, awaiting response... 301 Moved Permanently\n",
            "Location: http://downloads.cs.stanford.edu/nlp/data/glove.6B.zip [following]\n",
            "--2020-04-12 14:11:07--  http://downloads.cs.stanford.edu/nlp/data/glove.6B.zip\n",
            "Resolving downloads.cs.stanford.edu (downloads.cs.stanford.edu)... 171.64.64.22\n",
            "Connecting to downloads.cs.stanford.edu (downloads.cs.stanford.edu)|171.64.64.22|:80... connected.\n",
            "HTTP request sent, awaiting response... 200 OK\n",
            "Length: 862182613 (822M) [application/zip]\n",
            "Saving to: ‘glove.6B.zip’\n",
            "\n",
            "glove.6B.zip        100%[===================>] 822.24M  2.05MB/s    in 6m 29s  \n",
            "\n",
            "2020-04-12 14:17:37 (2.11 MB/s) - ‘glove.6B.zip’ saved [862182613/862182613]\n",
            "\n"
          ],
          "name": "stdout"
        }
      ]
    },
    {
      "cell_type": "code",
      "metadata": {
        "id": "VyZZTtaOlOMe",
        "colab_type": "code",
        "outputId": "842da94b-37ed-4499-efca-aa3d1f09ccd7",
        "colab": {
          "base_uri": "https://localhost:8080/",
          "height": 105
        }
      },
      "source": [
        "!unzip 'glove.6B.zip'"
      ],
      "execution_count": 171,
      "outputs": [
        {
          "output_type": "stream",
          "text": [
            "Archive:  glove.6B.zip\n",
            "  inflating: glove.6B.50d.txt        \n",
            "  inflating: glove.6B.100d.txt       \n",
            "  inflating: glove.6B.200d.txt       \n",
            "  inflating: glove.6B.300d.txt       \n"
          ],
          "name": "stdout"
        }
      ]
    },
    {
      "cell_type": "code",
      "metadata": {
        "id": "Mhy8GrYqEaqG",
        "colab_type": "code",
        "outputId": "46da62f7-5fd8-48ec-9d7e-6b9152355508",
        "colab": {
          "base_uri": "https://localhost:8080/",
          "height": 34
        }
      },
      "source": [
        "word_index = tokenizer.word_index\n",
        "\n",
        "embeddings_index = {}\n",
        "f = open('glove.6B.100d.txt')\n",
        "for line in f:\n",
        "    values = line.split()\n",
        "    word = values[0]\n",
        "    coefs = np.asarray(values[1:], dtype='float32')\n",
        "    embeddings_index[word] = coefs\n",
        "f.close()\n",
        "\n",
        "print('Found %s word vectors.' % len(embeddings_index))\n",
        "\n",
        "embedding_matrix = np.zeros((len(word_index) + 1, 100))\n",
        "for word, i in word_index.items():\n",
        "    embedding_vector = embeddings_index.get(word)\n",
        "    if embedding_vector is not None:\n",
        "        # words not found in embedding index will be all-zeros.\n",
        "        embedding_matrix[i] = embedding_vector"
      ],
      "execution_count": 172,
      "outputs": [
        {
          "output_type": "stream",
          "text": [
            "Found 400000 word vectors.\n"
          ],
          "name": "stdout"
        }
      ]
    },
    {
      "cell_type": "markdown",
      "metadata": {
        "id": "yfLGF5-RiWoH",
        "colab_type": "text"
      },
      "source": [
        "*  Model creation"
      ]
    },
    {
      "cell_type": "code",
      "metadata": {
        "id": "Vq6xGklGGXpi",
        "colab_type": "code",
        "colab": {}
      },
      "source": [
        "from tensorflow.python.keras.layers import Input\n",
        "from tensorflow.python.keras.layers.embeddings import Embedding\n",
        "from tensorflow.python.keras.layers import Flatten, LSTM\n",
        "from tensorflow.python.keras.layers.core import Activation, Dropout, Dense\n",
        "from tensorflow.python.keras.models import Model\n",
        "\n",
        "deep_inputs = Input(shape=(maxlen,))\n",
        "embedding_layer = Embedding(vocab_size, 100, weights=[embedding_matrix], trainable=False)(deep_inputs)\n",
        "LSTM_Layer_1 = LSTM(128)(embedding_layer)\n",
        "dense_layer_1 = Dense(len(labels), activation='sigmoid')(LSTM_Layer_1)\n",
        "model = Model(inputs=deep_inputs, outputs=dense_layer_1)\n",
        "\n",
        "model.compile(loss='binary_crossentropy', optimizer='adam', metrics=['acc'])"
      ],
      "execution_count": 0,
      "outputs": []
    },
    {
      "cell_type": "markdown",
      "metadata": {
        "id": "qyMG69-IiZ2i",
        "colab_type": "text"
      },
      "source": [
        "Here are some features of this model:"
      ]
    },
    {
      "cell_type": "code",
      "metadata": {
        "id": "c54vAJIDGaS4",
        "colab_type": "code",
        "outputId": "37973fe3-1095-43db-a8f9-71e387a3dba4",
        "colab": {
          "base_uri": "https://localhost:8080/",
          "height": 316
        }
      },
      "source": [
        "print(model.summary())"
      ],
      "execution_count": 174,
      "outputs": [
        {
          "output_type": "stream",
          "text": [
            "Model: \"model\"\n",
            "_________________________________________________________________\n",
            "Layer (type)                 Output Shape              Param #   \n",
            "=================================================================\n",
            "input_1 (InputLayer)         [(None, 200)]             0         \n",
            "_________________________________________________________________\n",
            "embedding (Embedding)        (None, 200, 100)          1236200   \n",
            "_________________________________________________________________\n",
            "lstm (LSTM)                  (None, 128)               117248    \n",
            "_________________________________________________________________\n",
            "dense (Dense)                (None, 4)                 516       \n",
            "=================================================================\n",
            "Total params: 1,353,964\n",
            "Trainable params: 117,764\n",
            "Non-trainable params: 1,236,200\n",
            "_________________________________________________________________\n",
            "None\n"
          ],
          "name": "stdout"
        }
      ]
    },
    {
      "cell_type": "markdown",
      "metadata": {
        "id": "VBktqLAYLwHZ",
        "colab_type": "text"
      },
      "source": [
        "## 5.2. Training with comments labelled from a dictionary"
      ]
    },
    {
      "cell_type": "markdown",
      "metadata": {
        "id": "A3IuMOnViiRZ",
        "colab_type": "text"
      },
      "source": [
        "*   Training function"
      ]
    },
    {
      "cell_type": "code",
      "metadata": {
        "id": "ZnAP2RoASOAA",
        "colab_type": "code",
        "outputId": "a51ce44c-711b-4d20-bd2b-58df5e1a9af8",
        "colab": {
          "base_uri": "https://localhost:8080/",
          "height": 193
        }
      },
      "source": [
        "history = model.fit(X_train, y_train, batch_size=6, epochs=5, verbose=1, validation_split=0.2)"
      ],
      "execution_count": 175,
      "outputs": [
        {
          "output_type": "stream",
          "text": [
            "Epoch 1/5\n",
            "838/838 [==============================] - 12s 14ms/step - loss: 0.5462 - acc: 0.4087 - val_loss: 0.5419 - val_acc: 0.4132\n",
            "Epoch 2/5\n",
            "838/838 [==============================] - 11s 13ms/step - loss: 0.5422 - acc: 0.4093 - val_loss: 0.5403 - val_acc: 0.4132\n",
            "Epoch 3/5\n",
            "838/838 [==============================] - 11s 13ms/step - loss: 0.5420 - acc: 0.4095 - val_loss: 0.5434 - val_acc: 0.4132\n",
            "Epoch 4/5\n",
            "838/838 [==============================] - 12s 14ms/step - loss: 0.5416 - acc: 0.4093 - val_loss: 0.5427 - val_acc: 0.4132\n",
            "Epoch 5/5\n",
            "838/838 [==============================] - 12s 14ms/step - loss: 0.5414 - acc: 0.4093 - val_loss: 0.5399 - val_acc: 0.4132\n"
          ],
          "name": "stdout"
        }
      ]
    },
    {
      "cell_type": "markdown",
      "metadata": {
        "id": "bWRs2jl17ENl",
        "colab_type": "text"
      },
      "source": [
        "## 5.3. Testing on the comments labelled from a dictionary"
      ]
    },
    {
      "cell_type": "code",
      "metadata": {
        "id": "Kw1ocHiif-vy",
        "colab_type": "code",
        "outputId": "fbe8be0b-ae70-479b-d27e-d8f6de99b785",
        "colab": {
          "base_uri": "https://localhost:8080/",
          "height": 70
        }
      },
      "source": [
        "score = model.evaluate(X_test, y_test, verbose=1)\n",
        "\n",
        "print(\"Test Score:\", score[0])\n",
        "print(\"Test Accuracy:\", score[1])"
      ],
      "execution_count": 176,
      "outputs": [
        {
          "output_type": "stream",
          "text": [
            "66/66 [==============================] - 1s 8ms/step - loss: 0.5353 - acc: 0.4351\n",
            "Test Score: 0.5353171229362488\n",
            "Test Accuracy: 0.4350525438785553\n"
          ],
          "name": "stdout"
        }
      ]
    },
    {
      "cell_type": "code",
      "metadata": {
        "id": "tW1PRpXNgCEE",
        "colab_type": "code",
        "outputId": "fa61307d-f68e-44db-ffc5-c2fe1d5d1e78",
        "colab": {
          "base_uri": "https://localhost:8080/",
          "height": 837
        }
      },
      "source": [
        "import matplotlib.pyplot as plt\n",
        "\n",
        "plt.plot(history.history['acc'])\n",
        "plt.plot(history.history['val_acc'])\n",
        "\n",
        "plt.title('model accuracy')\n",
        "plt.ylabel('accuracy')\n",
        "plt.xlabel('epoch')\n",
        "plt.legend(['train','test'], loc='upper left')\n",
        "plt.show()\n",
        "\n",
        "plt.plot(history.history['loss'])\n",
        "plt.plot(history.history['val_loss'])\n",
        "\n",
        "plt.title('model loss')\n",
        "plt.ylabel('loss')\n",
        "plt.xlabel('epoch')\n",
        "plt.legend(['train','test'], loc='upper left')\n",
        "plt.show()"
      ],
      "execution_count": 177,
      "outputs": [
        {
          "output_type": "display_data",
          "data": {
            "image/png": "[encoded data removed]",
            "text/plain": [
              "<Figure size 864x432 with 1 Axes>"
            ]
          },
          "metadata": {
            "tags": []
          }
        },
        {
          "output_type": "display_data",
          "data": {
            "image/png": "[encoded data removed]",
            "text/plain": [
              "<Figure size 864x432 with 1 Axes>"
            ]
          },
          "metadata": {
            "tags": []
          }
        }
      ]
    },
    {
      "cell_type": "markdown",
      "metadata": {
        "id": "VtyOgqOjfUTu",
        "colab_type": "text"
      },
      "source": [
        "# 6. WHICH EMOTIONS ARE TRIGGERED BY THE NEW YORK TIME'S DIFFERENT TOPICS?\n",
        "\n",
        "\n"
      ]
    },
    {
      "cell_type": "code",
      "metadata": {
        "id": "nLSZEE7vnUQN",
        "colab_type": "code",
        "colab": {}
      },
      "source": [
        "# evaluating the major emotion generated by a topic\n",
        "def evaluate_emotions(dfComments, nyt_emotions, clf, labels):\n",
        "\n",
        "  # defining a column to store the major emotion generated by each topic according to the prediction of classifier clf\n",
        "  nyt_emotions[\"max_\"+clf] = 0\n",
        "\n",
        "  for topic in nyt_emotions.section:\n",
        "\n",
        "    # getting the numbers of comments for each sentiment by section \n",
        "    sentiments_numbers = dfComments.loc[dfComments[\"sectionName\"]==topic, \"sentiments_\"+clf].value_counts()\n",
        "\n",
        "    # writing the emotion that got the maximum of comments in this section\n",
        "    nyt_emotions.loc[nyt_emotions[\"section\"]==topic,\"max_\"+clf] = sentiments_numbers.index.values[0]\n",
        "\n",
        "  return(nyt_emotions)"
      ],
      "execution_count": 0,
      "outputs": []
    },
    {
      "cell_type": "code",
      "metadata": {
        "id": "QqOIYAGSnV3D",
        "colab_type": "code",
        "colab": {}
      },
      "source": [
        "# creating a dataset to register the dominant emotion expressed in a section\n",
        "section_names = dfComments.sectionName.unique()\n",
        "nyt_emotions = pd.DataFrame({'section': section_names}) "
      ],
      "execution_count": 0,
      "outputs": []
    },
    {
      "cell_type": "code",
      "metadata": {
        "id": "T7rTvsgwnYRK",
        "colab_type": "code",
        "colab": {
          "base_uri": "https://localhost:8080/",
          "height": 562
        },
        "outputId": "ac9ac4b4-6ac1-4eaf-8123-56f021320ec9"
      },
      "source": [
        "# adding predictions made with SVM and Random Forest with 4 emotions\n",
        "labels = [\"anger\", \"joy\", \"sadness\", \"trust\"]\n",
        "nyt_emotions = evaluate_emotions(dfComments, nyt_emotions, \"svm\", labels)\n",
        "nyt_emotions = evaluate_emotions(dfComments, nyt_emotions, \"rfc\", labels)\n",
        "print(nyt_emotions)"
      ],
      "execution_count": 190,
      "outputs": [
        {
          "output_type": "stream",
          "text": [
            "               section max_svm max_rfc\n",
            "0   College Basketball   anger   anger\n",
            "1                Media   anger   anger\n",
            "2             Politics   anger   anger\n",
            "3             Baseball   anger   anger\n",
            "4        Sunday Review   anger   anger\n",
            "5       Pro Basketball   anger   anger\n",
            "6           Television   anger   anger\n",
            "7         Asia Pacific   anger   anger\n",
            "8               Family   anger   anger\n",
            "9                 Live   anger   anger\n",
            "10      Education Life   anger   anger\n",
            "11              Hockey   anger   anger\n",
            "12        Lesson Plans     joy   anger\n",
            "13         Middle East   anger   anger\n",
            "14                Move   anger   anger\n",
            "15               Music   anger   anger\n",
            "16                Mind   anger   anger\n",
            "17              Soccer   anger   anger\n",
            "18            DealBook   anger   anger\n",
            "19                Golf   anger   anger\n",
            "20                 Eat   anger   anger\n",
            "21       Student Loans   anger   anger\n",
            "22             Economy   anger   anger\n",
            "23        Art & Design   anger   anger\n",
            "24         Book Review   anger   anger\n",
            "25              Europe   anger   anger\n",
            "26              Tennis   anger   anger\n",
            "27         Auto Racing   anger   anger\n",
            "28        Pro Football   anger   anger\n",
            "29              Canada   anger   anger\n"
          ],
          "name": "stdout"
        }
      ]
    },
    {
      "cell_type": "code",
      "metadata": {
        "id": "epKQTYJQnaCN",
        "colab_type": "code",
        "colab": {
          "base_uri": "https://localhost:8080/",
          "height": 562
        },
        "outputId": "f67fafb6-72f6-4d12-e6d1-9503db894830"
      },
      "source": [
        "# adding predictions made with SVM and Random Forest with 2 emotions\n",
        "labels = [\"negative\", \"positive\"]\n",
        "nyt_emotions = evaluate_emotions(dfComments, nyt_emotions, \"svm_posneg\", labels)\n",
        "nyt_emotions = evaluate_emotions(dfComments, nyt_emotions, \"rfc_posneg\", labels)\n",
        "print(nyt_emotions)"
      ],
      "execution_count": 191,
      "outputs": [
        {
          "output_type": "stream",
          "text": [
            "               section max_svm max_rfc max_svm_posneg max_rfc_posneg\n",
            "0   College Basketball   anger   anger       negative       negative\n",
            "1                Media   anger   anger       negative       negative\n",
            "2             Politics   anger   anger       negative       negative\n",
            "3             Baseball   anger   anger       negative       negative\n",
            "4        Sunday Review   anger   anger       negative       negative\n",
            "5       Pro Basketball   anger   anger       negative       negative\n",
            "6           Television   anger   anger       negative       negative\n",
            "7         Asia Pacific   anger   anger       negative       negative\n",
            "8               Family   anger   anger       negative       negative\n",
            "9                 Live   anger   anger       negative       negative\n",
            "10      Education Life   anger   anger       negative       negative\n",
            "11              Hockey   anger   anger       negative       negative\n",
            "12        Lesson Plans     joy   anger       positive       positive\n",
            "13         Middle East   anger   anger       negative       negative\n",
            "14                Move   anger   anger       negative       negative\n",
            "15               Music   anger   anger       negative       negative\n",
            "16                Mind   anger   anger       negative       negative\n",
            "17              Soccer   anger   anger       negative       negative\n",
            "18            DealBook   anger   anger       negative       negative\n",
            "19                Golf   anger   anger       positive       negative\n",
            "20                 Eat   anger   anger       negative       negative\n",
            "21       Student Loans   anger   anger       negative       negative\n",
            "22             Economy   anger   anger       negative       negative\n",
            "23        Art & Design   anger   anger       negative       negative\n",
            "24         Book Review   anger   anger       negative       negative\n",
            "25              Europe   anger   anger       negative       negative\n",
            "26              Tennis   anger   anger       positive       negative\n",
            "27         Auto Racing   anger   anger       negative       negative\n",
            "28        Pro Football   anger   anger       negative       negative\n",
            "29              Canada   anger   anger       negative       negative\n"
          ],
          "name": "stdout"
        }
      ]
    },
    {
      "cell_type": "code",
      "metadata": {
        "id": "xVYaoTAFJcEu",
        "colab_type": "code",
        "colab": {
          "base_uri": "https://localhost:8080/",
          "height": 562
        },
        "outputId": "0df68a29-9fc1-4cc2-a7ea-7462da26a7cb"
      },
      "source": [
        "# adding predictions made with BERT with 2 emotions\n",
        "labels = [\"negative\", \"positive\"]\n",
        "nyt_emotions = evaluate_emotions(dfComments, nyt_emotions, \"BERT\", labels)\n",
        "print(nyt_emotions)"
      ],
      "execution_count": 192,
      "outputs": [
        {
          "output_type": "stream",
          "text": [
            "               section max_svm max_rfc max_svm_posneg max_rfc_posneg  max_BERT\n",
            "0   College Basketball   anger   anger       negative       negative  negative\n",
            "1                Media   anger   anger       negative       negative  negative\n",
            "2             Politics   anger   anger       negative       negative  negative\n",
            "3             Baseball   anger   anger       negative       negative  negative\n",
            "4        Sunday Review   anger   anger       negative       negative  negative\n",
            "5       Pro Basketball   anger   anger       negative       negative  negative\n",
            "6           Television   anger   anger       negative       negative  negative\n",
            "7         Asia Pacific   anger   anger       negative       negative  negative\n",
            "8               Family   anger   anger       negative       negative  negative\n",
            "9                 Live   anger   anger       negative       negative  negative\n",
            "10      Education Life   anger   anger       negative       negative  negative\n",
            "11              Hockey   anger   anger       negative       negative  negative\n",
            "12        Lesson Plans     joy   anger       positive       positive  positive\n",
            "13         Middle East   anger   anger       negative       negative  negative\n",
            "14                Move   anger   anger       negative       negative  negative\n",
            "15               Music   anger   anger       negative       negative  negative\n",
            "16                Mind   anger   anger       negative       negative  negative\n",
            "17              Soccer   anger   anger       negative       negative  negative\n",
            "18            DealBook   anger   anger       negative       negative  negative\n",
            "19                Golf   anger   anger       positive       negative  positive\n",
            "20                 Eat   anger   anger       negative       negative  negative\n",
            "21       Student Loans   anger   anger       negative       negative  negative\n",
            "22             Economy   anger   anger       negative       negative  negative\n",
            "23        Art & Design   anger   anger       negative       negative  negative\n",
            "24         Book Review   anger   anger       negative       negative  positive\n",
            "25              Europe   anger   anger       negative       negative  negative\n",
            "26              Tennis   anger   anger       positive       negative  positive\n",
            "27         Auto Racing   anger   anger       negative       negative  negative\n",
            "28        Pro Football   anger   anger       negative       negative  negative\n",
            "29              Canada   anger   anger       negative       negative  negative\n"
          ],
          "name": "stdout"
        }
      ]
    }
  ]
}